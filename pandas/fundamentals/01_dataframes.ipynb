{
 "cells": [
  {
   "cell_type": "markdown",
   "source": [
    "# Pandas Fundamentals: Dataframes\n",
    "\n",
    "This notebook contains examples of fundamental Dataframe operations.\n",
    "\n"
   ],
   "metadata": {
    "collapsed": false
   }
  },
  {
   "cell_type": "code",
   "execution_count": 1,
   "outputs": [],
   "source": [
    "# Install required dependencies\n",
    "#!pip install pandas pyarrow"
   ],
   "metadata": {
    "collapsed": false,
    "ExecuteTime": {
     "end_time": "2023-07-29T10:45:14.718979436Z",
     "start_time": "2023-07-29T10:45:14.597672426Z"
    }
   }
  },
  {
   "cell_type": "code",
   "execution_count": 2,
   "outputs": [],
   "source": [
    "import pandas as pd\n",
    "from pandas.testing import assert_frame_equal\n",
    "\n",
    "# Sample Dictionaries\n",
    "person_dict = {\n",
    "    'Name': ['Alice', 'Bob', 'Charlie'],\n",
    "    'Age': [25, 30, 35],\n",
    "    'City': ['New York', 'San Francisco', 'Seattle']\n",
    "}\n",
    "\n",
    "animals_dict = {\n",
    "    'City': ['New York', 'San Francisco', 'Seattle', 'New York', 'San Francisco', 'Seattle', 'New York',\n",
    "             'San Francisco', 'Seattle'],\n",
    "    'Pigeons': [250000, 300000, 350000, 350000, 400000, 550000, 310000, 410000, 510000],\n",
    "    'Rats': [1250000, 1300000, 1350000, 2350000, 2400000, 2550000, 3310000, 3410000, 3510000],\n",
    "    'Year': ['1998', '1998', '1998', '1999', '1999', '1999', '2000', '2000', '2000']\n",
    "}\n",
    "\n",
    "# Globals\n",
    "file_prefix = '01_dataframes'"
   ],
   "metadata": {
    "collapsed": false,
    "ExecuteTime": {
     "end_time": "2023-07-29T10:45:15.007931819Z",
     "start_time": "2023-07-29T10:45:14.597913203Z"
    }
   }
  },
  {
   "cell_type": "markdown",
   "source": [
    "## 1. Store and Load\n",
    "\n",
    "---\n",
    "\n",
    "### 1.1. Parquet"
   ],
   "metadata": {
    "collapsed": false
   }
  },
  {
   "cell_type": "code",
   "execution_count": 3,
   "outputs": [
    {
     "data": {
      "text/plain": "      Name  Age           City\n0    Alice   25       New York\n1      Bob   30  San Francisco\n2  Charlie   35        Seattle",
      "text/html": "<div>\n<style scoped>\n    .dataframe tbody tr th:only-of-type {\n        vertical-align: middle;\n    }\n\n    .dataframe tbody tr th {\n        vertical-align: top;\n    }\n\n    .dataframe thead th {\n        text-align: right;\n    }\n</style>\n<table border=\"1\" class=\"dataframe\">\n  <thead>\n    <tr style=\"text-align: right;\">\n      <th></th>\n      <th>Name</th>\n      <th>Age</th>\n      <th>City</th>\n    </tr>\n  </thead>\n  <tbody>\n    <tr>\n      <th>0</th>\n      <td>Alice</td>\n      <td>25</td>\n      <td>New York</td>\n    </tr>\n    <tr>\n      <th>1</th>\n      <td>Bob</td>\n      <td>30</td>\n      <td>San Francisco</td>\n    </tr>\n    <tr>\n      <th>2</th>\n      <td>Charlie</td>\n      <td>35</td>\n      <td>Seattle</td>\n    </tr>\n  </tbody>\n</table>\n</div>"
     },
     "execution_count": 3,
     "metadata": {},
     "output_type": "execute_result"
    }
   ],
   "source": [
    "parquet_file = f'{file_prefix}.parquet'\n",
    "\n",
    "# Write\n",
    "persons_df = pd.DataFrame(person_dict)\n",
    "persons_df.to_parquet(parquet_file)\n",
    "\n",
    "# Read\n",
    "parquet_df = pd.read_parquet(parquet_file)\n",
    "parquet_df"
   ],
   "metadata": {
    "collapsed": false,
    "ExecuteTime": {
     "end_time": "2023-07-29T10:45:15.141828014Z",
     "start_time": "2023-07-29T10:45:14.985784826Z"
    }
   }
  },
  {
   "cell_type": "code",
   "execution_count": 4,
   "outputs": [],
   "source": [
    "# Assert data frames are equal\n",
    "assert_frame_equal(persons_df, parquet_df)"
   ],
   "metadata": {
    "collapsed": false,
    "ExecuteTime": {
     "end_time": "2023-07-29T10:45:15.142082977Z",
     "start_time": "2023-07-29T10:45:15.056141471Z"
    }
   }
  },
  {
   "cell_type": "markdown",
   "source": [
    "---\n",
    "\n",
    "### 1.2. JSON"
   ],
   "metadata": {
    "collapsed": false
   }
  },
  {
   "cell_type": "code",
   "execution_count": 5,
   "outputs": [
    {
     "data": {
      "text/plain": "      Name  Age           City\n0    Alice   25       New York\n1      Bob   30  San Francisco\n2  Charlie   35        Seattle",
      "text/html": "<div>\n<style scoped>\n    .dataframe tbody tr th:only-of-type {\n        vertical-align: middle;\n    }\n\n    .dataframe tbody tr th {\n        vertical-align: top;\n    }\n\n    .dataframe thead th {\n        text-align: right;\n    }\n</style>\n<table border=\"1\" class=\"dataframe\">\n  <thead>\n    <tr style=\"text-align: right;\">\n      <th></th>\n      <th>Name</th>\n      <th>Age</th>\n      <th>City</th>\n    </tr>\n  </thead>\n  <tbody>\n    <tr>\n      <th>0</th>\n      <td>Alice</td>\n      <td>25</td>\n      <td>New York</td>\n    </tr>\n    <tr>\n      <th>1</th>\n      <td>Bob</td>\n      <td>30</td>\n      <td>San Francisco</td>\n    </tr>\n    <tr>\n      <th>2</th>\n      <td>Charlie</td>\n      <td>35</td>\n      <td>Seattle</td>\n    </tr>\n  </tbody>\n</table>\n</div>"
     },
     "execution_count": 5,
     "metadata": {},
     "output_type": "execute_result"
    }
   ],
   "source": [
    "json_file = f'{file_prefix}.json'\n",
    "\n",
    "# Write\n",
    "persons_df = pd.DataFrame(person_dict)\n",
    "persons_df.to_json(json_file, orient='records')\n",
    "\n",
    "# Read\n",
    "json_df = pd.read_json(json_file)\n",
    "json_df"
   ],
   "metadata": {
    "collapsed": false,
    "ExecuteTime": {
     "end_time": "2023-07-29T10:45:15.142907141Z",
     "start_time": "2023-07-29T10:45:15.064145488Z"
    }
   }
  },
  {
   "cell_type": "code",
   "execution_count": 6,
   "outputs": [],
   "source": [
    "# Assert data frames are equal\n",
    "assert_frame_equal(persons_df, json_df)"
   ],
   "metadata": {
    "collapsed": false,
    "ExecuteTime": {
     "end_time": "2023-07-29T10:45:15.143055414Z",
     "start_time": "2023-07-29T10:45:15.079521595Z"
    }
   }
  },
  {
   "cell_type": "markdown",
   "source": [
    "---\n",
    "\n",
    "### 1.3. CSV"
   ],
   "metadata": {
    "collapsed": false
   }
  },
  {
   "cell_type": "code",
   "execution_count": 7,
   "outputs": [
    {
     "data": {
      "text/plain": "      Name  Age           City\n0    Alice   25       New York\n1      Bob   30  San Francisco\n2  Charlie   35        Seattle",
      "text/html": "<div>\n<style scoped>\n    .dataframe tbody tr th:only-of-type {\n        vertical-align: middle;\n    }\n\n    .dataframe tbody tr th {\n        vertical-align: top;\n    }\n\n    .dataframe thead th {\n        text-align: right;\n    }\n</style>\n<table border=\"1\" class=\"dataframe\">\n  <thead>\n    <tr style=\"text-align: right;\">\n      <th></th>\n      <th>Name</th>\n      <th>Age</th>\n      <th>City</th>\n    </tr>\n  </thead>\n  <tbody>\n    <tr>\n      <th>0</th>\n      <td>Alice</td>\n      <td>25</td>\n      <td>New York</td>\n    </tr>\n    <tr>\n      <th>1</th>\n      <td>Bob</td>\n      <td>30</td>\n      <td>San Francisco</td>\n    </tr>\n    <tr>\n      <th>2</th>\n      <td>Charlie</td>\n      <td>35</td>\n      <td>Seattle</td>\n    </tr>\n  </tbody>\n</table>\n</div>"
     },
     "execution_count": 7,
     "metadata": {},
     "output_type": "execute_result"
    }
   ],
   "source": [
    "csv_file = f'{file_prefix}.csv'\n",
    "\n",
    "# Write\n",
    "persons_df = pd.DataFrame(person_dict)\n",
    "persons_df.to_csv(csv_file, index=False)\n",
    "\n",
    "# Read\n",
    "csv_df = pd.read_csv(csv_file)\n",
    "csv_df\n"
   ],
   "metadata": {
    "collapsed": false,
    "ExecuteTime": {
     "end_time": "2023-07-29T10:45:15.143261951Z",
     "start_time": "2023-07-29T10:45:15.084943069Z"
    }
   }
  },
  {
   "cell_type": "code",
   "execution_count": 8,
   "outputs": [],
   "source": [
    "# Assert data frames are equal\n",
    "assert_frame_equal(persons_df, csv_df)"
   ],
   "metadata": {
    "collapsed": false,
    "ExecuteTime": {
     "end_time": "2023-07-29T10:45:15.143378708Z",
     "start_time": "2023-07-29T10:45:15.125588408Z"
    }
   }
  },
  {
   "cell_type": "markdown",
   "source": [
    "## 2. Filter Row Data\n",
    "\n",
    "---\n",
    "\n",
    "### 2.1. *iloc* property"
   ],
   "metadata": {
    "collapsed": false
   }
  },
  {
   "cell_type": "code",
   "execution_count": 9,
   "outputs": [
    {
     "data": {
      "text/plain": "      Name  Age           City\n0    Alice   25       New York\n1      Bob   30  San Francisco\n2  Charlie   35        Seattle",
      "text/html": "<div>\n<style scoped>\n    .dataframe tbody tr th:only-of-type {\n        vertical-align: middle;\n    }\n\n    .dataframe tbody tr th {\n        vertical-align: top;\n    }\n\n    .dataframe thead th {\n        text-align: right;\n    }\n</style>\n<table border=\"1\" class=\"dataframe\">\n  <thead>\n    <tr style=\"text-align: right;\">\n      <th></th>\n      <th>Name</th>\n      <th>Age</th>\n      <th>City</th>\n    </tr>\n  </thead>\n  <tbody>\n    <tr>\n      <th>0</th>\n      <td>Alice</td>\n      <td>25</td>\n      <td>New York</td>\n    </tr>\n    <tr>\n      <th>1</th>\n      <td>Bob</td>\n      <td>30</td>\n      <td>San Francisco</td>\n    </tr>\n    <tr>\n      <th>2</th>\n      <td>Charlie</td>\n      <td>35</td>\n      <td>Seattle</td>\n    </tr>\n  </tbody>\n</table>\n</div>"
     },
     "execution_count": 9,
     "metadata": {},
     "output_type": "execute_result"
    }
   ],
   "source": [
    "# filter lines\n",
    "persons_df = pd.DataFrame(person_dict)\n",
    "persons_df"
   ],
   "metadata": {
    "collapsed": false,
    "ExecuteTime": {
     "end_time": "2023-07-29T10:45:15.143615928Z",
     "start_time": "2023-07-29T10:45:15.125782181Z"
    }
   }
  },
  {
   "cell_type": "code",
   "execution_count": 10,
   "outputs": [
    {
     "data": {
      "text/plain": "      Name  Age           City\n1      Bob   30  San Francisco\n2  Charlie   35        Seattle",
      "text/html": "<div>\n<style scoped>\n    .dataframe tbody tr th:only-of-type {\n        vertical-align: middle;\n    }\n\n    .dataframe tbody tr th {\n        vertical-align: top;\n    }\n\n    .dataframe thead th {\n        text-align: right;\n    }\n</style>\n<table border=\"1\" class=\"dataframe\">\n  <thead>\n    <tr style=\"text-align: right;\">\n      <th></th>\n      <th>Name</th>\n      <th>Age</th>\n      <th>City</th>\n    </tr>\n  </thead>\n  <tbody>\n    <tr>\n      <th>1</th>\n      <td>Bob</td>\n      <td>30</td>\n      <td>San Francisco</td>\n    </tr>\n    <tr>\n      <th>2</th>\n      <td>Charlie</td>\n      <td>35</td>\n      <td>Seattle</td>\n    </tr>\n  </tbody>\n</table>\n</div>"
     },
     "execution_count": 10,
     "metadata": {},
     "output_type": "execute_result"
    }
   ],
   "source": [
    "us_west_df = persons_df.iloc[1:]\n",
    "us_west_df"
   ],
   "metadata": {
    "collapsed": false,
    "ExecuteTime": {
     "end_time": "2023-07-29T10:45:15.143900540Z",
     "start_time": "2023-07-29T10:45:15.125944683Z"
    }
   }
  },
  {
   "cell_type": "code",
   "execution_count": 11,
   "outputs": [
    {
     "data": {
      "text/plain": "      Name  Age           City\n0    Alice   25       New York\n1      Bob   30  San Francisco\n2  Charlie   35        Seattle",
      "text/html": "<div>\n<style scoped>\n    .dataframe tbody tr th:only-of-type {\n        vertical-align: middle;\n    }\n\n    .dataframe tbody tr th {\n        vertical-align: top;\n    }\n\n    .dataframe thead th {\n        text-align: right;\n    }\n</style>\n<table border=\"1\" class=\"dataframe\">\n  <thead>\n    <tr style=\"text-align: right;\">\n      <th></th>\n      <th>Name</th>\n      <th>Age</th>\n      <th>City</th>\n    </tr>\n  </thead>\n  <tbody>\n    <tr>\n      <th>0</th>\n      <td>Alice</td>\n      <td>25</td>\n      <td>New York</td>\n    </tr>\n    <tr>\n      <th>1</th>\n      <td>Bob</td>\n      <td>30</td>\n      <td>San Francisco</td>\n    </tr>\n    <tr>\n      <th>2</th>\n      <td>Charlie</td>\n      <td>35</td>\n      <td>Seattle</td>\n    </tr>\n  </tbody>\n</table>\n</div>"
     },
     "execution_count": 11,
     "metadata": {},
     "output_type": "execute_result"
    }
   ],
   "source": [
    "persons_df = pd.DataFrame(person_dict)\n",
    "persons_df"
   ],
   "metadata": {
    "collapsed": false,
    "ExecuteTime": {
     "end_time": "2023-07-29T10:45:15.409985563Z",
     "start_time": "2023-07-29T10:45:15.126124667Z"
    }
   }
  },
  {
   "cell_type": "code",
   "execution_count": 12,
   "outputs": [
    {
     "data": {
      "text/plain": "      Name  Age      City\n0    Alice   25  New York\n1  Charlie   35   Seattle",
      "text/html": "<div>\n<style scoped>\n    .dataframe tbody tr th:only-of-type {\n        vertical-align: middle;\n    }\n\n    .dataframe tbody tr th {\n        vertical-align: top;\n    }\n\n    .dataframe thead th {\n        text-align: right;\n    }\n</style>\n<table border=\"1\" class=\"dataframe\">\n  <thead>\n    <tr style=\"text-align: right;\">\n      <th></th>\n      <th>Name</th>\n      <th>Age</th>\n      <th>City</th>\n    </tr>\n  </thead>\n  <tbody>\n    <tr>\n      <th>0</th>\n      <td>Alice</td>\n      <td>25</td>\n      <td>New York</td>\n    </tr>\n    <tr>\n      <th>1</th>\n      <td>Charlie</td>\n      <td>35</td>\n      <td>Seattle</td>\n    </tr>\n  </tbody>\n</table>\n</div>"
     },
     "execution_count": 12,
     "metadata": {},
     "output_type": "execute_result"
    }
   ],
   "source": [
    "us_north_df = pd.concat([persons_df.iloc[:1], persons_df.iloc[2:]], ignore_index=True)\n",
    "us_north_df"
   ],
   "metadata": {
    "collapsed": false,
    "ExecuteTime": {
     "end_time": "2023-07-29T10:45:15.410515415Z",
     "start_time": "2023-07-29T10:45:15.169605867Z"
    }
   }
  },
  {
   "cell_type": "code",
   "execution_count": 13,
   "outputs": [
    {
     "data": {
      "text/plain": "      Name  Age           City\n0    Alice   25       New York\n1      Bob   30  San Francisco\n2  Charlie   35        Seattle",
      "text/html": "<div>\n<style scoped>\n    .dataframe tbody tr th:only-of-type {\n        vertical-align: middle;\n    }\n\n    .dataframe tbody tr th {\n        vertical-align: top;\n    }\n\n    .dataframe thead th {\n        text-align: right;\n    }\n</style>\n<table border=\"1\" class=\"dataframe\">\n  <thead>\n    <tr style=\"text-align: right;\">\n      <th></th>\n      <th>Name</th>\n      <th>Age</th>\n      <th>City</th>\n    </tr>\n  </thead>\n  <tbody>\n    <tr>\n      <th>0</th>\n      <td>Alice</td>\n      <td>25</td>\n      <td>New York</td>\n    </tr>\n    <tr>\n      <th>1</th>\n      <td>Bob</td>\n      <td>30</td>\n      <td>San Francisco</td>\n    </tr>\n    <tr>\n      <th>2</th>\n      <td>Charlie</td>\n      <td>35</td>\n      <td>Seattle</td>\n    </tr>\n  </tbody>\n</table>\n</div>"
     },
     "execution_count": 13,
     "metadata": {},
     "output_type": "execute_result"
    }
   ],
   "source": [
    "persons_df = pd.DataFrame(person_dict)\n",
    "persons_df"
   ],
   "metadata": {
    "collapsed": false,
    "ExecuteTime": {
     "end_time": "2023-07-29T10:45:15.410886804Z",
     "start_time": "2023-07-29T10:45:15.169743752Z"
    }
   }
  },
  {
   "cell_type": "code",
   "execution_count": 14,
   "outputs": [
    {
     "data": {
      "text/plain": "   Age           City\n0   25       New York\n1   30  San Francisco",
      "text/html": "<div>\n<style scoped>\n    .dataframe tbody tr th:only-of-type {\n        vertical-align: middle;\n    }\n\n    .dataframe tbody tr th {\n        vertical-align: top;\n    }\n\n    .dataframe thead th {\n        text-align: right;\n    }\n</style>\n<table border=\"1\" class=\"dataframe\">\n  <thead>\n    <tr style=\"text-align: right;\">\n      <th></th>\n      <th>Age</th>\n      <th>City</th>\n    </tr>\n  </thead>\n  <tbody>\n    <tr>\n      <th>0</th>\n      <td>25</td>\n      <td>New York</td>\n    </tr>\n    <tr>\n      <th>1</th>\n      <td>30</td>\n      <td>San Francisco</td>\n    </tr>\n  </tbody>\n</table>\n</div>"
     },
     "execution_count": 14,
     "metadata": {},
     "output_type": "execute_result"
    }
   ],
   "source": [
    "young_anonymous_df = persons_df.iloc[:2, 1:3]\n",
    "young_anonymous_df"
   ],
   "metadata": {
    "collapsed": false,
    "ExecuteTime": {
     "end_time": "2023-07-29T10:45:15.411134196Z",
     "start_time": "2023-07-29T10:45:15.169829693Z"
    }
   }
  },
  {
   "cell_type": "markdown",
   "source": [
    "---\n",
    "\n",
    "### 2.2. Conditionals"
   ],
   "metadata": {
    "collapsed": false
   }
  },
  {
   "cell_type": "code",
   "execution_count": 15,
   "outputs": [
    {
     "data": {
      "text/plain": "      Name  Age           City\n0    Alice   25       New York\n1      Bob   30  San Francisco\n2  Charlie   35        Seattle",
      "text/html": "<div>\n<style scoped>\n    .dataframe tbody tr th:only-of-type {\n        vertical-align: middle;\n    }\n\n    .dataframe tbody tr th {\n        vertical-align: top;\n    }\n\n    .dataframe thead th {\n        text-align: right;\n    }\n</style>\n<table border=\"1\" class=\"dataframe\">\n  <thead>\n    <tr style=\"text-align: right;\">\n      <th></th>\n      <th>Name</th>\n      <th>Age</th>\n      <th>City</th>\n    </tr>\n  </thead>\n  <tbody>\n    <tr>\n      <th>0</th>\n      <td>Alice</td>\n      <td>25</td>\n      <td>New York</td>\n    </tr>\n    <tr>\n      <th>1</th>\n      <td>Bob</td>\n      <td>30</td>\n      <td>San Francisco</td>\n    </tr>\n    <tr>\n      <th>2</th>\n      <td>Charlie</td>\n      <td>35</td>\n      <td>Seattle</td>\n    </tr>\n  </tbody>\n</table>\n</div>"
     },
     "execution_count": 15,
     "metadata": {},
     "output_type": "execute_result"
    }
   ],
   "source": [
    "persons_df = pd.DataFrame(person_dict)\n",
    "persons_df"
   ],
   "metadata": {
    "collapsed": false,
    "ExecuteTime": {
     "end_time": "2023-07-29T10:45:15.411364602Z",
     "start_time": "2023-07-29T10:45:15.169905964Z"
    }
   }
  },
  {
   "cell_type": "code",
   "execution_count": 16,
   "outputs": [
    {
     "data": {
      "text/plain": "      Name  Age      City\n0    Alice   25  New York\n2  Charlie   35   Seattle",
      "text/html": "<div>\n<style scoped>\n    .dataframe tbody tr th:only-of-type {\n        vertical-align: middle;\n    }\n\n    .dataframe tbody tr th {\n        vertical-align: top;\n    }\n\n    .dataframe thead th {\n        text-align: right;\n    }\n</style>\n<table border=\"1\" class=\"dataframe\">\n  <thead>\n    <tr style=\"text-align: right;\">\n      <th></th>\n      <th>Name</th>\n      <th>Age</th>\n      <th>City</th>\n    </tr>\n  </thead>\n  <tbody>\n    <tr>\n      <th>0</th>\n      <td>Alice</td>\n      <td>25</td>\n      <td>New York</td>\n    </tr>\n    <tr>\n      <th>2</th>\n      <td>Charlie</td>\n      <td>35</td>\n      <td>Seattle</td>\n    </tr>\n  </tbody>\n</table>\n</div>"
     },
     "execution_count": 16,
     "metadata": {},
     "output_type": "execute_result"
    }
   ],
   "source": [
    "not_silicon_valley_df = persons_df[persons_df['City'] != 'San Francisco']\n",
    "not_silicon_valley_df"
   ],
   "metadata": {
    "collapsed": false,
    "ExecuteTime": {
     "end_time": "2023-07-29T10:45:15.411692706Z",
     "start_time": "2023-07-29T10:45:15.217550284Z"
    }
   }
  },
  {
   "cell_type": "markdown",
   "source": [
    "## 3. Transformations\n",
    "\n",
    "---\n",
    "\n",
    "### 3.1. *drop* method"
   ],
   "metadata": {
    "collapsed": false
   }
  },
  {
   "cell_type": "code",
   "execution_count": 17,
   "outputs": [
    {
     "data": {
      "text/plain": "      Name  Age           City\n0    Alice   25       New York\n1      Bob   30  San Francisco\n2  Charlie   35        Seattle",
      "text/html": "<div>\n<style scoped>\n    .dataframe tbody tr th:only-of-type {\n        vertical-align: middle;\n    }\n\n    .dataframe tbody tr th {\n        vertical-align: top;\n    }\n\n    .dataframe thead th {\n        text-align: right;\n    }\n</style>\n<table border=\"1\" class=\"dataframe\">\n  <thead>\n    <tr style=\"text-align: right;\">\n      <th></th>\n      <th>Name</th>\n      <th>Age</th>\n      <th>City</th>\n    </tr>\n  </thead>\n  <tbody>\n    <tr>\n      <th>0</th>\n      <td>Alice</td>\n      <td>25</td>\n      <td>New York</td>\n    </tr>\n    <tr>\n      <th>1</th>\n      <td>Bob</td>\n      <td>30</td>\n      <td>San Francisco</td>\n    </tr>\n    <tr>\n      <th>2</th>\n      <td>Charlie</td>\n      <td>35</td>\n      <td>Seattle</td>\n    </tr>\n  </tbody>\n</table>\n</div>"
     },
     "execution_count": 17,
     "metadata": {},
     "output_type": "execute_result"
    }
   ],
   "source": [
    "persons_df = pd.DataFrame(person_dict)\n",
    "persons_df"
   ],
   "metadata": {
    "collapsed": false,
    "ExecuteTime": {
     "end_time": "2023-07-29T10:45:15.411903402Z",
     "start_time": "2023-07-29T10:45:15.217790837Z"
    }
   }
  },
  {
   "cell_type": "code",
   "execution_count": 18,
   "outputs": [
    {
     "data": {
      "text/plain": "   Age           City\n0   25       New York\n1   30  San Francisco\n2   35        Seattle",
      "text/html": "<div>\n<style scoped>\n    .dataframe tbody tr th:only-of-type {\n        vertical-align: middle;\n    }\n\n    .dataframe tbody tr th {\n        vertical-align: top;\n    }\n\n    .dataframe thead th {\n        text-align: right;\n    }\n</style>\n<table border=\"1\" class=\"dataframe\">\n  <thead>\n    <tr style=\"text-align: right;\">\n      <th></th>\n      <th>Age</th>\n      <th>City</th>\n    </tr>\n  </thead>\n  <tbody>\n    <tr>\n      <th>0</th>\n      <td>25</td>\n      <td>New York</td>\n    </tr>\n    <tr>\n      <th>1</th>\n      <td>30</td>\n      <td>San Francisco</td>\n    </tr>\n    <tr>\n      <th>2</th>\n      <td>35</td>\n      <td>Seattle</td>\n    </tr>\n  </tbody>\n</table>\n</div>"
     },
     "execution_count": 18,
     "metadata": {},
     "output_type": "execute_result"
    }
   ],
   "source": [
    "anonymous_df = persons_df.drop('Name', axis=1)\n",
    "anonymous_df"
   ],
   "metadata": {
    "collapsed": false,
    "ExecuteTime": {
     "end_time": "2023-07-29T10:45:15.412104895Z",
     "start_time": "2023-07-29T10:45:15.217983889Z"
    }
   }
  },
  {
   "cell_type": "code",
   "execution_count": 19,
   "outputs": [
    {
     "data": {
      "text/plain": "            City  Pigeons     Rats  Year\n0       New York   250000  1250000  1998\n1  San Francisco   300000  1300000  1998\n2        Seattle   350000  1350000  1998\n3       New York   350000  2350000  1999\n4  San Francisco   400000  2400000  1999\n5        Seattle   550000  2550000  1999\n6       New York   310000  3310000  2000\n7  San Francisco   410000  3410000  2000\n8        Seattle   510000  3510000  2000",
      "text/html": "<div>\n<style scoped>\n    .dataframe tbody tr th:only-of-type {\n        vertical-align: middle;\n    }\n\n    .dataframe tbody tr th {\n        vertical-align: top;\n    }\n\n    .dataframe thead th {\n        text-align: right;\n    }\n</style>\n<table border=\"1\" class=\"dataframe\">\n  <thead>\n    <tr style=\"text-align: right;\">\n      <th></th>\n      <th>City</th>\n      <th>Pigeons</th>\n      <th>Rats</th>\n      <th>Year</th>\n    </tr>\n  </thead>\n  <tbody>\n    <tr>\n      <th>0</th>\n      <td>New York</td>\n      <td>250000</td>\n      <td>1250000</td>\n      <td>1998</td>\n    </tr>\n    <tr>\n      <th>1</th>\n      <td>San Francisco</td>\n      <td>300000</td>\n      <td>1300000</td>\n      <td>1998</td>\n    </tr>\n    <tr>\n      <th>2</th>\n      <td>Seattle</td>\n      <td>350000</td>\n      <td>1350000</td>\n      <td>1998</td>\n    </tr>\n    <tr>\n      <th>3</th>\n      <td>New York</td>\n      <td>350000</td>\n      <td>2350000</td>\n      <td>1999</td>\n    </tr>\n    <tr>\n      <th>4</th>\n      <td>San Francisco</td>\n      <td>400000</td>\n      <td>2400000</td>\n      <td>1999</td>\n    </tr>\n    <tr>\n      <th>5</th>\n      <td>Seattle</td>\n      <td>550000</td>\n      <td>2550000</td>\n      <td>1999</td>\n    </tr>\n    <tr>\n      <th>6</th>\n      <td>New York</td>\n      <td>310000</td>\n      <td>3310000</td>\n      <td>2000</td>\n    </tr>\n    <tr>\n      <th>7</th>\n      <td>San Francisco</td>\n      <td>410000</td>\n      <td>3410000</td>\n      <td>2000</td>\n    </tr>\n    <tr>\n      <th>8</th>\n      <td>Seattle</td>\n      <td>510000</td>\n      <td>3510000</td>\n      <td>2000</td>\n    </tr>\n  </tbody>\n</table>\n</div>"
     },
     "execution_count": 19,
     "metadata": {},
     "output_type": "execute_result"
    }
   ],
   "source": [
    "animals_df = pd.DataFrame(animals_dict)\n",
    "animals_df"
   ],
   "metadata": {
    "collapsed": false,
    "ExecuteTime": {
     "end_time": "2023-07-29T10:45:15.412302823Z",
     "start_time": "2023-07-29T10:45:15.218137381Z"
    }
   }
  },
  {
   "cell_type": "code",
   "execution_count": 20,
   "outputs": [
    {
     "data": {
      "text/plain": "            City  Year\n0       New York  1998\n1  San Francisco  1998\n2        Seattle  1998\n3       New York  1999\n4  San Francisco  1999\n5        Seattle  1999\n6       New York  2000\n7  San Francisco  2000\n8        Seattle  2000",
      "text/html": "<div>\n<style scoped>\n    .dataframe tbody tr th:only-of-type {\n        vertical-align: middle;\n    }\n\n    .dataframe tbody tr th {\n        vertical-align: top;\n    }\n\n    .dataframe thead th {\n        text-align: right;\n    }\n</style>\n<table border=\"1\" class=\"dataframe\">\n  <thead>\n    <tr style=\"text-align: right;\">\n      <th></th>\n      <th>City</th>\n      <th>Year</th>\n    </tr>\n  </thead>\n  <tbody>\n    <tr>\n      <th>0</th>\n      <td>New York</td>\n      <td>1998</td>\n    </tr>\n    <tr>\n      <th>1</th>\n      <td>San Francisco</td>\n      <td>1998</td>\n    </tr>\n    <tr>\n      <th>2</th>\n      <td>Seattle</td>\n      <td>1998</td>\n    </tr>\n    <tr>\n      <th>3</th>\n      <td>New York</td>\n      <td>1999</td>\n    </tr>\n    <tr>\n      <th>4</th>\n      <td>San Francisco</td>\n      <td>1999</td>\n    </tr>\n    <tr>\n      <th>5</th>\n      <td>Seattle</td>\n      <td>1999</td>\n    </tr>\n    <tr>\n      <th>6</th>\n      <td>New York</td>\n      <td>2000</td>\n    </tr>\n    <tr>\n      <th>7</th>\n      <td>San Francisco</td>\n      <td>2000</td>\n    </tr>\n    <tr>\n      <th>8</th>\n      <td>Seattle</td>\n      <td>2000</td>\n    </tr>\n  </tbody>\n</table>\n</div>"
     },
     "execution_count": 20,
     "metadata": {},
     "output_type": "execute_result"
    }
   ],
   "source": [
    "city_df = animals_df.drop(columns=['Rats', 'Pigeons'])\n",
    "city_df"
   ],
   "metadata": {
    "collapsed": false,
    "ExecuteTime": {
     "end_time": "2023-07-29T10:45:15.412522389Z",
     "start_time": "2023-07-29T10:45:15.218352430Z"
    }
   }
  },
  {
   "cell_type": "markdown",
   "source": [
    "---\n",
    "### 3.2. Append columns"
   ],
   "metadata": {
    "collapsed": false
   }
  },
  {
   "cell_type": "code",
   "execution_count": 21,
   "outputs": [
    {
     "data": {
      "text/plain": "      Name  Age           City\n0    Alice   25       New York\n1      Bob   30  San Francisco\n2  Charlie   35        Seattle",
      "text/html": "<div>\n<style scoped>\n    .dataframe tbody tr th:only-of-type {\n        vertical-align: middle;\n    }\n\n    .dataframe tbody tr th {\n        vertical-align: top;\n    }\n\n    .dataframe thead th {\n        text-align: right;\n    }\n</style>\n<table border=\"1\" class=\"dataframe\">\n  <thead>\n    <tr style=\"text-align: right;\">\n      <th></th>\n      <th>Name</th>\n      <th>Age</th>\n      <th>City</th>\n    </tr>\n  </thead>\n  <tbody>\n    <tr>\n      <th>0</th>\n      <td>Alice</td>\n      <td>25</td>\n      <td>New York</td>\n    </tr>\n    <tr>\n      <th>1</th>\n      <td>Bob</td>\n      <td>30</td>\n      <td>San Francisco</td>\n    </tr>\n    <tr>\n      <th>2</th>\n      <td>Charlie</td>\n      <td>35</td>\n      <td>Seattle</td>\n    </tr>\n  </tbody>\n</table>\n</div>"
     },
     "execution_count": 21,
     "metadata": {},
     "output_type": "execute_result"
    }
   ],
   "source": [
    "persons_df = pd.DataFrame(person_dict)\n",
    "persons_df"
   ],
   "metadata": {
    "collapsed": false,
    "ExecuteTime": {
     "end_time": "2023-07-29T10:45:15.620169675Z",
     "start_time": "2023-07-29T10:45:15.265510237Z"
    }
   }
  },
  {
   "cell_type": "code",
   "execution_count": 22,
   "outputs": [
    {
     "data": {
      "text/plain": "      Name  Age           City Occupation\n0    Alice   25       New York     Lawyer\n1      Bob   30  San Francisco   Engineer\n2  Charlie   35        Seattle   Musician",
      "text/html": "<div>\n<style scoped>\n    .dataframe tbody tr th:only-of-type {\n        vertical-align: middle;\n    }\n\n    .dataframe tbody tr th {\n        vertical-align: top;\n    }\n\n    .dataframe thead th {\n        text-align: right;\n    }\n</style>\n<table border=\"1\" class=\"dataframe\">\n  <thead>\n    <tr style=\"text-align: right;\">\n      <th></th>\n      <th>Name</th>\n      <th>Age</th>\n      <th>City</th>\n      <th>Occupation</th>\n    </tr>\n  </thead>\n  <tbody>\n    <tr>\n      <th>0</th>\n      <td>Alice</td>\n      <td>25</td>\n      <td>New York</td>\n      <td>Lawyer</td>\n    </tr>\n    <tr>\n      <th>1</th>\n      <td>Bob</td>\n      <td>30</td>\n      <td>San Francisco</td>\n      <td>Engineer</td>\n    </tr>\n    <tr>\n      <th>2</th>\n      <td>Charlie</td>\n      <td>35</td>\n      <td>Seattle</td>\n      <td>Musician</td>\n    </tr>\n  </tbody>\n</table>\n</div>"
     },
     "execution_count": 22,
     "metadata": {},
     "output_type": "execute_result"
    }
   ],
   "source": [
    "occupation_df = pd.DataFrame({\n",
    "    'Occupation': ['Lawyer', 'Engineer', 'Musician']\n",
    "})\n",
    "persons_df['Occupation'] = occupation_df['Occupation']\n",
    "persons_df"
   ],
   "metadata": {
    "collapsed": false,
    "ExecuteTime": {
     "end_time": "2023-07-29T10:45:15.620613833Z",
     "start_time": "2023-07-29T10:45:15.265695094Z"
    }
   }
  },
  {
   "cell_type": "markdown",
   "source": [
    "---\n",
    "### 3.3. *apply* method"
   ],
   "metadata": {
    "collapsed": false
   }
  },
  {
   "cell_type": "code",
   "execution_count": 23,
   "outputs": [
    {
     "data": {
      "text/plain": "      Name  Age           City\n0    Alice   25       New York\n1      Bob   30  San Francisco\n2  Charlie   35        Seattle",
      "text/html": "<div>\n<style scoped>\n    .dataframe tbody tr th:only-of-type {\n        vertical-align: middle;\n    }\n\n    .dataframe tbody tr th {\n        vertical-align: top;\n    }\n\n    .dataframe thead th {\n        text-align: right;\n    }\n</style>\n<table border=\"1\" class=\"dataframe\">\n  <thead>\n    <tr style=\"text-align: right;\">\n      <th></th>\n      <th>Name</th>\n      <th>Age</th>\n      <th>City</th>\n    </tr>\n  </thead>\n  <tbody>\n    <tr>\n      <th>0</th>\n      <td>Alice</td>\n      <td>25</td>\n      <td>New York</td>\n    </tr>\n    <tr>\n      <th>1</th>\n      <td>Bob</td>\n      <td>30</td>\n      <td>San Francisco</td>\n    </tr>\n    <tr>\n      <th>2</th>\n      <td>Charlie</td>\n      <td>35</td>\n      <td>Seattle</td>\n    </tr>\n  </tbody>\n</table>\n</div>"
     },
     "execution_count": 23,
     "metadata": {},
     "output_type": "execute_result"
    }
   ],
   "source": [
    "persons_df = pd.DataFrame(person_dict)\n",
    "persons_df"
   ],
   "metadata": {
    "collapsed": false,
    "ExecuteTime": {
     "end_time": "2023-07-29T10:45:15.620871658Z",
     "start_time": "2023-07-29T10:45:15.265814803Z"
    }
   }
  },
  {
   "cell_type": "code",
   "execution_count": 24,
   "outputs": [
    {
     "data": {
      "text/plain": "      Name  Age           City Age Group\n0    Alice   25       New York     Young\n1      Bob   30  San Francisco     Adult\n2  Charlie   35        Seattle     Adult",
      "text/html": "<div>\n<style scoped>\n    .dataframe tbody tr th:only-of-type {\n        vertical-align: middle;\n    }\n\n    .dataframe tbody tr th {\n        vertical-align: top;\n    }\n\n    .dataframe thead th {\n        text-align: right;\n    }\n</style>\n<table border=\"1\" class=\"dataframe\">\n  <thead>\n    <tr style=\"text-align: right;\">\n      <th></th>\n      <th>Name</th>\n      <th>Age</th>\n      <th>City</th>\n      <th>Age Group</th>\n    </tr>\n  </thead>\n  <tbody>\n    <tr>\n      <th>0</th>\n      <td>Alice</td>\n      <td>25</td>\n      <td>New York</td>\n      <td>Young</td>\n    </tr>\n    <tr>\n      <th>1</th>\n      <td>Bob</td>\n      <td>30</td>\n      <td>San Francisco</td>\n      <td>Adult</td>\n    </tr>\n    <tr>\n      <th>2</th>\n      <td>Charlie</td>\n      <td>35</td>\n      <td>Seattle</td>\n      <td>Adult</td>\n    </tr>\n  </tbody>\n</table>\n</div>"
     },
     "execution_count": 24,
     "metadata": {},
     "output_type": "execute_result"
    }
   ],
   "source": [
    "persons_df['Age Group'] = persons_df['Age'].apply(lambda age: 'Young' if age < 30 else 'Adult')\n",
    "persons_df"
   ],
   "metadata": {
    "collapsed": false,
    "ExecuteTime": {
     "end_time": "2023-07-29T10:45:15.621086981Z",
     "start_time": "2023-07-29T10:45:15.265963640Z"
    }
   }
  },
  {
   "cell_type": "markdown",
   "source": [
    "---\n",
    "### 3.4. Re-arrange columns"
   ],
   "metadata": {
    "collapsed": false
   }
  },
  {
   "cell_type": "code",
   "execution_count": 25,
   "outputs": [
    {
     "data": {
      "text/plain": "      Name  Age           City\n0    Alice   25       New York\n1      Bob   30  San Francisco\n2  Charlie   35        Seattle",
      "text/html": "<div>\n<style scoped>\n    .dataframe tbody tr th:only-of-type {\n        vertical-align: middle;\n    }\n\n    .dataframe tbody tr th {\n        vertical-align: top;\n    }\n\n    .dataframe thead th {\n        text-align: right;\n    }\n</style>\n<table border=\"1\" class=\"dataframe\">\n  <thead>\n    <tr style=\"text-align: right;\">\n      <th></th>\n      <th>Name</th>\n      <th>Age</th>\n      <th>City</th>\n    </tr>\n  </thead>\n  <tbody>\n    <tr>\n      <th>0</th>\n      <td>Alice</td>\n      <td>25</td>\n      <td>New York</td>\n    </tr>\n    <tr>\n      <th>1</th>\n      <td>Bob</td>\n      <td>30</td>\n      <td>San Francisco</td>\n    </tr>\n    <tr>\n      <th>2</th>\n      <td>Charlie</td>\n      <td>35</td>\n      <td>Seattle</td>\n    </tr>\n  </tbody>\n</table>\n</div>"
     },
     "execution_count": 25,
     "metadata": {},
     "output_type": "execute_result"
    }
   ],
   "source": [
    "persons_df = pd.DataFrame(person_dict)\n",
    "persons_df"
   ],
   "metadata": {
    "collapsed": false,
    "ExecuteTime": {
     "end_time": "2023-07-29T10:45:15.621292504Z",
     "start_time": "2023-07-29T10:45:15.266147507Z"
    }
   }
  },
  {
   "cell_type": "code",
   "execution_count": 26,
   "outputs": [
    {
     "data": {
      "text/plain": "            City     Name  Age\n0       New York    Alice   25\n1  San Francisco      Bob   30\n2        Seattle  Charlie   35",
      "text/html": "<div>\n<style scoped>\n    .dataframe tbody tr th:only-of-type {\n        vertical-align: middle;\n    }\n\n    .dataframe tbody tr th {\n        vertical-align: top;\n    }\n\n    .dataframe thead th {\n        text-align: right;\n    }\n</style>\n<table border=\"1\" class=\"dataframe\">\n  <thead>\n    <tr style=\"text-align: right;\">\n      <th></th>\n      <th>City</th>\n      <th>Name</th>\n      <th>Age</th>\n    </tr>\n  </thead>\n  <tbody>\n    <tr>\n      <th>0</th>\n      <td>New York</td>\n      <td>Alice</td>\n      <td>25</td>\n    </tr>\n    <tr>\n      <th>1</th>\n      <td>San Francisco</td>\n      <td>Bob</td>\n      <td>30</td>\n    </tr>\n    <tr>\n      <th>2</th>\n      <td>Seattle</td>\n      <td>Charlie</td>\n      <td>35</td>\n    </tr>\n  </tbody>\n</table>\n</div>"
     },
     "execution_count": 26,
     "metadata": {},
     "output_type": "execute_result"
    }
   ],
   "source": [
    "city_df = persons_df[['City', 'Name', 'Age']]\n",
    "city_df"
   ],
   "metadata": {
    "collapsed": false,
    "ExecuteTime": {
     "end_time": "2023-07-29T10:45:15.768628317Z",
     "start_time": "2023-07-29T10:45:15.275977392Z"
    }
   }
  },
  {
   "cell_type": "markdown",
   "source": [
    "---\n",
    "### 3.5. *groupby* method\n"
   ],
   "metadata": {
    "collapsed": false
   }
  },
  {
   "cell_type": "code",
   "execution_count": 27,
   "outputs": [
    {
     "data": {
      "text/plain": "            City  Pigeons     Rats  Year\n0       New York   250000  1250000  1998\n1  San Francisco   300000  1300000  1998\n2        Seattle   350000  1350000  1998\n3       New York   350000  2350000  1999\n4  San Francisco   400000  2400000  1999\n5        Seattle   550000  2550000  1999\n6       New York   310000  3310000  2000\n7  San Francisco   410000  3410000  2000\n8        Seattle   510000  3510000  2000",
      "text/html": "<div>\n<style scoped>\n    .dataframe tbody tr th:only-of-type {\n        vertical-align: middle;\n    }\n\n    .dataframe tbody tr th {\n        vertical-align: top;\n    }\n\n    .dataframe thead th {\n        text-align: right;\n    }\n</style>\n<table border=\"1\" class=\"dataframe\">\n  <thead>\n    <tr style=\"text-align: right;\">\n      <th></th>\n      <th>City</th>\n      <th>Pigeons</th>\n      <th>Rats</th>\n      <th>Year</th>\n    </tr>\n  </thead>\n  <tbody>\n    <tr>\n      <th>0</th>\n      <td>New York</td>\n      <td>250000</td>\n      <td>1250000</td>\n      <td>1998</td>\n    </tr>\n    <tr>\n      <th>1</th>\n      <td>San Francisco</td>\n      <td>300000</td>\n      <td>1300000</td>\n      <td>1998</td>\n    </tr>\n    <tr>\n      <th>2</th>\n      <td>Seattle</td>\n      <td>350000</td>\n      <td>1350000</td>\n      <td>1998</td>\n    </tr>\n    <tr>\n      <th>3</th>\n      <td>New York</td>\n      <td>350000</td>\n      <td>2350000</td>\n      <td>1999</td>\n    </tr>\n    <tr>\n      <th>4</th>\n      <td>San Francisco</td>\n      <td>400000</td>\n      <td>2400000</td>\n      <td>1999</td>\n    </tr>\n    <tr>\n      <th>5</th>\n      <td>Seattle</td>\n      <td>550000</td>\n      <td>2550000</td>\n      <td>1999</td>\n    </tr>\n    <tr>\n      <th>6</th>\n      <td>New York</td>\n      <td>310000</td>\n      <td>3310000</td>\n      <td>2000</td>\n    </tr>\n    <tr>\n      <th>7</th>\n      <td>San Francisco</td>\n      <td>410000</td>\n      <td>3410000</td>\n      <td>2000</td>\n    </tr>\n    <tr>\n      <th>8</th>\n      <td>Seattle</td>\n      <td>510000</td>\n      <td>3510000</td>\n      <td>2000</td>\n    </tr>\n  </tbody>\n</table>\n</div>"
     },
     "execution_count": 27,
     "metadata": {},
     "output_type": "execute_result"
    }
   ],
   "source": [
    "animals_df = pd.DataFrame(animals_dict)\n",
    "animals_df"
   ],
   "metadata": {
    "collapsed": false,
    "ExecuteTime": {
     "end_time": "2023-07-29T10:45:15.769013006Z",
     "start_time": "2023-07-29T10:45:15.317596749Z"
    }
   }
  },
  {
   "cell_type": "code",
   "execution_count": 28,
   "outputs": [
    {
     "data": {
      "text/plain": "               Pigeons     Rats\nCity                           \nNew York        910000  6910000\nSan Francisco  1110000  7110000\nSeattle        1410000  7410000",
      "text/html": "<div>\n<style scoped>\n    .dataframe tbody tr th:only-of-type {\n        vertical-align: middle;\n    }\n\n    .dataframe tbody tr th {\n        vertical-align: top;\n    }\n\n    .dataframe thead th {\n        text-align: right;\n    }\n</style>\n<table border=\"1\" class=\"dataframe\">\n  <thead>\n    <tr style=\"text-align: right;\">\n      <th></th>\n      <th>Pigeons</th>\n      <th>Rats</th>\n    </tr>\n    <tr>\n      <th>City</th>\n      <th></th>\n      <th></th>\n    </tr>\n  </thead>\n  <tbody>\n    <tr>\n      <th>New York</th>\n      <td>910000</td>\n      <td>6910000</td>\n    </tr>\n    <tr>\n      <th>San Francisco</th>\n      <td>1110000</td>\n      <td>7110000</td>\n    </tr>\n    <tr>\n      <th>Seattle</th>\n      <td>1410000</td>\n      <td>7410000</td>\n    </tr>\n  </tbody>\n</table>\n</div>"
     },
     "execution_count": 28,
     "metadata": {},
     "output_type": "execute_result"
    }
   ],
   "source": [
    "count_df = animals_df.drop('Year', axis=1).groupby('City').sum()\n",
    "count_df"
   ],
   "metadata": {
    "collapsed": false,
    "ExecuteTime": {
     "end_time": "2023-07-29T10:45:15.769315039Z",
     "start_time": "2023-07-29T10:45:15.317722788Z"
    }
   }
  },
  {
   "cell_type": "markdown",
   "source": [
    "---\n",
    "### 3.6. *merge* method"
   ],
   "metadata": {
    "collapsed": false
   }
  },
  {
   "cell_type": "code",
   "execution_count": 29,
   "outputs": [
    {
     "data": {
      "text/plain": "      Name           City\n0    Alice       New York\n1      Bob  San Francisco\n2  Charlie        Seattle",
      "text/html": "<div>\n<style scoped>\n    .dataframe tbody tr th:only-of-type {\n        vertical-align: middle;\n    }\n\n    .dataframe tbody tr th {\n        vertical-align: top;\n    }\n\n    .dataframe thead th {\n        text-align: right;\n    }\n</style>\n<table border=\"1\" class=\"dataframe\">\n  <thead>\n    <tr style=\"text-align: right;\">\n      <th></th>\n      <th>Name</th>\n      <th>City</th>\n    </tr>\n  </thead>\n  <tbody>\n    <tr>\n      <th>0</th>\n      <td>Alice</td>\n      <td>New York</td>\n    </tr>\n    <tr>\n      <th>1</th>\n      <td>Bob</td>\n      <td>San Francisco</td>\n    </tr>\n    <tr>\n      <th>2</th>\n      <td>Charlie</td>\n      <td>Seattle</td>\n    </tr>\n  </tbody>\n</table>\n</div>"
     },
     "execution_count": 29,
     "metadata": {},
     "output_type": "execute_result"
    }
   ],
   "source": [
    "persons_df = pd.DataFrame(person_dict).drop('Age', axis=1)\n",
    "persons_df"
   ],
   "metadata": {
    "collapsed": false,
    "ExecuteTime": {
     "end_time": "2023-07-29T10:45:15.769569271Z",
     "start_time": "2023-07-29T10:45:15.317792351Z"
    }
   }
  },
  {
   "cell_type": "code",
   "execution_count": 30,
   "outputs": [
    {
     "data": {
      "text/plain": "               Pigeons     Rats\nCity                           \nNew York        910000  6910000\nSan Francisco  1110000  7110000\nSeattle        1410000  7410000",
      "text/html": "<div>\n<style scoped>\n    .dataframe tbody tr th:only-of-type {\n        vertical-align: middle;\n    }\n\n    .dataframe tbody tr th {\n        vertical-align: top;\n    }\n\n    .dataframe thead th {\n        text-align: right;\n    }\n</style>\n<table border=\"1\" class=\"dataframe\">\n  <thead>\n    <tr style=\"text-align: right;\">\n      <th></th>\n      <th>Pigeons</th>\n      <th>Rats</th>\n    </tr>\n    <tr>\n      <th>City</th>\n      <th></th>\n      <th></th>\n    </tr>\n  </thead>\n  <tbody>\n    <tr>\n      <th>New York</th>\n      <td>910000</td>\n      <td>6910000</td>\n    </tr>\n    <tr>\n      <th>San Francisco</th>\n      <td>1110000</td>\n      <td>7110000</td>\n    </tr>\n    <tr>\n      <th>Seattle</th>\n      <td>1410000</td>\n      <td>7410000</td>\n    </tr>\n  </tbody>\n</table>\n</div>"
     },
     "execution_count": 30,
     "metadata": {},
     "output_type": "execute_result"
    }
   ],
   "source": [
    "animals_df = pd.DataFrame(animals_dict).drop('Year', axis=1).groupby('City').sum()\n",
    "animals_df"
   ],
   "metadata": {
    "collapsed": false,
    "ExecuteTime": {
     "end_time": "2023-07-29T10:45:15.769815609Z",
     "start_time": "2023-07-29T10:45:15.365512522Z"
    }
   }
  },
  {
   "cell_type": "code",
   "execution_count": 31,
   "outputs": [
    {
     "data": {
      "text/plain": "            City     Name  Pigeons     Rats\n0       New York    Alice   910000  6910000\n1  San Francisco      Bob  1110000  7110000\n2        Seattle  Charlie  1410000  7410000",
      "text/html": "<div>\n<style scoped>\n    .dataframe tbody tr th:only-of-type {\n        vertical-align: middle;\n    }\n\n    .dataframe tbody tr th {\n        vertical-align: top;\n    }\n\n    .dataframe thead th {\n        text-align: right;\n    }\n</style>\n<table border=\"1\" class=\"dataframe\">\n  <thead>\n    <tr style=\"text-align: right;\">\n      <th></th>\n      <th>City</th>\n      <th>Name</th>\n      <th>Pigeons</th>\n      <th>Rats</th>\n    </tr>\n  </thead>\n  <tbody>\n    <tr>\n      <th>0</th>\n      <td>New York</td>\n      <td>Alice</td>\n      <td>910000</td>\n      <td>6910000</td>\n    </tr>\n    <tr>\n      <th>1</th>\n      <td>San Francisco</td>\n      <td>Bob</td>\n      <td>1110000</td>\n      <td>7110000</td>\n    </tr>\n    <tr>\n      <th>2</th>\n      <td>Seattle</td>\n      <td>Charlie</td>\n      <td>1410000</td>\n      <td>7410000</td>\n    </tr>\n  </tbody>\n</table>\n</div>"
     },
     "execution_count": 31,
     "metadata": {},
     "output_type": "execute_result"
    }
   ],
   "source": [
    "aggregated_df = pd.merge(persons_df, animals_df, on='City', how='inner')\n",
    "aggregated_df = aggregated_df[['City', 'Name', 'Pigeons', 'Rats']]\n",
    "aggregated_df"
   ],
   "metadata": {
    "collapsed": false,
    "ExecuteTime": {
     "end_time": "2023-07-29T10:45:15.770021339Z",
     "start_time": "2023-07-29T10:45:15.365650472Z"
    }
   }
  },
  {
   "cell_type": "markdown",
   "source": [
    "---\n",
    "\n",
    "### 3.7. *fillna* method"
   ],
   "metadata": {
    "collapsed": false
   }
  },
  {
   "cell_type": "code",
   "execution_count": 32,
   "outputs": [
    {
     "data": {
      "text/plain": "      Name  Age           City\n0    Alice   25       New York\n1      Bob   30  San Francisco\n2  Charlie   35        Seattle",
      "text/html": "<div>\n<style scoped>\n    .dataframe tbody tr th:only-of-type {\n        vertical-align: middle;\n    }\n\n    .dataframe tbody tr th {\n        vertical-align: top;\n    }\n\n    .dataframe thead th {\n        text-align: right;\n    }\n</style>\n<table border=\"1\" class=\"dataframe\">\n  <thead>\n    <tr style=\"text-align: right;\">\n      <th></th>\n      <th>Name</th>\n      <th>Age</th>\n      <th>City</th>\n    </tr>\n  </thead>\n  <tbody>\n    <tr>\n      <th>0</th>\n      <td>Alice</td>\n      <td>25</td>\n      <td>New York</td>\n    </tr>\n    <tr>\n      <th>1</th>\n      <td>Bob</td>\n      <td>30</td>\n      <td>San Francisco</td>\n    </tr>\n    <tr>\n      <th>2</th>\n      <td>Charlie</td>\n      <td>35</td>\n      <td>Seattle</td>\n    </tr>\n  </tbody>\n</table>\n</div>"
     },
     "execution_count": 32,
     "metadata": {},
     "output_type": "execute_result"
    }
   ],
   "source": [
    "persons_df = pd.DataFrame(person_dict)\n",
    "persons_df"
   ],
   "metadata": {
    "collapsed": false,
    "ExecuteTime": {
     "end_time": "2023-07-29T10:45:15.770221974Z",
     "start_time": "2023-07-29T10:45:15.365728044Z"
    }
   }
  },
  {
   "cell_type": "code",
   "execution_count": 33,
   "outputs": [
    {
     "data": {
      "text/plain": "      Name  Age           City Subscriber\n0    Alice   25       New York       None\n1      Bob   30  San Francisco       None\n2  Charlie   35        Seattle       None",
      "text/html": "<div>\n<style scoped>\n    .dataframe tbody tr th:only-of-type {\n        vertical-align: middle;\n    }\n\n    .dataframe tbody tr th {\n        vertical-align: top;\n    }\n\n    .dataframe thead th {\n        text-align: right;\n    }\n</style>\n<table border=\"1\" class=\"dataframe\">\n  <thead>\n    <tr style=\"text-align: right;\">\n      <th></th>\n      <th>Name</th>\n      <th>Age</th>\n      <th>City</th>\n      <th>Subscriber</th>\n    </tr>\n  </thead>\n  <tbody>\n    <tr>\n      <th>0</th>\n      <td>Alice</td>\n      <td>25</td>\n      <td>New York</td>\n      <td>None</td>\n    </tr>\n    <tr>\n      <th>1</th>\n      <td>Bob</td>\n      <td>30</td>\n      <td>San Francisco</td>\n      <td>None</td>\n    </tr>\n    <tr>\n      <th>2</th>\n      <td>Charlie</td>\n      <td>35</td>\n      <td>Seattle</td>\n      <td>None</td>\n    </tr>\n  </tbody>\n</table>\n</div>"
     },
     "execution_count": 33,
     "metadata": {},
     "output_type": "execute_result"
    }
   ],
   "source": [
    "persons_df['Subscriber'] = [None] * len(person_dict['Name'])\n",
    "persons_df"
   ],
   "metadata": {
    "collapsed": false,
    "ExecuteTime": {
     "end_time": "2023-07-29T10:45:15.770434322Z",
     "start_time": "2023-07-29T10:45:15.365792196Z"
    }
   }
  },
  {
   "cell_type": "code",
   "execution_count": 34,
   "outputs": [
    {
     "data": {
      "text/plain": "      Name  Age           City  Subscriber\n0    Alice   25       New York       False\n1      Bob   30  San Francisco       False\n2  Charlie   35        Seattle       False",
      "text/html": "<div>\n<style scoped>\n    .dataframe tbody tr th:only-of-type {\n        vertical-align: middle;\n    }\n\n    .dataframe tbody tr th {\n        vertical-align: top;\n    }\n\n    .dataframe thead th {\n        text-align: right;\n    }\n</style>\n<table border=\"1\" class=\"dataframe\">\n  <thead>\n    <tr style=\"text-align: right;\">\n      <th></th>\n      <th>Name</th>\n      <th>Age</th>\n      <th>City</th>\n      <th>Subscriber</th>\n    </tr>\n  </thead>\n  <tbody>\n    <tr>\n      <th>0</th>\n      <td>Alice</td>\n      <td>25</td>\n      <td>New York</td>\n      <td>False</td>\n    </tr>\n    <tr>\n      <th>1</th>\n      <td>Bob</td>\n      <td>30</td>\n      <td>San Francisco</td>\n      <td>False</td>\n    </tr>\n    <tr>\n      <th>2</th>\n      <td>Charlie</td>\n      <td>35</td>\n      <td>Seattle</td>\n      <td>False</td>\n    </tr>\n  </tbody>\n</table>\n</div>"
     },
     "execution_count": 34,
     "metadata": {},
     "output_type": "execute_result"
    }
   ],
   "source": [
    "persons_df.fillna(False, inplace=True)\n",
    "persons_df"
   ],
   "metadata": {
    "collapsed": false,
    "ExecuteTime": {
     "end_time": "2023-07-29T10:45:16.015148814Z",
     "start_time": "2023-07-29T10:45:15.365885600Z"
    }
   }
  },
  {
   "cell_type": "markdown",
   "source": [
    "---\n",
    "\n",
    "### 3.8. *sort_values* method"
   ],
   "metadata": {
    "collapsed": false
   }
  },
  {
   "cell_type": "code",
   "execution_count": 35,
   "outputs": [
    {
     "data": {
      "text/plain": "      Name  Age           City\n0    Alice   25       New York\n1      Bob   30  San Francisco\n2  Charlie   35        Seattle",
      "text/html": "<div>\n<style scoped>\n    .dataframe tbody tr th:only-of-type {\n        vertical-align: middle;\n    }\n\n    .dataframe tbody tr th {\n        vertical-align: top;\n    }\n\n    .dataframe thead th {\n        text-align: right;\n    }\n</style>\n<table border=\"1\" class=\"dataframe\">\n  <thead>\n    <tr style=\"text-align: right;\">\n      <th></th>\n      <th>Name</th>\n      <th>Age</th>\n      <th>City</th>\n    </tr>\n  </thead>\n  <tbody>\n    <tr>\n      <th>0</th>\n      <td>Alice</td>\n      <td>25</td>\n      <td>New York</td>\n    </tr>\n    <tr>\n      <th>1</th>\n      <td>Bob</td>\n      <td>30</td>\n      <td>San Francisco</td>\n    </tr>\n    <tr>\n      <th>2</th>\n      <td>Charlie</td>\n      <td>35</td>\n      <td>Seattle</td>\n    </tr>\n  </tbody>\n</table>\n</div>"
     },
     "execution_count": 35,
     "metadata": {},
     "output_type": "execute_result"
    }
   ],
   "source": [
    "persons_df = pd.DataFrame(person_dict)\n",
    "persons_df"
   ],
   "metadata": {
    "collapsed": false,
    "ExecuteTime": {
     "end_time": "2023-07-29T10:45:16.015527955Z",
     "start_time": "2023-07-29T10:45:15.413528234Z"
    }
   }
  },
  {
   "cell_type": "code",
   "execution_count": 36,
   "outputs": [
    {
     "data": {
      "text/plain": "      Name  Age           City\n2  Charlie   35        Seattle\n1      Bob   30  San Francisco\n0    Alice   25       New York",
      "text/html": "<div>\n<style scoped>\n    .dataframe tbody tr th:only-of-type {\n        vertical-align: middle;\n    }\n\n    .dataframe tbody tr th {\n        vertical-align: top;\n    }\n\n    .dataframe thead th {\n        text-align: right;\n    }\n</style>\n<table border=\"1\" class=\"dataframe\">\n  <thead>\n    <tr style=\"text-align: right;\">\n      <th></th>\n      <th>Name</th>\n      <th>Age</th>\n      <th>City</th>\n    </tr>\n  </thead>\n  <tbody>\n    <tr>\n      <th>2</th>\n      <td>Charlie</td>\n      <td>35</td>\n      <td>Seattle</td>\n    </tr>\n    <tr>\n      <th>1</th>\n      <td>Bob</td>\n      <td>30</td>\n      <td>San Francisco</td>\n    </tr>\n    <tr>\n      <th>0</th>\n      <td>Alice</td>\n      <td>25</td>\n      <td>New York</td>\n    </tr>\n  </tbody>\n</table>\n</div>"
     },
     "execution_count": 36,
     "metadata": {},
     "output_type": "execute_result"
    }
   ],
   "source": [
    "sorted_df = persons_df.sort_values(by='Age', ascending=False)\n",
    "sorted_df"
   ],
   "metadata": {
    "collapsed": false,
    "ExecuteTime": {
     "end_time": "2023-07-29T10:45:16.015736734Z",
     "start_time": "2023-07-29T10:45:15.413643557Z"
    }
   }
  },
  {
   "cell_type": "markdown",
   "source": [
    "## 4. Analysis Operations\n",
    "\n",
    "---\n",
    "\n",
    "### 4.1. *describe* method"
   ],
   "metadata": {
    "collapsed": false
   }
  },
  {
   "cell_type": "code",
   "execution_count": 37,
   "outputs": [
    {
     "data": {
      "text/plain": "            City  Pigeons     Rats  Year\n0       New York   250000  1250000  1998\n1  San Francisco   300000  1300000  1998\n2        Seattle   350000  1350000  1998\n3       New York   350000  2350000  1999\n4  San Francisco   400000  2400000  1999\n5        Seattle   550000  2550000  1999\n6       New York   310000  3310000  2000\n7  San Francisco   410000  3410000  2000\n8        Seattle   510000  3510000  2000",
      "text/html": "<div>\n<style scoped>\n    .dataframe tbody tr th:only-of-type {\n        vertical-align: middle;\n    }\n\n    .dataframe tbody tr th {\n        vertical-align: top;\n    }\n\n    .dataframe thead th {\n        text-align: right;\n    }\n</style>\n<table border=\"1\" class=\"dataframe\">\n  <thead>\n    <tr style=\"text-align: right;\">\n      <th></th>\n      <th>City</th>\n      <th>Pigeons</th>\n      <th>Rats</th>\n      <th>Year</th>\n    </tr>\n  </thead>\n  <tbody>\n    <tr>\n      <th>0</th>\n      <td>New York</td>\n      <td>250000</td>\n      <td>1250000</td>\n      <td>1998</td>\n    </tr>\n    <tr>\n      <th>1</th>\n      <td>San Francisco</td>\n      <td>300000</td>\n      <td>1300000</td>\n      <td>1998</td>\n    </tr>\n    <tr>\n      <th>2</th>\n      <td>Seattle</td>\n      <td>350000</td>\n      <td>1350000</td>\n      <td>1998</td>\n    </tr>\n    <tr>\n      <th>3</th>\n      <td>New York</td>\n      <td>350000</td>\n      <td>2350000</td>\n      <td>1999</td>\n    </tr>\n    <tr>\n      <th>4</th>\n      <td>San Francisco</td>\n      <td>400000</td>\n      <td>2400000</td>\n      <td>1999</td>\n    </tr>\n    <tr>\n      <th>5</th>\n      <td>Seattle</td>\n      <td>550000</td>\n      <td>2550000</td>\n      <td>1999</td>\n    </tr>\n    <tr>\n      <th>6</th>\n      <td>New York</td>\n      <td>310000</td>\n      <td>3310000</td>\n      <td>2000</td>\n    </tr>\n    <tr>\n      <th>7</th>\n      <td>San Francisco</td>\n      <td>410000</td>\n      <td>3410000</td>\n      <td>2000</td>\n    </tr>\n    <tr>\n      <th>8</th>\n      <td>Seattle</td>\n      <td>510000</td>\n      <td>3510000</td>\n      <td>2000</td>\n    </tr>\n  </tbody>\n</table>\n</div>"
     },
     "execution_count": 37,
     "metadata": {},
     "output_type": "execute_result"
    }
   ],
   "source": [
    "animals_df = pd.DataFrame(animals_dict)\n",
    "animals_df"
   ],
   "metadata": {
    "collapsed": false,
    "ExecuteTime": {
     "end_time": "2023-07-29T10:45:16.015933072Z",
     "start_time": "2023-07-29T10:45:15.413720831Z"
    }
   }
  },
  {
   "cell_type": "code",
   "execution_count": 38,
   "outputs": [
    {
     "data": {
      "text/plain": "             Pigeons          Rats\ncount       9.000000  9.000000e+00\nmean   381111.111111  2.381111e+06\nstd     98163.695484  9.176797e+05\nmin    250000.000000  1.250000e+06\n25%    310000.000000  1.350000e+06\n50%    350000.000000  2.400000e+06\n75%    410000.000000  3.310000e+06\nmax    550000.000000  3.510000e+06",
      "text/html": "<div>\n<style scoped>\n    .dataframe tbody tr th:only-of-type {\n        vertical-align: middle;\n    }\n\n    .dataframe tbody tr th {\n        vertical-align: top;\n    }\n\n    .dataframe thead th {\n        text-align: right;\n    }\n</style>\n<table border=\"1\" class=\"dataframe\">\n  <thead>\n    <tr style=\"text-align: right;\">\n      <th></th>\n      <th>Pigeons</th>\n      <th>Rats</th>\n    </tr>\n  </thead>\n  <tbody>\n    <tr>\n      <th>count</th>\n      <td>9.000000</td>\n      <td>9.000000e+00</td>\n    </tr>\n    <tr>\n      <th>mean</th>\n      <td>381111.111111</td>\n      <td>2.381111e+06</td>\n    </tr>\n    <tr>\n      <th>std</th>\n      <td>98163.695484</td>\n      <td>9.176797e+05</td>\n    </tr>\n    <tr>\n      <th>min</th>\n      <td>250000.000000</td>\n      <td>1.250000e+06</td>\n    </tr>\n    <tr>\n      <th>25%</th>\n      <td>310000.000000</td>\n      <td>1.350000e+06</td>\n    </tr>\n    <tr>\n      <th>50%</th>\n      <td>350000.000000</td>\n      <td>2.400000e+06</td>\n    </tr>\n    <tr>\n      <th>75%</th>\n      <td>410000.000000</td>\n      <td>3.310000e+06</td>\n    </tr>\n    <tr>\n      <th>max</th>\n      <td>550000.000000</td>\n      <td>3.510000e+06</td>\n    </tr>\n  </tbody>\n</table>\n</div>"
     },
     "execution_count": 38,
     "metadata": {},
     "output_type": "execute_result"
    }
   ],
   "source": [
    "animals_df.describe()"
   ],
   "metadata": {
    "collapsed": false,
    "ExecuteTime": {
     "end_time": "2023-07-29T10:45:16.016126781Z",
     "start_time": "2023-07-29T10:45:15.413799252Z"
    }
   }
  },
  {
   "cell_type": "markdown",
   "source": [
    "---\n",
    "\n",
    "### 4.2. *pivot_table* method"
   ],
   "metadata": {
    "collapsed": false
   }
  },
  {
   "cell_type": "code",
   "execution_count": 39,
   "outputs": [
    {
     "data": {
      "text/plain": "            City  Pigeons     Rats  Year\n0       New York   250000  1250000  1998\n1  San Francisco   300000  1300000  1998\n2        Seattle   350000  1350000  1998\n3       New York   350000  2350000  1999\n4  San Francisco   400000  2400000  1999\n5        Seattle   550000  2550000  1999\n6       New York   310000  3310000  2000\n7  San Francisco   410000  3410000  2000\n8        Seattle   510000  3510000  2000",
      "text/html": "<div>\n<style scoped>\n    .dataframe tbody tr th:only-of-type {\n        vertical-align: middle;\n    }\n\n    .dataframe tbody tr th {\n        vertical-align: top;\n    }\n\n    .dataframe thead th {\n        text-align: right;\n    }\n</style>\n<table border=\"1\" class=\"dataframe\">\n  <thead>\n    <tr style=\"text-align: right;\">\n      <th></th>\n      <th>City</th>\n      <th>Pigeons</th>\n      <th>Rats</th>\n      <th>Year</th>\n    </tr>\n  </thead>\n  <tbody>\n    <tr>\n      <th>0</th>\n      <td>New York</td>\n      <td>250000</td>\n      <td>1250000</td>\n      <td>1998</td>\n    </tr>\n    <tr>\n      <th>1</th>\n      <td>San Francisco</td>\n      <td>300000</td>\n      <td>1300000</td>\n      <td>1998</td>\n    </tr>\n    <tr>\n      <th>2</th>\n      <td>Seattle</td>\n      <td>350000</td>\n      <td>1350000</td>\n      <td>1998</td>\n    </tr>\n    <tr>\n      <th>3</th>\n      <td>New York</td>\n      <td>350000</td>\n      <td>2350000</td>\n      <td>1999</td>\n    </tr>\n    <tr>\n      <th>4</th>\n      <td>San Francisco</td>\n      <td>400000</td>\n      <td>2400000</td>\n      <td>1999</td>\n    </tr>\n    <tr>\n      <th>5</th>\n      <td>Seattle</td>\n      <td>550000</td>\n      <td>2550000</td>\n      <td>1999</td>\n    </tr>\n    <tr>\n      <th>6</th>\n      <td>New York</td>\n      <td>310000</td>\n      <td>3310000</td>\n      <td>2000</td>\n    </tr>\n    <tr>\n      <th>7</th>\n      <td>San Francisco</td>\n      <td>410000</td>\n      <td>3410000</td>\n      <td>2000</td>\n    </tr>\n    <tr>\n      <th>8</th>\n      <td>Seattle</td>\n      <td>510000</td>\n      <td>3510000</td>\n      <td>2000</td>\n    </tr>\n  </tbody>\n</table>\n</div>"
     },
     "execution_count": 39,
     "metadata": {},
     "output_type": "execute_result"
    }
   ],
   "source": [
    "animals_df = pd.DataFrame(animals_dict)\n",
    "animals_df"
   ],
   "metadata": {
    "collapsed": false,
    "ExecuteTime": {
     "end_time": "2023-07-29T10:45:16.095089889Z",
     "start_time": "2023-07-29T10:45:15.418594356Z"
    }
   }
  },
  {
   "cell_type": "code",
   "execution_count": 40,
   "outputs": [
    {
     "data": {
      "text/plain": "            City     Rats  Year\n0       New York  1250000  1998\n1  San Francisco  1300000  1998\n2        Seattle  1350000  1998\n3       New York  2350000  1999\n4  San Francisco  2400000  1999\n5        Seattle  2550000  1999\n6       New York  3310000  2000\n7  San Francisco  3410000  2000\n8        Seattle  3510000  2000",
      "text/html": "<div>\n<style scoped>\n    .dataframe tbody tr th:only-of-type {\n        vertical-align: middle;\n    }\n\n    .dataframe tbody tr th {\n        vertical-align: top;\n    }\n\n    .dataframe thead th {\n        text-align: right;\n    }\n</style>\n<table border=\"1\" class=\"dataframe\">\n  <thead>\n    <tr style=\"text-align: right;\">\n      <th></th>\n      <th>City</th>\n      <th>Rats</th>\n      <th>Year</th>\n    </tr>\n  </thead>\n  <tbody>\n    <tr>\n      <th>0</th>\n      <td>New York</td>\n      <td>1250000</td>\n      <td>1998</td>\n    </tr>\n    <tr>\n      <th>1</th>\n      <td>San Francisco</td>\n      <td>1300000</td>\n      <td>1998</td>\n    </tr>\n    <tr>\n      <th>2</th>\n      <td>Seattle</td>\n      <td>1350000</td>\n      <td>1998</td>\n    </tr>\n    <tr>\n      <th>3</th>\n      <td>New York</td>\n      <td>2350000</td>\n      <td>1999</td>\n    </tr>\n    <tr>\n      <th>4</th>\n      <td>San Francisco</td>\n      <td>2400000</td>\n      <td>1999</td>\n    </tr>\n    <tr>\n      <th>5</th>\n      <td>Seattle</td>\n      <td>2550000</td>\n      <td>1999</td>\n    </tr>\n    <tr>\n      <th>6</th>\n      <td>New York</td>\n      <td>3310000</td>\n      <td>2000</td>\n    </tr>\n    <tr>\n      <th>7</th>\n      <td>San Francisco</td>\n      <td>3410000</td>\n      <td>2000</td>\n    </tr>\n    <tr>\n      <th>8</th>\n      <td>Seattle</td>\n      <td>3510000</td>\n      <td>2000</td>\n    </tr>\n  </tbody>\n</table>\n</div>"
     },
     "execution_count": 40,
     "metadata": {},
     "output_type": "execute_result"
    }
   ],
   "source": [
    "rats_df = animals_df.drop('Pigeons', axis=1)\n",
    "rats_df"
   ],
   "metadata": {
    "collapsed": false,
    "ExecuteTime": {
     "end_time": "2023-07-29T10:45:16.215550655Z",
     "start_time": "2023-07-29T10:45:15.423659320Z"
    }
   }
  },
  {
   "cell_type": "code",
   "execution_count": 41,
   "outputs": [
    {
     "data": {
      "text/plain": "                  Rats\nCity                  \nNew York       6910000\nSan Francisco  7110000\nSeattle        7410000",
      "text/html": "<div>\n<style scoped>\n    .dataframe tbody tr th:only-of-type {\n        vertical-align: middle;\n    }\n\n    .dataframe tbody tr th {\n        vertical-align: top;\n    }\n\n    .dataframe thead th {\n        text-align: right;\n    }\n</style>\n<table border=\"1\" class=\"dataframe\">\n  <thead>\n    <tr style=\"text-align: right;\">\n      <th></th>\n      <th>Rats</th>\n    </tr>\n    <tr>\n      <th>City</th>\n      <th></th>\n    </tr>\n  </thead>\n  <tbody>\n    <tr>\n      <th>New York</th>\n      <td>6910000</td>\n    </tr>\n    <tr>\n      <th>San Francisco</th>\n      <td>7110000</td>\n    </tr>\n    <tr>\n      <th>Seattle</th>\n      <td>7410000</td>\n    </tr>\n  </tbody>\n</table>\n</div>"
     },
     "execution_count": 41,
     "metadata": {},
     "output_type": "execute_result"
    }
   ],
   "source": [
    "rats_city_aggregation_df = rats_df.pivot_table(index='City', values='Rats', aggfunc='sum')\n",
    "rats_city_aggregation_df"
   ],
   "metadata": {
    "collapsed": false,
    "ExecuteTime": {
     "end_time": "2023-07-29T10:45:16.220634581Z",
     "start_time": "2023-07-29T10:45:15.445820711Z"
    }
   }
  },
  {
   "cell_type": "code",
   "execution_count": 42,
   "outputs": [
    {
     "data": {
      "text/plain": "          Rats\nYear          \n1998   3900000\n1999   7300000\n2000  10230000",
      "text/html": "<div>\n<style scoped>\n    .dataframe tbody tr th:only-of-type {\n        vertical-align: middle;\n    }\n\n    .dataframe tbody tr th {\n        vertical-align: top;\n    }\n\n    .dataframe thead th {\n        text-align: right;\n    }\n</style>\n<table border=\"1\" class=\"dataframe\">\n  <thead>\n    <tr style=\"text-align: right;\">\n      <th></th>\n      <th>Rats</th>\n    </tr>\n    <tr>\n      <th>Year</th>\n      <th></th>\n    </tr>\n  </thead>\n  <tbody>\n    <tr>\n      <th>1998</th>\n      <td>3900000</td>\n    </tr>\n    <tr>\n      <th>1999</th>\n      <td>7300000</td>\n    </tr>\n    <tr>\n      <th>2000</th>\n      <td>10230000</td>\n    </tr>\n  </tbody>\n</table>\n</div>"
     },
     "execution_count": 42,
     "metadata": {},
     "output_type": "execute_result"
    }
   ],
   "source": [
    "rats_year_aggregation_df = rats_df.pivot_table(index='Year', values='Rats', aggfunc='sum')\n",
    "rats_year_aggregation_df"
   ],
   "metadata": {
    "collapsed": false,
    "ExecuteTime": {
     "end_time": "2023-07-29T10:45:16.220911192Z",
     "start_time": "2023-07-29T10:45:15.489608091Z"
    }
   }
  },
  {
   "cell_type": "code",
   "execution_count": 43,
   "outputs": [
    {
     "data": {
      "text/plain": "               Pigeons     Rats\nCity                           \nNew York        910000  6910000\nSan Francisco  1110000  7110000\nSeattle        1410000  7410000",
      "text/html": "<div>\n<style scoped>\n    .dataframe tbody tr th:only-of-type {\n        vertical-align: middle;\n    }\n\n    .dataframe tbody tr th {\n        vertical-align: top;\n    }\n\n    .dataframe thead th {\n        text-align: right;\n    }\n</style>\n<table border=\"1\" class=\"dataframe\">\n  <thead>\n    <tr style=\"text-align: right;\">\n      <th></th>\n      <th>Pigeons</th>\n      <th>Rats</th>\n    </tr>\n    <tr>\n      <th>City</th>\n      <th></th>\n      <th></th>\n    </tr>\n  </thead>\n  <tbody>\n    <tr>\n      <th>New York</th>\n      <td>910000</td>\n      <td>6910000</td>\n    </tr>\n    <tr>\n      <th>San Francisco</th>\n      <td>1110000</td>\n      <td>7110000</td>\n    </tr>\n    <tr>\n      <th>Seattle</th>\n      <td>1410000</td>\n      <td>7410000</td>\n    </tr>\n  </tbody>\n</table>\n</div>"
     },
     "execution_count": 43,
     "metadata": {},
     "output_type": "execute_result"
    }
   ],
   "source": [
    "animals_city_aggregation_df = animals_df.pivot_table(index='City', values=['Rats','Pigeons'], aggfunc='sum')\n",
    "animals_city_aggregation_df"
   ],
   "metadata": {
    "collapsed": false,
    "ExecuteTime": {
     "end_time": "2023-07-29T10:45:16.274533095Z",
     "start_time": "2023-07-29T10:45:15.489809331Z"
    }
   }
  },
  {
   "cell_type": "markdown",
   "source": [
    "---\n",
    "\n",
    "### 4.3. *value_counts* method"
   ],
   "metadata": {
    "collapsed": false
   }
  },
  {
   "cell_type": "code",
   "execution_count": 44,
   "outputs": [
    {
     "data": {
      "text/plain": "            City  Pigeons     Rats  Year\n0       New York   250000  1250000  1998\n1  San Francisco   300000  1300000  1998\n2        Seattle   350000  1350000  1998\n3       New York   350000  2350000  1999\n4  San Francisco   400000  2400000  1999\n5        Seattle   550000  2550000  1999\n6       New York   310000  3310000  2000\n7  San Francisco   410000  3410000  2000\n8        Seattle   510000  3510000  2000",
      "text/html": "<div>\n<style scoped>\n    .dataframe tbody tr th:only-of-type {\n        vertical-align: middle;\n    }\n\n    .dataframe tbody tr th {\n        vertical-align: top;\n    }\n\n    .dataframe thead th {\n        text-align: right;\n    }\n</style>\n<table border=\"1\" class=\"dataframe\">\n  <thead>\n    <tr style=\"text-align: right;\">\n      <th></th>\n      <th>City</th>\n      <th>Pigeons</th>\n      <th>Rats</th>\n      <th>Year</th>\n    </tr>\n  </thead>\n  <tbody>\n    <tr>\n      <th>0</th>\n      <td>New York</td>\n      <td>250000</td>\n      <td>1250000</td>\n      <td>1998</td>\n    </tr>\n    <tr>\n      <th>1</th>\n      <td>San Francisco</td>\n      <td>300000</td>\n      <td>1300000</td>\n      <td>1998</td>\n    </tr>\n    <tr>\n      <th>2</th>\n      <td>Seattle</td>\n      <td>350000</td>\n      <td>1350000</td>\n      <td>1998</td>\n    </tr>\n    <tr>\n      <th>3</th>\n      <td>New York</td>\n      <td>350000</td>\n      <td>2350000</td>\n      <td>1999</td>\n    </tr>\n    <tr>\n      <th>4</th>\n      <td>San Francisco</td>\n      <td>400000</td>\n      <td>2400000</td>\n      <td>1999</td>\n    </tr>\n    <tr>\n      <th>5</th>\n      <td>Seattle</td>\n      <td>550000</td>\n      <td>2550000</td>\n      <td>1999</td>\n    </tr>\n    <tr>\n      <th>6</th>\n      <td>New York</td>\n      <td>310000</td>\n      <td>3310000</td>\n      <td>2000</td>\n    </tr>\n    <tr>\n      <th>7</th>\n      <td>San Francisco</td>\n      <td>410000</td>\n      <td>3410000</td>\n      <td>2000</td>\n    </tr>\n    <tr>\n      <th>8</th>\n      <td>Seattle</td>\n      <td>510000</td>\n      <td>3510000</td>\n      <td>2000</td>\n    </tr>\n  </tbody>\n</table>\n</div>"
     },
     "execution_count": 44,
     "metadata": {},
     "output_type": "execute_result"
    }
   ],
   "source": [
    "animals_df = pd.DataFrame(animals_dict)\n",
    "animals_df"
   ],
   "metadata": {
    "collapsed": false,
    "ExecuteTime": {
     "end_time": "2023-07-29T10:45:16.274870888Z",
     "start_time": "2023-07-29T10:45:15.489953104Z"
    }
   }
  },
  {
   "cell_type": "code",
   "execution_count": 45,
   "outputs": [
    {
     "data": {
      "text/plain": "City\nNew York         3\nSan Francisco    3\nSeattle          3\nName: count, dtype: int64"
     },
     "execution_count": 45,
     "metadata": {},
     "output_type": "execute_result"
    }
   ],
   "source": [
    "city_counts = animals_df['City'].value_counts()\n",
    "city_counts"
   ],
   "metadata": {
    "collapsed": false,
    "ExecuteTime": {
     "end_time": "2023-07-29T10:45:16.275096579Z",
     "start_time": "2023-07-29T10:45:15.490138794Z"
    }
   }
  },
  {
   "cell_type": "code",
   "execution_count": 45,
   "outputs": [],
   "source": [],
   "metadata": {
    "collapsed": false,
    "ExecuteTime": {
     "end_time": "2023-07-29T10:45:16.335997793Z",
     "start_time": "2023-07-29T10:45:15.538146981Z"
    }
   }
  }
 ],
 "metadata": {
  "kernelspec": {
   "display_name": "Python 3",
   "language": "python",
   "name": "python3"
  },
  "language_info": {
   "codemirror_mode": {
    "name": "ipython",
    "version": 2
   },
   "file_extension": ".py",
   "mimetype": "text/x-python",
   "name": "python",
   "nbconvert_exporter": "python",
   "pygments_lexer": "ipython2",
   "version": "2.7.6"
  }
 },
 "nbformat": 4,
 "nbformat_minor": 0
}
