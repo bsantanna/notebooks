{
 "cells": [
  {
   "metadata": {},
   "cell_type": "markdown",
   "source": [
    "# VF 02 - RAG\n",
    "\n",
    "References:\n",
    " - [Langchain Ollama Integration](https://python.langchain.com/docs/integrations/llms/ollama/)\n",
    " - [Ollama Server Hardware Spec](https://everymac.com/systems/apple/mac_mini/specs/mac-mini-m4-10-core-cpu-10-core-gpu-2024-specs.html)\n",
    "\n",
    "\n"
   ],
   "id": "3fbafbb31a8ab53f"
  },
  {
   "cell_type": "code",
   "id": "initial_id",
   "metadata": {
    "collapsed": true,
    "ExecuteTime": {
     "end_time": "2025-01-31T16:56:46.764056Z",
     "start_time": "2025-01-31T16:56:41.189499Z"
    }
   },
   "source": "%pip install -q langchain langchain-community langchain-ollama langchain-chroma",
   "outputs": [
    {
     "name": "stdout",
     "output_type": "stream",
     "text": [
      "Note: you may need to restart the kernel to use updated packages.\n"
     ]
    }
   ],
   "execution_count": 10
  },
  {
   "metadata": {
    "ExecuteTime": {
     "end_time": "2025-01-31T17:18:28.493141Z",
     "start_time": "2025-01-31T17:18:28.335838Z"
    }
   },
   "cell_type": "code",
   "source": [
    "import os\n",
    "from uuid import uuid4\n",
    "from langchain_ollama import OllamaLLM, OllamaEmbeddings\n",
    "from langchain.document_loaders import TextLoader\n",
    "from langchain_chroma import Chroma\n",
    "from langchain.chains import RetrievalQA"
   ],
   "id": "4141bb2a74085ab8",
   "outputs": [],
   "execution_count": 27
  },
  {
   "metadata": {
    "ExecuteTime": {
     "end_time": "2025-01-31T17:05:04.210486Z",
     "start_time": "2025-01-31T17:05:04.207544Z"
    }
   },
   "cell_type": "code",
   "source": [
    "# Globals\n",
    "# from langchain import globals\n",
    "#globals.set_debug(True)\n",
    "\n",
    "dataset_directory = \"/mnt/network-data/storage/projects/vf/data\"\n",
    "\n",
    "ollama_api_endpoint = \"http://moon.btech.software:11434\"\n",
    "\n",
    "embedding_model = \"phi4\"\n",
    "qa_model = \"phi4\"\n",
    "\n",
    "kb_dir=f\"{dataset_directory}/DataStock\"\n"
   ],
   "id": "405514eacd926060",
   "outputs": [],
   "execution_count": 25
  },
  {
   "metadata": {
    "ExecuteTime": {
     "end_time": "2025-01-31T17:28:42.859344Z",
     "start_time": "2025-01-31T17:23:09.863413Z"
    }
   },
   "cell_type": "code",
   "source": [
    "embeddings = OllamaEmbeddings(model=embedding_model, base_url=ollama_api_endpoint)\n",
    "\n",
    "vector_store = Chroma(\n",
    "    collection_name=\"datastock_collection\",\n",
    "    embedding_function=embeddings,\n",
    "    persist_directory=\"./tmp/datastock_collection.bin\",\n",
    ")\n",
    "\n",
    "for root, dirs, files in os.walk(kb_dir):\n",
    "    for file in files:\n",
    "        if file.lower().endswith(\"_processed.txt\"):\n",
    "            file_path = os.path.join(root, file)\n",
    "            print(f\"Processing {file_path}\")\n",
    "            text_loader = TextLoader(file_path)\n",
    "            docs = text_loader.load_and_split()\n",
    "            uuids = [str(uuid4()) for _ in range(len(docs))]\n",
    "            vector_store.add_documents(documents=docs, ids=uuids)\n",
    "\n"
   ],
   "id": "bf6de054caf50819",
   "outputs": [
    {
     "name": "stdout",
     "output_type": "stream",
     "text": [
      "Processing /mnt/network-data/storage/projects/vf/data/DataStock/Guia RENAVE_atualizado-page-1_processed.txt\n",
      "Processing /mnt/network-data/storage/projects/vf/data/DataStock/Guia RENAVE_atualizado-page-2_processed.txt\n",
      "Processing /mnt/network-data/storage/projects/vf/data/DataStock/Guia RENAVE_atualizado-page-3_processed.txt\n",
      "Processing /mnt/network-data/storage/projects/vf/data/DataStock/Guia RENAVE_atualizado-page-4_processed.txt\n",
      "Processing /mnt/network-data/storage/projects/vf/data/DataStock/Guia RENAVE_atualizado-page-5_processed.txt\n",
      "Processing /mnt/network-data/storage/projects/vf/data/DataStock/Guia RENAVE_atualizado-page-6_processed.txt\n",
      "Processing /mnt/network-data/storage/projects/vf/data/DataStock/Guia RENAVE_atualizado-page-7_processed.txt\n",
      "Processing /mnt/network-data/storage/projects/vf/data/DataStock/Guia RENAVE_atualizado-page-8_processed.txt\n",
      "Processing /mnt/network-data/storage/projects/vf/data/DataStock/Guia RENAVE_atualizado-page-9_processed.txt\n",
      "Processing /mnt/network-data/storage/projects/vf/data/DataStock/NOVA_Apresentação Comercial DataStock-page-01_processed.txt\n",
      "Processing /mnt/network-data/storage/projects/vf/data/DataStock/NOVA_Apresentação Comercial DataStock-page-02_processed.txt\n",
      "Processing /mnt/network-data/storage/projects/vf/data/DataStock/NOVA_Apresentação Comercial DataStock-page-03_processed.txt\n",
      "Processing /mnt/network-data/storage/projects/vf/data/DataStock/NOVA_Apresentação Comercial DataStock-page-04_processed.txt\n",
      "Processing /mnt/network-data/storage/projects/vf/data/DataStock/NOVA_Apresentação Comercial DataStock-page-05_processed.txt\n",
      "Processing /mnt/network-data/storage/projects/vf/data/DataStock/NOVA_Apresentação Comercial DataStock-page-06_processed.txt\n",
      "Processing /mnt/network-data/storage/projects/vf/data/DataStock/NOVA_Apresentação Comercial DataStock-page-07_processed.txt\n",
      "Processing /mnt/network-data/storage/projects/vf/data/DataStock/NOVA_Apresentação Comercial DataStock-page-08_processed.txt\n",
      "Processing /mnt/network-data/storage/projects/vf/data/DataStock/NOVA_Apresentação Comercial DataStock-page-09_processed.txt\n",
      "Processing /mnt/network-data/storage/projects/vf/data/DataStock/NOVA_Apresentação Comercial DataStock-page-10_processed.txt\n",
      "Processing /mnt/network-data/storage/projects/vf/data/DataStock/NOVA_Apresentação Comercial DataStock-page-11_processed.txt\n",
      "Processing /mnt/network-data/storage/projects/vf/data/DataStock/NOVA_Apresentação Comercial DataStock-page-12_processed.txt\n",
      "Processing /mnt/network-data/storage/projects/vf/data/DataStock/NOVA_Apresentação Comercial DataStock-page-13_processed.txt\n",
      "Processing /mnt/network-data/storage/projects/vf/data/DataStock/NOVA_Apresentação Comercial DataStock-page-14_processed.txt\n",
      "Processing /mnt/network-data/storage/projects/vf/data/DataStock/NOVA_Apresentação Comercial DataStock-page-15_processed.txt\n",
      "Processing /mnt/network-data/storage/projects/vf/data/DataStock/NOVA_Apresentação Comercial DataStock-page-16_processed.txt\n",
      "Processing /mnt/network-data/storage/projects/vf/data/DataStock/NOVA_Apresentação Comercial DataStock-page-17_processed.txt\n",
      "Processing /mnt/network-data/storage/projects/vf/data/DataStock/NOVA_Apresentação Comercial DataStock-page-18_processed.txt\n",
      "Processing /mnt/network-data/storage/projects/vf/data/DataStock/NOVA_Apresentação Comercial DataStock-page-19_processed.txt\n",
      "Processing /mnt/network-data/storage/projects/vf/data/DataStock/NOVA_Apresentação Comercial DataStock-page-20_processed.txt\n",
      "Processing /mnt/network-data/storage/projects/vf/data/DataStock/NOVA_Apresentação Comercial DataStock-page-21_processed.txt\n",
      "Processing /mnt/network-data/storage/projects/vf/data/DataStock/NOVA_Apresentação Comercial DataStock-page-22_processed.txt\n",
      "Processing /mnt/network-data/storage/projects/vf/data/DataStock/NOVA_Apresentação Comercial DataStock-page-23_processed.txt\n",
      "Processing /mnt/network-data/storage/projects/vf/data/DataStock/NOVA_Apresentação Comercial DataStock-page-24_processed.txt\n",
      "Processing /mnt/network-data/storage/projects/vf/data/DataStock/NOVA_Apresentação Comercial DataStock-page-25_processed.txt\n",
      "Processing /mnt/network-data/storage/projects/vf/data/DataStock/NOVA_Apresentação Comercial DataStock-page-26_processed.txt\n",
      "Processing /mnt/network-data/storage/projects/vf/data/DataStock/NOVA_Apresentação Comercial DataStock-page-27_processed.txt\n",
      "Processing /mnt/network-data/storage/projects/vf/data/DataStock/NOVA_Apresentação Comercial DataStock-page-28_processed.txt\n",
      "Processing /mnt/network-data/storage/projects/vf/data/DataStock/NOVA_Apresentação Comercial DataStock-page-29_processed.txt\n",
      "Processing /mnt/network-data/storage/projects/vf/data/DataStock/NOVA_Apresentação Comercial DataStock-page-30_processed.txt\n",
      "Processing /mnt/network-data/storage/projects/vf/data/DataStock/NOVA_Apresentação Comercial DataStock-page-31_processed.txt\n",
      "Processing /mnt/network-data/storage/projects/vf/data/DataStock/NOVA_Apresentação Comercial DataStock-page-32_processed.txt\n",
      "Processing /mnt/network-data/storage/projects/vf/data/DataStock/NOVA_Apresentação Comercial DataStock-page-33_processed.txt\n",
      "Processing /mnt/network-data/storage/projects/vf/data/DataStock/NOVA_Apresentação Comercial DataStock-page-34_processed.txt\n",
      "Processing /mnt/network-data/storage/projects/vf/data/DataStock/NOVA_Apresentação Comercial DataStock-page-35_processed.txt\n",
      "Processing /mnt/network-data/storage/projects/vf/data/DataStock/NOVA_Apresentação Comercial DataStock-page-36_processed.txt\n",
      "Processing /mnt/network-data/storage/projects/vf/data/DataStock/NOVA_Apresentação Comercial DataStock-page-38_processed.txt\n",
      "Processing /mnt/network-data/storage/projects/vf/data/DataStock/NOVA_Apresentação Comercial DataStock-page-39_processed.txt\n",
      "Processing /mnt/network-data/storage/projects/vf/data/DataStock/NOVA_Apresentação Comercial DataStock-page-40_processed.txt\n",
      "Processing /mnt/network-data/storage/projects/vf/data/DataStock/NOVA_Apresentação Comercial DataStock-page-41_processed.txt\n",
      "Processing /mnt/network-data/storage/projects/vf/data/DataStock/NOVA_Apresentação Comercial DataStock-page-43_processed.txt\n",
      "Processing /mnt/network-data/storage/projects/vf/data/DataStock/NOVA_Apresentação Comercial DataStock-page-44_processed.txt\n",
      "Processing /mnt/network-data/storage/projects/vf/data/DataStock/NOVA_Apresentação Comercial DataStock-page-45_processed.txt\n",
      "Processing /mnt/network-data/storage/projects/vf/data/DataStock/NOVA_Apresentação Comercial DataStock-page-47_processed.txt\n",
      "Processing /mnt/network-data/storage/projects/vf/data/DataStock/NOVA_Apresentação Comercial DataStock-page-48_processed.txt\n",
      "Processing /mnt/network-data/storage/projects/vf/data/DataStock/NOVA_Apresentação Comercial DataStock-page-49_processed.txt\n",
      "Processing /mnt/network-data/storage/projects/vf/data/DataStock/NOVA_Apresentação Comercial DataStock-page-50_processed.txt\n",
      "Processing /mnt/network-data/storage/projects/vf/data/DataStock/NOVA_Apresentação Comercial DataStock-page-51_processed.txt\n",
      "Processing /mnt/network-data/storage/projects/vf/data/DataStock/NOVA_Apresentação Comercial DataStock-page-52_processed.txt\n",
      "Processing /mnt/network-data/storage/projects/vf/data/DataStock/NOVA_Apresentação Comercial DataStock-page-53_processed.txt\n",
      "Processing /mnt/network-data/storage/projects/vf/data/DataStock/NOVA_Apresentação Comercial DataStock-page-54_processed.txt\n",
      "Processing /mnt/network-data/storage/projects/vf/data/DataStock/NOVA_Apresentação Comercial DataStock-page-55_processed.txt\n",
      "Processing /mnt/network-data/storage/projects/vf/data/DataStock/NOVA_Apresentação Comercial DataStock-page-56_processed.txt\n",
      "Processing /mnt/network-data/storage/projects/vf/data/DataStock/NOVA_Apresentação Comercial DataStock-page-57_processed.txt\n",
      "Processing /mnt/network-data/storage/projects/vf/data/DataStock/NOVA_Apresentação Comercial DataStock-page-58_processed.txt\n",
      "Processing /mnt/network-data/storage/projects/vf/data/DataStock/NOVA_Apresentação Comercial DataStock-page-59_processed.txt\n"
     ]
    }
   ],
   "execution_count": 30
  },
  {
   "metadata": {
    "ExecuteTime": {
     "end_time": "2025-01-31T17:28:43.024466Z",
     "start_time": "2025-01-31T17:28:42.913531Z"
    }
   },
   "cell_type": "code",
   "source": [
    "# initialize chain\n",
    "llm = OllamaLLM(\n",
    "    model=qa_model,\n",
    "    base_url=ollama_api_endpoint,\n",
    "    temperature=0.5,\n",
    "    num_predict=1024\n",
    ")\n",
    "qa_chain = RetrievalQA.from_chain_type(\n",
    "    llm=llm,\n",
    "    chain_type=\"stuff\",  # map_reduce, refine, map_rerank\n",
    "    retriever=vector_store.as_retriever(),\n",
    "    verbose=True\n",
    ")"
   ],
   "id": "f26d5202aa2beb9",
   "outputs": [],
   "execution_count": 31
  },
  {
   "metadata": {
    "ExecuteTime": {
     "end_time": "2025-01-31T17:32:31.512495Z",
     "start_time": "2025-01-31T17:31:32.102600Z"
    }
   },
   "cell_type": "code",
   "source": [
    "query = \"Responda em pt_BR: Como o RENAVE pode auxiliar os clientes?\"\n",
    "response = qa_chain.invoke(query)\n",
    "print(response['result'])"
   ],
   "id": "1795a4f2236e445d",
   "outputs": [
    {
     "name": "stdout",
     "output_type": "stream",
     "text": [
      "\n",
      "\n",
      "\u001B[1m> Entering new RetrievalQA chain...\u001B[0m\n",
      "\n",
      "\u001B[1m> Finished chain.\u001B[0m\n",
      "O RENAVE (Registro Nacional de Veículos) é uma entidade responsável pelo registro e licenciamento de veículos no Brasil. Ele pode auxiliar os clientes de várias maneiras:\n",
      "\n",
      "1. **Processos de Registro**: O RENAVE facilita o processo de registro inicial dos veículos, garantindo que todos os dados estejam corretamente inseridos nos sistemas oficiais.\n",
      "\n",
      "2. **Licenciamento Anual**: Auxilia na renovação anual do licenciamento dos veículos, um procedimento obrigatório para a legalidade e circulação no trânsito brasileiro.\n",
      "\n",
      "3. **Transferência de Propriedade**: Oferece suporte nos processos de transferência de propriedade entre vendedores e compradores, garantindo que todas as informações estejam atualizadas e corretas.\n",
      "\n",
      "4. **Emissão de Documentos**: Fornece documentos essenciais como o Certificado de Registro do Veículo (CRV) e a Nota Fiscal Eletrônica (NF-e), fundamentais para comprovação da propriedade e legalidade dos veículos.\n",
      "\n",
      "5. **Consulta de Informações**: Permite que proprietários, compradores e outras partes interessadas consultem informações sobre o histórico do veículo, como restrições ou pendências legais.\n",
      "\n",
      "6. **Atualização de Dados**: Facilita a atualização de dados cadastrais dos veículos, garantindo que as informações estejam sempre corretas no sistema oficial.\n",
      "\n",
      "Ao proporcionar esses serviços, o RENAVE ajuda a simplificar e agilizar os processos relacionados ao registro e licenciamento de veículos, contribuindo para a legalidade e segurança no trânsito.\n"
     ]
    }
   ],
   "execution_count": 34
  },
  {
   "metadata": {},
   "cell_type": "code",
   "outputs": [],
   "execution_count": null,
   "source": "",
   "id": "94f6f822f82919fa"
  }
 ],
 "metadata": {
  "kernelspec": {
   "display_name": "Python 3",
   "language": "python",
   "name": "python3"
  },
  "language_info": {
   "codemirror_mode": {
    "name": "ipython",
    "version": 2
   },
   "file_extension": ".py",
   "mimetype": "text/x-python",
   "name": "python",
   "nbconvert_exporter": "python",
   "pygments_lexer": "ipython2",
   "version": "2.7.6"
  }
 },
 "nbformat": 4,
 "nbformat_minor": 5
}
