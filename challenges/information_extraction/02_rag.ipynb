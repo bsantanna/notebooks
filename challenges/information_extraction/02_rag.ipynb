{
 "cells": [
  {
   "metadata": {},
   "cell_type": "markdown",
   "source": [
    "# VF 02 - RAG\n",
    "\n",
    "References:\n",
    " - [Langchain Ollama Integration](https://python.langchain.com/docs/integrations/llms/ollama/)\n",
    " - [Ollama Server Hardware Spec](https://everymac.com/systems/apple/mac_mini/specs/mac-mini-m4-10-core-cpu-10-core-gpu-2024-specs.html)\n",
    "\n",
    "\n"
   ],
   "id": "3fbafbb31a8ab53f"
  },
  {
   "cell_type": "code",
   "id": "initial_id",
   "metadata": {
    "collapsed": true,
    "ExecuteTime": {
     "end_time": "2025-01-31T16:56:46.764056Z",
     "start_time": "2025-01-31T16:56:41.189499Z"
    }
   },
   "source": "%pip install -q langchain langchain-community langchain-ollama langchain-chroma",
   "outputs": [
    {
     "name": "stdout",
     "output_type": "stream",
     "text": [
      "Note: you may need to restart the kernel to use updated packages.\n"
     ]
    }
   ],
   "execution_count": 10
  },
  {
   "metadata": {
    "ExecuteTime": {
     "end_time": "2025-01-31T17:18:28.493141Z",
     "start_time": "2025-01-31T17:18:28.335838Z"
    }
   },
   "cell_type": "code",
   "source": [
    "import os\n",
    "from uuid import uuid4\n",
    "from langchain_ollama import OllamaLLM, OllamaEmbeddings\n",
    "from langchain.document_loaders import TextLoader\n",
    "from langchain_chroma import Chroma\n",
    "from langchain.chains import RetrievalQA"
   ],
   "id": "4141bb2a74085ab8",
   "outputs": [],
   "execution_count": 27
  },
  {
   "metadata": {
    "ExecuteTime": {
     "end_time": "2025-01-31T17:05:04.210486Z",
     "start_time": "2025-01-31T17:05:04.207544Z"
    }
   },
   "cell_type": "code",
   "source": [
    "# Globals\n",
    "# from langchain import globals\n",
    "#globals.set_debug(True)\n",
    "\n",
    "dataset_directory = \"/mnt/network-data/storage/projects/vf/data\"\n",
    "\n",
    "ollama_api_endpoint = \"http://moon.btech.software:11434\"\n",
    "\n",
    "embedding_model = \"phi4\"\n",
    "qa_model = \"phi4\"\n",
    "\n",
    "kb_dir=f\"{dataset_directory}/DataStock\"\n"
   ],
   "id": "405514eacd926060",
   "outputs": [],
   "execution_count": 25
  },
  {
   "metadata": {
    "ExecuteTime": {
     "end_time": "2025-01-31T17:09:12.609409Z",
     "start_time": "2025-01-31T17:05:05.889782Z"
    }
   },
   "cell_type": "code",
   "source": [
    "embeddings = OllamaEmbeddings(model=embedding_model, base_url=ollama_api_endpoint)\n",
    "\n",
    "vector_store = Chroma(\n",
    "    collection_name=\"datastock_collection\",\n",
    "    embedding_function=embeddings,\n",
    "    persist_directory=\"./tmp/datastock_collection.bin\",\n",
    ")\n",
    "\n",
    "for root, dirs, files in os.walk(kb_dir):\n",
    "    for file in files:\n",
    "        if file.lower().endswith(\"_processed.txt\"):\n",
    "            file_path = os.path.join(root, file)\n",
    "            print(f\"Processing {file_path}\")\n",
    "            text_loader = TextLoader(file_path)\n",
    "            docs = text_loader.load_and_split()\n",
    "            uuids = [str(uuid4()) for _ in range(len(docs))]\n",
    "            vector_store.add_documents(documents=docs, ids=uuids)\n",
    "\n"
   ],
   "id": "bf6de054caf50819",
   "outputs": [
    {
     "name": "stdout",
     "output_type": "stream",
     "text": [
      "Processing /mnt/network-data/storage/projects/vf/data/DataStock/Guia RENAVE_atualizado-page-1_processed.txt\n",
      "Processing /mnt/network-data/storage/projects/vf/data/DataStock/Guia RENAVE_atualizado-page-2_processed.txt\n",
      "Processing /mnt/network-data/storage/projects/vf/data/DataStock/Guia RENAVE_atualizado-page-3_processed.txt\n",
      "Processing /mnt/network-data/storage/projects/vf/data/DataStock/Guia RENAVE_atualizado-page-4_processed.txt\n",
      "Processing /mnt/network-data/storage/projects/vf/data/DataStock/Guia RENAVE_atualizado-page-5_processed.txt\n",
      "Processing /mnt/network-data/storage/projects/vf/data/DataStock/Guia RENAVE_atualizado-page-6_processed.txt\n",
      "Processing /mnt/network-data/storage/projects/vf/data/DataStock/Guia RENAVE_atualizado-page-7_processed.txt\n",
      "Processing /mnt/network-data/storage/projects/vf/data/DataStock/Guia RENAVE_atualizado-page-8_processed.txt\n",
      "Processing /mnt/network-data/storage/projects/vf/data/DataStock/Guia RENAVE_atualizado-page-9_processed.txt\n",
      "Processing /mnt/network-data/storage/projects/vf/data/DataStock/NOVA_Apresentação Comercial DataStock-page-01_processed.txt\n",
      "Processing /mnt/network-data/storage/projects/vf/data/DataStock/NOVA_Apresentação Comercial DataStock-page-02_processed.txt\n",
      "Processing /mnt/network-data/storage/projects/vf/data/DataStock/NOVA_Apresentação Comercial DataStock-page-03_processed.txt\n",
      "Processing /mnt/network-data/storage/projects/vf/data/DataStock/NOVA_Apresentação Comercial DataStock-page-04_processed.txt\n",
      "Processing /mnt/network-data/storage/projects/vf/data/DataStock/NOVA_Apresentação Comercial DataStock-page-05_processed.txt\n",
      "Processing /mnt/network-data/storage/projects/vf/data/DataStock/NOVA_Apresentação Comercial DataStock-page-06_processed.txt\n",
      "Processing /mnt/network-data/storage/projects/vf/data/DataStock/NOVA_Apresentação Comercial DataStock-page-07_processed.txt\n",
      "Processing /mnt/network-data/storage/projects/vf/data/DataStock/NOVA_Apresentação Comercial DataStock-page-08_processed.txt\n",
      "Processing /mnt/network-data/storage/projects/vf/data/DataStock/NOVA_Apresentação Comercial DataStock-page-09_processed.txt\n",
      "Processing /mnt/network-data/storage/projects/vf/data/DataStock/NOVA_Apresentação Comercial DataStock-page-10_processed.txt\n",
      "Processing /mnt/network-data/storage/projects/vf/data/DataStock/NOVA_Apresentação Comercial DataStock-page-11_processed.txt\n",
      "Processing /mnt/network-data/storage/projects/vf/data/DataStock/NOVA_Apresentação Comercial DataStock-page-12_processed.txt\n",
      "Processing /mnt/network-data/storage/projects/vf/data/DataStock/NOVA_Apresentação Comercial DataStock-page-13_processed.txt\n",
      "Processing /mnt/network-data/storage/projects/vf/data/DataStock/NOVA_Apresentação Comercial DataStock-page-14_processed.txt\n",
      "Processing /mnt/network-data/storage/projects/vf/data/DataStock/NOVA_Apresentação Comercial DataStock-page-15_processed.txt\n",
      "Processing /mnt/network-data/storage/projects/vf/data/DataStock/NOVA_Apresentação Comercial DataStock-page-16_processed.txt\n",
      "Processing /mnt/network-data/storage/projects/vf/data/DataStock/NOVA_Apresentação Comercial DataStock-page-17_processed.txt\n",
      "Processing /mnt/network-data/storage/projects/vf/data/DataStock/NOVA_Apresentação Comercial DataStock-page-18_processed.txt\n",
      "Processing /mnt/network-data/storage/projects/vf/data/DataStock/NOVA_Apresentação Comercial DataStock-page-19_processed.txt\n",
      "Processing /mnt/network-data/storage/projects/vf/data/DataStock/NOVA_Apresentação Comercial DataStock-page-20_processed.txt\n",
      "Processing /mnt/network-data/storage/projects/vf/data/DataStock/NOVA_Apresentação Comercial DataStock-page-21_processed.txt\n",
      "Processing /mnt/network-data/storage/projects/vf/data/DataStock/NOVA_Apresentação Comercial DataStock-page-22_processed.txt\n",
      "Processing /mnt/network-data/storage/projects/vf/data/DataStock/NOVA_Apresentação Comercial DataStock-page-23_processed.txt\n",
      "Processing /mnt/network-data/storage/projects/vf/data/DataStock/NOVA_Apresentação Comercial DataStock-page-24_processed.txt\n",
      "Processing /mnt/network-data/storage/projects/vf/data/DataStock/NOVA_Apresentação Comercial DataStock-page-25_processed.txt\n",
      "Processing /mnt/network-data/storage/projects/vf/data/DataStock/NOVA_Apresentação Comercial DataStock-page-26_processed.txt\n",
      "Processing /mnt/network-data/storage/projects/vf/data/DataStock/NOVA_Apresentação Comercial DataStock-page-27_processed.txt\n",
      "Processing /mnt/network-data/storage/projects/vf/data/DataStock/NOVA_Apresentação Comercial DataStock-page-28_processed.txt\n",
      "Processing /mnt/network-data/storage/projects/vf/data/DataStock/NOVA_Apresentação Comercial DataStock-page-29_processed.txt\n",
      "Processing /mnt/network-data/storage/projects/vf/data/DataStock/NOVA_Apresentação Comercial DataStock-page-30_processed.txt\n",
      "Processing /mnt/network-data/storage/projects/vf/data/DataStock/NOVA_Apresentação Comercial DataStock-page-31_processed.txt\n",
      "Processing /mnt/network-data/storage/projects/vf/data/DataStock/NOVA_Apresentação Comercial DataStock-page-32_processed.txt\n",
      "Processing /mnt/network-data/storage/projects/vf/data/DataStock/NOVA_Apresentação Comercial DataStock-page-33_processed.txt\n",
      "Processing /mnt/network-data/storage/projects/vf/data/DataStock/NOVA_Apresentação Comercial DataStock-page-34_processed.txt\n",
      "Processing /mnt/network-data/storage/projects/vf/data/DataStock/NOVA_Apresentação Comercial DataStock-page-35_processed.txt\n",
      "Processing /mnt/network-data/storage/projects/vf/data/DataStock/NOVA_Apresentação Comercial DataStock-page-36_processed.txt\n",
      "Processing /mnt/network-data/storage/projects/vf/data/DataStock/NOVA_Apresentação Comercial DataStock-page-38_processed.txt\n"
     ]
    }
   ],
   "execution_count": 26
  },
  {
   "metadata": {
    "ExecuteTime": {
     "end_time": "2025-01-31T17:19:37.874451Z",
     "start_time": "2025-01-31T17:19:37.783971Z"
    }
   },
   "cell_type": "code",
   "source": [
    "# initialize chain\n",
    "llm = OllamaLLM(\n",
    "    model=qa_model,\n",
    "    base_url=ollama_api_endpoint,\n",
    "    temperature=0.5,\n",
    "    num_predict=1024\n",
    ")\n",
    "qa_chain = RetrievalQA.from_chain_type(\n",
    "    llm=llm,\n",
    "    chain_type=\"stuff\",  # map_reduce, refine, map_rerank\n",
    "    retriever=vector_store.as_retriever(),\n",
    "    verbose=True\n",
    ")"
   ],
   "id": "f26d5202aa2beb9",
   "outputs": [],
   "execution_count": 28
  },
  {
   "metadata": {
    "ExecuteTime": {
     "end_time": "2025-01-31T17:22:03.008752Z",
     "start_time": "2025-01-31T17:21:10.421757Z"
    }
   },
   "cell_type": "code",
   "source": [
    "query = \"Responda em pt_BR: Como o RENAVE pode auxiliar os clientes?\"\n",
    "response = qa_chain.run(query)\n",
    "print(response)"
   ],
   "id": "1795a4f2236e445d",
   "outputs": [
    {
     "name": "stderr",
     "output_type": "stream",
     "text": [
      "/tmp/ipykernel_960876/3965892567.py:2: LangChainDeprecationWarning: The method `Chain.run` was deprecated in langchain 0.1.0 and will be removed in 1.0. Use :meth:`~invoke` instead.\n",
      "  response = qa_chain.run(query)\n"
     ]
    },
    {
     "name": "stdout",
     "output_type": "stream",
     "text": [
      "\n",
      "\n",
      "\u001B[1m> Entering new RetrievalQA chain...\u001B[0m\n",
      "\n",
      "\u001B[1m> Finished chain.\u001B[0m\n",
      "O RENAVE, que é uma agência brasileira responsável pelo transporte rodoviário e circulação de veículos, pode auxiliar seus clientes principalmente através dos seguintes serviços:\n",
      "\n",
      "1. **Transferência de Veículos**: O RENAVE facilita o processo de transferência de veículos entre estabelecimentos, garantindo que todas as etapas sejam cumpridas conforme os regulamentos vigentes. Isso é essencial para empresas envolvidas na comercialização de veículos.\n",
      "\n",
      "2. **Comercialização de Veículos**: Ao fornecer informações claras e precisas sobre o processo de transferência, o RENAVE ajuda as empresas a otimizar suas operações de venda e compra de veículos, reduzindo custos e melhorando a satisfação do cliente.\n",
      "\n",
      "3. **Autorização para Transferência entre Estabelecimentos**: O RENAVE emite autorizações necessárias para que os estabelecimentos possam realizar transferências legais e seguras de veículos, garantindo conformidade com as normas regulatórias.\n",
      "\n",
      "4. **Educação e Informação**: Ao educar potenciais clientes sobre o processo de transferência de veículos e os documentos necessários, o RENAVE ajuda a eliminar incertezas e facilita um fluxo mais ágil no mercado de veículos.\n",
      "\n",
      "Esses serviços contribuem para uma operação mais eficiente, redução de custos e melhoria na segurança das transações, tornando o RENAVE um parceiro valioso para empresas que atuam nesse setor.\n"
     ]
    }
   ],
   "execution_count": 29
  },
  {
   "metadata": {},
   "cell_type": "code",
   "outputs": [],
   "execution_count": null,
   "source": "",
   "id": "94f6f822f82919fa"
  }
 ],
 "metadata": {
  "kernelspec": {
   "display_name": "Python 3",
   "language": "python",
   "name": "python3"
  },
  "language_info": {
   "codemirror_mode": {
    "name": "ipython",
    "version": 2
   },
   "file_extension": ".py",
   "mimetype": "text/x-python",
   "name": "python",
   "nbconvert_exporter": "python",
   "pygments_lexer": "ipython2",
   "version": "2.7.6"
  }
 },
 "nbformat": 4,
 "nbformat_minor": 5
}
