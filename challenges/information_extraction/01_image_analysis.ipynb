{
 "cells": [
  {
   "metadata": {},
   "cell_type": "markdown",
   "source": [
    "# 01 - Image Analysis\n",
    "\n",
    "References:\n",
    " - https://python.langchain.com/docs/integrations/llms/ollama/\n",
    "  -\n"
   ],
   "id": "5b31f6dfbd187023"
  },
  {
   "cell_type": "code",
   "id": "initial_id",
   "metadata": {
    "collapsed": true
   },
   "source": "%pip install -q langchain langchain-ollama langchain-chroma ipython",
   "outputs": [],
   "execution_count": null
  },
  {
   "metadata": {},
   "cell_type": "code",
   "source": [
    "from PIL import Image\n",
    "from langchain_ollama import OllamaLLM\n",
    "from langchain_core.messages import HumanMessage\n",
    "from langchain_core.output_parsers import JsonOutputParser\n",
    "from langchain_core.runnables import chain\n",
    "\n",
    "from util import convert_to_base64"
   ],
   "id": "65c1539b187a5d13",
   "outputs": [],
   "execution_count": null
  },
  {
   "metadata": {},
   "cell_type": "code",
   "source": [
    "# Globals\n",
    "# from langchain import globals\n",
    "#globals.set_debug(True)\n",
    "\n",
    "dataset_directory = \"/mnt/network-data/storage/projects/vf/data\"\n",
    "\n",
    "vision_model = \"llama3.2-vision\"\n",
    "ollama_api_endpoint = \"http://jupiter.btech.software:11434\"\n",
    "llm = OllamaLLM(\n",
    "    model=vision_model,\n",
    "    base_url=ollama_api_endpoint,\n",
    "    temperature=0.5,\n",
    "    num_predict=1024\n",
    ")\n",
    "\n",
    "query = \"Describe this image\""
   ],
   "id": "723c3fb6dc68def0",
   "outputs": [],
   "execution_count": null
  },
  {
   "metadata": {},
   "cell_type": "code",
   "source": [
    "image_path = f\"{dataset_directory}/DataStock/NOVA_Apresentação Comercial DataStock-page-11.jpg\"\n",
    "image_b64 = convert_to_base64(Image.open(image_path))\n",
    "response = llm.bind(images=[image_b64]).invoke(query)\n",
    "print(response)"
   ],
   "id": "1e8a2d7ce2b951da",
   "outputs": [],
   "execution_count": null
  },
  {
   "metadata": {},
   "cell_type": "markdown",
   "source": "### Include Response Model",
   "id": "a9b655d02d0b8077"
  },
  {
   "metadata": {},
   "cell_type": "code",
   "source": "from pydantic import BaseModel, Field",
   "id": "cd8fc8338e80186e",
   "outputs": [],
   "execution_count": null
  },
  {
   "metadata": {},
   "cell_type": "code",
   "source": [
    "class ImageInformation(BaseModel):\n",
    "    \"\"\"Information about an image.\"\"\"\n",
    "    image_description: str = Field(description=\"a short description of the image\")\n",
    "    image_description_pt: str = Field(description=\"a short description of the image in portuguese (pt_BR)\")\n",
    "    brands: list[str] = Field(description=\"list of brands on the picture\")\n",
    "    companies: list[str] = Field(description=\"list of companies on the picture\")\n",
    "    sales_guidance: str = Field(\n",
    "        description=\"a business insight on how this information can support sales professionals\")\n",
    "\n",
    "parser = JsonOutputParser(pydantic_object=ImageInformation)"
   ],
   "id": "84908495b576d782",
   "outputs": [],
   "execution_count": null
  },
  {
   "metadata": {},
   "cell_type": "code",
   "source": [
    "prompt = PromptTemplate(\n",
    "    template=\"\"\"\n",
    "\n",
    "    \\n{format_instructions}\\n{query}\\n\n",
    "    \"\"\",\n",
    "    input_variables=[\"query\"],\n",
    "    partial_variables={\"format_instructions\": parser.get_format_instructions()},\n",
    ")\n",
    "\n",
    "vision_chain = prompt | llm.bind(images=[image_b64]) | parser\n",
    "vision_chain.invoke({'query': \"Analyse the image.\"})"
   ],
   "id": "dc28c898391f8549",
   "outputs": [],
   "execution_count": null
  },
  {
   "metadata": {},
   "cell_type": "code",
   "source": "",
   "id": "856d270f7f2e8b9b",
   "outputs": [],
   "execution_count": null
  }
 ],
 "metadata": {
  "kernelspec": {
   "display_name": "Python 3",
   "language": "python",
   "name": "python3"
  },
  "language_info": {
   "codemirror_mode": {
    "name": "ipython",
    "version": 2
   },
   "file_extension": ".py",
   "mimetype": "text/x-python",
   "name": "python",
   "nbconvert_exporter": "python",
   "pygments_lexer": "ipython2",
   "version": "2.7.6"
  }
 },
 "nbformat": 4,
 "nbformat_minor": 5
}
