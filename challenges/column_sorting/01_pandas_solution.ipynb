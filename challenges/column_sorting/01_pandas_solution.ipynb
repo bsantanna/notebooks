{
 "cells": [
  {
   "metadata": {},
   "cell_type": "markdown",
   "source": [
    "# Column Sorting Challenge\n",
    "\n",
    "## Pandas backed solution\n",
    "\n",
    "In this Notebook we are using Pandas to read a CSV file into a Dataframe.\n",
    "After that we pass a list of columns to a LLM which will sort the values in the columns according to the semantic meaning of the values in the columns.\n"
   ],
   "id": "fd9423ea07bbfa7e"
  },
  {
   "cell_type": "code",
   "id": "initial_id",
   "metadata": {
    "collapsed": true,
    "ExecuteTime": {
     "end_time": "2024-07-06T07:09:17.931722Z",
     "start_time": "2024-07-06T07:09:13.163337Z"
    }
   },
   "source": "!pip install -U -q langchain langchain-community openai pandas python-dotenv",
   "outputs": [],
   "execution_count": 2
  },
  {
   "metadata": {},
   "cell_type": "code",
   "outputs": [],
   "execution_count": null,
   "source": "",
   "id": "d77c63d5ce88a47d"
  }
 ],
 "metadata": {
  "kernelspec": {
   "display_name": "Python 3",
   "language": "python",
   "name": "python3"
  },
  "language_info": {
   "codemirror_mode": {
    "name": "ipython",
    "version": 2
   },
   "file_extension": ".py",
   "mimetype": "text/x-python",
   "name": "python",
   "nbconvert_exporter": "python",
   "pygments_lexer": "ipython2",
   "version": "2.7.6"
  }
 },
 "nbformat": 4,
 "nbformat_minor": 5
}
