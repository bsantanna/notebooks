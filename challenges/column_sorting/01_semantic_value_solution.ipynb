{
 "cells": [
  {
   "metadata": {},
   "cell_type": "markdown",
   "source": [
    "# Column Sorting Challenge\n",
    "\n",
    "## Semantic value solution\n",
    "In this Notebook we are mapping the values from origin dataset to target columns based on semantic values.\n",
    "\n",
    "The solution is divided into the following steps:\n",
    "\n",
    "  - Load OPENAI API key from .env file\n",
    "  - Load dataset from remote CSV files into dataframes\n",
    "  - Create a list of target columns for each dataset\n",
    "  - Load gpt-3.5-turbo model as an agent using Langchain\n",
    "  - Define a simple function which maps the values in the rows to the target columns and print the results\n",
    "\n",
    "To execute this notebook, adjust the environment variables in the .env file and run the cells below.\n"
   ],
   "id": "fd9423ea07bbfa7e"
  },
  {
   "cell_type": "code",
   "id": "initial_id",
   "metadata": {
    "collapsed": true,
    "ExecuteTime": {
     "end_time": "2024-07-06T08:16:42.219502Z",
     "start_time": "2024-07-06T08:16:38.874649Z"
    }
   },
   "source": "!pip install -U -q langchain langchain-community langchain-openai langchainhub openai pandas python-dotenv",
   "outputs": [],
   "execution_count": 1
  },
  {
   "metadata": {
    "ExecuteTime": {
     "end_time": "2024-07-06T08:16:47.110111Z",
     "start_time": "2024-07-06T08:16:42.220942Z"
    }
   },
   "cell_type": "code",
   "source": [
    "import pandas as pd\n",
    "from dotenv import load_dotenv\n",
    "from langchain import hub\n",
    "from langchain.agents import AgentExecutor, create_json_chat_agent\n",
    "from langchain_openai import ChatOpenAI"
   ],
   "id": "7ee108cae10e4ed2",
   "outputs": [],
   "execution_count": 2
  },
  {
   "metadata": {
    "ExecuteTime": {
     "end_time": "2024-07-06T08:16:47.621335Z",
     "start_time": "2024-07-06T08:16:47.110796Z"
    }
   },
   "cell_type": "code",
   "source": [
    "load_dotenv('.env')\n",
    "vehicles_df = pd.read_csv('https://raw.githubusercontent.com/bsantanna/notebooks/master/challenges/column_sorting/data/vehicles.csv')\n",
    "animals_df = pd.read_csv('https://raw.githubusercontent.com/bsantanna/notebooks/master/challenges/column_sorting/data/animals.csv')\n",
    "\n",
    "vehicles_target_columns=[\"road\", \"air\", \"water\", \"rails\"]\n",
    "animals_target_columns=[\"mammal\", \"bird\", \"fish\", \"reptile\"] "
   ],
   "id": "d77c63d5ce88a47d",
   "outputs": [],
   "execution_count": 3
  },
  {
   "metadata": {
    "ExecuteTime": {
     "end_time": "2024-07-06T08:16:48.185717Z",
     "start_time": "2024-07-06T08:16:47.622399Z"
    }
   },
   "cell_type": "code",
   "source": [
    "# initializes JSON agent\n",
    "# Reference: https://python.langchain.com/v0.1/docs/modules/agents/agent_types/json_agent/\n",
    "llm = ChatOpenAI(model=\"gpt-3.5-turbo\", temperature=0)\n",
    "prompt = hub.pull(\"hwchase17/react-chat-json\")\n",
    "tools = []\n",
    "agent = create_json_chat_agent(llm, tools, prompt)\n",
    "agent_executor = AgentExecutor(\n",
    "    agent=agent,\n",
    "    tools=tools,\n",
    "    verbose=False,\n",
    "    handle_parsing_errors=True\n",
    ")"
   ],
   "id": "f42099518fb45386",
   "outputs": [],
   "execution_count": 4
  },
  {
   "metadata": {
    "ExecuteTime": {
     "end_time": "2024-07-06T08:16:48.189546Z",
     "start_time": "2024-07-06T08:16:48.187217Z"
    }
   },
   "cell_type": "code",
   "source": [
    "def map_columns(item_df, target_columns):\n",
    "    print(item_df)\n",
    "    print(f\"----\\ntarget columns: {target_columns}\\n----\")\n",
    "    for index, row in item_df.iterrows():\n",
    "        row_string = ','.join(row.to_string(index=False).split('\\n'))\n",
    "        response = agent_executor.invoke({\"input\": f\"Map items from row {row_string} to columns {target_columns}\"})\n",
    "        print(response['output'])"
   ],
   "id": "4f95952c9cef958a",
   "outputs": [],
   "execution_count": 5
  },
  {
   "metadata": {
    "ExecuteTime": {
     "end_time": "2024-07-06T08:16:51.636610Z",
     "start_time": "2024-07-06T08:16:48.190254Z"
    }
   },
   "cell_type": "code",
   "source": "map_columns(vehicles_df, vehicles_target_columns)",
   "id": "e29ef315caa598cb",
   "outputs": [
    {
     "name": "stdout",
     "output_type": "stream",
     "text": [
      "   vehicle_1 vehicle_2 vehicle_3 vehicle_4\n",
      "0        car     train     plane      boat\n",
      "1  submarine       bus     metro    rocket\n",
      "2  mine_cart      ship     truck   bicycle\n",
      "----\n",
      "target columns: ['road', 'air', 'water', 'rails']\n",
      "----\n",
      "car: road, train: rails, plane: air, boat: water\n",
      "submarine: water, bus: road, metro: rails, rocket: air\n",
      "mine_cart: rails, ship: water, truck: road, bicycle: road\n"
     ]
    }
   ],
   "execution_count": 6
  },
  {
   "metadata": {
    "ExecuteTime": {
     "end_time": "2024-07-06T08:17:01.990074Z",
     "start_time": "2024-07-06T08:16:57.720289Z"
    }
   },
   "cell_type": "code",
   "source": "map_columns(animals_df, animals_target_columns)",
   "id": "e35676885fda2fd6",
   "outputs": [
    {
     "name": "stdout",
     "output_type": "stream",
     "text": [
      "   animal_1 animal_2 animal_3   animal_4\n",
      "0     shark      cat   lizard     parrot\n",
      "1  elephant    eagle    whale  crocodile\n",
      "2   penguin   monkey    snake       tuna\n",
      "----\n",
      "target columns: ['mammal', 'bird', 'fish', 'reptile']\n",
      "----\n",
      "shark: fish, cat: mammal, lizard: reptile, parrot: bird\n",
      "elephant: mammal, eagle: bird, whale: fish, crocodile: reptile\n",
      "penguin: bird, monkey: mammal, snake: reptile, tuna: fish\n"
     ]
    }
   ],
   "execution_count": 8
  },
  {
   "metadata": {},
   "cell_type": "markdown",
   "source": [
    "## Conclusion\n",
    "This is a simple example using Pandas and Langchain to map the values in the rows to the target columns.\n",
    "\n",
    "A more elaborate approach would be to use combination of [Langchain CSV toolkit](https://python.langchain.com/v0.1/docs/integrations/toolkits/csv/) and [Langchain Requests Tool](https://python.langchain.com/v0.1/docs/integrations/tools/requests/) to read remote CSV files and map the values to the target columns.\n"
   ],
   "id": "547ecc4f42af78ee"
  },
  {
   "metadata": {
    "ExecuteTime": {
     "end_time": "2024-07-06T08:16:55.308287Z",
     "start_time": "2024-07-06T08:16:55.306091Z"
    }
   },
   "cell_type": "code",
   "source": "",
   "id": "fd5da2dd88f92119",
   "outputs": [],
   "execution_count": 7
  }
 ],
 "metadata": {
  "kernelspec": {
   "display_name": "Python 3",
   "language": "python",
   "name": "python3"
  },
  "language_info": {
   "codemirror_mode": {
    "name": "ipython",
    "version": 2
   },
   "file_extension": ".py",
   "mimetype": "text/x-python",
   "name": "python",
   "nbconvert_exporter": "python",
   "pygments_lexer": "ipython2",
   "version": "2.7.6"
  }
 },
 "nbformat": 4,
 "nbformat_minor": 5
}
