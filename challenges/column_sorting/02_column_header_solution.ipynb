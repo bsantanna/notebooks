{
 "cells": [
  {
   "metadata": {},
   "cell_type": "markdown",
   "source": [
    "# Column Sorting Challenge\n",
    "\n",
    "## Column header solution\n",
    "In this Notebook we are mapping the values from origin dataset to target columns based on column headers names.\n",
    "\n",
    "The solution is divided into the following steps:\n",
    "\n",
    "  - Load OPENAI API key from .env file\n",
    "  - Load dataset from remote CSV using requests.\n",
    "  - Create a list of target columns for each dataset\n",
    "  - Load gpt-3.5-turbo model as an agent using Langchain\n",
    "  - Define a simple function which passes the entire CSV value as raw text with target columns to the LLM model\n",
    "\n",
    "To execute this notebook, adjust the environment variables in the .env file and run the cells below.\n"
   ],
   "id": "2c65b25fd26d30e"
  },
  {
   "cell_type": "code",
   "id": "initial_id",
   "metadata": {
    "collapsed": true,
    "ExecuteTime": {
     "end_time": "2024-07-06T08:55:43.195894Z",
     "start_time": "2024-07-06T08:55:41.587068Z"
    }
   },
   "source": "!pip install -U -q langchain langchain-community langchain-openai langchainhub openai pandas python-dotenv",
   "outputs": [],
   "execution_count": 1
  },
  {
   "metadata": {
    "ExecuteTime": {
     "end_time": "2024-07-06T08:55:45.598458Z",
     "start_time": "2024-07-06T08:55:44.431068Z"
    }
   },
   "cell_type": "code",
   "source": [
    "import requests\n",
    "from dotenv import load_dotenv\n",
    "from langchain import hub\n",
    "from langchain.agents import AgentExecutor, create_json_chat_agent\n",
    "from langchain_openai import ChatOpenAI"
   ],
   "id": "df8efdfe747d2869",
   "outputs": [],
   "execution_count": 2
  },
  {
   "metadata": {
    "ExecuteTime": {
     "end_time": "2024-07-06T08:55:46.236190Z",
     "start_time": "2024-07-06T08:55:46.126369Z"
    }
   },
   "cell_type": "code",
   "source": [
    "load_dotenv('.env')\n",
    "csv_input = requests.request(\n",
    "    'GET',\n",
    "    'https://raw.githubusercontent.com/bsantanna/notebooks/master/challenges/column_sorting/data/cadastro.csv'\n",
    ").text\n",
    "target_columns = \"nome,localizacao,cpf_cnpj\""
   ],
   "id": "fe8e4eb8c272b88c",
   "outputs": [],
   "execution_count": 3
  },
  {
   "metadata": {
    "ExecuteTime": {
     "end_time": "2024-07-06T08:55:47.639651Z",
     "start_time": "2024-07-06T08:55:47.194948Z"
    }
   },
   "cell_type": "code",
   "source": [
    "# initializes JSON agent\n",
    "# Reference: https://python.langchain.com/v0.1/docs/modules/agents/agent_types/json_agent/\n",
    "llm = ChatOpenAI(model=\"gpt-3.5-turbo\", temperature=0)\n",
    "prompt = hub.pull(\"hwchase17/react-chat-json\")\n",
    "tools = []\n",
    "agent = create_json_chat_agent(llm, tools, prompt)\n",
    "agent_executor = AgentExecutor(\n",
    "    agent=agent,\n",
    "    tools=tools,\n",
    "    verbose=False,\n",
    "    handle_parsing_errors=True\n",
    ")"
   ],
   "id": "63fdb87d90f23ca8",
   "outputs": [],
   "execution_count": 4
  },
  {
   "metadata": {
    "ExecuteTime": {
     "end_time": "2024-07-06T08:55:51.270273Z",
     "start_time": "2024-07-06T08:55:49.101853Z"
    }
   },
   "cell_type": "code",
   "source": [
    "prompt = f\"\"\"\n",
    "Your task is to read a CSV_INPUT and a TARGET_COLUMNS list and return an output containing adjusted values into proper columns.\n",
    "\n",
    "CSV_INPUT:{csv_input}\n",
    "\n",
    "TARGET_COLUMNS:{target_columns}\n",
    "\n",
    "\"\"\"\n",
    "response = agent_executor.invoke({\"input\": prompt})"
   ],
   "id": "e3f62d2864aeb94f",
   "outputs": [],
   "execution_count": 5
  },
  {
   "metadata": {
    "ExecuteTime": {
     "end_time": "2024-07-06T08:56:00.733549Z",
     "start_time": "2024-07-06T08:56:00.730538Z"
    }
   },
   "cell_type": "code",
   "source": "print(response[\"output\"])",
   "id": "32d45855b9ff9f9b",
   "outputs": [
    {
     "name": "stdout",
     "output_type": "stream",
     "text": [
      "The output with adjusted values into proper columns based on the provided CSV_INPUT and TARGET_COLUMNS is as follows:\n",
      "\n",
      "| nome                        | localizacao | cpf_cnpj        |\n",
      "|-----------------------------|-------------|-----------------|\n",
      "| Jorge Esteves               | São Paulo   | 608.243.480-36  |\n",
      "| Maria da Silva              | Rio Janeiro | 20325634017     |\n",
      "| Associação de Moradores da Vila X | São Paulo   | 17.084.064/0001-10 |\n"
     ]
    }
   ],
   "execution_count": 6
  },
  {
   "metadata": {},
   "cell_type": "code",
   "outputs": [],
   "execution_count": null,
   "source": "",
   "id": "7a480f65c81f6618"
  }
 ],
 "metadata": {
  "kernelspec": {
   "display_name": "Python 3",
   "language": "python",
   "name": "python3"
  },
  "language_info": {
   "codemirror_mode": {
    "name": "ipython",
    "version": 2
   },
   "file_extension": ".py",
   "mimetype": "text/x-python",
   "name": "python",
   "nbconvert_exporter": "python",
   "pygments_lexer": "ipython2",
   "version": "2.7.6"
  }
 },
 "nbformat": 4,
 "nbformat_minor": 5
}
