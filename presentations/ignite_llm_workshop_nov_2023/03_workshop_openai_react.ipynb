{
 "cells": [
  {
   "cell_type": "markdown",
   "source": [
    "# LLM Workshop\n",
    "## OpenAI ChatGPT ReACT\n",
    "\n",
    "In this Demo we are going to show how to use the ReACT agent to answer questions about a rock band.\n",
    "\n",
    "Goal of this code is to showcase use case of [Intelligent Agents](https://python.langchain.com/docs/modules/agents/) capable of reading DuckDuckGo search results to properly answer questions about different topics.\n",
    "\n",
    "Python code bellow makes use of the following software:\n",
    " - [langchain](https://www.langchain.com) - a library for building language chains\n",
    " - [OpenAI ChatGPT](https://platform.openai.com/docs/introduction) - a language model API\n",
    " - [DuckDuckGo](https://www.duckduckgo.com) - a search engine \n",
    "\n",
    "The agent is a implementation makes use of the [ReAct Prompting](https://react-lm.github.io) algorithm. A ReAct prompt consists of few-shot task-solving trajectories, with human-written text reasoning traces and actions, as well as environment observations in response to actions. \n",
    "\n",
    "This notebook is also available at [Google Colab](https://colab.research.google.com/drive/1IivBK3VFz3NkXxWbr1AdMKbZEBB47083?usp=sharing)\n"
   ],
   "metadata": {
    "collapsed": false
   },
   "id": "4f1e789ec49b412b"
  },
  {
   "cell_type": "markdown",
   "source": [
    "---\n",
    "### Dependencies Installation\n",
    "\n",
    "Make sure required dependencies are installed\n"
   ],
   "metadata": {
    "collapsed": false
   },
   "id": "b904c65b0a575ec1"
  },
  {
   "cell_type": "code",
   "execution_count": null,
   "outputs": [],
   "source": [
    "!pip install --quiet --upgrade langchain openai duckduckgo-search"
   ],
   "metadata": {
    "collapsed": false
   },
   "id": "4926a6c3e67ee8d0"
  },
  {
   "cell_type": "markdown",
   "source": [
    "---\n",
    "### Import Dependencies"
   ],
   "metadata": {
    "collapsed": false
   },
   "id": "7e7b488a82c99138"
  },
  {
   "cell_type": "code",
   "execution_count": null,
   "outputs": [],
   "source": [
    "import langchain\n",
    "from langchain.agents import load_tools, initialize_agent, AgentType\n",
    "from langchain.chat_models import ChatOpenAI"
   ],
   "metadata": {
    "collapsed": false
   },
   "id": "1a86ea1e7ddb15f7"
  },
  {
   "cell_type": "markdown",
   "source": [
    "---\n",
    "### Utility functions\n",
    "\n",
    "The following code part contains global functions to make the ReACT work."
   ],
   "metadata": {
    "collapsed": false
   },
   "id": "76d3ccfd23cfc816"
  },
  {
   "cell_type": "code",
   "execution_count": null,
   "outputs": [],
   "source": [
    "def get_llm():\n",
    "    return ChatOpenAI(\n",
    "        openai_api_key=\"?\",\n",
    "        temperature=0.0\n",
    "    )\n",
    "\n",
    "\n",
    "def get_agent(llm):\n",
    "    tools = load_tools([\"ddg-search\"], llm=llm)\n",
    "    return initialize_agent(\n",
    "        tools,\n",
    "        llm,\n",
    "        agent=AgentType.CHAT_ZERO_SHOT_REACT_DESCRIPTION,\n",
    "        handle_parsing_errors=True\n",
    "    )"
   ],
   "metadata": {
    "collapsed": false
   },
   "id": "b2dc5fad74b024bc"
  },
  {
   "cell_type": "markdown",
   "source": [
    "---\n",
    "### Initialize ReACT Agent \n",
    "\n",
    "The following code block initiates a ReACT Agent"
   ],
   "metadata": {
    "collapsed": false
   },
   "id": "64ec149fac296e61"
  },
  {
   "cell_type": "code",
   "execution_count": null,
   "outputs": [],
   "source": [
    "model = get_llm()\n",
    "agent = get_agent(model)"
   ],
   "metadata": {
    "collapsed": false
   },
   "id": "f5d3214f825ca78f"
  },
  {
   "cell_type": "markdown",
   "source": [
    "---\n",
    "### Start QA session"
   ],
   "metadata": {
    "collapsed": false
   },
   "id": "817c020cbac11b19"
  },
  {
   "cell_type": "code",
   "execution_count": null,
   "outputs": [],
   "source": [
    "#langchain.debug = True\n",
    "\n",
    "reply = agent(\"\"\"\n",
    "Which date the Las Vegas F1 Grand Prix occurred? \n",
    "Which driver and team won during that time?\n",
    "Who were second and third places?\n",
    "\"\"\")\n",
    "\n",
    "#langchain.debug = False\n",
    "\n",
    "print(reply['output'])"
   ],
   "metadata": {
    "collapsed": false
   },
   "id": "87e20e24facbbb75"
  },
  {
   "cell_type": "code",
   "execution_count": null,
   "outputs": [],
   "source": [],
   "metadata": {
    "collapsed": false
   },
   "id": "70c856d61b1d7512"
  }
 ],
 "metadata": {
  "kernelspec": {
   "display_name": "Python 3",
   "language": "python",
   "name": "python3"
  },
  "language_info": {
   "codemirror_mode": {
    "name": "ipython",
    "version": 2
   },
   "file_extension": ".py",
   "mimetype": "text/x-python",
   "name": "python",
   "nbconvert_exporter": "python",
   "pygments_lexer": "ipython2",
   "version": "2.7.6"
  }
 },
 "nbformat": 4,
 "nbformat_minor": 5
}
