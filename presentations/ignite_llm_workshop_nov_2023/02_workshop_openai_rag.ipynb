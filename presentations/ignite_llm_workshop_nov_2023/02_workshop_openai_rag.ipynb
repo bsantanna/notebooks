{
 "cells": [
  {
   "cell_type": "markdown",
   "source": [
    "# LLM Workshop\n",
    "## OpenAI ChatGPT RAG\n",
    "\n",
    "In this Notebook we are going to use ChatGPT API in combination with prompt engineering practices to implement [RAG](https://www.promptingguide.ai/techniques/rag) - Retrieval Augmented Generation \n",
    "\n",
    "Python code bellow makes use of the following software:\n",
    " - [OpenAI ChatGPT](https://platform.openai.com/docs/introduction) - a language model API\n",
    " - [LangChain](https://langchain.com) - a prompt engineering framework \n",
    "\n",
    "This notebook is also available at [Google Colab](https://colab.research.google.com/drive/11IHyhLtHb6KkXI9JjIRQA5fCjzPSE4F5?usp=sharing)"
   ],
   "metadata": {
    "collapsed": false
   },
   "id": "1cb6a29ad02ba565"
  },
  {
   "cell_type": "markdown",
   "source": [
    "---\n",
    "### Dependencies Installation\n",
    "\n",
    "Make sure required dependencies are installed"
   ],
   "metadata": {
    "collapsed": false
   },
   "id": "cc85990aea079070"
  },
  {
   "cell_type": "code",
   "execution_count": null,
   "outputs": [],
   "source": [
    "!pip install --quiet --upgrade langchain openai docarray tiktoken"
   ],
   "metadata": {
    "collapsed": false
   },
   "id": "5073d989c6cec766"
  },
  {
   "cell_type": "markdown",
   "source": [
    "---\n",
    "### Import Dependencies"
   ],
   "metadata": {
    "collapsed": false
   },
   "id": "6815f9565170a94"
  },
  {
   "cell_type": "code",
   "execution_count": null,
   "outputs": [],
   "source": [
    "import pandas as pd\n",
    "from langchain.chains import RetrievalQA\n",
    "from langchain.chat_models import ChatOpenAI\n",
    "from langchain.document_loaders import CSVLoader\n",
    "from langchain.embeddings import OpenAIEmbeddings\n",
    "from langchain.vectorstores import DocArrayInMemorySearch\n",
    "from IPython.display import display, Markdown"
   ],
   "metadata": {
    "collapsed": false
   },
   "id": "7aae1eb845021ef5"
  },
  {
   "cell_type": "markdown",
   "source": [
    "---\n",
    "### Load and inspect CSV dataset"
   ],
   "metadata": {
    "collapsed": false
   },
   "id": "d15e1f5d01b017f"
  },
  {
   "cell_type": "code",
   "execution_count": null,
   "outputs": [],
   "source": [
    "df = pd.read_csv('dataset/wine_10.csv')\n",
    "df.head(10)"
   ],
   "metadata": {
    "collapsed": false
   },
   "id": "5d677a733e868e8a"
  },
  {
   "cell_type": "markdown",
   "source": [
    "---\n",
    "### Utility functions\n",
    "\n",
    "The following code part contains global functions to make the RAG work."
   ],
   "metadata": {
    "collapsed": false
   },
   "id": "66314374201b2ca3"
  },
  {
   "cell_type": "code",
   "execution_count": null,
   "outputs": [],
   "source": [
    "def get_api_key():\n",
    "    return \"?\"\n",
    "\n",
    "\n",
    "def get_llm(openai_api_key):\n",
    "    return ChatOpenAI(\n",
    "        openai_api_key=openai_api_key,\n",
    "        temperature=0.0\n",
    "    )\n",
    "\n",
    "\n",
    "def get_csv_loader():\n",
    "    return CSVLoader(file_path='dataset/wine_10.csv')\n",
    "\n",
    "\n",
    "def get_embedding_model(openai_api_key):\n",
    "    return OpenAIEmbeddings(\n",
    "        openai_api_key=openai_api_key\n",
    "    )\n",
    "\n",
    "\n",
    "def get_document_retriever(embedding_model, document_loader):\n",
    "    docs = document_loader.load()\n",
    "    index_db = DocArrayInMemorySearch.from_documents(\n",
    "        docs,\n",
    "        embedding_model\n",
    "    )\n",
    "    return index_db.as_retriever()\n",
    "\n",
    "\n",
    "def get_retrieval_qa_chain(llm_model, document_retriever):\n",
    "    return RetrievalQA.from_chain_type(\n",
    "        llm=llm_model,\n",
    "        chain_type=\"stuff\",\n",
    "        retriever=document_retriever,\n",
    "        verbose=False\n",
    "    )\n"
   ],
   "metadata": {
    "collapsed": false
   },
   "id": "b3bd5e3cac2e36d"
  },
  {
   "cell_type": "markdown",
   "source": [
    "---\n",
    "### Initialize RAG QA \n",
    "\n",
    "The following code block initiates a Question Answer conversation with RAG."
   ],
   "metadata": {
    "collapsed": false
   },
   "id": "84d41c13e8af4dad"
  },
  {
   "cell_type": "code",
   "execution_count": null,
   "outputs": [],
   "source": [
    "api_key = get_api_key()\n",
    "llm = get_llm(api_key)\n",
    "embeddings = get_embedding_model(api_key)\n",
    "csv_loader = get_csv_loader()\n",
    "document_retriever = get_document_retriever(embeddings, csv_loader)\n",
    "rag_qa_chain = get_retrieval_qa_chain(llm, document_retriever)"
   ],
   "metadata": {
    "collapsed": false
   },
   "id": "c09737a2054e05d9"
  },
  {
   "cell_type": "markdown",
   "source": [
    "---\n",
    "### Start QA session"
   ],
   "metadata": {
    "collapsed": false
   },
   "id": "22d2934bed8d878a"
  },
  {
   "cell_type": "code",
   "execution_count": null,
   "outputs": [],
   "source": [
    "reply = rag_qa_chain.run(\"\"\"\n",
    "Suggest at most 3 wines that pair well with seafood, format result as a table in markdown with columns; country, title, description, variety, remark (your own remark why it goes well with seafood).\n",
    "\"\"\")\n",
    "display(Markdown(reply))"
   ],
   "metadata": {
    "collapsed": false
   },
   "id": "82f9365ab9c4646e"
  },
  {
   "cell_type": "code",
   "execution_count": null,
   "outputs": [],
   "source": [
    "reply = rag_qa_chain.run(\"\"\"\n",
    "Suggest me 3 foods that complement well Portuguese wine from the list, format result as a table in markdown with columns;\n",
    " dish_name, remark (your own remark why it goes well with suggested food), how_to_prepare (at most two sentences).\n",
    "\"\"\")\n",
    "display(Markdown(reply))"
   ],
   "metadata": {
    "collapsed": false
   },
   "id": "d27de0543f345fd0"
  }
 ],
 "metadata": {
  "kernelspec": {
   "display_name": "Python 3",
   "language": "python",
   "name": "python3"
  },
  "language_info": {
   "codemirror_mode": {
    "name": "ipython",
    "version": 2
   },
   "file_extension": ".py",
   "mimetype": "text/x-python",
   "name": "python",
   "nbconvert_exporter": "python",
   "pygments_lexer": "ipython2",
   "version": "2.7.6"
  }
 },
 "nbformat": 4,
 "nbformat_minor": 5
}
