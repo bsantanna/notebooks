{
 "cells": [
  {
   "cell_type": "markdown",
   "id": "2d19b05ed7276239",
   "metadata": {
    "collapsed": false
   },
   "source": [
    "# Workshop, OpenAI ChatGPT Pizza Bot\n",
    "\n",
    "In this Notebook we are going to use ChatGPT API in combination with prompt engineering practices to implement a Pizza Bot. \n",
    "\n",
    "Python code bellow makes use of the following software:\n",
    " - [OpenAI ChatGPT](https://platform.openai.com/docs/introduction) - a language model API\n",
    "\n",
    "\n",
    "This notebook is also available at [Google Colab](https://colab.research.google.com/drive/1paQ83zH40MLLVu96sRfKwbPTrbYZzeWK?usp=sharing)\n",
    " "
   ]
  },
  {
   "cell_type": "markdown",
   "id": "b0f3c1e37e7ee69",
   "metadata": {
    "collapsed": false
   },
   "source": [
    "---\n",
    "### Dependencies Installation\n",
    "\n",
    "Make sure required dependencies are installed"
   ]
  },
  {
   "cell_type": "code",
   "execution_count": null,
   "id": "a8751fdbecc3d510",
   "metadata": {
    "collapsed": false
   },
   "outputs": [],
   "source": [
    "!pip install -q -U openai panel"
   ]
  },
  {
   "cell_type": "code",
   "execution_count": null,
   "id": "2e8cdfecebb5337",
   "metadata": {
    "collapsed": false
   },
   "outputs": [],
   "source": [
    "import openai\n",
    "import panel as pn\n",
    "\n",
    "pn.extension()\n"
   ]
  },
  {
   "cell_type": "code",
   "execution_count": null,
   "id": "d0370b2a972f843a",
   "metadata": {
    "collapsed": false
   },
   "outputs": [],
   "source": [
    "# Globals\n",
    "openai.api_key = \"?\"\n",
    "inp = pn.widgets.TextInput(value=\"Hello\", placeholder='Enter input text here...')\n",
    "panels = []\n",
    "context = [{'role': 'system', 'content': \"\"\"\n",
    "You are PizzaBot, an automated service to collect orders for a pizza restaurant.\n",
    "\n",
    "You first greet the customer, then collects the order, and then asks if it's a \n",
    "pickup or delivery.\n",
    "\n",
    "You wait to collect the entire order, then summarize it and check for a final \n",
    "time if the customer wants to add anything else.\n",
    "\n",
    "If it's a delivery, you ask for an address. Finally you collect the payment.\n",
    "\n",
    "Make sure to clarify all options, extras and sizes to uniquely identify the \n",
    "item from the menu.\n",
    "\n",
    "You respond in a short, very conversational friendly style. \n",
    "\n",
    "The menu includes \n",
    "Rabo Pepperoni Pizza  12.95, 10.00, 7.00 \n",
    "Rabo Cheese pizza   10.95, 9.25, 6.50 \n",
    "Rabo Eggplant pizza   11.95, 9.75, 6.75 \n",
    "Toppings: \n",
    "Extra cheese 2.00, \n",
    "Mushrooms 1.50 \n",
    "Veggie bacon 3.50 \n",
    "Drinks: \n",
    "Water 3.00, 2.00, 1.00 \n",
    "Tea 3.00, 2.00, 1.00 \n",
    "Coffe 5.00 \n",
    "\"\"\"}]\n"
   ]
  },
  {
   "cell_type": "markdown",
   "id": "f427901fc4cc39f1",
   "metadata": {
    "collapsed": false
   },
   "source": [
    "### Define utility functions"
   ]
  },
  {
   "cell_type": "code",
   "execution_count": null,
   "id": "e9ad78c6ace224af",
   "metadata": {
    "collapsed": false
   },
   "outputs": [],
   "source": [
    "def get_completion(prompt, model=\"gpt-3.5-turbo\"):\n",
    "    messages = [{\"role\": \"user\", \"content\": prompt}]\n",
    "    response = openai.ChatCompletion.create(\n",
    "        model=model,\n",
    "        messages=messages,\n",
    "        temperature=0,  # this is the degree of randomness of the model's output\n",
    "    )\n",
    "    return response.choices[0].message[\"content\"]\n",
    "\n",
    "\n",
    "def get_completion_from_messages(messages, model=\"gpt-3.5-turbo\", temperature=0):\n",
    "    response = openai.ChatCompletion.create(\n",
    "        model=model,\n",
    "        messages=messages,\n",
    "        temperature=temperature,  # this is the degree of randomness of the model's output\n",
    "    )\n",
    "    return response.choices[0].message[\"content\"]\n",
    "\n",
    "\n",
    "def collect_messages(_):\n",
    "    prompt = inp.value_input\n",
    "    inp.value = ''\n",
    "    context.append({'role': 'user', 'content': f\"{prompt}\"})\n",
    "    response = get_completion_from_messages(context)\n",
    "    context.append({'role': 'assistant', 'content': f\"{response}\"})\n",
    "    panels.append(\n",
    "        pn.Row('User:', pn.pane.Markdown(prompt, width=600)))\n",
    "    panels.append(\n",
    "        pn.Row('Assistant:', pn.pane.Markdown(response, width=600)))\n",
    "\n",
    "    return pn.Column(*panels)\n"
   ]
  },
  {
   "cell_type": "markdown",
   "id": "5b2b3c51-3122-4eb6-bc98-3e9b89d7bcf7",
   "metadata": {},
   "source": [
    "### Define Input Components for the demo"
   ]
  },
  {
   "cell_type": "code",
   "execution_count": null,
   "id": "d175f2be19eb0223",
   "metadata": {
    "collapsed": false
   },
   "outputs": [],
   "source": [
    "button_conversation = pn.widgets.Button(name=\"Send\")\n",
    "\n",
    "interactive_conversation = pn.bind(collect_messages, button_conversation)\n",
    "\n",
    "dashboard = pn.Column(\n",
    "    inp,\n",
    "    pn.Row(button_conversation),\n",
    "    pn.panel(interactive_conversation, loading_indicator=True, height=300),\n",
    ")\n",
    "dashboard"
   ]
  },
  {
   "cell_type": "code",
   "execution_count": null,
   "id": "7bb11ea28f7cb362",
   "metadata": {
    "collapsed": false
   },
   "outputs": [],
   "source": [
    "messages = context.copy()\n",
    "messages.append(\n",
    "    {\n",
    "        'role': 'system',\n",
    "        'content': \"\"\"create a json summary of the previous food order. Itemize the price for each item\n",
    "         The fields should be \n",
    "         1) pizza, include size \n",
    "         2) list of toppings \n",
    "         3) list of drinks, include size   \n",
    "         4) list of sides include size  \n",
    "         5)total price\"\"\"\n",
    "    },\n",
    ")\n",
    "\n",
    "response = get_completion_from_messages(messages, temperature=0)\n",
    "print(response)"
   ]
  },
  {
   "cell_type": "code",
   "execution_count": null,
   "id": "480b6ff213fc9e28",
   "metadata": {
    "collapsed": false
   },
   "outputs": [],
   "source": [
    "print(context)"
   ]
  },
  {
   "cell_type": "code",
   "execution_count": null,
   "id": "319e20c1-c081-4098-8265-bd39e2752ade",
   "metadata": {},
   "outputs": [],
   "source": []
  }
 ],
 "metadata": {
  "kernelspec": {
   "display_name": "Python 3 (ipykernel)",
   "language": "python",
   "name": "python3"
  },
  "language_info": {
   "codemirror_mode": {
    "name": "ipython",
    "version": 3
   },
   "file_extension": ".py",
   "mimetype": "text/x-python",
   "name": "python",
   "nbconvert_exporter": "python",
   "pygments_lexer": "ipython3",
   "version": "3.11.4"
  }
 },
 "nbformat": 4,
 "nbformat_minor": 5
}
