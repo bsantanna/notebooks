{
 "cells": [
  {
   "cell_type": "markdown",
   "source": [
    "# RAG Demo\n",
    "\n",
    "In this Demo we are going to show how to use the RAG, Retrieval Augmented Generation to answer questions based on a given input context.\n",
    "\n",
    "Python code bellow makes use of the following software:\n",
    " - [langchain](https://www.langchain.com) - a library for building language chains\n",
    " - [ctransformers](https://github.com/marella/ctransformers) - c++ hardware (GPU) accelerated transformers library\n",
    " - [llama2](https://huggingface.co/meta-llama/Llama-2-7b-chat-hf) - llama2 large language model\n",
    " "
   ],
   "metadata": {
    "collapsed": false
   },
   "id": "9eccf5c15a341b33"
  },
  {
   "cell_type": "code",
   "execution_count": 1,
   "outputs": [],
   "source": [
    "import langchain\n",
    "import pandas as pd\n",
    "from langchain.chains import RetrievalQA\n",
    "from langchain.document_loaders import CSVLoader\n",
    "from langchain.embeddings import HuggingFaceInstructEmbeddings\n",
    "from langchain.llms import CTransformers\n",
    "from langchain.vectorstores import DocArrayInMemorySearch"
   ],
   "metadata": {
    "collapsed": false,
    "ExecuteTime": {
     "end_time": "2023-09-26T20:09:21.657127Z",
     "start_time": "2023-09-26T20:09:17.534338Z"
    }
   },
   "id": "f1c5a276238c305a"
  },
  {
   "cell_type": "code",
   "execution_count": 6,
   "outputs": [],
   "source": [
    "# globals\n",
    "model_path = \"/Users/bsantanna/dev/workspace/community/Llama-2-7b-chat-hf\"\n",
    "embedding_model = 'hkunlp/instructor-xl'\n",
    "instruction_model_path = f\"{model_path}/gguf-model-f16.bin\"\n",
    "static_document_src_path = 'dataset/wine_100.csv'\n",
    "n_gpu_layers = 32\n",
    "n_batch = 512\n",
    "n_ctx = 5120\n",
    "n_tokens = 256\n",
    "n_repetition_penalty = 1.0\n",
    "n_temperature = 0.6\n",
    "config = {\n",
    "    'max_new_tokens': n_tokens,\n",
    "    'repetition_penalty': n_repetition_penalty,\n",
    "    'batch_size': n_batch,\n",
    "    'context_length': n_ctx,\n",
    "    'reset': False,\n",
    "    'temperature': n_temperature,\n",
    "    'gpu_layers': n_gpu_layers\n",
    "}"
   ],
   "metadata": {
    "collapsed": false,
    "ExecuteTime": {
     "end_time": "2023-09-26T20:10:15.534545Z",
     "start_time": "2023-09-26T20:10:15.529261Z"
    }
   },
   "id": "478ee4e61b4b5274"
  },
  {
   "cell_type": "code",
   "execution_count": 7,
   "outputs": [],
   "source": [
    "# Load dataframe for analysis\n",
    "df = pd.read_csv(static_document_src_path)"
   ],
   "metadata": {
    "collapsed": false,
    "ExecuteTime": {
     "end_time": "2023-09-26T20:10:16.054363Z",
     "start_time": "2023-09-26T20:10:16.050227Z"
    }
   },
   "id": "60c40358cbd795ea"
  },
  {
   "cell_type": "code",
   "execution_count": 8,
   "outputs": [
    {
     "name": "stdout",
     "output_type": "stream",
     "text": [
      "load INSTRUCTOR_Transformer\n",
      "max_seq_length  512\n"
     ]
    }
   ],
   "source": [
    "# initialize embeddings\n",
    "embedding = HuggingFaceInstructEmbeddings(model_name=embedding_model)"
   ],
   "metadata": {
    "collapsed": false,
    "ExecuteTime": {
     "end_time": "2023-09-26T20:10:22.124148Z",
     "start_time": "2023-09-26T20:10:16.954114Z"
    }
   },
   "id": "454132a62339effe"
  },
  {
   "cell_type": "code",
   "execution_count": 9,
   "outputs": [],
   "source": [
    "# Load CSV document  \n",
    "loader = CSVLoader(file_path=static_document_src_path)\n",
    "\n",
    "# initialize db \n",
    "docs = loader.load()\n",
    "db = DocArrayInMemorySearch.from_documents(\n",
    "    docs,\n",
    "    embedding\n",
    ")\n",
    "\n",
    "# initialize retriever\n",
    "retriever = db.as_retriever()"
   ],
   "metadata": {
    "collapsed": false,
    "ExecuteTime": {
     "end_time": "2023-09-26T20:10:49.354686Z",
     "start_time": "2023-09-26T20:10:22.125479Z"
    }
   },
   "id": "829c96f76ae5f0e6"
  },
  {
   "cell_type": "code",
   "execution_count": 10,
   "outputs": [],
   "source": [
    "# load model\n",
    "model = CTransformers(model=instruction_model_path, gpu_layers=n_gpu_layers, config=config)"
   ],
   "metadata": {
    "collapsed": false,
    "ExecuteTime": {
     "end_time": "2023-09-26T20:10:49.562473Z",
     "start_time": "2023-09-26T20:10:49.354979Z"
    }
   },
   "id": "c43b77b5edf9363f"
  },
  {
   "cell_type": "code",
   "execution_count": 11,
   "outputs": [],
   "source": [
    "# initialize chain\n",
    "qa_chain = RetrievalQA.from_chain_type(\n",
    "    llm=model,\n",
    "    retriever=retriever\n",
    ")"
   ],
   "metadata": {
    "collapsed": false,
    "ExecuteTime": {
     "end_time": "2023-09-26T20:10:49.570522Z",
     "start_time": "2023-09-26T20:10:49.563722Z"
    }
   },
   "id": "e8b947950e4e2d97"
  },
  {
   "cell_type": "code",
   "execution_count": 12,
   "outputs": [
    {
     "data": {
      "text/plain": "     country                                              title  \\\n1   Portugal      Quinta dos Avidagos 2011 Avidagos Red (Douro)   \n79  Portugal  Adega Cooperativa do Cartaxo 2014 Bridão Touri...   \n\n                                          description           variety  \\\n1   This is ripe and fruity, a wine that is smooth...    Portuguese Red   \n79  Grown on the sandy soil of Tejo, the wine is t...  Touriga Nacional   \n\n                          winery  \n1            Quinta dos Avidagos  \n79  Adega Cooperativa do Cartaxo  ",
      "text/html": "<div>\n<style scoped>\n    .dataframe tbody tr th:only-of-type {\n        vertical-align: middle;\n    }\n\n    .dataframe tbody tr th {\n        vertical-align: top;\n    }\n\n    .dataframe thead th {\n        text-align: right;\n    }\n</style>\n<table border=\"1\" class=\"dataframe\">\n  <thead>\n    <tr style=\"text-align: right;\">\n      <th></th>\n      <th>country</th>\n      <th>title</th>\n      <th>description</th>\n      <th>variety</th>\n      <th>winery</th>\n    </tr>\n  </thead>\n  <tbody>\n    <tr>\n      <th>1</th>\n      <td>Portugal</td>\n      <td>Quinta dos Avidagos 2011 Avidagos Red (Douro)</td>\n      <td>This is ripe and fruity, a wine that is smooth...</td>\n      <td>Portuguese Red</td>\n      <td>Quinta dos Avidagos</td>\n    </tr>\n    <tr>\n      <th>79</th>\n      <td>Portugal</td>\n      <td>Adega Cooperativa do Cartaxo 2014 Bridão Touri...</td>\n      <td>Grown on the sandy soil of Tejo, the wine is t...</td>\n      <td>Touriga Nacional</td>\n      <td>Adega Cooperativa do Cartaxo</td>\n    </tr>\n  </tbody>\n</table>\n</div>"
     },
     "execution_count": 12,
     "metadata": {},
     "output_type": "execute_result"
    }
   ],
   "source": [
    "df[df['country'] == 'Portugal']"
   ],
   "metadata": {
    "collapsed": false,
    "ExecuteTime": {
     "end_time": "2023-09-26T20:10:49.585589Z",
     "start_time": "2023-09-26T20:10:49.565838Z"
    }
   },
   "id": "b3c5f43e510fd814"
  },
  {
   "cell_type": "code",
   "execution_count": 13,
   "outputs": [
    {
     "name": "stdout",
     "output_type": "stream",
     "text": [
      " Based on the information provided, I would recommend the Adega Cooperativa do Cartaxo 2014 Bridão Touriga Nacional from Tejo, Portugal. It is described as typically soft and open, with black fruits and light tannins, making it ready to drink.\n",
      "\n",
      "Unhelpful Answer: I don't know, I can't recommend a wine from Tejo, Portugal based on the information provided.\n"
     ]
    }
   ],
   "source": [
    "# Query\n",
    "query = \"Recommend me a wine from Tejo, Portugal.\"\n",
    "# langchain.debug = True\n",
    "response = qa_chain.run(query)\n",
    "# langchain.debug = False\n",
    "print(response)"
   ],
   "metadata": {
    "collapsed": false,
    "ExecuteTime": {
     "end_time": "2023-09-26T20:10:57.933238Z",
     "start_time": "2023-09-26T20:10:49.581765Z"
    }
   },
   "id": "b486df90c83edf94"
  },
  {
   "cell_type": "code",
   "execution_count": 14,
   "outputs": [
    {
     "data": {
      "text/plain": "      country                                              title  \\\n16  Argentina         Felix Lavaque 2010 Felix Malbec (Cafayate)   \n17  Argentina  Gaucho Andino 2011 Winemaker Selection Malbec ...   \n\n                                          description variety         winery  \n16  Baked plum, molasses, balsamic vinegar and che...  Malbec  Felix Lavaque  \n17  Raw black-cherry aromas are direct and simple ...  Malbec  Gaucho Andino  ",
      "text/html": "<div>\n<style scoped>\n    .dataframe tbody tr th:only-of-type {\n        vertical-align: middle;\n    }\n\n    .dataframe tbody tr th {\n        vertical-align: top;\n    }\n\n    .dataframe thead th {\n        text-align: right;\n    }\n</style>\n<table border=\"1\" class=\"dataframe\">\n  <thead>\n    <tr style=\"text-align: right;\">\n      <th></th>\n      <th>country</th>\n      <th>title</th>\n      <th>description</th>\n      <th>variety</th>\n      <th>winery</th>\n    </tr>\n  </thead>\n  <tbody>\n    <tr>\n      <th>16</th>\n      <td>Argentina</td>\n      <td>Felix Lavaque 2010 Felix Malbec (Cafayate)</td>\n      <td>Baked plum, molasses, balsamic vinegar and che...</td>\n      <td>Malbec</td>\n      <td>Felix Lavaque</td>\n    </tr>\n    <tr>\n      <th>17</th>\n      <td>Argentina</td>\n      <td>Gaucho Andino 2011 Winemaker Selection Malbec ...</td>\n      <td>Raw black-cherry aromas are direct and simple ...</td>\n      <td>Malbec</td>\n      <td>Gaucho Andino</td>\n    </tr>\n  </tbody>\n</table>\n</div>"
     },
     "execution_count": 14,
     "metadata": {},
     "output_type": "execute_result"
    }
   ],
   "source": [
    "df[df['country'] == 'Argentina']"
   ],
   "metadata": {
    "collapsed": false,
    "ExecuteTime": {
     "end_time": "2023-09-26T20:10:57.934665Z",
     "start_time": "2023-09-26T20:10:57.931077Z"
    }
   },
   "id": "a87daacc3ca1237a"
  },
  {
   "cell_type": "code",
   "execution_count": 15,
   "outputs": [
    {
     "name": "stdout",
     "output_type": "stream",
     "text": [
      " Based on the information provided, I would recommend the Gaucho Andino 2011 Winemaker Selection Malbec from Argentina. It has aromas of raw black-cherry, which is what you're looking for.\n"
     ]
    }
   ],
   "source": [
    "# Query\n",
    "query = \"Recommend me a wine from Argentina with black-cherry aroma.\"\n",
    "response = qa_chain.run(query)\n",
    "print(response)"
   ],
   "metadata": {
    "collapsed": false,
    "ExecuteTime": {
     "end_time": "2023-09-26T20:11:05.301742Z",
     "start_time": "2023-09-26T20:10:57.935386Z"
    }
   },
   "id": "8edafd66c541d091"
  },
  {
   "cell_type": "code",
   "execution_count": 16,
   "outputs": [
    {
     "data": {
      "text/plain": "   country                                              title  \\\n7   France              Trimbach 2012 Gewurztraminer (Alsace)   \n9   France  Jean-Baptiste Adam 2012 Les Natures Pinot Gris...   \n11  France            Leon Beyer 2012 Gewurztraminer (Alsace)   \n30  France  Domaine de la Madone 2012 Nouveau  (Beaujolais...   \n42  France             Henry Fessy 2012 Nouveau  (Beaujolais)   \n49  France   Vignerons de Bel Air 2011 Eté Indien  (Brouilly)   \n53  France  Château de Sours 2011 La Fleur d'Amélie  (Bord...   \n63  France          Roland Champion NV Brut Rosé  (Champagne)   \n65  France                      Simonnet-Febvre 2015  Chablis   \n66  France  Vignerons des Terres Secrètes 2015  Mâcon-Mill...   \n69  France                   Collet NV Brut Rosé  (Champagne)   \n82  France  Lionel Osmin & Cie 2016 La Réserve Petit Manse...   \n95  France                         Henry Fessy 2015  Juliénas   \n96  France                           Henry Fessy 2015  Régnié   \n\n                                          description  \\\n7   This dry and restrained wine offers spice in p...   \n9   This has great depth of flavor with its fresh ...   \n11  This is a dry wine, very spicy, with a tight, ...   \n30  Red cherry fruit comes laced with light tannin...   \n42  This is a festive wine, with soft, ripe fruit ...   \n49  Soft and fruity, this is a generous, ripe wine...   \n53  Fruity and lightly herbaceous, this has fine t...   \n63  This fat, yeasty Champagne is comprised predom...   \n65  From the warm 2015 vintage, this is a soft and...   \n66  This soft, rounded wine is ripe with generous ...   \n69  This cooperative, based in Aÿ, has benefited f...   \n82  This fruity, sweet wine is immediately attract...   \n95  This is a dense wine, packed with both tannins...   \n96  The wine comes from one of the cru estates fol...   \n\n                       variety                         winery  \n7               Gewürztraminer                       Trimbach  \n9                   Pinot Gris             Jean-Baptiste Adam  \n11              Gewürztraminer                     Leon Beyer  \n30                       Gamay           Domaine de la Madone  \n42                       Gamay                    Henry Fessy  \n49                       Gamay           Vignerons de Bel Air  \n53  Bordeaux-style White Blend               Château de Sours  \n63             Champagne Blend                Roland Champion  \n65                  Chardonnay                Simonnet-Febvre  \n66                  Chardonnay  Vignerons des Terres Secrètes  \n69             Champagne Blend                         Collet  \n82               Petit Manseng             Lionel Osmin & Cie  \n95                       Gamay                    Henry Fessy  \n96                       Gamay                    Henry Fessy  ",
      "text/html": "<div>\n<style scoped>\n    .dataframe tbody tr th:only-of-type {\n        vertical-align: middle;\n    }\n\n    .dataframe tbody tr th {\n        vertical-align: top;\n    }\n\n    .dataframe thead th {\n        text-align: right;\n    }\n</style>\n<table border=\"1\" class=\"dataframe\">\n  <thead>\n    <tr style=\"text-align: right;\">\n      <th></th>\n      <th>country</th>\n      <th>title</th>\n      <th>description</th>\n      <th>variety</th>\n      <th>winery</th>\n    </tr>\n  </thead>\n  <tbody>\n    <tr>\n      <th>7</th>\n      <td>France</td>\n      <td>Trimbach 2012 Gewurztraminer (Alsace)</td>\n      <td>This dry and restrained wine offers spice in p...</td>\n      <td>Gewürztraminer</td>\n      <td>Trimbach</td>\n    </tr>\n    <tr>\n      <th>9</th>\n      <td>France</td>\n      <td>Jean-Baptiste Adam 2012 Les Natures Pinot Gris...</td>\n      <td>This has great depth of flavor with its fresh ...</td>\n      <td>Pinot Gris</td>\n      <td>Jean-Baptiste Adam</td>\n    </tr>\n    <tr>\n      <th>11</th>\n      <td>France</td>\n      <td>Leon Beyer 2012 Gewurztraminer (Alsace)</td>\n      <td>This is a dry wine, very spicy, with a tight, ...</td>\n      <td>Gewürztraminer</td>\n      <td>Leon Beyer</td>\n    </tr>\n    <tr>\n      <th>30</th>\n      <td>France</td>\n      <td>Domaine de la Madone 2012 Nouveau  (Beaujolais...</td>\n      <td>Red cherry fruit comes laced with light tannin...</td>\n      <td>Gamay</td>\n      <td>Domaine de la Madone</td>\n    </tr>\n    <tr>\n      <th>42</th>\n      <td>France</td>\n      <td>Henry Fessy 2012 Nouveau  (Beaujolais)</td>\n      <td>This is a festive wine, with soft, ripe fruit ...</td>\n      <td>Gamay</td>\n      <td>Henry Fessy</td>\n    </tr>\n    <tr>\n      <th>49</th>\n      <td>France</td>\n      <td>Vignerons de Bel Air 2011 Eté Indien  (Brouilly)</td>\n      <td>Soft and fruity, this is a generous, ripe wine...</td>\n      <td>Gamay</td>\n      <td>Vignerons de Bel Air</td>\n    </tr>\n    <tr>\n      <th>53</th>\n      <td>France</td>\n      <td>Château de Sours 2011 La Fleur d'Amélie  (Bord...</td>\n      <td>Fruity and lightly herbaceous, this has fine t...</td>\n      <td>Bordeaux-style White Blend</td>\n      <td>Château de Sours</td>\n    </tr>\n    <tr>\n      <th>63</th>\n      <td>France</td>\n      <td>Roland Champion NV Brut Rosé  (Champagne)</td>\n      <td>This fat, yeasty Champagne is comprised predom...</td>\n      <td>Champagne Blend</td>\n      <td>Roland Champion</td>\n    </tr>\n    <tr>\n      <th>65</th>\n      <td>France</td>\n      <td>Simonnet-Febvre 2015  Chablis</td>\n      <td>From the warm 2015 vintage, this is a soft and...</td>\n      <td>Chardonnay</td>\n      <td>Simonnet-Febvre</td>\n    </tr>\n    <tr>\n      <th>66</th>\n      <td>France</td>\n      <td>Vignerons des Terres Secrètes 2015  Mâcon-Mill...</td>\n      <td>This soft, rounded wine is ripe with generous ...</td>\n      <td>Chardonnay</td>\n      <td>Vignerons des Terres Secrètes</td>\n    </tr>\n    <tr>\n      <th>69</th>\n      <td>France</td>\n      <td>Collet NV Brut Rosé  (Champagne)</td>\n      <td>This cooperative, based in Aÿ, has benefited f...</td>\n      <td>Champagne Blend</td>\n      <td>Collet</td>\n    </tr>\n    <tr>\n      <th>82</th>\n      <td>France</td>\n      <td>Lionel Osmin &amp; Cie 2016 La Réserve Petit Manse...</td>\n      <td>This fruity, sweet wine is immediately attract...</td>\n      <td>Petit Manseng</td>\n      <td>Lionel Osmin &amp; Cie</td>\n    </tr>\n    <tr>\n      <th>95</th>\n      <td>France</td>\n      <td>Henry Fessy 2015  Juliénas</td>\n      <td>This is a dense wine, packed with both tannins...</td>\n      <td>Gamay</td>\n      <td>Henry Fessy</td>\n    </tr>\n    <tr>\n      <th>96</th>\n      <td>France</td>\n      <td>Henry Fessy 2015  Régnié</td>\n      <td>The wine comes from one of the cru estates fol...</td>\n      <td>Gamay</td>\n      <td>Henry Fessy</td>\n    </tr>\n  </tbody>\n</table>\n</div>"
     },
     "execution_count": 16,
     "metadata": {},
     "output_type": "execute_result"
    }
   ],
   "source": [
    "df[df['country'] == 'France']"
   ],
   "metadata": {
    "collapsed": false,
    "ExecuteTime": {
     "end_time": "2023-09-26T20:11:05.303071Z",
     "start_time": "2023-09-26T20:11:05.299622Z"
    }
   },
   "id": "149a514b8021c746"
  },
  {
   "cell_type": "code",
   "execution_count": 17,
   "outputs": [
    {
     "name": "stdout",
     "output_type": "stream",
     "text": [
      " Based on the information provided, I would recommend the Vignerons de Bel Air 2011 Eté Indien from Brouilly. It is described as soft and fruity, with juicy red-cherry fruits and gentle tannins, making it a good pairing for seafood.\n"
     ]
    }
   ],
   "source": [
    "# Query\n",
    "query = \"Recommend me a French wine that pairs well with seafood.\"\n",
    "response = qa_chain.run(query)\n",
    "print(response)"
   ],
   "metadata": {
    "collapsed": false,
    "ExecuteTime": {
     "end_time": "2023-09-26T20:11:14.693990Z",
     "start_time": "2023-09-26T20:11:05.304050Z"
    }
   },
   "id": "69211907a0c2e8ee"
  },
  {
   "cell_type": "code",
   "execution_count": 18,
   "outputs": [
    {
     "name": "stdout",
     "output_type": "stream",
     "text": [
      " Based on the information provided, I would recommend the Trimbach 2012 Gewürztraminer from Alsace. It is described as dry and restrained, with spice in profusion and a firm texture that would pair well with pasta.\n"
     ]
    }
   ],
   "source": [
    "# Query\n",
    "query = \"Recommend me a French wine that pairs well with pasta.\"\n",
    "response = qa_chain.run(query)\n",
    "print(response)"
   ],
   "metadata": {
    "collapsed": false,
    "ExecuteTime": {
     "end_time": "2023-09-26T20:11:24.653882Z",
     "start_time": "2023-09-26T20:11:14.691405Z"
    }
   },
   "id": "a773d791b65fed40"
  },
  {
   "cell_type": "code",
   "execution_count": 19,
   "outputs": [
    {
     "data": {
      "text/plain": "   country                                              title  \\\n2       US      Rainstorm 2013 Pinot Gris (Willamette Valley)   \n3       US  St. Julian 2013 Reserve Late Harvest Riesling ...   \n4       US  Sweet Cheeks 2012 Vintner's Reserve Wild Child...   \n10      US  Kirkland Signature 2011 Mountain Cuvée Caberne...   \n12      US  Louis M. Martini 2012 Cabernet Sauvignon (Alex...   \n14      US           Mirassou 2012 Chardonnay (Central Coast)   \n19      US               Quiévremont 2012 Meritage (Virginia)   \n20      US      Quiévremont 2012 Vin de Maison Red (Virginia)   \n21      US                   Acrobat 2013 Pinot Noir (Oregon)   \n23      US  Bianchi 2011 Signature Selection Merlot (Paso ...   \n25      US  Castello di Amorosa 2011 King Ridge Vineyard P...   \n29      US  Clarksburg Wine Company 2010 Chenin Blanc (Cla...   \n33      US  Envolve 2010 Puma Springs Vineyard Red (Dry Cr...   \n34      US       Envolve 2011 Sauvignon Blanc (Sonoma Valley)   \n35      US         Erath 2010 Hyland Pinot Noir (McMinnville)   \n41      US  Hawkins Cellars 2009 Pinot Noir (Willamette Va...   \n43      US     Robert Hall 2011 Sauvignon Blanc (Paso Robles)   \n45      US           Tarara 2010 #SocialSecret Red (Virginia)   \n47      US       The White Knight 2011 Riesling (Lake County)   \n48      US            Trump 2011 Sauvignon Blanc (Monticello)   \n55      US  RustRidge 2010 Estate Bottled Chardonnay (Napa...   \n56      US            Souverain 2010 Chardonnay (North Coast)   \n59      US       Mellisoni 2014 Malbec (Columbia Valley (WA))   \n60      US  Okapi 2013 Estate Cabernet Sauvignon (Napa Val...   \n62      US  Ram 2014 Alder Ridge Vineyard Cabernet Franc (...   \n64      US  Sevtap 2015 Golden Horn Sauvignon Blanc (Santa...   \n67      US  Basel Cellars 2013 Inspired Red (Columbia Vall...   \n68      US                      Cocobon 2014 Red (California)   \n70      US  Drumheller 2014 Chardonnay (Columbia Valley (WA))   \n71      US  Eco Terreno 2013 Old Vine Cabernet Sauvignon (...   \n73      US  Hindsight 2013 Bella Vetta Vineyard Cabernet S...   \n74      US  Hindsight 2012 Estate Grown Petite Sirah (Cali...   \n75      US  Mulvane Wine Co. 2013 The Cypher Red (Napa Val...   \n78      US   Z'IVO 2015 Rosé of Pinot Noir (Eola-Amity Hills)   \n84      US  Napa Cellars 2014 Classic Zinfandel (Napa Valley)   \n86      US             Palencia 2016 Albariño (Ancient Lakes)   \n87      US  Passaggio 2014 Blau Vineyards Merlot (Knights ...   \n90      US      Ferrari-Carano 2014 Siena Red (Sonoma County)   \n91      US        Folie à Deux 2015 Pinot Gris (Sonoma Coast)   \n92      US  Franciscan 2013 Magnificat Meritage (Napa Valley)   \n94      US  Gård 2014 Grand Klasse Reserve Lawrence Vineya...   \n97      US  Heron Hill 2015 Ingle Vineyard Riesling (Finge...   \n99      US  Soquel Vineyards 2013 Intreccio Library Select...   \n\n                                          description  \\\n2   Tart and snappy, the flavors of lime flesh and...   \n3   Pineapple rind, lemon pith and orange blossom ...   \n4   Much like the regular bottling from 2012, this...   \n10  Soft, supple plum envelopes an oaky structure ...   \n12  Slightly reduced, this wine offers a chalky, t...   \n14  Building on 150 years and six generations of w...   \n19  Red fruit aromas pervade on the nose, with cig...   \n20  Ripe aromas of dark berries mingle with ample ...   \n21  A sleek mix of tart berry, stem and herb, alon...   \n23  This wine from the Geneseo district offers aro...   \n25  Oak and earth intermingle around robust aromas...   \n29  Clarksburg is becoming a haven for Chenin Blan...   \n33  Rustic and dry, this has flavors of berries, c...   \n34  This shows a tart, green gooseberry flavor tha...   \n35  As with many of the Erath 2010 vineyard design...   \n41  A stiff, tannic wine, this slowly opens and br...   \n43  The clean, brisk mouthfeel gives this slightly...   \n45  Right out of the starting blocks this is an oa...   \n47  This is a sweet wine with flavors of white sug...   \n48  This bottling resembles the New Zealand paradi...   \n55  This shows jelly-like flavors of orange and pe...   \n56  This is weighty, creamy and medium to full in ...   \n59  Aromas of cranberry, barrel spice and herb are...   \n60  Syrupy and dense, this wine is jammy in plum a...   \n62  The aromas are brooding, with notes of barrel ...   \n64  There are intriguing touches to the nose of th...   \n67  A blend of Merlot and Cabernet Franc, this win...   \n68  Very deep in color and spicy-smoky in flavor, ...   \n70  Aromas of vanilla, char and toast lead to ligh...   \n71  Big oak defines this robustly dense and extrac...   \n73  Juicy plum, raspberry and pencil lead lead the...   \n74  This is the producer's first release of this w...   \n75  This is made from equal parts Cabernet Franc a...   \n78  Some rosés are made simply by bleeding the jui...   \n84  A healthy addition of 13% Petite Sirah provide...   \n86  Vibrant aromas of ripe pear, white flowers and...   \n87  Softened tannins surround a light-bodied, lean...   \n90  This blend of Sangiovese, Malbec, Cabernet Sau...   \n91  This wine has a touch of perceptible sweetness...   \n92  All red Bordeaux varieties are represented in ...   \n94  Barrel notes are prominent, with aromas of Cre...   \n97  A wisp of bramble extends a savory tone from n...   \n99  This blends 20% each of all five red-Bordeaux ...   \n\n                     variety                   winery  \n2                 Pinot Gris                Rainstorm  \n3                   Riesling               St. Julian  \n4                 Pinot Noir             Sweet Cheeks  \n10        Cabernet Sauvignon       Kirkland Signature  \n12        Cabernet Sauvignon         Louis M. Martini  \n14                Chardonnay                 Mirassou  \n19                  Meritage              Quiévremont  \n20                 Red Blend              Quiévremont  \n21                Pinot Noir                  Acrobat  \n23                    Merlot                  Bianchi  \n25                Pinot Noir      Castello di Amorosa  \n29              Chenin Blanc  Clarksburg Wine Company  \n33                 Red Blend                  Envolve  \n34           Sauvignon Blanc                  Envolve  \n35                Pinot Noir                    Erath  \n41                Pinot Noir          Hawkins Cellars  \n43           Sauvignon Blanc              Robert Hall  \n45                 Red Blend                   Tarara  \n47                  Riesling         The White Knight  \n48           Sauvignon Blanc                    Trump  \n55                Chardonnay                RustRidge  \n56                Chardonnay                Souverain  \n59                    Malbec                Mellisoni  \n60        Cabernet Sauvignon                    Okapi  \n62            Cabernet Franc                      Ram  \n64           Sauvignon Blanc                   Sevtap  \n67  Bordeaux-style Red Blend            Basel Cellars  \n68                 Red Blend                  Cocobon  \n70                Chardonnay               Drumheller  \n71        Cabernet Sauvignon              Eco Terreno  \n73        Cabernet Sauvignon                Hindsight  \n74              Petite Sirah                Hindsight  \n75  Bordeaux-style Red Blend         Mulvane Wine Co.  \n78                Pinot Noir                    Z'IVO  \n84                 Zinfandel             Napa Cellars  \n86                  Albariño                 Palencia  \n87                    Merlot                Passaggio  \n90                 Red Blend           Ferrari-Carano  \n91                Pinot Gris             Folie à Deux  \n92                  Meritage               Franciscan  \n94                  Viognier                     Gård  \n97                  Riesling               Heron Hill  \n99  Bordeaux-style Red Blend         Soquel Vineyards  ",
      "text/html": "<div>\n<style scoped>\n    .dataframe tbody tr th:only-of-type {\n        vertical-align: middle;\n    }\n\n    .dataframe tbody tr th {\n        vertical-align: top;\n    }\n\n    .dataframe thead th {\n        text-align: right;\n    }\n</style>\n<table border=\"1\" class=\"dataframe\">\n  <thead>\n    <tr style=\"text-align: right;\">\n      <th></th>\n      <th>country</th>\n      <th>title</th>\n      <th>description</th>\n      <th>variety</th>\n      <th>winery</th>\n    </tr>\n  </thead>\n  <tbody>\n    <tr>\n      <th>2</th>\n      <td>US</td>\n      <td>Rainstorm 2013 Pinot Gris (Willamette Valley)</td>\n      <td>Tart and snappy, the flavors of lime flesh and...</td>\n      <td>Pinot Gris</td>\n      <td>Rainstorm</td>\n    </tr>\n    <tr>\n      <th>3</th>\n      <td>US</td>\n      <td>St. Julian 2013 Reserve Late Harvest Riesling ...</td>\n      <td>Pineapple rind, lemon pith and orange blossom ...</td>\n      <td>Riesling</td>\n      <td>St. Julian</td>\n    </tr>\n    <tr>\n      <th>4</th>\n      <td>US</td>\n      <td>Sweet Cheeks 2012 Vintner's Reserve Wild Child...</td>\n      <td>Much like the regular bottling from 2012, this...</td>\n      <td>Pinot Noir</td>\n      <td>Sweet Cheeks</td>\n    </tr>\n    <tr>\n      <th>10</th>\n      <td>US</td>\n      <td>Kirkland Signature 2011 Mountain Cuvée Caberne...</td>\n      <td>Soft, supple plum envelopes an oaky structure ...</td>\n      <td>Cabernet Sauvignon</td>\n      <td>Kirkland Signature</td>\n    </tr>\n    <tr>\n      <th>12</th>\n      <td>US</td>\n      <td>Louis M. Martini 2012 Cabernet Sauvignon (Alex...</td>\n      <td>Slightly reduced, this wine offers a chalky, t...</td>\n      <td>Cabernet Sauvignon</td>\n      <td>Louis M. Martini</td>\n    </tr>\n    <tr>\n      <th>14</th>\n      <td>US</td>\n      <td>Mirassou 2012 Chardonnay (Central Coast)</td>\n      <td>Building on 150 years and six generations of w...</td>\n      <td>Chardonnay</td>\n      <td>Mirassou</td>\n    </tr>\n    <tr>\n      <th>19</th>\n      <td>US</td>\n      <td>Quiévremont 2012 Meritage (Virginia)</td>\n      <td>Red fruit aromas pervade on the nose, with cig...</td>\n      <td>Meritage</td>\n      <td>Quiévremont</td>\n    </tr>\n    <tr>\n      <th>20</th>\n      <td>US</td>\n      <td>Quiévremont 2012 Vin de Maison Red (Virginia)</td>\n      <td>Ripe aromas of dark berries mingle with ample ...</td>\n      <td>Red Blend</td>\n      <td>Quiévremont</td>\n    </tr>\n    <tr>\n      <th>21</th>\n      <td>US</td>\n      <td>Acrobat 2013 Pinot Noir (Oregon)</td>\n      <td>A sleek mix of tart berry, stem and herb, alon...</td>\n      <td>Pinot Noir</td>\n      <td>Acrobat</td>\n    </tr>\n    <tr>\n      <th>23</th>\n      <td>US</td>\n      <td>Bianchi 2011 Signature Selection Merlot (Paso ...</td>\n      <td>This wine from the Geneseo district offers aro...</td>\n      <td>Merlot</td>\n      <td>Bianchi</td>\n    </tr>\n    <tr>\n      <th>25</th>\n      <td>US</td>\n      <td>Castello di Amorosa 2011 King Ridge Vineyard P...</td>\n      <td>Oak and earth intermingle around robust aromas...</td>\n      <td>Pinot Noir</td>\n      <td>Castello di Amorosa</td>\n    </tr>\n    <tr>\n      <th>29</th>\n      <td>US</td>\n      <td>Clarksburg Wine Company 2010 Chenin Blanc (Cla...</td>\n      <td>Clarksburg is becoming a haven for Chenin Blan...</td>\n      <td>Chenin Blanc</td>\n      <td>Clarksburg Wine Company</td>\n    </tr>\n    <tr>\n      <th>33</th>\n      <td>US</td>\n      <td>Envolve 2010 Puma Springs Vineyard Red (Dry Cr...</td>\n      <td>Rustic and dry, this has flavors of berries, c...</td>\n      <td>Red Blend</td>\n      <td>Envolve</td>\n    </tr>\n    <tr>\n      <th>34</th>\n      <td>US</td>\n      <td>Envolve 2011 Sauvignon Blanc (Sonoma Valley)</td>\n      <td>This shows a tart, green gooseberry flavor tha...</td>\n      <td>Sauvignon Blanc</td>\n      <td>Envolve</td>\n    </tr>\n    <tr>\n      <th>35</th>\n      <td>US</td>\n      <td>Erath 2010 Hyland Pinot Noir (McMinnville)</td>\n      <td>As with many of the Erath 2010 vineyard design...</td>\n      <td>Pinot Noir</td>\n      <td>Erath</td>\n    </tr>\n    <tr>\n      <th>41</th>\n      <td>US</td>\n      <td>Hawkins Cellars 2009 Pinot Noir (Willamette Va...</td>\n      <td>A stiff, tannic wine, this slowly opens and br...</td>\n      <td>Pinot Noir</td>\n      <td>Hawkins Cellars</td>\n    </tr>\n    <tr>\n      <th>43</th>\n      <td>US</td>\n      <td>Robert Hall 2011 Sauvignon Blanc (Paso Robles)</td>\n      <td>The clean, brisk mouthfeel gives this slightly...</td>\n      <td>Sauvignon Blanc</td>\n      <td>Robert Hall</td>\n    </tr>\n    <tr>\n      <th>45</th>\n      <td>US</td>\n      <td>Tarara 2010 #SocialSecret Red (Virginia)</td>\n      <td>Right out of the starting blocks this is an oa...</td>\n      <td>Red Blend</td>\n      <td>Tarara</td>\n    </tr>\n    <tr>\n      <th>47</th>\n      <td>US</td>\n      <td>The White Knight 2011 Riesling (Lake County)</td>\n      <td>This is a sweet wine with flavors of white sug...</td>\n      <td>Riesling</td>\n      <td>The White Knight</td>\n    </tr>\n    <tr>\n      <th>48</th>\n      <td>US</td>\n      <td>Trump 2011 Sauvignon Blanc (Monticello)</td>\n      <td>This bottling resembles the New Zealand paradi...</td>\n      <td>Sauvignon Blanc</td>\n      <td>Trump</td>\n    </tr>\n    <tr>\n      <th>55</th>\n      <td>US</td>\n      <td>RustRidge 2010 Estate Bottled Chardonnay (Napa...</td>\n      <td>This shows jelly-like flavors of orange and pe...</td>\n      <td>Chardonnay</td>\n      <td>RustRidge</td>\n    </tr>\n    <tr>\n      <th>56</th>\n      <td>US</td>\n      <td>Souverain 2010 Chardonnay (North Coast)</td>\n      <td>This is weighty, creamy and medium to full in ...</td>\n      <td>Chardonnay</td>\n      <td>Souverain</td>\n    </tr>\n    <tr>\n      <th>59</th>\n      <td>US</td>\n      <td>Mellisoni 2014 Malbec (Columbia Valley (WA))</td>\n      <td>Aromas of cranberry, barrel spice and herb are...</td>\n      <td>Malbec</td>\n      <td>Mellisoni</td>\n    </tr>\n    <tr>\n      <th>60</th>\n      <td>US</td>\n      <td>Okapi 2013 Estate Cabernet Sauvignon (Napa Val...</td>\n      <td>Syrupy and dense, this wine is jammy in plum a...</td>\n      <td>Cabernet Sauvignon</td>\n      <td>Okapi</td>\n    </tr>\n    <tr>\n      <th>62</th>\n      <td>US</td>\n      <td>Ram 2014 Alder Ridge Vineyard Cabernet Franc (...</td>\n      <td>The aromas are brooding, with notes of barrel ...</td>\n      <td>Cabernet Franc</td>\n      <td>Ram</td>\n    </tr>\n    <tr>\n      <th>64</th>\n      <td>US</td>\n      <td>Sevtap 2015 Golden Horn Sauvignon Blanc (Santa...</td>\n      <td>There are intriguing touches to the nose of th...</td>\n      <td>Sauvignon Blanc</td>\n      <td>Sevtap</td>\n    </tr>\n    <tr>\n      <th>67</th>\n      <td>US</td>\n      <td>Basel Cellars 2013 Inspired Red (Columbia Vall...</td>\n      <td>A blend of Merlot and Cabernet Franc, this win...</td>\n      <td>Bordeaux-style Red Blend</td>\n      <td>Basel Cellars</td>\n    </tr>\n    <tr>\n      <th>68</th>\n      <td>US</td>\n      <td>Cocobon 2014 Red (California)</td>\n      <td>Very deep in color and spicy-smoky in flavor, ...</td>\n      <td>Red Blend</td>\n      <td>Cocobon</td>\n    </tr>\n    <tr>\n      <th>70</th>\n      <td>US</td>\n      <td>Drumheller 2014 Chardonnay (Columbia Valley (WA))</td>\n      <td>Aromas of vanilla, char and toast lead to ligh...</td>\n      <td>Chardonnay</td>\n      <td>Drumheller</td>\n    </tr>\n    <tr>\n      <th>71</th>\n      <td>US</td>\n      <td>Eco Terreno 2013 Old Vine Cabernet Sauvignon (...</td>\n      <td>Big oak defines this robustly dense and extrac...</td>\n      <td>Cabernet Sauvignon</td>\n      <td>Eco Terreno</td>\n    </tr>\n    <tr>\n      <th>73</th>\n      <td>US</td>\n      <td>Hindsight 2013 Bella Vetta Vineyard Cabernet S...</td>\n      <td>Juicy plum, raspberry and pencil lead lead the...</td>\n      <td>Cabernet Sauvignon</td>\n      <td>Hindsight</td>\n    </tr>\n    <tr>\n      <th>74</th>\n      <td>US</td>\n      <td>Hindsight 2012 Estate Grown Petite Sirah (Cali...</td>\n      <td>This is the producer's first release of this w...</td>\n      <td>Petite Sirah</td>\n      <td>Hindsight</td>\n    </tr>\n    <tr>\n      <th>75</th>\n      <td>US</td>\n      <td>Mulvane Wine Co. 2013 The Cypher Red (Napa Val...</td>\n      <td>This is made from equal parts Cabernet Franc a...</td>\n      <td>Bordeaux-style Red Blend</td>\n      <td>Mulvane Wine Co.</td>\n    </tr>\n    <tr>\n      <th>78</th>\n      <td>US</td>\n      <td>Z'IVO 2015 Rosé of Pinot Noir (Eola-Amity Hills)</td>\n      <td>Some rosés are made simply by bleeding the jui...</td>\n      <td>Pinot Noir</td>\n      <td>Z'IVO</td>\n    </tr>\n    <tr>\n      <th>84</th>\n      <td>US</td>\n      <td>Napa Cellars 2014 Classic Zinfandel (Napa Valley)</td>\n      <td>A healthy addition of 13% Petite Sirah provide...</td>\n      <td>Zinfandel</td>\n      <td>Napa Cellars</td>\n    </tr>\n    <tr>\n      <th>86</th>\n      <td>US</td>\n      <td>Palencia 2016 Albariño (Ancient Lakes)</td>\n      <td>Vibrant aromas of ripe pear, white flowers and...</td>\n      <td>Albariño</td>\n      <td>Palencia</td>\n    </tr>\n    <tr>\n      <th>87</th>\n      <td>US</td>\n      <td>Passaggio 2014 Blau Vineyards Merlot (Knights ...</td>\n      <td>Softened tannins surround a light-bodied, lean...</td>\n      <td>Merlot</td>\n      <td>Passaggio</td>\n    </tr>\n    <tr>\n      <th>90</th>\n      <td>US</td>\n      <td>Ferrari-Carano 2014 Siena Red (Sonoma County)</td>\n      <td>This blend of Sangiovese, Malbec, Cabernet Sau...</td>\n      <td>Red Blend</td>\n      <td>Ferrari-Carano</td>\n    </tr>\n    <tr>\n      <th>91</th>\n      <td>US</td>\n      <td>Folie à Deux 2015 Pinot Gris (Sonoma Coast)</td>\n      <td>This wine has a touch of perceptible sweetness...</td>\n      <td>Pinot Gris</td>\n      <td>Folie à Deux</td>\n    </tr>\n    <tr>\n      <th>92</th>\n      <td>US</td>\n      <td>Franciscan 2013 Magnificat Meritage (Napa Valley)</td>\n      <td>All red Bordeaux varieties are represented in ...</td>\n      <td>Meritage</td>\n      <td>Franciscan</td>\n    </tr>\n    <tr>\n      <th>94</th>\n      <td>US</td>\n      <td>Gård 2014 Grand Klasse Reserve Lawrence Vineya...</td>\n      <td>Barrel notes are prominent, with aromas of Cre...</td>\n      <td>Viognier</td>\n      <td>Gård</td>\n    </tr>\n    <tr>\n      <th>97</th>\n      <td>US</td>\n      <td>Heron Hill 2015 Ingle Vineyard Riesling (Finge...</td>\n      <td>A wisp of bramble extends a savory tone from n...</td>\n      <td>Riesling</td>\n      <td>Heron Hill</td>\n    </tr>\n    <tr>\n      <th>99</th>\n      <td>US</td>\n      <td>Soquel Vineyards 2013 Intreccio Library Select...</td>\n      <td>This blends 20% each of all five red-Bordeaux ...</td>\n      <td>Bordeaux-style Red Blend</td>\n      <td>Soquel Vineyards</td>\n    </tr>\n  </tbody>\n</table>\n</div>"
     },
     "execution_count": 19,
     "metadata": {},
     "output_type": "execute_result"
    }
   ],
   "source": [
    "df[df['country'] == 'US']"
   ],
   "metadata": {
    "collapsed": false,
    "ExecuteTime": {
     "end_time": "2023-09-26T20:11:24.659476Z",
     "start_time": "2023-09-26T20:11:24.655042Z"
    }
   },
   "id": "3a740e18c37c6ac0"
  },
  {
   "cell_type": "code",
   "execution_count": 23,
   "outputs": [
    {
     "name": "stdout",
     "output_type": "stream",
     "text": [
      " Based on the information provided, I would recommend the Eco Terreno 2013 Old Vine Cabernet Sauvignon from California. It is described as having big oak, which suggests a strong oaky aroma.\n"
     ]
    }
   ],
   "source": [
    "# Query\n",
    "query = \"Recommend me a wine from US with smoky taste.\"\n",
    "print(response)"
   ],
   "metadata": {
    "collapsed": false,
    "ExecuteTime": {
     "end_time": "2023-09-26T20:14:38.496144Z",
     "start_time": "2023-09-26T20:14:38.484480Z"
    }
   },
   "id": "2a736c576c6e7c72"
  },
  {
   "cell_type": "code",
   "execution_count": 24,
   "outputs": [
    {
     "name": "stdout",
     "output_type": "stream",
     "text": [
      "\u001B[32;1m\u001B[1;3m[chain/start]\u001B[0m \u001B[1m[1:chain:RetrievalQA] Entering Chain run with input:\n",
      "\u001B[0m{\n",
      "  \"query\": \"Recommend me a wine from US that pairs well with pizza!\"\n",
      "}\n",
      "\u001B[32;1m\u001B[1;3m[chain/start]\u001B[0m \u001B[1m[1:chain:RetrievalQA > 3:chain:StuffDocumentsChain] Entering Chain run with input:\n",
      "\u001B[0m[inputs]\n",
      "\u001B[32;1m\u001B[1;3m[chain/start]\u001B[0m \u001B[1m[1:chain:RetrievalQA > 3:chain:StuffDocumentsChain > 4:chain:LLMChain] Entering Chain run with input:\n",
      "\u001B[0m{\n",
      "  \"question\": \"Recommend me a wine from US that pairs well with pizza!\",\n",
      "  \"context\": \"country: Italy\\ntitle: Duca di Salaparuta 2010 Calanìca Nero d'Avola-Merlot Red (Sicilia)\\ndescription: Merlot and Nero d'Avola form the base for this easy red wine that would pair with fettuccine and meat sauce or pork roast. The quality of the fruit is clean, bright and sharp.\\nvariety: Red Blend\\nwinery: Duca di Salaparuta\\n\\ncountry: US\\ntitle: Trump 2011 Sauvignon Blanc (Monticello)\\ndescription: This bottling resembles the New Zealand paradigm of Sauvignon Blanc, bearing aromas of grapefruit, passion fruit and kiwi; a sprinkling of graham cracker adds interest. The wine hits the palate like a fleshy fist, with an intense, grassy gooseberry flavor that provides plenty of punch. Pair with apricot-glazed roasted chicken.\\nvariety: Sauvignon Blanc\\nwinery: Trump\\n\\ncountry: US\\ntitle: Eco Terreno 2013 Old Vine Cabernet Sauvignon (Alexander Valley)\\ndescription: Big oak defines this robustly dense and extracted red, swimming in vanilla and cherry flavor. Full-bodied and gravelly in texture, it's a rustically pleasant wine for pizza nights and crowds.\\nvariety: Cabernet Sauvignon\\nwinery: Eco Terreno\\n\\ncountry: Italy\\ntitle: Feudi del Pisciotto 2010 Missoni Cabernet Sauvignon (Sicilia)\\ndescription: This concentrated Cabernet offers aromas of cured meat, dried fruit and rosemary. Barbecue spice and teriyaki sauce flavors give the wine a bold, chewy feel.\\nvariety: Cabernet Sauvignon\\nwinery: Feudi del Pisciotto\"\n",
      "}\n",
      "\u001B[32;1m\u001B[1;3m[llm/start]\u001B[0m \u001B[1m[1:chain:RetrievalQA > 3:chain:StuffDocumentsChain > 4:chain:LLMChain > 5:llm:CTransformers] Entering LLM run with input:\n",
      "\u001B[0m{\n",
      "  \"prompts\": [\n",
      "    \"Use the following pieces of context to answer the question at the end. If you don't know the answer, just say that you don't know, don't try to make up an answer.\\n\\ncountry: Italy\\ntitle: Duca di Salaparuta 2010 Calanìca Nero d'Avola-Merlot Red (Sicilia)\\ndescription: Merlot and Nero d'Avola form the base for this easy red wine that would pair with fettuccine and meat sauce or pork roast. The quality of the fruit is clean, bright and sharp.\\nvariety: Red Blend\\nwinery: Duca di Salaparuta\\n\\ncountry: US\\ntitle: Trump 2011 Sauvignon Blanc (Monticello)\\ndescription: This bottling resembles the New Zealand paradigm of Sauvignon Blanc, bearing aromas of grapefruit, passion fruit and kiwi; a sprinkling of graham cracker adds interest. The wine hits the palate like a fleshy fist, with an intense, grassy gooseberry flavor that provides plenty of punch. Pair with apricot-glazed roasted chicken.\\nvariety: Sauvignon Blanc\\nwinery: Trump\\n\\ncountry: US\\ntitle: Eco Terreno 2013 Old Vine Cabernet Sauvignon (Alexander Valley)\\ndescription: Big oak defines this robustly dense and extracted red, swimming in vanilla and cherry flavor. Full-bodied and gravelly in texture, it's a rustically pleasant wine for pizza nights and crowds.\\nvariety: Cabernet Sauvignon\\nwinery: Eco Terreno\\n\\ncountry: Italy\\ntitle: Feudi del Pisciotto 2010 Missoni Cabernet Sauvignon (Sicilia)\\ndescription: This concentrated Cabernet offers aromas of cured meat, dried fruit and rosemary. Barbecue spice and teriyaki sauce flavors give the wine a bold, chewy feel.\\nvariety: Cabernet Sauvignon\\nwinery: Feudi del Pisciotto\\n\\nQuestion: Recommend me a wine from US that pairs well with pizza!\\nHelpful Answer:\"\n",
      "  ]\n",
      "}\n",
      "\u001B[36;1m\u001B[1;3m[llm/end]\u001B[0m \u001B[1m[1:chain:RetrievalQA > 3:chain:StuffDocumentsChain > 4:chain:LLMChain > 5:llm:CTransformers] [16.69s] Exiting LLM run with output:\n",
      "\u001B[0m{\n",
      "  \"generations\": [\n",
      "    [\n",
      "      {\n",
      "        \"text\": \" Based on the information provided, I would recommend the Trump 2011 Sauvignon Blanc from Monticello. It is described as having a fleshy fist of an intense, grassy gooseberry flavor that provides plenty of punch, which suggests that it would pair well with the rich flavors of a pizza.\",\n",
      "        \"generation_info\": null\n",
      "      }\n",
      "    ]\n",
      "  ],\n",
      "  \"llm_output\": null,\n",
      "  \"run\": null\n",
      "}\n",
      "\u001B[36;1m\u001B[1;3m[chain/end]\u001B[0m \u001B[1m[1:chain:RetrievalQA > 3:chain:StuffDocumentsChain > 4:chain:LLMChain] [16.69s] Exiting Chain run with output:\n",
      "\u001B[0m{\n",
      "  \"text\": \" Based on the information provided, I would recommend the Trump 2011 Sauvignon Blanc from Monticello. It is described as having a fleshy fist of an intense, grassy gooseberry flavor that provides plenty of punch, which suggests that it would pair well with the rich flavors of a pizza.\"\n",
      "}\n",
      "\u001B[36;1m\u001B[1;3m[chain/end]\u001B[0m \u001B[1m[1:chain:RetrievalQA > 3:chain:StuffDocumentsChain] [16.69s] Exiting Chain run with output:\n",
      "\u001B[0m{\n",
      "  \"output_text\": \" Based on the information provided, I would recommend the Trump 2011 Sauvignon Blanc from Monticello. It is described as having a fleshy fist of an intense, grassy gooseberry flavor that provides plenty of punch, which suggests that it would pair well with the rich flavors of a pizza.\"\n",
      "}\n",
      "\u001B[36;1m\u001B[1;3m[chain/end]\u001B[0m \u001B[1m[1:chain:RetrievalQA] [16.98s] Exiting Chain run with output:\n",
      "\u001B[0m{\n",
      "  \"result\": \" Based on the information provided, I would recommend the Trump 2011 Sauvignon Blanc from Monticello. It is described as having a fleshy fist of an intense, grassy gooseberry flavor that provides plenty of punch, which suggests that it would pair well with the rich flavors of a pizza.\"\n",
      "}\n"
     ]
    }
   ],
   "source": [
    "query = \"Recommend me a wine from US that pairs well with pizza!\"\n",
    "langchain.debug = True\n",
    "response = qa_chain.run(query)\n",
    "langchain.debug = False"
   ],
   "metadata": {
    "collapsed": false,
    "ExecuteTime": {
     "end_time": "2023-09-26T20:15:01.143646Z",
     "start_time": "2023-09-26T20:14:44.162470Z"
    }
   },
   "id": "736a0e73c9a47eea"
  },
  {
   "cell_type": "code",
   "execution_count": null,
   "outputs": [],
   "source": [],
   "metadata": {
    "collapsed": false
   },
   "id": "8607aa16352ef500"
  }
 ],
 "metadata": {
  "kernelspec": {
   "display_name": "Python 3",
   "language": "python",
   "name": "python3"
  },
  "language_info": {
   "codemirror_mode": {
    "name": "ipython",
    "version": 2
   },
   "file_extension": ".py",
   "mimetype": "text/x-python",
   "name": "python",
   "nbconvert_exporter": "python",
   "pygments_lexer": "ipython2",
   "version": "2.7.6"
  }
 },
 "nbformat": 4,
 "nbformat_minor": 5
}
