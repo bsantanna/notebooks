{
 "cells": [
  {
   "cell_type": "markdown",
   "source": [
    "# Agent Demo\n",
    "\n",
    "In this Demo we are going to show how to use the ReACT agent to answer questions about a rock band.\n",
    "\n",
    "Goal of this code is to showcase use case of [Intelligent Agents](https://python.langchain.com/docs/modules/agents/) capable of reading DuckDuckGo search results to properly answer questions about different topics.\n",
    "\n",
    "Python code bellow makes use of the following software:\n",
    " - [langchain](https://www.langchain.com) - a library for building language chains\n",
    " - [OpenAI ChatGPT](https://platform.openai.com/docs/introduction) - a language model API\n",
    "\n",
    "The agent is a implementation makes use of the [ReAct Prompting](https://react-lm.github.io) algorithm. A ReAct prompt consists of few-shot task-solving trajectories, with human-written text reasoning traces and actions, as well as environment observations in response to actions. \n",
    "\n",
    "This notebook is also available on [Google Colab](https://colab.research.google.com/drive/1IivBK3VFz3NkXxWbr1AdMKbZEBB47083?usp=sharing)"
   ],
   "metadata": {
    "collapsed": false
   },
   "id": "e299f0c327fda114"
  },
  {
   "cell_type": "code",
   "execution_count": 62,
   "outputs": [],
   "source": [
    "# imports\n",
    "import langchain\n",
    "from langchain.agents import load_tools, initialize_agent, AgentType\n",
    "from langchain.chat_models import ChatOpenAI\n",
    "from langchain.prompts import ChatPromptTemplate"
   ],
   "metadata": {
    "collapsed": false,
    "ExecuteTime": {
     "end_time": "2023-09-26T21:59:30.302071Z",
     "start_time": "2023-09-26T21:59:30.292449Z"
    }
   },
   "id": "dc445002e1c9aa8e"
  },
  {
   "cell_type": "code",
   "execution_count": 69,
   "outputs": [],
   "source": [
    "# globals\n",
    "api_key = \"?\"\n",
    "question = \"What is the latest album released by Red Hot Chili Peppers?\"  # example question, a good one :D"
   ],
   "metadata": {
    "collapsed": false,
    "ExecuteTime": {
     "end_time": "2023-09-26T22:00:26.172729Z",
     "start_time": "2023-09-26T22:00:26.160125Z"
    }
   },
   "id": "478ee4e61b4b5274"
  },
  {
   "cell_type": "markdown",
   "source": [
    "## Model loading\n",
    "\n",
    "In this block model is loaded."
   ],
   "metadata": {
    "collapsed": false
   },
   "id": "e4b91203b1177dc5"
  },
  {
   "cell_type": "code",
   "execution_count": 70,
   "outputs": [],
   "source": [
    "# load model \n",
    "model = ChatOpenAI(openai_api_key=api_key, temperature=0.0)"
   ],
   "metadata": {
    "collapsed": false,
    "ExecuteTime": {
     "end_time": "2023-09-26T22:00:27.278645Z",
     "start_time": "2023-09-26T22:00:27.276167Z"
    }
   },
   "id": "c43b77b5edf9363f"
  },
  {
   "cell_type": "markdown",
   "source": [
    "## LLM direct inference\n",
    "This block shows how to use the pipeline to pass a question directly to the model and get a response. \n",
    "It can be observed the model understands and replies the question, however the answer is not up to date with the latest album released by given rock band. It can very well be the case the dataset used to train the model is not up to date."
   ],
   "metadata": {
    "collapsed": false
   },
   "id": "26f380194c5a2576"
  },
  {
   "cell_type": "code",
   "execution_count": 71,
   "outputs": [
    {
     "name": "stdout",
     "output_type": "stream",
     "text": [
      "The latest album released by Red Hot Chili Peppers is \"The Getaway,\" which was released on June 17, 2016.\n"
     ]
    }
   ],
   "source": [
    "prompt_template =  ChatPromptTemplate.from_template(\"{input}\")\n",
    "result = model(prompt_template.format_messages(input=question))\n",
    "print(result.content)"
   ],
   "metadata": {
    "collapsed": false,
    "ExecuteTime": {
     "end_time": "2023-09-26T22:00:30.079440Z",
     "start_time": "2023-09-26T22:00:28.510975Z"
    }
   },
   "id": "786016f95bf40901"
  },
  {
   "cell_type": "markdown",
   "source": [
    "## ReAct Agent with LLM backend inference\n",
    "\n",
    "This block shows how to use the pipeline to pass a question to the agent and get a response.\n",
    "\n",
    "The agent will fork the dialog between two threads and start a problem solving dialog using the ReAct algorithm.\n",
    "\n",
    "It will first understand the question, search the main concept in  DuckDuckGo, read the search results and then answer the question. "
   ],
   "metadata": {
    "collapsed": false
   },
   "id": "eb8cf8fb02fa3707"
  },
  {
   "cell_type": "code",
   "execution_count": 72,
   "outputs": [],
   "source": [
    "# load agent with wikipedia\n",
    "tools = load_tools([\"ddg-search\"], llm=model)\n",
    "agent = initialize_agent(\n",
    "    tools,\n",
    "    model,\n",
    "    agent=AgentType.CHAT_ZERO_SHOT_REACT_DESCRIPTION,\n",
    "    handle_parsing_errors=True\n",
    ")"
   ],
   "metadata": {
    "collapsed": false,
    "ExecuteTime": {
     "end_time": "2023-09-26T22:00:30.088608Z",
     "start_time": "2023-09-26T22:00:30.086858Z"
    }
   },
   "id": "c37dce58c9424b7"
  },
  {
   "cell_type": "code",
   "execution_count": 73,
   "outputs": [],
   "source": [
    "# langchain.debug = True\n",
    "result = agent(question)['output']\n",
    "# langchain.debug = False"
   ],
   "metadata": {
    "collapsed": false,
    "ExecuteTime": {
     "end_time": "2023-09-26T22:00:40.191906Z",
     "start_time": "2023-09-26T22:00:30.697448Z"
    }
   },
   "id": "36c1eea207fefb16"
  },
  {
   "cell_type": "code",
   "execution_count": 74,
   "outputs": [
    {
     "name": "stdout",
     "output_type": "stream",
     "text": [
      "ReACT result: The latest album released by Red Hot Chili Peppers is \"Return of the Dream Canteen\".\n"
     ]
    }
   ],
   "source": [
    "print(f\"ReACT result: {result}\")"
   ],
   "metadata": {
    "collapsed": false,
    "ExecuteTime": {
     "end_time": "2023-09-26T22:00:40.203934Z",
     "start_time": "2023-09-26T22:00:40.192194Z"
    }
   },
   "id": "1b35919013e617f3"
  },
  {
   "cell_type": "code",
   "execution_count": null,
   "outputs": [],
   "source": [],
   "metadata": {
    "collapsed": false,
    "ExecuteTime": {
     "start_time": "2023-09-26T19:00:06.152794Z"
    }
   },
   "id": "e8b947950e4e2d97"
  }
 ],
 "metadata": {
  "kernelspec": {
   "display_name": "Python 3",
   "language": "python",
   "name": "python3"
  },
  "language_info": {
   "codemirror_mode": {
    "name": "ipython",
    "version": 2
   },
   "file_extension": ".py",
   "mimetype": "text/x-python",
   "name": "python",
   "nbconvert_exporter": "python",
   "pygments_lexer": "ipython2",
   "version": "2.7.6"
  }
 },
 "nbformat": 4,
 "nbformat_minor": 5
}
