{
 "cells": [
  {
   "cell_type": "markdown",
   "source": [
    "# Agent Demo\n",
    "\n",
    "In this Demo we are going to show how to use the ReACT agent to answer questions about Iron Maiden.\n",
    "\n",
    "Goal of this code is to showcase use case of [Intelligent Agents](https://python.langchain.com/docs/modules/agents/) capable of reading Wikipedia articles to properly answer questions about different topics.\n",
    "\n",
    "Python code bellow makes use of the following software:\n",
    " - [langchain](https://www.langchain.com) - a library for building language chains\n",
    " - [ctransformers](https://github.com/marella/ctransformers) - c++ hardware (GPU) accelerated transformers library\n",
    " - [llama2](https://huggingface.co/meta-llama/Llama-2-7b-chat-hf) - llama2 large language model\n",
    "\n",
    "The agent is a implementation makes use of the [ReAct Prompting](https://react-lm.github.io) algorithm. A ReAct prompt consists of few-shot task-solving trajectories, with human-written text reasoning traces and actions, as well as environment observations in response to actions. \n"
   ],
   "metadata": {
    "collapsed": false
   },
   "id": "e299f0c327fda114"
  },
  {
   "cell_type": "code",
   "execution_count": 9,
   "outputs": [],
   "source": [
    "# imports\n",
    "import langchain\n",
    "from langchain.agents import load_tools, initialize_agent, AgentType\n",
    "from langchain.llms import CTransformers"
   ],
   "metadata": {
    "collapsed": false,
    "ExecuteTime": {
     "end_time": "2023-09-26T19:13:38.371643Z",
     "start_time": "2023-09-26T19:13:38.366400Z"
    }
   },
   "id": "dc445002e1c9aa8e"
  },
  {
   "cell_type": "code",
   "execution_count": 10,
   "outputs": [],
   "source": [
    "# globals\n",
    "model_path = \"/Users/bsantanna/dev/workspace/community/Llama-2-7b-chat-hf\"  # cloned from https://huggingface.co/meta-llama/Llama-2-7b-chat-hf \n",
    "instruction_model_path = f\"{model_path}/gguf-model-f16.bin\"  # converted with https://github.com/ggerganov/llama.cpp \n",
    "question = \"What is the latest album released by Iron Maiden?\"  # example question, a good one :D\n",
    "n_gpu_layers = 32\n",
    "n_batch = 512\n",
    "n_ctx = 5120\n",
    "n_tokens = 256\n",
    "n_repetition_penalty = 1.0\n",
    "n_temperature = 0.6\n",
    "config = {\n",
    "    'max_new_tokens': n_tokens,\n",
    "    'repetition_penalty': n_repetition_penalty,\n",
    "    'batch_size': n_batch,\n",
    "    'context_length': n_ctx,\n",
    "    'reset': False,\n",
    "    'temperature': n_temperature,\n",
    "    'gpu_layers': n_gpu_layers\n",
    "}"
   ],
   "metadata": {
    "collapsed": false,
    "ExecuteTime": {
     "end_time": "2023-09-26T19:13:38.802350Z",
     "start_time": "2023-09-26T19:13:38.796857Z"
    }
   },
   "id": "478ee4e61b4b5274"
  },
  {
   "cell_type": "markdown",
   "source": [
    "## Model loading\n",
    "\n",
    "In this block model is loaded using optimized parameters for GPU inference."
   ],
   "metadata": {
    "collapsed": false
   },
   "id": "e4b91203b1177dc5"
  },
  {
   "cell_type": "code",
   "execution_count": 11,
   "outputs": [],
   "source": [
    "# load model \n",
    "model = CTransformers(model=instruction_model_path, gpu_layers=n_gpu_layers, config=config)"
   ],
   "metadata": {
    "collapsed": false,
    "ExecuteTime": {
     "end_time": "2023-09-26T19:13:40.094595Z",
     "start_time": "2023-09-26T19:13:39.900925Z"
    }
   },
   "id": "c43b77b5edf9363f"
  },
  {
   "cell_type": "markdown",
   "source": [
    "## LLM direct inference\n",
    "This block shows how to use the pipeline to pass a question directly to the model and get a response. \n",
    "It can be observed the model understands and replies the question, however the answer is not up to date with the latest album released by Iron Maiden. It can very well be the case the dataset used to train the model is not up to date."
   ],
   "metadata": {
    "collapsed": false
   },
   "id": "26f380194c5a2576"
  },
  {
   "cell_type": "code",
   "execution_count": 12,
   "outputs": [
    {
     "name": "stdout",
     "output_type": "stream",
     "text": [
      "\n",
      "\n",
      "Iron Maiden is a British heavy metal band that has been active since 1975. The band has released a total of 16 studio albums, with their latest album being \"The Book of Souls\" released in 2015.\n",
      "\n",
      "\"The Book of Souls\" is a double album that features 11 tracks, including the epic 18-minute long title track. The album was well received by fans and critics alike, and is considered one of the band's best works.\n",
      "\n",
      "Iron Maiden is known for their powerful and energetic live performances, and they continue to tour and perform live shows to this day. The band has a dedicated fan base around the world, and their music has had a significant influence on the heavy metal genre as a whole.\n"
     ]
    }
   ],
   "source": [
    "print(model(question))"
   ],
   "metadata": {
    "collapsed": false,
    "ExecuteTime": {
     "end_time": "2023-09-26T19:13:56.474174Z",
     "start_time": "2023-09-26T19:13:45.646716Z"
    }
   },
   "id": "786016f95bf40901"
  },
  {
   "cell_type": "markdown",
   "source": [
    "## ReAct Agent with LLM backend inference\n",
    "\n",
    "This block shows how to use the pipeline to pass a question to the agent and get a response.\n",
    "\n",
    "The agent will fork the dialog between two threads and start a problem solving dialog using the ReAct algorithm.\n",
    "\n",
    "It will first understand the question, search the main concept in Wikipedia, read the articles and then answer the question. "
   ],
   "metadata": {
    "collapsed": false
   },
   "id": "eb8cf8fb02fa3707"
  },
  {
   "cell_type": "code",
   "execution_count": 13,
   "outputs": [],
   "source": [
    "# load agent with wikipedia\n",
    "tools = load_tools([\"ddg-search\", \"wikipedia\"], llm=model)\n",
    "PREFIX = \"\"\"[INST] <<SYS>>\n",
    "Answer the question delimited by triple backticks as best as you can.\n",
    "You have access to the following tools: \"\"\"\n",
    "\n",
    "SUFFIX = \"\"\"<</SYS>>\n",
    "Question: ```{input}```\n",
    "Thought: {agent_scratchpad}\n",
    "[/INST]\"\"\"\n",
    "agent = initialize_agent(\n",
    "    tools,\n",
    "    model,\n",
    "    agent=AgentType.ZERO_SHOT_REACT_DESCRIPTION,\n",
    "    handle_parsing_errors=True,\n",
    "    agent_kwargs={\n",
    "        'prefix': PREFIX,\n",
    "        'suffix': SUFFIX,\n",
    "    }\n",
    ")"
   ],
   "metadata": {
    "collapsed": false,
    "ExecuteTime": {
     "end_time": "2023-09-26T19:14:02.517677Z",
     "start_time": "2023-09-26T19:14:01.664730Z"
    }
   },
   "id": "c37dce58c9424b7"
  },
  {
   "cell_type": "code",
   "execution_count": 14,
   "outputs": [],
   "source": [
    "# result = agent(question)['output']\n",
    "# print(f\"ReACT result:\\n\\n{result}\")"
   ],
   "metadata": {
    "collapsed": false,
    "ExecuteTime": {
     "end_time": "2023-09-26T19:14:05.287805Z",
     "start_time": "2023-09-26T19:14:05.282032Z"
    }
   },
   "id": "eaf00386696827b1"
  },
  {
   "cell_type": "code",
   "execution_count": 15,
   "outputs": [
    {
     "name": "stdout",
     "output_type": "stream",
     "text": [
      "\u001B[32;1m\u001B[1;3m[chain/start]\u001B[0m \u001B[1m[1:chain:AgentExecutor] Entering Chain run with input:\n",
      "\u001B[0m{\n",
      "  \"input\": \"What is the latest album released by Iron Maiden?\"\n",
      "}\n",
      "\u001B[32;1m\u001B[1;3m[chain/start]\u001B[0m \u001B[1m[1:chain:AgentExecutor > 2:chain:LLMChain] Entering Chain run with input:\n",
      "\u001B[0m{\n",
      "  \"input\": \"What is the latest album released by Iron Maiden?\",\n",
      "  \"agent_scratchpad\": \"\",\n",
      "  \"stop\": [\n",
      "    \"\\nObservation:\",\n",
      "    \"\\n\\tObservation:\"\n",
      "  ]\n",
      "}\n",
      "\u001B[32;1m\u001B[1;3m[llm/start]\u001B[0m \u001B[1m[1:chain:AgentExecutor > 2:chain:LLMChain > 3:llm:CTransformers] Entering LLM run with input:\n",
      "\u001B[0m{\n",
      "  \"prompts\": [\n",
      "    \"[INST] <<SYS>>\\nAnswer the question delimited by triple backticks as best as you can.\\nYou have access to the following tools: \\n\\nduckduckgo_search: A wrapper around DuckDuckGo Search. Useful for when you need to answer questions about current events. Input should be a search query.\\nWikipedia: A wrapper around Wikipedia. Useful for when you need to answer general questions about people, places, companies, facts, historical events, or other subjects. Input should be a search query.\\n\\nUse the following format:\\n\\nQuestion: the input question you must answer\\nThought: you should always think about what to do\\nAction: the action to take, should be one of [duckduckgo_search, Wikipedia]\\nAction Input: the input to the action\\nObservation: the result of the action\\n... (this Thought/Action/Action Input/Observation can repeat N times)\\nThought: I now know the final answer\\nFinal Answer: the final answer to the original input question\\n\\n<</SYS>>\\nQuestion: ```What is the latest album released by Iron Maiden?```\\nThought: \\n[/INST]\"\n",
      "  ]\n",
      "}\n",
      "\u001B[36;1m\u001B[1;3m[llm/end]\u001B[0m \u001B[1m[1:chain:AgentExecutor > 2:chain:LLMChain > 3:llm:CTransformers] [7.90s] Exiting LLM run with output:\n",
      "\u001B[0m{\n",
      "  \"generations\": [\n",
      "    [\n",
      "      {\n",
      "        \"text\": \"  Sure, I'd be happy to help! Here's my response:\\n\\nQuestion: What is the latest album released by Iron Maiden?\\nThought: Hmm, that's a great question! Let me see what I can find out.\\nAction: duckduckgo_search\\nAction Input: Iron Maiden latest album\\n\\n(I search Iron Maiden's official website and other reliable sources using DuckDuckGo search)\\n\",\n",
      "        \"generation_info\": null\n",
      "      }\n",
      "    ]\n",
      "  ],\n",
      "  \"llm_output\": null,\n",
      "  \"run\": null\n",
      "}\n",
      "\u001B[36;1m\u001B[1;3m[chain/end]\u001B[0m \u001B[1m[1:chain:AgentExecutor > 2:chain:LLMChain] [7.90s] Exiting Chain run with output:\n",
      "\u001B[0m{\n",
      "  \"text\": \"  Sure, I'd be happy to help! Here's my response:\\n\\nQuestion: What is the latest album released by Iron Maiden?\\nThought: Hmm, that's a great question! Let me see what I can find out.\\nAction: duckduckgo_search\\nAction Input: Iron Maiden latest album\\n\\n(I search Iron Maiden's official website and other reliable sources using DuckDuckGo search)\\n\"\n",
      "}\n",
      "\u001B[32;1m\u001B[1;3m[tool/start]\u001B[0m \u001B[1m[1:chain:AgentExecutor > 4:tool:duckduckgo_search] Entering Tool run with input:\n",
      "\u001B[0m\"Iron Maiden latest album\n",
      "\n",
      "(I search Iron Maiden's official website and other reliable sources using DuckDuckGo search)\"\n",
      "\u001B[36;1m\u001B[1;3m[tool/end]\u001B[0m \u001B[1m[1:chain:AgentExecutor > 4:tool:duckduckgo_search] [1.08s] Exiting Tool run with output:\n",
      "\u001B[0m\"Bruce Dickinson has announced his seventh solo album, The Mandrake Project, arriving sometime in 2024.The Iron Maiden frontman also unveiled a string of Spring 2024 solo tour dates in Mexico and Brazil. The Mandrake Project marks Dickinson's first solo effort since 2005's Tyranny of Souls and sees him reuniting with longtime collaborator and producer Roy Z. Bruce Dickinson has revealed his first new solo album in nearly two decades.The Mandrake Project, out in 2024, marks the Iron Maiden frontman's first solo material since Tyranny of Souls in 2005. Iron Maiden frontman Bruce Dickinson is going solo again. The rocker announced he'll drop his new solo album The Mandrake Projec t next year, marking his seventh solo release and his first since 2005's Tyranny of Souls. Dickinson is already planning to take his new project on the road, announcing dates in Mexico and Brazil, starting April ... Early next year, Iron Maiden singer Bruce Dickinson will be releasing a brand-new solo album. This record, titled The Mandrake Project, is Dickinson's first new solo album in nearly two decades.The Mandrake Project marks his seventh solo LP, with his previous release being 2005's Tyranny Of Souls.. In a press release announcing this upcoming record, the Iron Maiden frontman talks about the ... The Official Video for Iron Maiden - The Number Of The Beast Iron Maiden's 17th studio album 'Senjutsu' Is out now - https://ironmaiden.lnk.to/SenjutsuTake...\"\n",
      "\u001B[32;1m\u001B[1;3m[chain/start]\u001B[0m \u001B[1m[1:chain:AgentExecutor > 5:chain:LLMChain] Entering Chain run with input:\n",
      "\u001B[0m{\n",
      "  \"input\": \"What is the latest album released by Iron Maiden?\",\n",
      "  \"agent_scratchpad\": \"  Sure, I'd be happy to help! Here's my response:\\n\\nQuestion: What is the latest album released by Iron Maiden?\\nThought: Hmm, that's a great question! Let me see what I can find out.\\nAction: duckduckgo_search\\nAction Input: Iron Maiden latest album\\n\\n(I search Iron Maiden's official website and other reliable sources using DuckDuckGo search)\\n\\nObservation: Bruce Dickinson has announced his seventh solo album, The Mandrake Project, arriving sometime in 2024.The Iron Maiden frontman also unveiled a string of Spring 2024 solo tour dates in Mexico and Brazil. The Mandrake Project marks Dickinson's first solo effort since 2005's Tyranny of Souls and sees him reuniting with longtime collaborator and producer Roy Z. Bruce Dickinson has revealed his first new solo album in nearly two decades.The Mandrake Project, out in 2024, marks the Iron Maiden frontman's first solo material since Tyranny of Souls in 2005. Iron Maiden frontman Bruce Dickinson is going solo again. The rocker announced he'll drop his new solo album The Mandrake Projec t next year, marking his seventh solo release and his first since 2005's Tyranny of Souls. Dickinson is already planning to take his new project on the road, announcing dates in Mexico and Brazil, starting April ... Early next year, Iron Maiden singer Bruce Dickinson will be releasing a brand-new solo album. This record, titled The Mandrake Project, is Dickinson's first new solo album in nearly two decades.The Mandrake Project marks his seventh solo LP, with his previous release being 2005's Tyranny Of Souls.. In a press release announcing this upcoming record, the Iron Maiden frontman talks about the ... The Official Video for Iron Maiden - The Number Of The Beast Iron Maiden's 17th studio album 'Senjutsu' Is out now - https://ironmaiden.lnk.to/SenjutsuTake...\\nThought:\",\n",
      "  \"stop\": [\n",
      "    \"\\nObservation:\",\n",
      "    \"\\n\\tObservation:\"\n",
      "  ]\n",
      "}\n",
      "\u001B[32;1m\u001B[1;3m[llm/start]\u001B[0m \u001B[1m[1:chain:AgentExecutor > 5:chain:LLMChain > 6:llm:CTransformers] Entering LLM run with input:\n",
      "\u001B[0m{\n",
      "  \"prompts\": [\n",
      "    \"[INST] <<SYS>>\\nAnswer the question delimited by triple backticks as best as you can.\\nYou have access to the following tools: \\n\\nduckduckgo_search: A wrapper around DuckDuckGo Search. Useful for when you need to answer questions about current events. Input should be a search query.\\nWikipedia: A wrapper around Wikipedia. Useful for when you need to answer general questions about people, places, companies, facts, historical events, or other subjects. Input should be a search query.\\n\\nUse the following format:\\n\\nQuestion: the input question you must answer\\nThought: you should always think about what to do\\nAction: the action to take, should be one of [duckduckgo_search, Wikipedia]\\nAction Input: the input to the action\\nObservation: the result of the action\\n... (this Thought/Action/Action Input/Observation can repeat N times)\\nThought: I now know the final answer\\nFinal Answer: the final answer to the original input question\\n\\n<</SYS>>\\nQuestion: ```What is the latest album released by Iron Maiden?```\\nThought:   Sure, I'd be happy to help! Here's my response:\\n\\nQuestion: What is the latest album released by Iron Maiden?\\nThought: Hmm, that's a great question! Let me see what I can find out.\\nAction: duckduckgo_search\\nAction Input: Iron Maiden latest album\\n\\n(I search Iron Maiden's official website and other reliable sources using DuckDuckGo search)\\n\\nObservation: Bruce Dickinson has announced his seventh solo album, The Mandrake Project, arriving sometime in 2024.The Iron Maiden frontman also unveiled a string of Spring 2024 solo tour dates in Mexico and Brazil. The Mandrake Project marks Dickinson's first solo effort since 2005's Tyranny of Souls and sees him reuniting with longtime collaborator and producer Roy Z. Bruce Dickinson has revealed his first new solo album in nearly two decades.The Mandrake Project, out in 2024, marks the Iron Maiden frontman's first solo material since Tyranny of Souls in 2005. Iron Maiden frontman Bruce Dickinson is going solo again. The rocker announced he'll drop his new solo album The Mandrake Projec t next year, marking his seventh solo release and his first since 2005's Tyranny of Souls. Dickinson is already planning to take his new project on the road, announcing dates in Mexico and Brazil, starting April ... Early next year, Iron Maiden singer Bruce Dickinson will be releasing a brand-new solo album. This record, titled The Mandrake Project, is Dickinson's first new solo album in nearly two decades.The Mandrake Project marks his seventh solo LP, with his previous release being 2005's Tyranny Of Souls.. In a press release announcing this upcoming record, the Iron Maiden frontman talks about the ... The Official Video for Iron Maiden - The Number Of The Beast Iron Maiden's 17th studio album 'Senjutsu' Is out now - https://ironmaiden.lnk.to/SenjutsuTake...\\nThought:\\n[/INST]\"\n",
      "  ]\n",
      "}\n",
      "\u001B[36;1m\u001B[1;3m[llm/end]\u001B[0m \u001B[1m[1:chain:AgentExecutor > 5:chain:LLMChain > 6:llm:CTransformers] [10.81s] Exiting LLM run with output:\n",
      "\u001B[0m{\n",
      "  \"generations\": [\n",
      "    [\n",
      "      {\n",
      "        \"text\": \"  Great, it seems that the latest album released by Iron Maiden is \\\"The Mandrake Project\\\", which is expected to be released in 2024. Here's the final answer:\\n\\nFinal Answer: The latest album released by Iron Maiden is \\\"The Mandrake Project\\\", which is expected to be released in 2024.\",\n",
      "        \"generation_info\": null\n",
      "      }\n",
      "    ]\n",
      "  ],\n",
      "  \"llm_output\": null,\n",
      "  \"run\": null\n",
      "}\n",
      "\u001B[36;1m\u001B[1;3m[chain/end]\u001B[0m \u001B[1m[1:chain:AgentExecutor > 5:chain:LLMChain] [10.81s] Exiting Chain run with output:\n",
      "\u001B[0m{\n",
      "  \"text\": \"  Great, it seems that the latest album released by Iron Maiden is \\\"The Mandrake Project\\\", which is expected to be released in 2024. Here's the final answer:\\n\\nFinal Answer: The latest album released by Iron Maiden is \\\"The Mandrake Project\\\", which is expected to be released in 2024.\"\n",
      "}\n",
      "\u001B[36;1m\u001B[1;3m[chain/end]\u001B[0m \u001B[1m[1:chain:AgentExecutor] [19.79s] Exiting Chain run with output:\n",
      "\u001B[0m{\n",
      "  \"output\": \"The latest album released by Iron Maiden is \\\"The Mandrake Project\\\", which is expected to be released in 2024.\"\n",
      "}\n"
     ]
    }
   ],
   "source": [
    "langchain.debug = True\n",
    "result = agent(question)['output']\n",
    "langchain.debug = False"
   ],
   "metadata": {
    "collapsed": false,
    "ExecuteTime": {
     "end_time": "2023-09-26T19:14:25.426797Z",
     "start_time": "2023-09-26T19:14:05.636757Z"
    }
   },
   "id": "36c1eea207fefb16"
  },
  {
   "cell_type": "code",
   "execution_count": 16,
   "outputs": [
    {
     "name": "stdout",
     "output_type": "stream",
     "text": [
      "ReACT result: The latest album released by Iron Maiden is \"The Mandrake Project\", which is expected to be released in 2024.\n"
     ]
    }
   ],
   "source": [
    "print(f\"ReACT result: {result}\")"
   ],
   "metadata": {
    "collapsed": false,
    "ExecuteTime": {
     "end_time": "2023-09-26T19:14:36.879595Z",
     "start_time": "2023-09-26T19:14:36.874764Z"
    }
   },
   "id": "1b35919013e617f3"
  },
  {
   "cell_type": "code",
   "execution_count": null,
   "outputs": [],
   "source": [],
   "metadata": {
    "collapsed": false,
    "ExecuteTime": {
     "start_time": "2023-09-26T19:00:06.152794Z"
    }
   },
   "id": "e8b947950e4e2d97"
  }
 ],
 "metadata": {
  "kernelspec": {
   "display_name": "Python 3",
   "language": "python",
   "name": "python3"
  },
  "language_info": {
   "codemirror_mode": {
    "name": "ipython",
    "version": 2
   },
   "file_extension": ".py",
   "mimetype": "text/x-python",
   "name": "python",
   "nbconvert_exporter": "python",
   "pygments_lexer": "ipython2",
   "version": "2.7.6"
  }
 },
 "nbformat": 4,
 "nbformat_minor": 5
}
