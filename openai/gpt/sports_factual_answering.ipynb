{
 "cells": [
  {
   "cell_type": "code",
   "execution_count": 9,
   "id": "650e4e01",
   "metadata": {},
   "outputs": [],
   "source": [
    "import openai\n",
    "from datetime import date"
   ]
  },
  {
   "cell_type": "code",
   "execution_count": 12,
   "id": "83067e5e",
   "metadata": {},
   "outputs": [
    {
     "name": "stdout",
     "output_type": "stream",
     "text": [
      "Q: List of 3 important international sport historical facts occurred on January 13\n"
     ]
    }
   ],
   "source": [
    "# https://openai.com/api/\n",
    "openai.api_key = \"?\"\n",
    "\n",
    "# Question\n",
    "date_reference = date.today().strftime(\"%B %d\")\n",
    "question= f\"Q: List of 3 important international sport historical facts occurred on {date_reference}\"\n",
    "print(question)"
   ]
  },
  {
   "cell_type": "code",
   "execution_count": 13,
   "id": "f4cb7872",
   "metadata": {},
   "outputs": [],
   "source": [
    "response = openai.Completion.create(\n",
    "  model=\"text-davinci-003\",\n",
    "  prompt=question,\n",
    "  temperature=0,\n",
    "  max_tokens=150,\n",
    "  top_p=1.0,\n",
    "  frequency_penalty=0.0,\n",
    "  presence_penalty=0.0\n",
    ")\n"
   ]
  },
  {
   "cell_type": "code",
   "execution_count": 14,
   "id": "5a95725f",
   "metadata": {},
   "outputs": [
    {
     "name": "stdout",
     "output_type": "stream",
     "text": [
      "\n",
      "\n",
      "1. On January 13, 1924, the first Winter Olympic Games were held in Chamonix, France.\n",
      "\n",
      "2. On January 13, 1936, the first ever basketball game was played in Madison Square Garden in New York City.\n",
      "\n",
      "3. On January 13, 1998, the first ever Women's World Cup of Soccer was held in China.\n"
     ]
    }
   ],
   "source": [
    "print(response.choices[0].text)"
   ]
  },
  {
   "cell_type": "code",
   "execution_count": 15,
   "id": "d9aa5497",
   "metadata": {},
   "outputs": [
    {
     "name": "stdout",
     "output_type": "stream",
     "text": [
      "{\n",
      "  \"choices\": [\n",
      "    {\n",
      "      \"finish_reason\": \"stop\",\n",
      "      \"index\": 0,\n",
      "      \"logprobs\": null,\n",
      "      \"text\": \"\\n\\n1. On January 13, 1924, the first Winter Olympic Games were held in Chamonix, France.\\n\\n2. On January 13, 1936, the first ever basketball game was played in Madison Square Garden in New York City.\\n\\n3. On January 13, 1998, the first ever Women's World Cup of Soccer was held in China.\"\n",
      "    }\n",
      "  ],\n",
      "  \"created\": 1673628244,\n",
      "  \"id\": \"cmpl-6YHRsZzJ100DJXT4Bka6Z8tsDCgej\",\n",
      "  \"model\": \"text-davinci-003\",\n",
      "  \"object\": \"text_completion\",\n",
      "  \"usage\": {\n",
      "    \"completion_tokens\": 74,\n",
      "    \"prompt_tokens\": 14,\n",
      "    \"total_tokens\": 88\n",
      "  }\n",
      "}\n"
     ]
    }
   ],
   "source": [
    "print(response)"
   ]
  },
  {
   "cell_type": "code",
   "execution_count": null,
   "id": "730bdd04",
   "metadata": {},
   "outputs": [],
   "source": []
  }
 ],
 "metadata": {
  "kernelspec": {
   "display_name": "Python 3 (ipykernel)",
   "language": "python",
   "name": "python3"
  },
  "language_info": {
   "codemirror_mode": {
    "name": "ipython",
    "version": 3
   },
   "file_extension": ".py",
   "mimetype": "text/x-python",
   "name": "python",
   "nbconvert_exporter": "python",
   "pygments_lexer": "ipython3",
   "version": "3.9.15"
  }
 },
 "nbformat": 4,
 "nbformat_minor": 5
}
