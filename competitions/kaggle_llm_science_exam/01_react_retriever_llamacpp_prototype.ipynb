{
 "cells": [
  {
   "cell_type": "code",
   "execution_count": 1,
   "id": "6bb9fe6fc1b3ceaf",
   "metadata": {
    "ExecuteTime": {
     "end_time": "2023-08-19T16:14:35.399094Z",
     "start_time": "2023-08-19T16:14:31.916869Z"
    },
    "collapsed": false,
    "jupyter": {
     "outputs_hidden": false
    }
   },
   "outputs": [],
   "source": [
    "import langchain\n",
    "from langchain.agents import initialize_agent, AgentType, Tool\n",
    "from langchain.chains import RetrievalQA\n",
    "from langchain.document_loaders import ArxivLoader\n",
    "from langchain.embeddings import HuggingFaceInstructEmbeddings\n",
    "from langchain.indexes import VectorstoreIndexCreator\n",
    "from langchain.llms import LlamaCpp\n",
    "from langchain.prompts import PromptTemplate"
   ]
  },
  {
   "cell_type": "code",
   "execution_count": 30,
   "id": "e1ef56d3fa6a1159",
   "metadata": {
    "ExecuteTime": {
     "end_time": "2023-08-19T16:14:35.404305Z",
     "start_time": "2023-08-19T16:14:35.400113Z"
    },
    "collapsed": false,
    "jupyter": {
     "outputs_hidden": false
    }
   },
   "outputs": [],
   "source": [
    "# Globals\n",
    "embedding_model = 'hkunlp/instructor-xl'\n",
    "instruction_model_path = \"/Users/bsantanna/dev/workspace/community/Llama-2-13b-chat-hf/ggml-model-f16.bin\"\n",
    "n_gpu_layers = 1\n",
    "n_batch = 512\n",
    "n_ctx = 4096"
   ]
  },
  {
   "cell_type": "code",
   "execution_count": 31,
   "id": "bc9ccffa6fc11991",
   "metadata": {
    "ExecuteTime": {
     "end_time": "2023-08-19T16:14:50.273294Z",
     "start_time": "2023-08-19T16:14:35.403055Z"
    },
    "collapsed": false,
    "jupyter": {
     "outputs_hidden": false
    }
   },
   "outputs": [
    {
     "name": "stdout",
     "output_type": "stream",
     "text": [
      "load INSTRUCTOR_Transformer\n",
      "max_seq_length  512\n"
     ]
    }
   ],
   "source": [
    "# initialize embeddings model\n",
    "embedding = HuggingFaceInstructEmbeddings(model_name=embedding_model)"
   ]
  },
  {
   "cell_type": "code",
   "execution_count": 32,
   "id": "a68e4bcaf4a13b88",
   "metadata": {
    "ExecuteTime": {
     "end_time": "2023-08-19T16:14:50.624784Z",
     "start_time": "2023-08-19T16:14:50.274111Z"
    },
    "collapsed": false,
    "jupyter": {
     "outputs_hidden": false
    }
   },
   "outputs": [
    {
     "name": "stderr",
     "output_type": "stream",
     "text": [
      "llama.cpp: loading model from /Users/bsantanna/dev/workspace/community/Llama-2-13b-chat-hf/ggml-model-f16.bin\n",
      "llama_model_load_internal: format     = ggjt v1 (pre #1405)\n",
      "llama_model_load_internal: n_vocab    = 32000\n",
      "llama_model_load_internal: n_ctx      = 4096\n",
      "llama_model_load_internal: n_embd     = 5120\n",
      "llama_model_load_internal: n_mult     = 6912\n",
      "llama_model_load_internal: n_head     = 40\n",
      "llama_model_load_internal: n_head_kv  = 40\n",
      "llama_model_load_internal: n_layer    = 40\n",
      "llama_model_load_internal: n_rot      = 128\n",
      "llama_model_load_internal: n_gqa      = 1\n",
      "llama_model_load_internal: rnorm_eps  = 1.0e-06\n",
      "llama_model_load_internal: n_ff       = 13824\n",
      "llama_model_load_internal: freq_base  = 10000.0\n",
      "llama_model_load_internal: freq_scale = 1\n",
      "llama_model_load_internal: ftype      = 1 (mostly F16)\n",
      "llama_model_load_internal: model size = 13B\n",
      "llama_model_load_internal: ggml ctx size =    0.11 MB\n",
      "llama_model_load_internal: mem required  = 25491.69 MB (+ 3200.00 MB per state)\n",
      "llama_new_context_with_model: kv self size  = 3200.00 MB\n",
      "ggml_metal_init: allocating\n",
      "ggml_metal_init: using MPS\n",
      "ggml_metal_init: loading '/Users/bsantanna/miniforge3/envs/ml/lib/python3.11/site-packages/llama_cpp/ggml-metal.metal'\n",
      "ggml_metal_init: loaded kernel_add                            0x34d458150\n",
      "ggml_metal_init: loaded kernel_add_row                        0x34d457850\n",
      "ggml_metal_init: loaded kernel_mul                            0x34d8eed60\n",
      "ggml_metal_init: loaded kernel_mul_row                        0x34d8f1600\n",
      "ggml_metal_init: loaded kernel_scale                          0x34d8f2800\n",
      "ggml_metal_init: loaded kernel_silu                           0x34d2aab60\n",
      "ggml_metal_init: loaded kernel_relu                           0x34d5bb200\n",
      "ggml_metal_init: loaded kernel_gelu                           0x34d8f4d10\n",
      "ggml_metal_init: loaded kernel_soft_max                       0x34d8f4f70\n",
      "ggml_metal_init: loaded kernel_diag_mask_inf                  0x34d8f51d0\n",
      "ggml_metal_init: loaded kernel_get_rows_f16                   0x34d8f5430\n",
      "ggml_metal_init: loaded kernel_get_rows_q4_0                  0x34d8f5690\n",
      "ggml_metal_init: loaded kernel_get_rows_q4_1                  0x34d8f58f0\n",
      "ggml_metal_init: loaded kernel_get_rows_q2_K                  0x34d8f5b50\n",
      "ggml_metal_init: loaded kernel_get_rows_q3_K                  0x34d8f5db0\n",
      "ggml_metal_init: loaded kernel_get_rows_q4_K                  0x34d8f6010\n",
      "ggml_metal_init: loaded kernel_get_rows_q5_K                  0x34d8f6270\n",
      "ggml_metal_init: loaded kernel_get_rows_q6_K                  0x34d8f64d0\n",
      "ggml_metal_init: loaded kernel_rms_norm                       0x34d8f6730\n",
      "ggml_metal_init: loaded kernel_norm                           0x34d8f6990\n",
      "ggml_metal_init: loaded kernel_mul_mat_f16_f32                0x34d8f6bf0\n",
      "ggml_metal_init: loaded kernel_mul_mat_q4_0_f32               0x34d8f6e50\n",
      "ggml_metal_init: loaded kernel_mul_mat_q4_1_f32               0x34d8f70b0\n",
      "ggml_metal_init: loaded kernel_mul_mat_q2_K_f32               0x34d8f7310\n",
      "ggml_metal_init: loaded kernel_mul_mat_q3_K_f32               0x34d8f7570\n",
      "ggml_metal_init: loaded kernel_mul_mat_q4_K_f32               0x34d8f77d0\n",
      "ggml_metal_init: loaded kernel_mul_mat_q5_K_f32               0x34d8f7a30\n",
      "ggml_metal_init: loaded kernel_mul_mat_q6_K_f32               0x34d8f7c90\n",
      "ggml_metal_init: loaded kernel_rope                           0x34d8f7ef0\n",
      "ggml_metal_init: loaded kernel_alibi_f32                      0x34d8f8150\n",
      "ggml_metal_init: loaded kernel_cpy_f32_f16                    0x34d8f83b0\n",
      "ggml_metal_init: loaded kernel_cpy_f32_f32                    0x34d8f8610\n",
      "ggml_metal_init: loaded kernel_cpy_f16_f16                    0x34d8f8870\n",
      "ggml_metal_init: recommendedMaxWorkingSetSize = 49152.00 MB\n",
      "ggml_metal_init: hasUnifiedMemory             = true\n",
      "ggml_metal_init: maxTransferRate              = built-in GPU\n",
      "llama_new_context_with_model: max tensor size =   312.50 MB\n",
      "ggml_metal_add_buffer: allocated 'data            ' buffer, size = 24827.03 MB, (40258.64 / 49152.00)\n",
      "ggml_metal_add_buffer: allocated 'eval            ' buffer, size =    12.00 MB, (40270.64 / 49152.00)\n",
      "ggml_metal_add_buffer: allocated 'kv              ' buffer, size =  3202.00 MB, (43472.64 / 49152.00)\n",
      "ggml_metal_add_buffer: allocated 'scr0            ' buffer, size =   461.00 MB, (43933.64 / 49152.00)\n",
      "ggml_metal_add_buffer: allocated 'scr1            ' buffer, size =   192.00 MB, (44125.64 / 49152.00)\n"
     ]
    }
   ],
   "source": [
    "# Load LLM instruction following model\n",
    "llm = LlamaCpp(\n",
    "    model_path=instruction_model_path,\n",
    "    n_gpu_layers=n_gpu_layers,\n",
    "    n_batch=n_batch,\n",
    "    n_ctx=n_ctx,\n",
    "    f16_kv=True,\n",
    "    verbose=False,\n",
    ")"
   ]
  },
  {
   "cell_type": "code",
   "execution_count": 5,
   "id": "141c59e626bb5c74",
   "metadata": {
    "ExecuteTime": {
     "end_time": "2023-08-19T16:16:30.299117Z",
     "start_time": "2023-08-19T16:14:50.624946Z"
    },
    "collapsed": false,
    "jupyter": {
     "outputs_hidden": false
    }
   },
   "outputs": [],
   "source": [
    "# Initialize documents\n",
    "loader = ArxivLoader(query=\"dynamic scaling in self-similar systems\", load_max_docs=20)\n",
    "documents = loader.load()"
   ]
  },
  {
   "cell_type": "code",
   "execution_count": 6,
   "id": "6d2ebf75a98a91f5",
   "metadata": {
    "ExecuteTime": {
     "end_time": "2023-08-19T16:18:12.198509Z",
     "start_time": "2023-08-19T16:16:30.301889Z"
    },
    "collapsed": false,
    "jupyter": {
     "outputs_hidden": false
    }
   },
   "outputs": [],
   "source": [
    "# Initialize index\n",
    "index = VectorstoreIndexCreator(embedding=embedding).from_documents(documents)"
   ]
  },
  {
   "cell_type": "code",
   "execution_count": 7,
   "id": "52c79a091e453381",
   "metadata": {
    "ExecuteTime": {
     "end_time": "2023-08-19T16:18:12.202873Z",
     "start_time": "2023-08-19T16:18:12.199840Z"
    },
    "collapsed": false,
    "jupyter": {
     "outputs_hidden": false
    }
   },
   "outputs": [],
   "source": [
    "# initialize retriever\n",
    "retriever = index.vectorstore.as_retriever()"
   ]
  },
  {
   "cell_type": "code",
   "execution_count": 33,
   "id": "dd02d87f7767119a",
   "metadata": {
    "ExecuteTime": {
     "end_time": "2023-08-19T16:18:12.206668Z",
     "start_time": "2023-08-19T16:18:12.202710Z"
    },
    "collapsed": false,
    "jupyter": {
     "outputs_hidden": false
    }
   },
   "outputs": [],
   "source": [
    "# initialize retrieval qa chain\n",
    "qa_chain = RetrievalQA.from_chain_type(\n",
    "    llm=llm,\n",
    "    chain_type=\"refine\",\n",
    "    retriever=retriever,\n",
    "    verbose=True\n",
    ")"
   ]
  },
  {
   "cell_type": "code",
   "execution_count": 34,
   "id": "4d2c45c4cdd32eda",
   "metadata": {
    "ExecuteTime": {
     "end_time": "2023-08-19T16:20:49.968871Z",
     "start_time": "2023-08-19T16:20:49.967964Z"
    },
    "collapsed": false,
    "jupyter": {
     "outputs_hidden": false
    }
   },
   "outputs": [],
   "source": [
    "# tools = load_tools(['llm-math'], llm=llm)\n",
    "tools = [\n",
    "    Tool(\n",
    "        name=\"dynamic scaling in self-similar systems QA system\",\n",
    "        func=qa_chain.run,\n",
    "        description=\"Useful for when you need to clarify your understanding in problem solving concepts related to dynamic scaling in self-similar systems. Input should be a fully formed question that improves your understanding. Ensure that the question does not make reference to any unclear pronouns used in the preceding conversation.\",\n",
    "    ),\n",
    "]"
   ]
  },
  {
   "cell_type": "code",
   "execution_count": 35,
   "id": "be0c7f24f56c3641",
   "metadata": {
    "ExecuteTime": {
     "end_time": "2023-08-19T16:20:49.970699Z",
     "start_time": "2023-08-19T16:20:49.969207Z"
    },
    "collapsed": false,
    "jupyter": {
     "outputs_hidden": false
    }
   },
   "outputs": [],
   "source": [
    "# initialize agent\n",
    "react = initialize_agent(tools, llm, agent=AgentType.ZERO_SHOT_REACT_DESCRIPTION, verbose=True)"
   ]
  },
  {
   "cell_type": "code",
   "execution_count": 36,
   "id": "b016dd73a5c6420c",
   "metadata": {
    "ExecuteTime": {
     "start_time": "2023-08-19T16:20:49.970549Z"
    },
    "collapsed": false,
    "jupyter": {
     "outputs_hidden": false
    }
   },
   "outputs": [],
   "source": [
    "# Initialize prompt \n",
    "prompt = PromptTemplate.from_template(\"\"\"\n",
    "Follow these steps to effectively solve the multiple-choice problem enclosed within <>, considering answers that may vary in precision:\n",
    "\n",
    "1. Learn from given context until you reach a comprehensive understanding of each concept in the question and can solve the problem with confidence.\n",
    "   \n",
    "2. Break down the question to identify incremental steps that lead to the solution. Provide detailed reasoning throughout the process, including analysis of relevant concepts and cross-validation from qa tools to ensure accuracy and confidence in your response.\n",
    "   \n",
    "3. Progressively work through the solution, focusing on increasing your confidence in the accuracy of options (A-E) with further validations using qa tools.\n",
    "\n",
    "4. Assess and eliminate options (A-E) that are incorrect or inaccurate, remember to perform incremental steps including analysis of relevant concepts and cross-validation from qa tools to ensure you are not eliminating the correct option.\n",
    "\n",
    "5. Validate the remaining options using a cause-and-effect approach along with necessary calculations, performing incremental steps including analysis of relevant concepts and cross-validation from qa tools to ensure accuracy and confidence in your response.\n",
    "\n",
    "6. Identify the correct option and return the corresponding letter (A-E). Before finalizing your answer, ensure your calculations substantiate its correctness performing incremental steps including analysis of relevant concepts and cross-validation from qa tools to ensure accuracy and confidence in your response.\n",
    "\n",
    "7. Choose the option from (A-E) that most closely aligns with your conclusion based on the evidence and reasoning you have provided.\n",
    "\n",
    "<\n",
    "{question}\n",
    "\n",
    "{options}\n",
    ">\"\"\")"
   ]
  },
  {
   "cell_type": "code",
   "execution_count": 37,
   "id": "3612d12b17c17ed1",
   "metadata": {
    "ExecuteTime": {
     "end_time": "2023-08-19T16:24:38.274963Z",
     "start_time": "2023-08-19T16:24:38.270079Z"
    },
    "collapsed": false,
    "jupyter": {
     "outputs_hidden": false
    }
   },
   "outputs": [],
   "source": [
    "# Format input\n",
    "question = \"\"\"Which of the following is an accurate definition of dynamic scaling in self-similar systems?\"\"\"\n",
    "options = \"\"\"\n",
    "A - Dynamic scaling refers to the evolution of self-similar systems, where data obtained from snapshots at fixed times exhibits similarity to the respective data taken from snapshots of any earlier or later time. This similarity is tested by a certain time-dependent stochastic variable x.\n",
    "\n",
    "B - Dynamic scaling refers to the non-evolution of self-similar systems, where data obtained from snapshots at fixed times is similar to the respective data taken from snapshots of any earlier or later time. This similarity is tested by a certain time-dependent stochastic variable x.\n",
    "\t\n",
    "C - Dynamic scaling refers to the evolution of self-similar systems, where data obtained from snapshots at fixed times is dissimilar to the respective data taken from snapshots of any earlier or later time. This dissimilarity is tested by a certain time-independent stochastic variable y.\n",
    "\n",
    "D - Dynamic scaling refers to the non-evolution of self-similar systems, where data obtained from snapshots at fixed times is dissimilar to the respective data taken from snapshots of any earlier or later time. This dissimilarity is tested by a certain time-independent stochastic variable y.\n",
    "\n",
    "E - Dynamic scaling refers to the evolution of self-similar systems, where data obtained from snapshots at fixed times is independent of the respective data taken from snapshots of any earlier or later time. This independence is tested by a certain time-dependent stochastic variable z.\n",
    "\"\"\"\n",
    "formatted_input = prompt.format_prompt(\n",
    "    question=question,\n",
    "    options=options\n",
    ")"
   ]
  },
  {
   "cell_type": "code",
   "execution_count": null,
   "id": "eae919e20ef0aabf",
   "metadata": {
    "ExecuteTime": {
     "end_time": "2023-08-19T16:25:50.348786Z",
     "start_time": "2023-08-19T16:24:39.151463Z"
    },
    "collapsed": false,
    "jupyter": {
     "outputs_hidden": false
    }
   },
   "outputs": [
    {
     "name": "stdout",
     "output_type": "stream",
     "text": [
      "\u001b[32;1m\u001b[1;3m[chain/start]\u001b[0m \u001b[1m[1:RunTypeEnum.chain:AgentExecutor] Entering Chain run with input:\n",
      "\u001b[0m[inputs]\n",
      "\u001b[32;1m\u001b[1;3m[chain/start]\u001b[0m \u001b[1m[1:RunTypeEnum.chain:AgentExecutor > 2:RunTypeEnum.chain:LLMChain] Entering Chain run with input:\n",
      "\u001b[0m[inputs]\n",
      "\u001b[32;1m\u001b[1;3m[llm/start]\u001b[0m \u001b[1m[1:RunTypeEnum.chain:AgentExecutor > 2:RunTypeEnum.chain:LLMChain > 3:RunTypeEnum.llm:LlamaCpp] Entering LLM run with input:\n",
      "\u001b[0m{\n",
      "  \"prompts\": [\n",
      "    \"Answer the following questions as best you can. You have access to the following tools:\\n\\ndynamic scaling in self-similar systems QA system: Useful for when you need to clarify your understanding in problem solving concepts related to dynamic scaling in self-similar systems. Input should be a fully formed question that improves your understanding. Ensure that the question does not make reference to any unclear pronouns used in the preceding conversation.\\n\\nUse the following format:\\n\\nQuestion: the input question you must answer\\nThought: you should always think about what to do\\nAction: the action to take, should be one of [dynamic scaling in self-similar systems QA system]\\nAction Input: the input to the action\\nObservation: the result of the action\\n... (this Thought/Action/Action Input/Observation can repeat N times)\\nThought: I now know the final answer\\nFinal Answer: the final answer to the original input question\\n\\nBegin!\\n\\nQuestion: text='\\\\nFollow these steps to effectively solve the multiple-choice problem enclosed within <>, considering answers that may vary in precision:\\\\n\\\\n1. Learn from given context until you reach a comprehensive understanding of each concept in the question and can solve the problem with confidence.\\\\n   \\\\n2. Break down the question to identify incremental steps that lead to the solution. Provide detailed reasoning throughout the process, including analysis of relevant concepts and cross-validation from qa tools to ensure accuracy and confidence in your response.\\\\n   \\\\n3. Progressively work through the solution, focusing on increasing your confidence in the accuracy of options (A-E) with further validations using qa tools.\\\\n\\\\n4. Assess and eliminate options (A-E) that are incorrect or inaccurate, remember to perform incremental steps including analysis of relevant concepts and cross-validation from qa tools to ensure you are not eliminating the correct option.\\\\n\\\\n5. Validate the remaining options using a cause-and-effect approach along with necessary calculations, performing incremental steps including analysis of relevant concepts and cross-validation from qa tools to ensure accuracy and confidence in your response.\\\\n\\\\n6. Identify the correct option and return the corresponding letter (A-E). Before finalizing your answer, ensure your calculations substantiate its correctness performing incremental steps including analysis of relevant concepts and cross-validation from qa tools to ensure accuracy and confidence in your response.\\\\n\\\\n7. Choose the option from (A-E) that most closely aligns with your conclusion based on the evidence and reasoning you have provided.\\\\n\\\\n<\\\\nWhich of the following is an accurate definition of dynamic scaling in self-similar systems?\\\\n\\\\n\\\\nA - Dynamic scaling refers to the evolution of self-similar systems, where data obtained from snapshots at fixed times exhibits similarity to the respective data taken from snapshots of any earlier or later time. This similarity is tested by a certain time-dependent stochastic variable x.\\\\n\\\\nB - Dynamic scaling refers to the non-evolution of self-similar systems, where data obtained from snapshots at fixed times is similar to the respective data taken from snapshots of any earlier or later time. This similarity is tested by a certain time-dependent stochastic variable x.\\\\n\\\\t\\\\nC - Dynamic scaling refers to the evolution of self-similar systems, where data obtained from snapshots at fixed times is dissimilar to the respective data taken from snapshots of any earlier or later time. This dissimilarity is tested by a certain time-independent stochastic variable y.\\\\n\\\\nD - Dynamic scaling refers to the non-evolution of self-similar systems, where data obtained from snapshots at fixed times is dissimilar to the respective data taken from snapshots of any earlier or later time. This dissimilarity is tested by a certain time-independent stochastic variable y.\\\\n\\\\nE - Dynamic scaling refers to the evolution of self-similar systems, where data obtained from snapshots at fixed times is independent of the respective data taken from snapshots of any earlier or later time. This independence is tested by a certain time-dependent stochastic variable z.\\\\n\\\\n>'\\nThought:\"\n",
      "  ]\n",
      "}\n"
     ]
    }
   ],
   "source": [
    "langchain.debug=True\n",
    "result = react(formatted_input)\n",
    "langchain.debug=False"
   ]
  },
  {
   "cell_type": "code",
   "execution_count": null,
   "id": "8920a3ee5c55fddc",
   "metadata": {
    "ExecuteTime": {
     "end_time": "2023-08-19T16:26:10.541892Z",
     "start_time": "2023-08-19T16:26:10.533508Z"
    },
    "collapsed": false,
    "jupyter": {
     "outputs_hidden": false
    }
   },
   "outputs": [],
   "source": [
    "print(result['output'])"
   ]
  },
  {
   "cell_type": "code",
   "execution_count": null,
   "id": "cd0f5af51e9ef5c1",
   "metadata": {
    "collapsed": false,
    "jupyter": {
     "outputs_hidden": false
    }
   },
   "outputs": [],
   "source": []
  },
  {
   "cell_type": "code",
   "execution_count": null,
   "id": "9d6158a1-98c7-4bb6-badd-cb81072e5ec3",
   "metadata": {},
   "outputs": [],
   "source": []
  }
 ],
 "metadata": {
  "kernelspec": {
   "display_name": "Python 3 (ipykernel)",
   "language": "python",
   "name": "python3"
  },
  "language_info": {
   "codemirror_mode": {
    "name": "ipython",
    "version": 3
   },
   "file_extension": ".py",
   "mimetype": "text/x-python",
   "name": "python",
   "nbconvert_exporter": "python",
   "pygments_lexer": "ipython3",
   "version": "3.11.4"
  }
 },
 "nbformat": 4,
 "nbformat_minor": 5
}
