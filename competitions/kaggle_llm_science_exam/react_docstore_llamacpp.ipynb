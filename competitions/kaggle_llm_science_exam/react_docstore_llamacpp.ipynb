{
 "cells": [
  {
   "cell_type": "code",
   "execution_count": 1,
   "outputs": [],
   "source": [
    "import langchain\n",
    "from langchain.agents import initialize_agent, load_tools, AgentType, Tool\n",
    "from langchain.agents.react.base import DocstoreExplorer\n",
    "from langchain.chains import RetrievalQA\n",
    "from langchain.docstore import DocstoreFn\n",
    "from langchain.document_loaders import ArxivLoader\n",
    "from langchain.embeddings import HuggingFaceInstructEmbeddings\n",
    "from langchain.indexes import VectorstoreIndexCreator\n",
    "from langchain.llms import LlamaCpp\n",
    "from langchain.vectorstores import DocArrayInMemorySearch\n",
    "from langchain.prompts import PromptTemplate"
   ],
   "metadata": {
    "collapsed": false,
    "ExecuteTime": {
     "end_time": "2023-08-18T13:24:28.096581Z",
     "start_time": "2023-08-18T13:24:24.797307Z"
    }
   },
   "id": "6bb9fe6fc1b3ceaf"
  },
  {
   "cell_type": "code",
   "execution_count": 2,
   "outputs": [],
   "source": [
    "# Globals\n",
    "embedding_model = 'hkunlp/instructor-xl'\n",
    "instruction_model_path = \"/Users/bsantanna/dev/workspace/community/Llama-2-13b-chat-hf/ggml-model-f16.bin\"\n",
    "n_gpu_layers = 1\n",
    "n_batch = 512\n",
    "n_ctx = 4096"
   ],
   "metadata": {
    "collapsed": false,
    "ExecuteTime": {
     "end_time": "2023-08-18T13:24:28.101765Z",
     "start_time": "2023-08-18T13:24:28.097240Z"
    }
   },
   "id": "e1ef56d3fa6a1159"
  },
  {
   "cell_type": "code",
   "execution_count": 3,
   "outputs": [
    {
     "name": "stderr",
     "output_type": "stream",
     "text": [
      "/Users/bsantanna/miniforge3/envs/ml/lib/python3.11/site-packages/InstructorEmbedding/instructor.py:7: TqdmExperimentalWarning: Using `tqdm.autonotebook.tqdm` in notebook mode. Use `tqdm.tqdm` instead to force console mode (e.g. in jupyter console)\n",
      "  from tqdm.autonotebook import trange\n"
     ]
    },
    {
     "name": "stdout",
     "output_type": "stream",
     "text": [
      "load INSTRUCTOR_Transformer\n",
      "'NoneType' object has no attribute 'cadam32bit_grad_fp32'\n"
     ]
    },
    {
     "name": "stderr",
     "output_type": "stream",
     "text": [
      "/Users/bsantanna/miniforge3/envs/ml/lib/python3.11/site-packages/bitsandbytes/cextension.py:34: UserWarning: The installed version of bitsandbytes was compiled without GPU support. 8-bit optimizers, 8-bit multiplication, and GPU quantization are unavailable.\n",
      "  warn(\"The installed version of bitsandbytes was compiled without GPU support. \"\n"
     ]
    },
    {
     "name": "stdout",
     "output_type": "stream",
     "text": [
      "max_seq_length  512\n"
     ]
    }
   ],
   "source": [
    "# initialize embeddings model\n",
    "embedding = HuggingFaceInstructEmbeddings(model_name=embedding_model)"
   ],
   "metadata": {
    "collapsed": false,
    "ExecuteTime": {
     "end_time": "2023-08-18T13:24:41.364942Z",
     "start_time": "2023-08-18T13:24:28.099490Z"
    }
   },
   "id": "bc9ccffa6fc11991"
  },
  {
   "cell_type": "code",
   "execution_count": 4,
   "outputs": [
    {
     "name": "stderr",
     "output_type": "stream",
     "text": [
      "llama.cpp: loading model from /Users/bsantanna/dev/workspace/community/Llama-2-13b-chat-hf/ggml-model-f16.bin\n",
      "llama_model_load_internal: format     = ggjt v1 (pre #1405)\n",
      "llama_model_load_internal: n_vocab    = 32000\n",
      "llama_model_load_internal: n_ctx      = 4096\n",
      "llama_model_load_internal: n_embd     = 5120\n",
      "llama_model_load_internal: n_mult     = 6912\n",
      "llama_model_load_internal: n_head     = 40\n",
      "llama_model_load_internal: n_head_kv  = 40\n",
      "llama_model_load_internal: n_layer    = 40\n",
      "llama_model_load_internal: n_rot      = 128\n",
      "llama_model_load_internal: n_gqa      = 1\n",
      "llama_model_load_internal: rnorm_eps  = 1.0e-06\n",
      "llama_model_load_internal: n_ff       = 13824\n",
      "llama_model_load_internal: freq_base  = 10000.0\n",
      "llama_model_load_internal: freq_scale = 1\n",
      "llama_model_load_internal: ftype      = 1 (mostly F16)\n",
      "llama_model_load_internal: model size = 13B\n",
      "llama_model_load_internal: ggml ctx size =    0.11 MB\n",
      "llama_model_load_internal: mem required  = 25491.69 MB (+ 3200.00 MB per state)\n",
      "llama_new_context_with_model: kv self size  = 3200.00 MB\n",
      "ggml_metal_init: allocating\n",
      "ggml_metal_init: using MPS\n",
      "ggml_metal_init: loading '/Users/bsantanna/miniforge3/envs/ml/lib/python3.11/site-packages/llama_cpp/ggml-metal.metal'\n",
      "ggml_metal_init: loaded kernel_add                            0x2a383efb0\n",
      "ggml_metal_init: loaded kernel_add_row                        0x2a383eb40\n",
      "ggml_metal_init: loaded kernel_mul                            0x2a383f280\n",
      "ggml_metal_init: loaded kernel_mul_row                        0x2a383f4e0\n",
      "ggml_metal_init: loaded kernel_scale                          0x2a383f740\n",
      "ggml_metal_init: loaded kernel_silu                           0x2a383f9a0\n",
      "ggml_metal_init: loaded kernel_relu                           0x2a383fc00\n",
      "ggml_metal_init: loaded kernel_gelu                           0x2a383fe60\n",
      "ggml_metal_init: loaded kernel_soft_max                       0x2a38400c0\n",
      "ggml_metal_init: loaded kernel_diag_mask_inf                  0x2a3840320\n",
      "ggml_metal_init: loaded kernel_get_rows_f16                   0x2a3840580\n",
      "ggml_metal_init: loaded kernel_get_rows_q4_0                  0x2a38407e0\n",
      "ggml_metal_init: loaded kernel_get_rows_q4_1                  0x2a3840a40\n",
      "ggml_metal_init: loaded kernel_get_rows_q2_K                  0x2a3840ca0\n",
      "ggml_metal_init: loaded kernel_get_rows_q3_K                  0x2a3840f00\n",
      "ggml_metal_init: loaded kernel_get_rows_q4_K                  0x2a3841160\n",
      "ggml_metal_init: loaded kernel_get_rows_q5_K                  0x2a38413c0\n",
      "ggml_metal_init: loaded kernel_get_rows_q6_K                  0x2a3841620\n",
      "ggml_metal_init: loaded kernel_rms_norm                       0x2a3841880\n",
      "ggml_metal_init: loaded kernel_norm                           0x2a3841ae0\n",
      "ggml_metal_init: loaded kernel_mul_mat_f16_f32                0x2a3842080\n",
      "ggml_metal_init: loaded kernel_mul_mat_q4_0_f32               0x2a38422e0\n",
      "ggml_metal_init: loaded kernel_mul_mat_q4_1_f32               0x2a3842540\n",
      "ggml_metal_init: loaded kernel_mul_mat_q2_K_f32               0x2a38427a0\n",
      "ggml_metal_init: loaded kernel_mul_mat_q3_K_f32               0x2a3842a00\n",
      "ggml_metal_init: loaded kernel_mul_mat_q4_K_f32               0x2a3842c60\n",
      "ggml_metal_init: loaded kernel_mul_mat_q5_K_f32               0x2a3842ec0\n",
      "ggml_metal_init: loaded kernel_mul_mat_q6_K_f32               0x2a3843120\n",
      "ggml_metal_init: loaded kernel_rope                           0x2a3843380\n",
      "ggml_metal_init: loaded kernel_alibi_f32                      0x2a3843980\n",
      "ggml_metal_init: loaded kernel_cpy_f32_f16                    0x2a3843f50\n",
      "ggml_metal_init: loaded kernel_cpy_f32_f32                    0x2a3844520\n",
      "ggml_metal_init: loaded kernel_cpy_f16_f16                    0x2a3844af0\n",
      "ggml_metal_init: recommendedMaxWorkingSetSize = 49152.00 MB\n",
      "ggml_metal_init: hasUnifiedMemory             = true\n",
      "ggml_metal_init: maxTransferRate              = built-in GPU\n",
      "llama_new_context_with_model: max tensor size =   312.50 MB\n",
      "ggml_metal_add_buffer: allocated 'data            ' buffer, size = 24827.03 MB, (24827.48 / 49152.00)\n",
      "ggml_metal_add_buffer: allocated 'eval            ' buffer, size =    12.00 MB, (24839.48 / 49152.00)\n",
      "ggml_metal_add_buffer: allocated 'kv              ' buffer, size =  3202.00 MB, (28041.48 / 49152.00)\n",
      "ggml_metal_add_buffer: allocated 'scr0            ' buffer, size =   461.00 MB, (28502.48 / 49152.00)\n",
      "ggml_metal_add_buffer: allocated 'scr1            ' buffer, size =   192.00 MB, (28694.48 / 49152.00)\n"
     ]
    }
   ],
   "source": [
    "# Load LLM instruction following model\n",
    "llm = LlamaCpp(\n",
    "    model_path=instruction_model_path,\n",
    "    n_gpu_layers=n_gpu_layers,\n",
    "    n_batch=n_batch,\n",
    "    n_ctx=n_ctx,\n",
    "    f16_kv=True,\n",
    "    verbose=False,\n",
    ")"
   ],
   "metadata": {
    "collapsed": false,
    "ExecuteTime": {
     "end_time": "2023-08-18T13:24:41.837382Z",
     "start_time": "2023-08-18T13:24:41.364870Z"
    }
   },
   "id": "a68e4bcaf4a13b88"
  },
  {
   "cell_type": "code",
   "execution_count": 5,
   "outputs": [],
   "source": [
    "# Initialize documents\n",
    "loader = ArxivLoader(query=\"dynamic scaling in self-similar systems\", load_max_docs=20)\n",
    "documents = loader.load()"
   ],
   "metadata": {
    "collapsed": false,
    "ExecuteTime": {
     "end_time": "2023-08-18T13:26:21.541652Z",
     "start_time": "2023-08-18T13:24:41.835850Z"
    }
   },
   "id": "141c59e626bb5c74"
  },
  {
   "cell_type": "code",
   "execution_count": 6,
   "outputs": [],
   "source": [
    "# Initialize index\n",
    "index = VectorstoreIndexCreator(\n",
    "    embedding=embedding,\n",
    "    vectorstore_cls=DocArrayInMemorySearch\n",
    ").from_documents(documents)"
   ],
   "metadata": {
    "collapsed": false,
    "ExecuteTime": {
     "end_time": "2023-08-18T13:28:04.211176Z",
     "start_time": "2023-08-18T13:26:21.544191Z"
    }
   },
   "id": "6d2ebf75a98a91f5"
  },
  {
   "cell_type": "code",
   "execution_count": 7,
   "outputs": [],
   "source": [
    "# Initialize retriever QA\n",
    "db = DocArrayInMemorySearch.from_documents(\n",
    "    documents,\n",
    "    embedding\n",
    ")\n",
    "\n",
    "# initialize retriever\n",
    "retriever = db.as_retriever()\n",
    "\n",
    "# initialize retrieval qa chain\n",
    "qa_chain = RetrievalQA.from_chain_type(\n",
    "    llm=llm,\n",
    "    chain_type=\"map_reduce\",\n",
    "    retriever=retriever,\n",
    "    verbose=True\n",
    ")"
   ],
   "metadata": {
    "collapsed": false,
    "ExecuteTime": {
     "end_time": "2023-08-18T13:28:33.463185Z",
     "start_time": "2023-08-18T13:28:04.213578Z"
    }
   },
   "id": "52c79a091e453381"
  },
  {
   "cell_type": "code",
   "execution_count": 32,
   "outputs": [],
   "source": [
    "# tools = load_tools(['llm-math'], llm=llm)\n",
    "tools = [\n",
    "    Tool(\n",
    "        name=\"dynamic scaling in self-similar systems QA system\",\n",
    "        func=qa_chain.run,\n",
    "        description=\"useful for when you need to ask information about dynamic scaling in self-similar systems\",\n",
    "    ),\n",
    "]"
   ],
   "metadata": {
    "collapsed": false,
    "ExecuteTime": {
     "end_time": "2023-08-18T21:43:49.592983Z",
     "start_time": "2023-08-18T21:43:49.584103Z"
    }
   },
   "id": "4d2c45c4cdd32eda"
  },
  {
   "cell_type": "code",
   "execution_count": 33,
   "outputs": [],
   "source": [
    "# initialize agent\n",
    "react = initialize_agent(tools, llm, agent=AgentType.ZERO_SHOT_REACT_DESCRIPTION, verbose=True)"
   ],
   "metadata": {
    "collapsed": false,
    "ExecuteTime": {
     "end_time": "2023-08-18T21:43:50.168290Z",
     "start_time": "2023-08-18T21:43:50.163541Z"
    }
   },
   "id": "be0c7f24f56c3641"
  },
  {
   "cell_type": "code",
   "execution_count": 53,
   "outputs": [],
   "source": [
    "# Initialize prompt \n",
    "complete_prompt = PromptTemplate.from_template(\"\"\"\n",
    "You are a skilled scientist that likes solving difficult and challenging problems.\n",
    "\n",
    "Follow these steps to effectively solve the multiple-choice problem enclosed within <>, considering answers that may vary in precision:\n",
    "\n",
    "1. Learn from given context until you reach a comprehensive understanding of each concept in the question.\n",
    "   \n",
    "2. Break down the question to identify incremental steps that lead to the solution. Provide detailed reasoning throughout the process, including analysis of relevant concepts and cross-validation from multiple sources to ensure accuracy and confidence in your response.\n",
    "   \n",
    "3. Progressively work through the solution, focusing on increasing your confidence in the accuracy of options (A-E).\n",
    "\n",
    "4. Assess and eliminate options (A-E) that are incorrect or inaccurate.\n",
    "\n",
    "5. Validate the remaining options using a cause-and-effect approach along with necessary calculations, performing incremental steps.\n",
    "\n",
    "6. Identify the correct option and return the corresponding letter (A-E). Before finalizing your answer, ensure your calculations substantiate its correctness.\n",
    "\n",
    "7. Choose the option from (A-E) that most closely aligns with your conclusion based on the evidence and reasoning you have provided.\n",
    "\n",
    "<\n",
    "{question}\n",
    "\n",
    "{options}\n",
    ">\"\"\")"
   ],
   "metadata": {
    "collapsed": false,
    "ExecuteTime": {
     "end_time": "2023-08-18T22:04:49.227771Z",
     "start_time": "2023-08-18T22:04:49.220963Z"
    }
   },
   "id": "b016dd73a5c6420c"
  },
  {
   "cell_type": "code",
   "execution_count": 54,
   "outputs": [],
   "source": [
    "# Format input\n",
    "question = \"\"\"Which of the following is an accurate definition of dynamic scaling in self-similar systems?\"\"\"\n",
    "options = \"\"\"\n",
    "A - Dynamic scaling refers to the evolution of self-similar systems, where data obtained from snapshots at fixed times exhibits similarity to the respective data taken from snapshots of any earlier or later time. This similarity is tested by a certain time-dependent stochastic variable x.\n",
    "\n",
    "B - Dynamic scaling refers to the non-evolution of self-similar systems, where data obtained from snapshots at fixed times is similar to the respective data taken from snapshots of any earlier or later time. This similarity is tested by a certain time-dependent stochastic variable x.\n",
    "\t\n",
    "C - Dynamic scaling refers to the evolution of self-similar systems, where data obtained from snapshots at fixed times is dissimilar to the respective data taken from snapshots of any earlier or later time. This dissimilarity is tested by a certain time-independent stochastic variable y.\n",
    "\n",
    "D - Dynamic scaling refers to the non-evolution of self-similar systems, where data obtained from snapshots at fixed times is dissimilar to the respective data taken from snapshots of any earlier or later time. This dissimilarity is tested by a certain time-independent stochastic variable y.\n",
    "\n",
    "E - Dynamic scaling refers to the evolution of self-similar systems, where data obtained from snapshots at fixed times is independent of the respective data taken from snapshots of any earlier or later time. This independence is tested by a certain time-dependent stochastic variable z.\n",
    "\"\"\"\n",
    "formatted_input = short_prompt.format_prompt(\n",
    "    question=question,\n",
    "    options=options\n",
    ")"
   ],
   "metadata": {
    "collapsed": false,
    "ExecuteTime": {
     "end_time": "2023-08-18T22:04:49.521369Z",
     "start_time": "2023-08-18T22:04:49.517003Z"
    }
   },
   "id": "3612d12b17c17ed1"
  },
  {
   "cell_type": "code",
   "execution_count": 57,
   "outputs": [
    {
     "name": "stdout",
     "output_type": "stream",
     "text": [
      "\n",
      "\n",
      "\u001B[1m> Entering new AgentExecutor chain...\u001B[0m\n",
      "\u001B[32;1m\u001B[1;3m I will use the dynamic scaling in self-similar systems QA system to gain comprehensive understanding of each concept and term presented in the question, make sure I have a deep familiarity with the problem at hand.\n",
      "Action: I will break down the question to identify incremental steps that lead to the solution. Provide detailed reasoning throughout the process, including analysis of relevant concepts and cross-validation from multiple sources to ensure accuracy and confidence in my response.\n",
      "Action Input: The question is broken down into the following incremental steps:\n",
      "1. Define dynamic scaling in self-similar systems.\n",
      "2. Identify the correct definition of dynamic scaling in self-similar systems.\n",
      "3. Provide detailed reasoning for each option.\n",
      "4. Assess options (A-E) and compare each option to my own solution.\n",
      "5. Rank each option using a cause-and-effect approach along with necessary calculations.\n",
      "6. Identify the correct option and return the corresponding letter (A-E).\u001B[0m\n",
      "Observation: I will break down the question to identify incremental steps that lead to the solution. Provide detailed reasoning throughout the process, including analysis of relevant concepts and cross-validation from multiple sources to ensure accuracy and confidence in my response. is not a valid tool, try one of [dynamic scaling in self-similar systems QA system].\n",
      "Thought:\u001B[32;1m\u001B[1;3m I have identified the incremental steps needed to solve this problem, and I will use the dynamic scaling in self-similar systems QA system to gain comprehensive understanding of each concept and term presented in the question, make sure I have a deep familiarity with the problem at hand.\n",
      "Action: I will progressively work through the solution, focusing on increasing my confidence in the accuracy of options (A-E).\n",
      "Action Input: The first step is to define dynamic scaling in self-similar systems.\u001B[0m\n",
      "Observation: I will progressively work through the solution, focusing on increasing my confidence in the accuracy of options (A-E). is not a valid tool, try one of [dynamic scaling in self-similar systems QA system].\n",
      "Thought:\u001B[32;1m\u001B[1;3m I have defined dynamic scaling in self-similar systems and have identified the correct definition. Now, I will provide detailed reasoning for each option.\n",
      "Action: I will assess options (A-E) and compare each option to my own solution.\n",
      "Action Input: The question is asking which of the following is an accurate definition of dynamic scaling in self-similar systems. The options are A, B, C, D, and E.\u001B[0m\n",
      "Observation: I will assess options (A-E) and compare each option to my own solution. is not a valid tool, try one of [dynamic scaling in self-similar systems QA system].\n",
      "Thought:\u001B[32;1m\u001B[1;3m I have assessed options (A-E) and compared each option to my own solution. Now, I will rank each option using a cause-and-effect approach along with necessary calculations.\n",
      "Action: I will identify the correct option and return the corresponding letter (A-E).\n",
      "Action Input: The correct option is A - Dynamic scaling refers to the evolution of self-similar systems, where data obtained from snapshots at fixed times exhibits similarity to the respective data taken from snapshots of any earlier or later time. This similarity is tested by a certain time-dependent stochastic variable x.\u001B[0m\n",
      "Observation: I will identify the correct option and return the corresponding letter (A-E). is not a valid tool, try one of [dynamic scaling in self-similar systems QA system].\n",
      "Thought:\u001B[32;1m\u001B[1;3m I have identified the correct option and returned the corresponding letter (A-E). Now, I will ensure my calculations substantiate its correctness.\n",
      "Action: I will formulate questions to QA tools to confirm progress in the right direction.\n",
      "Action Input: The question is asking which of the following is an accurate definition of dynamic scaling in self-similar systems. The options are A, B, C, D, and E.\u001B[0m\n",
      "Observation: I will formulate questions to QA tools to confirm progress in the right direction. is not a valid tool, try one of [dynamic scaling in self-similar systems QA system].\n",
      "Thought:\u001B[32;1m\u001B[1;3m I have formulated questions to QA tools to confirm progress in the right direction. Now, I will choose the option from (A-E) that most closely aligns with my conclusion based on the evidence and reasoning I have provided.\n",
      "Action: I will return the corresponding letter (A-E).\n",
      "Final Answer: The correct answer is A - Dynamic scaling refers to the evolution of self-similar systems, where data obtained from snapshots at fixed times exhibits similarity to the respective data taken from snapshots of any earlier or later time. This similarity is tested by a certain time-dependent stochastic variable x.\u001B[0m\n",
      "\n",
      "\u001B[1m> Finished chain.\u001B[0m\n",
      "{'input': StringPromptValue(text='\\nFollow these steps to effectively solve the multiple-choice problem enclosed within <>, considering answers that may vary in precision:\\n\\n1. Use QA tools to gain comprehensive understanding of each concept and term presented in the question, make sure you have a deep familiarity with the problem at hand.\\n\\n2. Break down the question to identify incremental steps that lead to the solution. Provide detailed reasoning throughout the process, including analysis of relevant concepts and cross-validation from multiple sources to ensure accuracy and confidence in your response.\\n\\n3. Progressively work through the solution, focusing on increasing your confidence in the accuracy of options (A-E).\\n\\n4. Assess options (A-E) and compare each option to your own solution, formulate questions to QA tools to compare your solution to the option and adjust your solution if needed.\\n\\n5. Rank each option using a cause-and-effect approach along with necessary calculations, formulate questions to QA tools to confirm progress in the right direction.\\n\\n6. Identify the correct option and return the corresponding letter (A-E). Before finalizing your answer, ensure your calculations substantiate its correctness, formulate questions to QA tools to confirm progress in the right direction.\\n\\n7. Choose the option from (A-E) that most closely aligns with your conclusion based on the evidence and reasoning you have provided, return this option.\\n\\n<\\nWhich of the following is an accurate definition of dynamic scaling in self-similar systems?\\n\\n\\nA - Dynamic scaling refers to the evolution of self-similar systems, where data obtained from snapshots at fixed times exhibits similarity to the respective data taken from snapshots of any earlier or later time. This similarity is tested by a certain time-dependent stochastic variable x.\\n\\nB - Dynamic scaling refers to the non-evolution of self-similar systems, where data obtained from snapshots at fixed times is similar to the respective data taken from snapshots of any earlier or later time. This similarity is tested by a certain time-dependent stochastic variable x.\\n\\nC - Dynamic scaling refers to the evolution of self-similar systems, where data obtained from snapshots at fixed times is dissimilar to the respective data taken from snapshots of any earlier or later time. This dissimilarity is tested by a certain time-independent stochastic variable y.\\n\\nD - Dynamic scaling refers to the non-evolution of self-similar systems, where data obtained from snapshots at fixed times is dissimilar to the respective data taken from snapshots of any earlier or later time. This dissimilarity is tested by a certain time-independent stochastic variable y.\\n\\nE - Dynamic scaling refers to the evolution of self-similar systems, where data obtained from snapshots at fixed times is independent of the respective data taken from snapshots of any earlier or later time. This independence is tested by a certain time-dependent stochastic variable z.\\n\\n>'), 'output': 'The correct answer is A - Dynamic scaling refers to the evolution of self-similar systems, where data obtained from snapshots at fixed times exhibits similarity to the respective data taken from snapshots of any earlier or later time. This similarity is tested by a certain time-dependent stochastic variable x.'}\n"
     ]
    }
   ],
   "source": [
    "result = react(formatted_input)\n",
    "print(result)"
   ],
   "metadata": {
    "collapsed": false,
    "ExecuteTime": {
     "end_time": "2023-08-18T22:08:47.050174Z",
     "start_time": "2023-08-18T22:06:49.236040Z"
    }
   },
   "id": "eae919e20ef0aabf"
  },
  {
   "cell_type": "code",
   "execution_count": 12,
   "outputs": [],
   "source": [],
   "metadata": {
    "collapsed": false,
    "ExecuteTime": {
     "end_time": "2023-08-18T13:29:44.936635Z",
     "start_time": "2023-08-18T13:29:44.935125Z"
    }
   },
   "id": "8920a3ee5c55fddc"
  }
 ],
 "metadata": {
  "kernelspec": {
   "display_name": "Python 3",
   "language": "python",
   "name": "python3"
  },
  "language_info": {
   "codemirror_mode": {
    "name": "ipython",
    "version": 2
   },
   "file_extension": ".py",
   "mimetype": "text/x-python",
   "name": "python",
   "nbconvert_exporter": "python",
   "pygments_lexer": "ipython2",
   "version": "2.7.6"
  }
 },
 "nbformat": 4,
 "nbformat_minor": 5
}
