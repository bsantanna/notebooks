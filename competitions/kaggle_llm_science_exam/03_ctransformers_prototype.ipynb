{
 "cells": [
  {
   "cell_type": "code",
   "execution_count": 14,
   "id": "6bb9fe6fc1b3ceaf",
   "metadata": {
    "collapsed": false,
    "ExecuteTime": {
     "end_time": "2023-09-15T14:55:42.931799Z",
     "start_time": "2023-09-15T14:55:42.918349Z"
    }
   },
   "outputs": [],
   "source": [
    "import langchain\n",
    "from langchain.llms import CTransformers\n",
    "from langchain.prompts import PromptTemplate"
   ]
  },
  {
   "cell_type": "code",
   "execution_count": 61,
   "id": "e1ef56d3fa6a1159",
   "metadata": {
    "collapsed": false,
    "ExecuteTime": {
     "end_time": "2023-09-15T15:04:33.588612Z",
     "start_time": "2023-09-15T15:04:33.583319Z"
    }
   },
   "outputs": [],
   "source": [
    "# Globals\n",
    "instruction_model_path = \"/Users/bsantanna/dev/workspace/community/the_bloke/llama-2-7b-32k-instruct.Q5_K_M.gguf\"\n",
    "n_gpu_layers = 1\n",
    "n_batch = 512\n",
    "n_ctx = 4096\n",
    "n_tokens = 1\n",
    "n_repetition_penalty = 1.1"
   ]
  },
  {
   "cell_type": "code",
   "execution_count": 62,
   "id": "a68e4bcaf4a13b88",
   "metadata": {
    "collapsed": false,
    "ExecuteTime": {
     "end_time": "2023-09-15T15:04:34.395046Z",
     "start_time": "2023-09-15T15:04:34.343443Z"
    }
   },
   "outputs": [],
   "source": [
    "# Load LLM instruction following model\n",
    "config = {\n",
    "    'max_new_tokens': n_tokens,\n",
    "    'repetition_penalty': n_repetition_penalty,\n",
    "    'batch_size': n_batch,\n",
    "    'context_length': n_ctx}\n",
    "\n",
    "llm = CTransformers(model=instruction_model_path, gpu_layers=n_gpu_layers, config=config)"
   ]
  },
  {
   "cell_type": "code",
   "execution_count": 63,
   "outputs": [],
   "source": [
    "# Initialize prompt \n",
    "prompt_template = \"\"\"[INST]Choose the best answer the question. Question: {question}[/INST]\"\"\"\n",
    "\n",
    "prompt = PromptTemplate(\n",
    "    template=prompt_template,\n",
    "    input_variables=[\"question\"]\n",
    ")"
   ],
   "metadata": {
    "collapsed": false,
    "ExecuteTime": {
     "end_time": "2023-09-15T15:04:34.860041Z",
     "start_time": "2023-09-15T15:04:34.856992Z"
    }
   },
   "id": "b016dd73a5c6420c"
  },
  {
   "cell_type": "code",
   "execution_count": 64,
   "id": "3612d12b17c17ed1",
   "metadata": {
    "collapsed": false,
    "ExecuteTime": {
     "end_time": "2023-09-15T15:04:35.245939Z",
     "start_time": "2023-09-15T15:04:35.243301Z"
    }
   },
   "outputs": [],
   "source": [
    "# Format input\n",
    "problem = \"\"\"Which of the following is an accurate definition of dynamic scaling in self-similar systems?\"\"\"\n",
    "alternatives = \"\"\"\n",
    "A - Dynamic scaling refers to the evolution of self-similar systems, where data obtained from snapshots at fixed times exhibits similarity to the respective data taken from snapshots of any earlier or later time. This similarity is tested by a certain time-dependent stochastic variable x.\n",
    "\n",
    "B - Dynamic scaling refers to the non-evolution of self-similar systems, where data obtained from snapshots at fixed times is similar to the respective data taken from snapshots of any earlier or later time. This similarity is tested by a certain time-dependent stochastic variable x.\n",
    "\t\n",
    "C - Dynamic scaling refers to the evolution of self-similar systems, where data obtained from snapshots at fixed times is dissimilar to the respective data taken from snapshots of any earlier or later time. This dissimilarity is tested by a certain time-independent stochastic variable y.\n",
    "\n",
    "D - Dynamic scaling refers to the non-evolution of self-similar systems, where data obtained from snapshots at fixed times is dissimilar to the respective data taken from snapshots of any earlier or later time. This dissimilarity is tested by a certain time-independent stochastic variable y.\n",
    "\n",
    "E - Dynamic scaling refers to the evolution of self-similar systems, where data obtained from snapshots at fixed times is independent of the respective data taken from snapshots of any earlier or later time. This independence is tested by a certain time-dependent stochastic variable z.\n",
    "\"\"\""
   ]
  },
  {
   "cell_type": "code",
   "execution_count": 65,
   "id": "9d6158a1-98c7-4bb6-badd-cb81072e5ec3",
   "metadata": {
    "ExecuteTime": {
     "end_time": "2023-09-15T15:04:35.590583Z",
     "start_time": "2023-09-15T15:04:35.588320Z"
    }
   },
   "outputs": [],
   "source": [
    "query = prompt.format_prompt(\n",
    "    question=f\"{problem}\\n{alternatives}\"\n",
    ")"
   ]
  },
  {
   "cell_type": "code",
   "execution_count": 68,
   "outputs": [],
   "source": [
    "# langchain.debug = True\n",
    "result = llm.predict(query.text)\n",
    "# langchain.debug = False"
   ],
   "metadata": {
    "collapsed": false,
    "ExecuteTime": {
     "end_time": "2023-09-15T15:05:28.755238Z",
     "start_time": "2023-09-15T15:05:20.649248Z"
    }
   },
   "id": "e20b144b326d1d09"
  },
  {
   "cell_type": "code",
   "execution_count": 69,
   "outputs": [
    {
     "name": "stdout",
     "output_type": "stream",
     "text": [
      "A\n"
     ]
    }
   ],
   "source": [
    "print(result)"
   ],
   "metadata": {
    "collapsed": false,
    "ExecuteTime": {
     "end_time": "2023-09-15T15:05:28.757943Z",
     "start_time": "2023-09-15T15:05:28.754961Z"
    }
   },
   "id": "5dd4b17a48a4047"
  },
  {
   "cell_type": "code",
   "execution_count": 21,
   "outputs": [],
   "source": [],
   "metadata": {
    "collapsed": false,
    "ExecuteTime": {
     "end_time": "2023-09-15T14:56:21.595722Z",
     "start_time": "2023-09-15T14:56:21.592773Z"
    }
   },
   "id": "129c9bb312f34977"
  }
 ],
 "metadata": {
  "kernelspec": {
   "display_name": "Python 3 (ipykernel)",
   "language": "python",
   "name": "python3"
  },
  "language_info": {
   "codemirror_mode": {
    "name": "ipython",
    "version": 3
   },
   "file_extension": ".py",
   "mimetype": "text/x-python",
   "name": "python",
   "nbconvert_exporter": "python",
   "pygments_lexer": "ipython3",
   "version": "3.11.4"
  }
 },
 "nbformat": 4,
 "nbformat_minor": 5
}
