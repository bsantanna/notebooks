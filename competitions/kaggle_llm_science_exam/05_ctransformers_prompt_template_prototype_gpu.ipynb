{
 "cells": [
  {
   "cell_type": "code",
   "execution_count": 1,
   "id": "6bb9fe6fc1b3ceaf",
   "metadata": {
    "collapsed": false,
    "ExecuteTime": {
     "end_time": "2023-09-15T22:49:37.039760Z",
     "start_time": "2023-09-15T22:49:37.037235Z"
    }
   },
   "outputs": [],
   "source": [
    "#!CT_METAL=1 pip install ctransformers --no-binary ctransformers langchain -U"
   ]
  },
  {
   "cell_type": "code",
   "execution_count": 2,
   "outputs": [],
   "source": [
    "import langchain\n",
    "from langchain.llms import CTransformers\n",
    "from langchain.chains import LLMChain\n",
    "from langchain.schema import SystemMessage"
   ],
   "metadata": {
    "collapsed": false,
    "ExecuteTime": {
     "end_time": "2023-09-15T22:49:42.901086Z",
     "start_time": "2023-09-15T22:49:37.039291Z"
    }
   },
   "id": "1221fca5b42d489f"
  },
  {
   "cell_type": "code",
   "execution_count": 3,
   "id": "e1ef56d3fa6a1159",
   "metadata": {
    "collapsed": false,
    "ExecuteTime": {
     "end_time": "2023-09-15T22:49:42.908478Z",
     "start_time": "2023-09-15T22:49:42.901339Z"
    }
   },
   "outputs": [],
   "source": [
    "# Globals\n",
    "instruction_model_path = \"/Users/bsantanna/dev/workspace/community/the_bloke/llama-2-7b-32k-instruct.Q5_K_M.gguf\"\n",
    "n_gpu_layers = 32\n",
    "n_batch = 512\n",
    "n_ctx = 4096\n",
    "n_tokens = 3\n",
    "n_repetition_penalty = 1.0\n",
    "n_temperature = 0.6"
   ]
  },
  {
   "cell_type": "code",
   "execution_count": 4,
   "id": "a68e4bcaf4a13b88",
   "metadata": {
    "collapsed": false,
    "ExecuteTime": {
     "end_time": "2023-09-15T22:49:43.564210Z",
     "start_time": "2023-09-15T22:49:42.906142Z"
    }
   },
   "outputs": [],
   "source": [
    "# Load LLM instruction following model\n",
    "config = {\n",
    "    'max_new_tokens': n_tokens,\n",
    "    'repetition_penalty': n_repetition_penalty,\n",
    "    'batch_size': n_batch,\n",
    "    'context_length': n_ctx,\n",
    "    'reset': False,\n",
    "    'temperature': n_temperature,\n",
    "    'gpu_layers': n_gpu_layers}\n",
    "\n",
    "llm = CTransformers(model=instruction_model_path, gpu_layers=n_gpu_layers, config=config)"
   ]
  },
  {
   "cell_type": "code",
   "execution_count": 5,
   "outputs": [],
   "source": [
    "system = SystemMessage(content=\"\"\"[INST]\n",
    "Reply given problems using a single alphabetic uppercase character representing the correct answer.\n",
    "No explanation, only the letter.\n",
    "Follow these steps to effectively solve the problem.\n",
    "\n",
    "1. Break down the question to identify incremental steps that lead to the solution. Provide detailed reasoning throughout the process, including analysis of relevant concepts and cross-validation to ensure accuracy and confidence in your response.\n",
    "   \n",
    "2. Progressively work through the solution, focusing on increasing your confidence in the accuracy of options (A-E).\n",
    "\n",
    "3. Assess and eliminate options (A-E) that are incorrect or inaccurate, remember to perform incremental steps including analysis of relevant concepts and cross-validation to ensure you are not eliminating the correct option.\n",
    "\n",
    "4. Validate the remaining options using a cause-and-effect approach along with necessary calculations, performing incremental steps including analysis of relevant concepts and cross-validation to ensure accuracy and confidence in your response.\n",
    "\n",
    "5. Identify the correct option and return the corresponding letter (A-E). Before finalizing your answer, ensure your calculations substantiate its correctness performing incremental steps including analysis of relevant concepts and cross-validation to ensure accuracy and confidence in your response.\n",
    "\n",
    "6. Choose the option from (A-E) that most closely aligns with your conclusion based on the evidence and reasoning you have provided.\n",
    "\n",
    "[/INST]\"\"\")\n",
    "\n",
    "prompt = (\n",
    "        system\n",
    "        + \"[INST]{input}[/INST]\"\n",
    ")"
   ],
   "metadata": {
    "collapsed": false,
    "ExecuteTime": {
     "end_time": "2023-09-15T22:49:43.568073Z",
     "start_time": "2023-09-15T22:49:43.565870Z"
    }
   },
   "id": "b016dd73a5c6420c"
  },
  {
   "cell_type": "code",
   "execution_count": 6,
   "outputs": [],
   "source": [
    "chain = LLMChain(llm=llm, prompt=prompt)"
   ],
   "metadata": {
    "collapsed": false,
    "ExecuteTime": {
     "end_time": "2023-09-15T22:49:43.570995Z",
     "start_time": "2023-09-15T22:49:43.568398Z"
    }
   },
   "id": "d7811062b513f05f"
  },
  {
   "cell_type": "code",
   "execution_count": 7,
   "id": "3612d12b17c17ed1",
   "metadata": {
    "collapsed": false,
    "ExecuteTime": {
     "end_time": "2023-09-15T22:49:43.573866Z",
     "start_time": "2023-09-15T22:49:43.571242Z"
    }
   },
   "outputs": [],
   "source": [
    "# Format input\n",
    "problem = \"\"\"Which of the following is an accurate definition of dynamic scaling in self-similar systems?\"\"\"\n",
    "alternatives = \"\"\"A - Dynamic scaling refers to the evolution of self-similar systems, where data obtained from snapshots at fixed times exhibits similarity to the respective data taken from snapshots of any earlier or later time. This similarity is tested by a certain time-dependent stochastic variable x.\n",
    "\n",
    "B - Dynamic scaling refers to the non-evolution of self-similar systems, where data obtained from snapshots at fixed times is similar to the respective data taken from snapshots of any earlier or later time. This similarity is tested by a certain time-dependent stochastic variable x.\n",
    "\t\n",
    "C - Dynamic scaling refers to the evolution of self-similar systems, where data obtained from snapshots at fixed times is dissimilar to the respective data taken from snapshots of any earlier or later time. This dissimilarity is tested by a certain time-independent stochastic variable y.\n",
    "\n",
    "D - Dynamic scaling refers to the non-evolution of self-similar systems, where data obtained from snapshots at fixed times is dissimilar to the respective data taken from snapshots of any earlier or later time. This dissimilarity is tested by a certain time-independent stochastic variable y.\n",
    "\n",
    "E - Dynamic scaling refers to the evolution of self-similar systems, where data obtained from snapshots at fixed times is independent of the respective data taken from snapshots of any earlier or later time. This independence is tested by a certain time-dependent stochastic variable z.\"\"\""
   ]
  },
  {
   "cell_type": "code",
   "execution_count": 8,
   "outputs": [
    {
     "name": "stdout",
     "output_type": "stream",
     "text": [
      "\u001B[32;1m\u001B[1;3m[chain/start]\u001B[0m \u001B[1m[1:chain:LLMChain] Entering Chain run with input:\n",
      "\u001B[0m{\n",
      "  \"input\": \"Which of the following is an accurate definition of dynamic scaling in self-similar systems?\\nA - Dynamic scaling refers to the evolution of self-similar systems, where data obtained from snapshots at fixed times exhibits similarity to the respective data taken from snapshots of any earlier or later time. This similarity is tested by a certain time-dependent stochastic variable x.\\n\\nB - Dynamic scaling refers to the non-evolution of self-similar systems, where data obtained from snapshots at fixed times is similar to the respective data taken from snapshots of any earlier or later time. This similarity is tested by a certain time-dependent stochastic variable x.\\n\\t\\nC - Dynamic scaling refers to the evolution of self-similar systems, where data obtained from snapshots at fixed times is dissimilar to the respective data taken from snapshots of any earlier or later time. This dissimilarity is tested by a certain time-independent stochastic variable y.\\n\\nD - Dynamic scaling refers to the non-evolution of self-similar systems, where data obtained from snapshots at fixed times is dissimilar to the respective data taken from snapshots of any earlier or later time. This dissimilarity is tested by a certain time-independent stochastic variable y.\\n\\nE - Dynamic scaling refers to the evolution of self-similar systems, where data obtained from snapshots at fixed times is independent of the respective data taken from snapshots of any earlier or later time. This independence is tested by a certain time-dependent stochastic variable z.\"\n",
      "}\n",
      "\u001B[32;1m\u001B[1;3m[llm/start]\u001B[0m \u001B[1m[1:chain:LLMChain > 2:llm:CTransformers] Entering LLM run with input:\n",
      "\u001B[0m{\n",
      "  \"prompts\": [\n",
      "    \"System: [INST]\\nReply given problems using a single alphabetic uppercase character representing the correct answer.\\nNo explanation, only the letter.\\nFollow these steps to effectively solve the problem.\\n\\n1. Break down the question to identify incremental steps that lead to the solution. Provide detailed reasoning throughout the process, including analysis of relevant concepts and cross-validation to ensure accuracy and confidence in your response.\\n   \\n2. Progressively work through the solution, focusing on increasing your confidence in the accuracy of options (A-E).\\n\\n3. Assess and eliminate options (A-E) that are incorrect or inaccurate, remember to perform incremental steps including analysis of relevant concepts and cross-validation to ensure you are not eliminating the correct option.\\n\\n4. Validate the remaining options using a cause-and-effect approach along with necessary calculations, performing incremental steps including analysis of relevant concepts and cross-validation to ensure accuracy and confidence in your response.\\n\\n5. Identify the correct option and return the corresponding letter (A-E). Before finalizing your answer, ensure your calculations substantiate its correctness performing incremental steps including analysis of relevant concepts and cross-validation to ensure accuracy and confidence in your response.\\n\\n6. Choose the option from (A-E) that most closely aligns with your conclusion based on the evidence and reasoning you have provided.\\n\\n[/INST]\\nHuman: [INST]Which of the following is an accurate definition of dynamic scaling in self-similar systems?\\nA - Dynamic scaling refers to the evolution of self-similar systems, where data obtained from snapshots at fixed times exhibits similarity to the respective data taken from snapshots of any earlier or later time. This similarity is tested by a certain time-dependent stochastic variable x.\\n\\nB - Dynamic scaling refers to the non-evolution of self-similar systems, where data obtained from snapshots at fixed times is similar to the respective data taken from snapshots of any earlier or later time. This similarity is tested by a certain time-dependent stochastic variable x.\\n\\t\\nC - Dynamic scaling refers to the evolution of self-similar systems, where data obtained from snapshots at fixed times is dissimilar to the respective data taken from snapshots of any earlier or later time. This dissimilarity is tested by a certain time-independent stochastic variable y.\\n\\nD - Dynamic scaling refers to the non-evolution of self-similar systems, where data obtained from snapshots at fixed times is dissimilar to the respective data taken from snapshots of any earlier or later time. This dissimilarity is tested by a certain time-independent stochastic variable y.\\n\\nE - Dynamic scaling refers to the evolution of self-similar systems, where data obtained from snapshots at fixed times is independent of the respective data taken from snapshots of any earlier or later time. This independence is tested by a certain time-dependent stochastic variable z.[/INST]\"\n",
      "  ]\n",
      "}\n",
      "\u001B[36;1m\u001B[1;3m[llm/end]\u001B[0m \u001B[1m[1:chain:LLMChain > 2:llm:CTransformers] [3.79s] Exiting LLM run with output:\n",
      "\u001B[0m{\n",
      "  \"generations\": [\n",
      "    [\n",
      "      {\n",
      "        \"text\": \"\\nA.\",\n",
      "        \"generation_info\": null\n",
      "      }\n",
      "    ]\n",
      "  ],\n",
      "  \"llm_output\": null,\n",
      "  \"run\": null\n",
      "}\n",
      "\u001B[36;1m\u001B[1;3m[chain/end]\u001B[0m \u001B[1m[1:chain:LLMChain] [3.79s] Exiting Chain run with output:\n",
      "\u001B[0m{\n",
      "  \"text\": \"\\nA.\"\n",
      "}\n"
     ]
    }
   ],
   "source": [
    "langchain.debug = True\n",
    "result = chain.run(f\"{problem}\\n{alternatives}\")\n",
    "langchain.debug = False"
   ],
   "metadata": {
    "collapsed": false,
    "ExecuteTime": {
     "end_time": "2023-09-15T22:49:47.365987Z",
     "start_time": "2023-09-15T22:49:43.574176Z"
    }
   },
   "id": "557fc9f07dffb907"
  },
  {
   "cell_type": "code",
   "execution_count": 9,
   "outputs": [
    {
     "name": "stdout",
     "output_type": "stream",
     "text": [
      "A.\n"
     ]
    }
   ],
   "source": [
    "print(result.strip())"
   ],
   "metadata": {
    "collapsed": false,
    "ExecuteTime": {
     "end_time": "2023-09-15T22:49:47.368849Z",
     "start_time": "2023-09-15T22:49:47.364683Z"
    }
   },
   "id": "3cda86f28f505e29"
  },
  {
   "cell_type": "code",
   "execution_count": 9,
   "outputs": [],
   "source": [],
   "metadata": {
    "collapsed": false,
    "ExecuteTime": {
     "end_time": "2023-09-15T22:49:47.368925Z",
     "start_time": "2023-09-15T22:49:47.367440Z"
    }
   },
   "id": "c524cdfa2350a5bc"
  }
 ],
 "metadata": {
  "kernelspec": {
   "display_name": "Python 3 (ipykernel)",
   "language": "python",
   "name": "python3"
  },
  "language_info": {
   "codemirror_mode": {
    "name": "ipython",
    "version": 3
   },
   "file_extension": ".py",
   "mimetype": "text/x-python",
   "name": "python",
   "nbconvert_exporter": "python",
   "pygments_lexer": "ipython3",
   "version": "3.11.4"
  }
 },
 "nbformat": 4,
 "nbformat_minor": 5
}
