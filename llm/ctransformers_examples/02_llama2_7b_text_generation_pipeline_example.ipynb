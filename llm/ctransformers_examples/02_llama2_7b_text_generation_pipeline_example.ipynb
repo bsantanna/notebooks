{
 "cells": [
  {
   "cell_type": "code",
   "execution_count": 1,
   "outputs": [],
   "source": [
    "from ctransformers import AutoModelForCausalLM, AutoTokenizer\n",
    "from transformers import pipeline"
   ],
   "metadata": {
    "collapsed": false,
    "ExecuteTime": {
     "end_time": "2023-09-22T19:29:42.737973Z",
     "start_time": "2023-09-22T19:29:36.794519Z"
    }
   },
   "id": "cafaee9acb6c19fe"
  },
  {
   "cell_type": "code",
   "execution_count": 2,
   "outputs": [],
   "source": [
    "instruction_model_path = \"/Users/bsantanna/dev/workspace/community/Llama-2-7B-GGUF/llama-2-7b.Q5_K_M.gguf\"\n",
    "model = AutoModelForCausalLM.from_pretrained(instruction_model_path, hf=True)\n",
    "tokenizer = AutoTokenizer.from_pretrained(model)\n",
    "pipe = pipeline(\"text-generation\", model=model, tokenizer=tokenizer)"
   ],
   "metadata": {
    "collapsed": false,
    "ExecuteTime": {
     "end_time": "2023-09-22T19:29:50.252744Z",
     "start_time": "2023-09-22T19:29:50.208935Z"
    }
   },
   "id": "754fe3314d262314"
  },
  {
   "cell_type": "code",
   "execution_count": 3,
   "outputs": [
    {
     "name": "stdout",
     "output_type": "stream",
     "text": [
      "[{'generated_text': 'AI is going to change the world. everyone knows that. But how?\\nThe answer is simple: AI is going to change the world by making it more efficient, more productive, and more intelligent.\\nAI is going to change the world by making it more efficient, more productive, and more intelligent.\\nAI is going to change the world by making it more efficient, more productive, and more intelligent. AI is going to change the world by making it more efficient, more productive, and more intelligent. AI is going to change the world by making it more efficient, more productive, and more intelligent. AI is going to change the world by making it more efficient, more productive, and more intelligent. AI is going to change the world by making it more efficient, more productive, and more intelligent. AI is going to change the world by making it more efficient, more productive, and more intelligent. AI is going to change the world by making it more efficient, more productive, and more intelligent. AI is going to change the world by making it more efficient, more productive, and more intelligent. AI is going to change the world by'}]\n"
     ]
    }
   ],
   "source": [
    "print(pipe(\"AI is going to\", max_new_tokens=256))"
   ],
   "metadata": {
    "collapsed": false,
    "ExecuteTime": {
     "end_time": "2023-09-22T19:30:12.370825Z",
     "start_time": "2023-09-22T19:29:51.178983Z"
    }
   },
   "id": "c37dce58c9424b7"
  },
  {
   "cell_type": "code",
   "execution_count": null,
   "outputs": [],
   "source": [],
   "metadata": {
    "collapsed": false
   },
   "id": "325e19e49f521242"
  }
 ],
 "metadata": {
  "kernelspec": {
   "display_name": "Python 3",
   "language": "python",
   "name": "python3"
  },
  "language_info": {
   "codemirror_mode": {
    "name": "ipython",
    "version": 2
   },
   "file_extension": ".py",
   "mimetype": "text/x-python",
   "name": "python",
   "nbconvert_exporter": "python",
   "pygments_lexer": "ipython2",
   "version": "2.7.6"
  }
 },
 "nbformat": 4,
 "nbformat_minor": 5
}
