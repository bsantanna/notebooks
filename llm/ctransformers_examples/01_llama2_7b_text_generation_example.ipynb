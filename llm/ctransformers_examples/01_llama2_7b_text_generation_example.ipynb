{
 "cells": [
  {
   "cell_type": "code",
   "execution_count": 1,
   "id": "initial_id",
   "metadata": {
    "collapsed": true,
    "ExecuteTime": {
     "end_time": "2023-09-08T09:18:37.247483Z",
     "start_time": "2023-09-08T09:18:37.244581Z"
    }
   },
   "outputs": [],
   "source": [
    "#!pip install ctransformers 'ctransformers[gptq]'"
   ]
  },
  {
   "cell_type": "code",
   "execution_count": 2,
   "outputs": [],
   "source": [
    "from ctransformers import AutoModelForCausalLM"
   ],
   "metadata": {
    "collapsed": false,
    "ExecuteTime": {
     "end_time": "2023-09-08T10:32:42.713030Z",
     "start_time": "2023-09-08T10:32:42.061249Z"
    }
   },
   "id": "cafaee9acb6c19fe"
  },
  {
   "cell_type": "code",
   "execution_count": 9,
   "outputs": [],
   "source": [
    "instruction_model_path = \"/Users/bsantanna/dev/workspace/community/Llama-2-7B-GGUF/llama-2-7b.Q5_K_M.gguf\"\n",
    "llm = AutoModelForCausalLM.from_pretrained(instruction_model_path)"
   ],
   "metadata": {
    "collapsed": false,
    "ExecuteTime": {
     "end_time": "2023-09-08T10:33:53.049451Z",
     "start_time": "2023-09-08T10:33:53.016617Z"
    }
   },
   "id": "754fe3314d262314"
  },
  {
   "cell_type": "code",
   "execution_count": 10,
   "outputs": [],
   "source": [
    "result = llm(\"AI is going to\")"
   ],
   "metadata": {
    "collapsed": false,
    "ExecuteTime": {
     "end_time": "2023-09-08T10:34:11.461993Z",
     "start_time": "2023-09-08T10:33:54.311796Z"
    }
   },
   "id": "c37dce58c9424b7"
  },
  {
   "cell_type": "code",
   "execution_count": 11,
   "outputs": [
    {
     "name": "stdout",
     "output_type": "stream",
     "text": [
      " change the world. You will soon have robots, automation, and smart technology running everything in your life from home appliances to your car to your workplace. The only way to stay ahead of this curve is by understanding how artificial intelligence works, what it can do for you and where its future lies.\n",
      "What does the AI field entail? What are the top careers available with an AI degree? Read on to find out!\n",
      "The Future Of Artificial Intelligence: Where Is It Headed?\n",
      "AI is a rapidly growing field that has been around since the 1950s, and its development over the last six decades can be tracked back through some milestones in this infographic by Varonis Systems. This article explores how artificial intelligence works with different technologies to solve complex problems or create new opportunities for humanity!\n",
      "What Does An AI Career Entail?\n",
      "Artificial Intelligence is a broad field that has been growing in popularity as technology continues to develop at a rapid pace. The future of AI careers will be shaped by the advancements made by engineers, developers and other professionals who work on projects for corporations around the world\n"
     ]
    }
   ],
   "source": [
    "print(result)"
   ],
   "metadata": {
    "collapsed": false,
    "ExecuteTime": {
     "end_time": "2023-09-08T10:34:11.464740Z",
     "start_time": "2023-09-08T10:34:11.462173Z"
    }
   },
   "id": "dd0493c4a2a0d13d"
  },
  {
   "cell_type": "code",
   "execution_count": null,
   "outputs": [],
   "source": [],
   "metadata": {
    "collapsed": false
   },
   "id": "325e19e49f521242"
  }
 ],
 "metadata": {
  "kernelspec": {
   "display_name": "Python 3",
   "language": "python",
   "name": "python3"
  },
  "language_info": {
   "codemirror_mode": {
    "name": "ipython",
    "version": 2
   },
   "file_extension": ".py",
   "mimetype": "text/x-python",
   "name": "python",
   "nbconvert_exporter": "python",
   "pygments_lexer": "ipython2",
   "version": "2.7.6"
  }
 },
 "nbformat": 4,
 "nbformat_minor": 5
}
