{
 "cells": [
  {
   "cell_type": "code",
   "execution_count": null,
   "outputs": [],
   "source": [
    "import langchain\n",
    "import pandas as pd\n",
    "from langchain.chains import RetrievalQA\n",
    "from langchain.document_loaders import CSVLoader\n",
    "from langchain.embeddings import HuggingFaceInstructEmbeddings\n",
    "from langchain.llms import CTransformers\n",
    "from langchain.vectorstores import DocArrayInMemorySearch"
   ],
   "metadata": {
    "collapsed": false
   },
   "id": "cafaee9acb6c19fe"
  },
  {
   "cell_type": "code",
   "execution_count": null,
   "outputs": [],
   "source": [
    "# globals\n",
    "model_path = \"/Users/bsantanna/dev/workspace/community/Llama-2-7b-Chat-GGUF\"\n",
    "embedding_model = 'hkunlp/instructor-xl'\n",
    "instruction_model_path = f\"{model_path}/llama-2-7b-chat.Q5_K_M.gguf\"\n",
    "static_document_src_path = 'dataset/wine_100.csv'\n",
    "n_gpu_layers = 32\n",
    "n_batch = 512\n",
    "n_ctx = 5120\n",
    "n_tokens = 256\n",
    "n_repetition_penalty = 1.0\n",
    "n_temperature = 0.6\n",
    "config = {\n",
    "    'max_new_tokens': n_tokens,\n",
    "    'repetition_penalty': n_repetition_penalty,\n",
    "    'batch_size': n_batch,\n",
    "    'context_length': n_ctx,\n",
    "    'reset': True,\n",
    "    'temperature': n_temperature,\n",
    "    'gpu_layers': n_gpu_layers\n",
    "}"
   ],
   "metadata": {
    "collapsed": false
   },
   "id": "478ee4e61b4b5274"
  },
  {
   "cell_type": "code",
   "execution_count": null,
   "outputs": [],
   "source": [
    "# Load dataframe for analysis\n",
    "df = pd.read_csv(static_document_src_path)"
   ],
   "metadata": {
    "collapsed": false
   },
   "id": "60c40358cbd795ea"
  },
  {
   "cell_type": "code",
   "execution_count": null,
   "outputs": [],
   "source": [
    "# initialize embeddings\n",
    "embedding = HuggingFaceInstructEmbeddings(model_name=embedding_model)"
   ],
   "metadata": {
    "collapsed": false
   },
   "id": "454132a62339effe"
  },
  {
   "cell_type": "code",
   "execution_count": null,
   "outputs": [],
   "source": [
    "# Load CSV document  \n",
    "loader = CSVLoader(file_path=static_document_src_path)\n",
    "\n",
    "# initialize db \n",
    "docs = loader.load()\n",
    "db = DocArrayInMemorySearch.from_documents(\n",
    "    docs,\n",
    "    embedding\n",
    ")\n",
    "\n",
    "# initialize retriever\n",
    "retriever = db.as_retriever()"
   ],
   "metadata": {
    "collapsed": false
   },
   "id": "829c96f76ae5f0e6"
  },
  {
   "cell_type": "code",
   "execution_count": null,
   "outputs": [],
   "source": [
    "# load model\n",
    "model = CTransformers(\n",
    "    model=instruction_model_path,\n",
    "    gpu_layers=n_gpu_layers,\n",
    "    config=config)"
   ],
   "metadata": {
    "collapsed": false
   },
   "id": "c43b77b5edf9363f"
  },
  {
   "cell_type": "code",
   "execution_count": null,
   "outputs": [],
   "source": [
    "# initialize chain\n",
    "qa_chain = RetrievalQA.from_chain_type(\n",
    "    llm=model,\n",
    "    retriever=retriever\n",
    ")"
   ],
   "metadata": {
    "collapsed": false
   },
   "id": "e8b947950e4e2d97"
  },
  {
   "cell_type": "code",
   "execution_count": null,
   "outputs": [],
   "source": [
    "# Query\n",
    "query = \"Recommend me a wine from Argentina with black-cherry aroma.\"\n",
    "# langchain.debug = True\n",
    "response = qa_chain.run(query)\n",
    "# langchain.debug = False"
   ],
   "metadata": {
    "collapsed": false
   },
   "id": "8edafd66c541d091"
  },
  {
   "cell_type": "code",
   "execution_count": null,
   "outputs": [],
   "source": [
    "print(response)"
   ],
   "metadata": {
    "collapsed": false
   },
   "id": "ae33157e80d0b7b9"
  },
  {
   "cell_type": "code",
   "execution_count": null,
   "outputs": [],
   "source": [
    "response = qa_chain.run(\"Which wine pairs well with seafood? Can you explain a good reason why?\")\n",
    "print(response)"
   ],
   "metadata": {
    "collapsed": false
   },
   "id": "3a2e51b84c08d1ad"
  },
  {
   "cell_type": "code",
   "execution_count": null,
   "outputs": [],
   "source": [],
   "metadata": {
    "collapsed": false
   },
   "id": "e5fb504a10a74ecb"
  }
 ],
 "metadata": {
  "kernelspec": {
   "display_name": "Python 3",
   "language": "python",
   "name": "python3"
  },
  "language_info": {
   "codemirror_mode": {
    "name": "ipython",
    "version": 2
   },
   "file_extension": ".py",
   "mimetype": "text/x-python",
   "name": "python",
   "nbconvert_exporter": "python",
   "pygments_lexer": "ipython2",
   "version": "2.7.6"
  }
 },
 "nbformat": 4,
 "nbformat_minor": 5
}
