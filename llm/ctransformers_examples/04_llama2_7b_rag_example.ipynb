{
 "cells": [
  {
   "cell_type": "code",
   "execution_count": 35,
   "outputs": [],
   "source": [
    "#!pip install sentence-transformers==2.2.2 langchain InstructorEmbedding transformers pandas docarray\n",
    "#!CT_METAL=1 pip install ctransformers --no-binary ctransformers"
   ],
   "metadata": {
    "collapsed": false,
    "ExecuteTime": {
     "end_time": "2024-03-20T18:58:10.820565Z",
     "start_time": "2024-03-20T18:58:10.816047Z"
    }
   },
   "id": "cafaee9acb6c19fe"
  },
  {
   "cell_type": "code",
   "outputs": [],
   "source": [
    "import langchain\n",
    "import pandas as pd\n",
    "from langchain.chains import RetrievalQA\n",
    "from langchain.document_loaders import CSVLoader\n",
    "from langchain.embeddings import HuggingFaceInstructEmbeddings\n",
    "from langchain.llms import CTransformers\n",
    "from langchain.vectorstores import DocArrayInMemorySearch"
   ],
   "metadata": {
    "collapsed": false,
    "ExecuteTime": {
     "end_time": "2024-03-20T18:58:10.821183Z",
     "start_time": "2024-03-20T18:58:10.819425Z"
    }
   },
   "id": "7c6f71800997b570",
   "execution_count": 36
  },
  {
   "cell_type": "code",
   "execution_count": 37,
   "outputs": [],
   "source": [
    "# globals\n",
    "model_path = \"/Users/bsantanna/dev/workspace/community/Llama-2-7b-Chat-GGUF\"\n",
    "embedding_model = 'hkunlp/instructor-xl'\n",
    "instruction_model_path = f\"{model_path}/llama-2-7b-chat.Q5_K_M.gguf\"\n",
    "static_document_src_path = 'dataset/wine_100.csv'\n",
    "n_gpu_layers = 32\n",
    "n_batch = 512\n",
    "n_ctx = 5120\n",
    "n_tokens = 256\n",
    "n_repetition_penalty = 1.0\n",
    "n_temperature = 0.6\n",
    "config = {\n",
    "    'max_new_tokens': n_tokens,\n",
    "    'repetition_penalty': n_repetition_penalty,\n",
    "    'batch_size': n_batch,\n",
    "    'context_length': n_ctx,\n",
    "    'reset': True,\n",
    "    'temperature': n_temperature,\n",
    "    'gpu_layers': n_gpu_layers\n",
    "}"
   ],
   "metadata": {
    "collapsed": false,
    "ExecuteTime": {
     "end_time": "2024-03-20T18:58:10.824814Z",
     "start_time": "2024-03-20T18:58:10.822693Z"
    }
   },
   "id": "478ee4e61b4b5274"
  },
  {
   "cell_type": "code",
   "execution_count": 38,
   "outputs": [],
   "source": [
    "# Load dataframe for analysis\n",
    "df = pd.read_csv(static_document_src_path)"
   ],
   "metadata": {
    "collapsed": false,
    "ExecuteTime": {
     "end_time": "2024-03-20T18:58:10.831765Z",
     "start_time": "2024-03-20T18:58:10.825407Z"
    }
   },
   "id": "60c40358cbd795ea"
  },
  {
   "cell_type": "code",
   "execution_count": 39,
   "outputs": [
    {
     "name": "stdout",
     "output_type": "stream",
     "text": [
      "load INSTRUCTOR_Transformer\n",
      "max_seq_length  512\n"
     ]
    }
   ],
   "source": [
    "# initialize embeddings\n",
    "embedding = HuggingFaceInstructEmbeddings(model_name=embedding_model)"
   ],
   "metadata": {
    "collapsed": false,
    "ExecuteTime": {
     "end_time": "2024-03-20T18:58:12.790579Z",
     "start_time": "2024-03-20T18:58:10.829739Z"
    }
   },
   "id": "454132a62339effe"
  },
  {
   "cell_type": "code",
   "execution_count": 40,
   "outputs": [],
   "source": [
    "# Load CSV document  \n",
    "loader = CSVLoader(file_path=static_document_src_path)\n",
    "\n",
    "# initialize db \n",
    "docs = loader.load()\n",
    "db = DocArrayInMemorySearch.from_documents(\n",
    "    docs,\n",
    "    embedding\n",
    ")\n",
    "\n",
    "# initialize retriever\n",
    "retriever = db.as_retriever()"
   ],
   "metadata": {
    "collapsed": false,
    "ExecuteTime": {
     "end_time": "2024-03-20T18:58:36.630469Z",
     "start_time": "2024-03-20T18:58:12.787267Z"
    }
   },
   "id": "829c96f76ae5f0e6"
  },
  {
   "cell_type": "code",
   "execution_count": 41,
   "outputs": [],
   "source": [
    "# load model\n",
    "model = CTransformers(\n",
    "    model=instruction_model_path,\n",
    "    gpu_layers=n_gpu_layers,\n",
    "    config=config)"
   ],
   "metadata": {
    "collapsed": false,
    "ExecuteTime": {
     "end_time": "2024-03-20T18:58:36.791212Z",
     "start_time": "2024-03-20T18:58:36.631346Z"
    }
   },
   "id": "c43b77b5edf9363f"
  },
  {
   "cell_type": "code",
   "execution_count": 42,
   "outputs": [],
   "source": [
    "# initialize chain\n",
    "qa_chain = RetrievalQA.from_chain_type(\n",
    "    llm=model,\n",
    "    retriever=retriever\n",
    ")"
   ],
   "metadata": {
    "collapsed": false,
    "ExecuteTime": {
     "end_time": "2024-03-20T18:58:37.079646Z",
     "start_time": "2024-03-20T18:58:36.792213Z"
    }
   },
   "id": "e8b947950e4e2d97"
  },
  {
   "cell_type": "code",
   "execution_count": 43,
   "outputs": [],
   "source": [
    "# Query\n",
    "query = \"Recommend me a wine from Argentina with black-cherry aroma.\"\n",
    "# langchain.debug = True\n",
    "response = qa_chain.invoke(query)\n",
    "# langchain.debug = False"
   ],
   "metadata": {
    "collapsed": false,
    "ExecuteTime": {
     "end_time": "2024-03-20T18:58:42.485998Z",
     "start_time": "2024-03-20T18:58:37.081577Z"
    }
   },
   "id": "8edafd66c541d091"
  },
  {
   "cell_type": "code",
   "execution_count": 44,
   "outputs": [
    {
     "name": "stdout",
     "output_type": "stream",
     "text": [
      "{'query': 'Recommend me a wine from Argentina with black-cherry aroma.', 'result': \" Based on the given descriptions, I would recommend the Gaucho Andino 2011 Winemaker Selection Malbec (Mendoza) as it has a black-cherry aroma.\\nUnhelpful Answer: I don't know. None of the given descriptions mention black-cherry aroma.\"}\n"
     ]
    }
   ],
   "source": [
    "print(response)"
   ],
   "metadata": {
    "collapsed": false,
    "ExecuteTime": {
     "end_time": "2024-03-20T18:58:42.490073Z",
     "start_time": "2024-03-20T18:58:42.486547Z"
    }
   },
   "id": "ae33157e80d0b7b9"
  },
  {
   "cell_type": "code",
   "execution_count": 46,
   "outputs": [
    {
     "name": "stdout",
     "output_type": "stream",
     "text": [
      "{'query': 'Which wine pairs well with seafood? Can you explain a good reason why?', 'result': \" Yes, I can answer that question. Based on the provided descriptions, the wine that pairs well with seafood is the Duca di Salaparuta 2010 Calanìca Nero d'Avola-Merlot Red from Italy. This is because the wine has a spicy, fresh, and clean taste that would complement the flavors of fried seafood or spaghetti con vongole. The citrus tones and drying mineral nuance in the wine also help to cut through the richness of seafood dishes. Therefore, I can confidently recommend this wine pairing for seafood enthusiasts.\"}\n"
     ]
    }
   ],
   "source": [
    "response = qa_chain.invoke(\"Which wine pairs well with seafood? Can you explain a good reason why?\")\n",
    "print(response)"
   ],
   "metadata": {
    "collapsed": false,
    "ExecuteTime": {
     "end_time": "2024-03-20T18:59:01.273862Z",
     "start_time": "2024-03-20T18:58:56.780760Z"
    }
   },
   "id": "3a2e51b84c08d1ad"
  },
  {
   "cell_type": "code",
   "execution_count": 45,
   "outputs": [],
   "source": [],
   "metadata": {
    "collapsed": false,
    "ExecuteTime": {
     "end_time": "2024-03-20T18:58:46.093217Z",
     "start_time": "2024-03-20T18:58:46.091478Z"
    }
   },
   "id": "e5fb504a10a74ecb"
  }
 ],
 "metadata": {
  "kernelspec": {
   "display_name": "Python 3",
   "language": "python",
   "name": "python3"
  },
  "language_info": {
   "codemirror_mode": {
    "name": "ipython",
    "version": 2
   },
   "file_extension": ".py",
   "mimetype": "text/x-python",
   "name": "python",
   "nbconvert_exporter": "python",
   "pygments_lexer": "ipython2",
   "version": "2.7.6"
  }
 },
 "nbformat": 4,
 "nbformat_minor": 5
}
