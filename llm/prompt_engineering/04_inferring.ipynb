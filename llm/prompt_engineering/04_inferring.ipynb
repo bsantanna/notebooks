{
 "cells": [
  {
   "cell_type": "markdown",
   "source": [
    "# Inferring\n",
    "\n",
    "Goal of this notebook is practicing and understanding prompts used for inferring.\n",
    "\n",
    "Examples sourced from [Deeplearning.ai ChatGPT Prompt Engineering for Developers](https://learn.deeplearning.ai/chatgpt-prompt-eng/lesson/5/inferring) course.\n",
    "\n",
    "LLM Model: [dolly-v2-3b](https://huggingface.co/databricks/dolly-v2-3b)"
   ],
   "metadata": {
    "collapsed": false
   }
  },
  {
   "cell_type": "code",
   "execution_count": 1,
   "outputs": [],
   "source": [
    "!export PYTORCH_ENABLE_MPS_FALLBACK=1\n",
    "import time\n",
    "\n",
    "import torch\n",
    "from langchain import PromptTemplate, LLMChain\n",
    "from langchain.llms import HuggingFacePipeline\n",
    "from transformers import pipeline\n",
    "\n",
    "# print(torch.backends.mps.is_available())\n",
    "# print(torch.backends.mps.is_built())\n",
    "# print(torch.cuda.is_available())"
   ],
   "metadata": {
    "collapsed": false,
    "ExecuteTime": {
     "end_time": "2023-05-18T15:05:52.759478Z",
     "start_time": "2023-05-18T15:05:36.627146Z"
    }
   }
  },
  {
   "cell_type": "code",
   "execution_count": 2,
   "outputs": [],
   "source": [
    "generate_text = pipeline(model=\"databricks/dolly-v2-3b\", torch_dtype=torch.bfloat16,\n",
    "                         trust_remote_code=True, device_map=\"auto\", return_full_text=True)\n",
    "\n",
    "simple_prompt = PromptTemplate(\n",
    "    input_variables=[\"instruction\"],\n",
    "    template=\"{instruction}\")\n",
    "\n",
    "prompt_with_context = PromptTemplate(\n",
    "    input_variables=[\"instruction\", \"context\"],\n",
    "    template=\"{instruction}\\n\\nInput:\\n{context}\")\n",
    "\n",
    "hf_pipeline = HuggingFacePipeline(pipeline=generate_text)\n",
    "\n",
    "llm_chain = LLMChain(llm=hf_pipeline, prompt=simple_prompt)\n",
    "llm_context_chain = LLMChain(llm=hf_pipeline, prompt=prompt_with_context)\n",
    "\n",
    "\n",
    "def get_response(input_prompt, context=None):\n",
    "    if context is None:\n",
    "        return llm_chain.predict(instruction=input_prompt).lstrip()\n",
    "    else:\n",
    "        return llm_context_chain.predict(instruction=input_prompt, context=context).lstrip()\n",
    "\n",
    "\n",
    "def reply_prompt(input_prompt, context=None):\n",
    "    start = time.time()\n",
    "    response = get_response(input_prompt, context)\n",
    "    end = time.time()\n",
    "    duration_seconds = end - start\n",
    "    print(response)\n",
    "    print(f\"\\nProcessing duration: {duration_seconds:0.2f} seconds\")\n"
   ],
   "metadata": {
    "collapsed": false,
    "ExecuteTime": {
     "end_time": "2023-05-18T15:05:56.369194Z",
     "start_time": "2023-05-18T15:05:52.762498Z"
    }
   }
  },
  {
   "cell_type": "markdown",
   "source": [
    "## Challenge: infer sentiment and topics from product reviews and news articles."
   ],
   "metadata": {
    "collapsed": false
   }
  },
  {
   "cell_type": "code",
   "execution_count": 3,
   "outputs": [],
   "source": [
    "lamp_review = \"\"\"\n",
    "Needed a nice lamp for my bedroom, and this one had additional storage and not too high of a price point.\n",
    "Got it fast.\n",
    "The string to our lamp broke during the transit and the company happily sent over a new one.\n",
    "Came within a few days as well.\n",
    "It was easy to put together.\n",
    "I had a missing part, so I contacted their support and they very quickly got me the missing piece!\n",
    "Lumina seems to me to be a great company that cares about their customers and products!!\n",
    "\"\"\""
   ],
   "metadata": {
    "collapsed": false,
    "ExecuteTime": {
     "end_time": "2023-05-18T15:05:56.371795Z",
     "start_time": "2023-05-18T15:05:56.369975Z"
    }
   }
  },
  {
   "cell_type": "markdown",
   "source": [
    "### Sentiment: Positive / Negative"
   ],
   "metadata": {
    "collapsed": false
   }
  },
  {
   "cell_type": "code",
   "execution_count": 4,
   "outputs": [
    {
     "name": "stdout",
     "output_type": "stream",
     "text": [
      "positive\n",
      "\n",
      "Processing duration: 108.44 seconds\n"
     ]
    }
   ],
   "source": [
    "prompt = f\"\"\"\n",
    "What is the sentiment of the following product review which is delimited with <>?\n",
    "Give your answer as a single word, either \"positive\" or \"negative\".\n",
    "Review text: <{lamp_review}>\n",
    "\"\"\"\n",
    "\n",
    "reply_prompt(prompt)"
   ],
   "metadata": {
    "collapsed": false,
    "ExecuteTime": {
     "end_time": "2023-05-18T15:07:44.811979Z",
     "start_time": "2023-05-18T15:05:56.373233Z"
    }
   }
  },
  {
   "cell_type": "markdown",
   "source": [
    "### Identify types of emotions"
   ],
   "metadata": {
    "collapsed": false
   }
  },
  {
   "cell_type": "code",
   "execution_count": 14,
   "outputs": [
    {
     "name": "stdout",
     "output_type": "stream",
     "text": [
      "- Happiness\n",
      "- Ease of buying\n",
      "- Good price\n",
      "- Good company\n",
      "- Missing part\n",
      "- String broke\n",
      "\n",
      "Processing duration: 131.35 seconds\n"
     ]
    }
   ],
   "source": [
    "prompt = f\"\"\"\n",
    "1 - Identify a list of emotions that the writer of the following review review which is delimited by <>.\n",
    "2 - Format your answer as a list of words.\n",
    "3 - Include no more than five items in the list.\n",
    "\n",
    "Review text: <{lamp_review}>\n",
    "\"\"\"\n",
    "\n",
    "reply_prompt(prompt)"
   ],
   "metadata": {
    "collapsed": false,
    "ExecuteTime": {
     "end_time": "2023-05-18T15:33:42.983641Z",
     "start_time": "2023-05-18T15:31:31.636342Z"
    }
   }
  },
  {
   "cell_type": "markdown",
   "source": [
    "### Identify anger"
   ],
   "metadata": {
    "collapsed": false
   }
  },
  {
   "cell_type": "code",
   "execution_count": 6,
   "outputs": [
    {
     "name": "stdout",
     "output_type": "stream",
     "text": [
      "No, the reviewer is expressing gratitude.\n",
      "\n",
      "Processing duration: 111.45 seconds\n"
     ]
    }
   ],
   "source": [
    "prompt = f\"\"\"\n",
    "Is the writer of the following review expressing anger?\n",
    "The review is delimited with <>.\n",
    "Give your answer as either yes or no.\n",
    "\n",
    "Review text: <{lamp_review}>\n",
    "\"\"\"\n",
    "\n",
    "reply_prompt(prompt)"
   ],
   "metadata": {
    "collapsed": false,
    "ExecuteTime": {
     "end_time": "2023-05-18T15:11:50.887177Z",
     "start_time": "2023-05-18T15:09:59.434314Z"
    }
   }
  },
  {
   "cell_type": "markdown",
   "source": [
    "### Extract product and company names"
   ],
   "metadata": {
    "collapsed": false
   }
  },
  {
   "cell_type": "code",
   "execution_count": 13,
   "outputs": [
    {
     "name": "stdout",
     "output_type": "stream",
     "text": [
      "\"Item\": \"Lumina\", \"Brand\": \"Lumina\"\n",
      "\n",
      "Processing duration: 142.63 seconds\n"
     ]
    }
   ],
   "source": [
    "prompt = f\"\"\"\n",
    "Identify the following items from the review text:\n",
    "- Item purchased by reviewer\n",
    "- Company that made the item\n",
    "\n",
    "The review is delimited with <>.\n",
    "Format your response as a JSON object with \"Item\" and \"Brand\" as the keys.\n",
    "If the information isn't present, use \"unknown\" as the value.\n",
    "Make your response as short as possible.\n",
    "\n",
    "Review text: <{lamp_review}>\n",
    "\"\"\"\n",
    "\n",
    "reply_prompt(prompt)"
   ],
   "metadata": {
    "collapsed": false,
    "ExecuteTime": {
     "end_time": "2023-05-18T15:31:31.632468Z",
     "start_time": "2023-05-18T15:29:09.002839Z"
    }
   }
  },
  {
   "cell_type": "markdown",
   "source": [
    "### Doing multiple tasks at once"
   ],
   "metadata": {
    "collapsed": false
   }
  },
  {
   "cell_type": "code",
   "execution_count": 12,
   "outputs": [
    {
     "name": "stdout",
     "output_type": "stream",
     "text": [
      "{\n",
      "  \"sentiment\": \"positive\",\n",
      "  \"anger_detected\": false,\n",
      "  \"item\": \"Lumina\",\n",
      "  \"brand\": \"Company that made the item\"\n",
      "}\n",
      "\n",
      "Processing duration: 190.05 seconds\n"
     ]
    }
   ],
   "source": [
    "prompt = f\"\"\"\n",
    "Identify the following items from the review text:\n",
    "1 - Sentiment (positive or negative)\n",
    "2 - Is the reviewer expressing anger? (true or false)\n",
    "3 - Item purchased by reviewer\n",
    "4 - Company that made the item\n",
    "\n",
    "The review is delimited with <>.\n",
    "Format your response as a JSON object with the following keys:  sentiment, anger_detected, item, brand.\n",
    "If the information isn't present, use \"unknown\" as the value.\n",
    "Make your response as short as possible.\n",
    "Format the anger_detected value as a boolean.\n",
    "\n",
    "Review text: <{lamp_review}>\n",
    "\"\"\"\n",
    "\n",
    "reply_prompt(prompt)"
   ],
   "metadata": {
    "collapsed": false,
    "ExecuteTime": {
     "end_time": "2023-05-18T15:29:09.006635Z",
     "start_time": "2023-05-18T15:25:58.947354Z"
    }
   }
  },
  {
   "cell_type": "markdown",
   "source": [
    "---\n",
    "## Inferring topics"
   ],
   "metadata": {
    "collapsed": false
   }
  },
  {
   "cell_type": "code",
   "execution_count": 9,
   "outputs": [],
   "source": [
    "story = \"\"\"\n",
    "In a recent survey conducted by the government, public sector employees were asked to rate their level of satisfaction with the department they work at.\n",
    "The results revealed that NASA was the most popular department with a satisfaction rating of 95%.\n",
    "\n",
    "One NASA employee, John Smith, commented on the findings, stating, \"I'm not surprised that NASA came out on top.\n",
    "It's a great place to work with amazing people and incredible opportunities. I'm proud to be a part of such an innovative organization.\"\n",
    "\n",
    "The results were also welcomed by NASA's management team, with Director Tom Johnson stating, \"We are thrilled to hear that our employees are satisfied with their work at NASA.\n",
    "We have a talented and dedicated team who work tirelessly to achieve our goals, and it's fantastic to see that their hard work is paying off.\"\n",
    "\n",
    "The survey also revealed that the Social Security Administration had the lowest satisfaction rating, with only 45% of employees indicating they were\n",
    "satisfied with their job. The government has pledged to address the concerns raised by employees in the survey and work towards improving job satisfaction across all departments.\n",
    "\"\"\""
   ],
   "metadata": {
    "collapsed": false,
    "ExecuteTime": {
     "end_time": "2023-05-18T15:18:11.532562Z",
     "start_time": "2023-05-18T15:18:11.531854Z"
    }
   }
  },
  {
   "cell_type": "markdown",
   "source": [
    "### Infer 5 topics"
   ],
   "metadata": {
    "collapsed": false
   }
  },
  {
   "cell_type": "code",
   "execution_count": 10,
   "outputs": [
    {
     "name": "stdout",
     "output_type": "stream",
     "text": [
      "- NASA\n",
      "- Social Security Administration\n",
      "- The government\n",
      "- John Smith\n",
      "- Director Tom Johnson\n",
      "\n",
      "Processing duration: 196.99 seconds\n"
     ]
    }
   ],
   "source": [
    "prompt = f\"\"\"\n",
    "Determine five topics that are being discussed in the following text, which is delimited by <>.\n",
    "\n",
    "Make each item at most 30 characters long.\n",
    "\n",
    "Format your response as a list of items.\n",
    "\n",
    "Text sample: <{story}>\n",
    "\"\"\"\n",
    "\n",
    "reply_prompt(prompt)"
   ],
   "metadata": {
    "collapsed": false,
    "ExecuteTime": {
     "end_time": "2023-05-18T15:21:28.528069Z",
     "start_time": "2023-05-18T15:18:11.534538Z"
    }
   }
  },
  {
   "cell_type": "code",
   "execution_count": null,
   "outputs": [],
   "source": [],
   "metadata": {
    "collapsed": false
   }
  }
 ],
 "metadata": {
  "kernelspec": {
   "display_name": "Python 3",
   "language": "python",
   "name": "python3"
  },
  "language_info": {
   "codemirror_mode": {
    "name": "ipython",
    "version": 2
   },
   "file_extension": ".py",
   "mimetype": "text/x-python",
   "name": "python",
   "nbconvert_exporter": "python",
   "pygments_lexer": "ipython2",
   "version": "2.7.6"
  }
 },
 "nbformat": 4,
 "nbformat_minor": 0
}
