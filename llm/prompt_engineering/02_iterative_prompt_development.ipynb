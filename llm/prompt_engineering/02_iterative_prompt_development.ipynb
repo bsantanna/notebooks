{
 "cells": [
  {
   "cell_type": "markdown",
   "source": [
    "# Iterative Prompt Develelopment\n",
    "\n",
    "Goal of this notebook is practicing and understanding iterative prompt development principles.\n",
    "\n",
    "Examples sourced from [Deeplearning.ai ChatGPT Prompt Engineering for Developers](https://learn.deeplearning.ai/chatgpt-prompt-eng/lesson/3/iterative) course.\n",
    "\n",
    "LLM Model: [dolly-v2-3b](https://huggingface.co/databricks/dolly-v2-3b)"
   ],
   "metadata": {
    "collapsed": false
   }
  },
  {
   "cell_type": "code",
   "execution_count": 1,
   "outputs": [],
   "source": [
    "!export PYTORCH_ENABLE_MPS_FALLBACK=1\n",
    "import time\n",
    "\n",
    "import torch\n",
    "from langchain import PromptTemplate, LLMChain\n",
    "from langchain.llms import HuggingFacePipeline\n",
    "from transformers import pipeline\n",
    "\n",
    "# print(torch.backends.mps.is_available())\n",
    "# print(torch.backends.mps.is_built())\n",
    "# print(torch.cuda.is_available())"
   ],
   "metadata": {
    "collapsed": false,
    "ExecuteTime": {
     "end_time": "2023-05-18T13:37:28.849178Z",
     "start_time": "2023-05-18T13:37:08.631280Z"
    }
   }
  },
  {
   "cell_type": "code",
   "execution_count": 2,
   "outputs": [],
   "source": [
    "generate_text = pipeline(model=\"databricks/dolly-v2-3b\", torch_dtype=torch.bfloat16,\n",
    "                         trust_remote_code=True, device_map=\"auto\", return_full_text=True)\n",
    "\n",
    "simple_prompt = PromptTemplate(\n",
    "    input_variables=[\"instruction\"],\n",
    "    template=\"{instruction}\")\n",
    "\n",
    "prompt_with_context = PromptTemplate(\n",
    "    input_variables=[\"instruction\", \"context\"],\n",
    "    template=\"{instruction}\\n\\nInput:\\n{context}\")\n",
    "\n",
    "hf_pipeline = HuggingFacePipeline(pipeline=generate_text)\n",
    "\n",
    "llm_chain = LLMChain(llm=hf_pipeline, prompt=simple_prompt)\n",
    "llm_context_chain = LLMChain(llm=hf_pipeline, prompt=prompt_with_context)\n",
    "\n",
    "\n",
    "def get_response(input_prompt, context=None):\n",
    "    if context is None:\n",
    "        return llm_chain.predict(instruction=input_prompt).lstrip()\n",
    "    else:\n",
    "        return llm_context_chain.predict(instruction=input_prompt, context=context).lstrip()\n",
    "\n",
    "\n",
    "def reply_prompt(input_prompt, context=None):\n",
    "    start = time.time()\n",
    "    response = get_response(input_prompt, context)\n",
    "    end = time.time()\n",
    "    duration_seconds = end - start\n",
    "    print(response)\n",
    "    print(f\"\\nProcessing duration: {duration_seconds:0.2f} seconds\")\n"
   ],
   "metadata": {
    "collapsed": false,
    "ExecuteTime": {
     "end_time": "2023-05-18T13:37:35.620645Z",
     "start_time": "2023-05-18T13:37:32.260313Z"
    }
   }
  },
  {
   "cell_type": "markdown",
   "source": [
    "## Challenge: Generate a marketing product description from a product fact sheet"
   ],
   "metadata": {
    "collapsed": false
   }
  },
  {
   "cell_type": "code",
   "execution_count": 3,
   "outputs": [],
   "source": [
    "fact_sheet_chair = \"\"\"\n",
    "OVERVIEW\n",
    "- Part of a beautiful family of mid-century inspired office furniture,\n",
    "including filing cabinets, desks, bookcases, meeting tables, and more.\n",
    "- Several options of shell color and base finishes.\n",
    "- Available with plastic back and front upholstery (SWC-100)\n",
    "or full upholstery (SWC-110) in 10 fabric and 6 leather options.\n",
    "- Base finish options are: stainless steel, matte black,\n",
    "gloss white, or chrome.\n",
    "- Chair is available with or without armrests.\n",
    "- Suitable for home or business settings.\n",
    "- Qualified for contract use.\n",
    "\n",
    "CONSTRUCTION\n",
    "- 5-wheel plastic coated aluminum base.\n",
    "- Pneumatic chair adjust for easy raise/lower action.\n",
    "\n",
    "DIMENSIONS\n",
    "- WIDTH 53 CM | 20.87”\n",
    "- DEPTH 51 CM | 20.08”\n",
    "- HEIGHT 80 CM | 31.50”\n",
    "- SEAT HEIGHT 44 CM | 17.32”\n",
    "- SEAT DEPTH 41 CM | 16.14”\n",
    "\n",
    "OPTIONS\n",
    "- Soft or hard-floor caster options.\n",
    "- Two choices of seat foam densities:\n",
    " medium (1.8 lb/ft3) or high (2.8 lb/ft3)\n",
    "- Armless or 8 position PU armrests\n",
    "\n",
    "MATERIALS\n",
    "SHELL BASE GLIDER\n",
    "- Cast Aluminum with modified nylon PA6/PA66 coating.\n",
    "- Shell thickness: 10 mm.\n",
    "SEAT\n",
    "- HD36 foam\n",
    "\n",
    "COUNTRY OF ORIGIN\n",
    "- Italy\n",
    "\"\"\""
   ],
   "metadata": {
    "collapsed": false,
    "ExecuteTime": {
     "end_time": "2023-05-18T13:37:58.406820Z",
     "start_time": "2023-05-18T13:37:58.404015Z"
    }
   }
  },
  {
   "cell_type": "code",
   "execution_count": 9,
   "outputs": [
    {
     "name": "stdout",
     "output_type": "stream",
     "text": [
      "The product described is a beautiful mid-century office furniture called SWC-110 with stainless steel base and various finish options. This furniture includes: \n",
      "- filing cabinets,\n",
      "- desks,\n",
      "- bookcases, and \n",
      "- meeting tables.\n",
      "\n",
      "Processing duration: 303.47 seconds\n"
     ]
    }
   ],
   "source": [
    "prompt = f\"\"\"\n",
    "Your task is to create a description for a product based on a technical fact sheet.\n",
    "\n",
    "Write a product description based on the information provided in the technical specifications delimited by <>\n",
    "\n",
    "Technical specifications: <{fact_sheet_chair}>\n",
    "\"\"\"\n",
    "reply_prompt(prompt)"
   ],
   "metadata": {
    "collapsed": false,
    "ExecuteTime": {
     "end_time": "2023-05-18T14:21:27.447368Z",
     "start_time": "2023-05-18T14:16:23.975198Z"
    }
   }
  },
  {
   "cell_type": "markdown",
   "source": [
    "### Issue 1: The text is too long\n",
    "- Limit the number of words/sentences/characters."
   ],
   "metadata": {
    "collapsed": false
   }
  },
  {
   "cell_type": "code",
   "execution_count": 10,
   "outputs": [
    {
     "name": "stdout",
     "output_type": "stream",
     "text": [
      "Part of a beautiful family of mid-century inspired office furniture, including filing cabinets, desks, bookcases, meeting tables, and more, the SWC chairs feature pneumatic chair adjust for easy raise/lower action, and base finishes of stainless steel, chrome, or matte black. Two options of soft or hard floor castors, 8 position PU armrests, and two choices of seat foam density are available for the SWC chairs.\n",
      "\n",
      "Processing duration: 338.34 seconds\n"
     ]
    }
   ],
   "source": [
    "prompt = f\"\"\"\n",
    "Your task is to create a description for a product based on a technical fact sheet.\n",
    "\n",
    "Write a product description based on the information provided in the technical specifications delimited by <>\n",
    "\n",
    "Use at most 200 characters.\n",
    "\n",
    "Technical specifications: <{fact_sheet_chair}>\n",
    "\"\"\"\n",
    "reply_prompt(prompt)"
   ],
   "metadata": {
    "collapsed": false,
    "ExecuteTime": {
     "end_time": "2023-05-18T14:27:05.787973Z",
     "start_time": "2023-05-18T14:21:27.449250Z"
    }
   }
  },
  {
   "cell_type": "markdown",
   "source": [
    "### Issue 2. Text focuses on the wrong details\n",
    "- Ask it to focus on the aspects that are relevant to the intended audience."
   ],
   "metadata": {
    "collapsed": false
   }
  },
  {
   "cell_type": "code",
   "execution_count": 11,
   "outputs": [
    {
     "name": "stdout",
     "output_type": "stream",
     "text": [
      "This office furniture product is from the mid-century modern style and is part of a beautiful family of products including filing cabinets, desks, bookcases, meeting tables, and more.\n",
      "\n",
      "Several options of shell color and base finishes are available.\n",
      "\n",
      "Base finish options are stainless steel, matte black, gloss white, or chrome.\n",
      "\n",
      "The chair in this product is available with or without armrests. \n",
      "\n",
      "There are soft or hard floor caster options.\n",
      "\n",
      "Two choices of seat foam density are available: medium (1.8 lbs/ft3) or high (2.8 lbs/ft3).\n",
      "\n",
      "PU armrests are available in 8 positions.\n",
      "\n",
      "This product can be used for home or business use.\n",
      "\n",
      "Processing duration: 400.53 seconds\n"
     ]
    }
   ],
   "source": [
    "prompt = f\"\"\"\n",
    "Your task is to create a description for a product based on a technical fact sheet.\n",
    "\n",
    "Write a product description based on the information provided in the technical specifications delimited by <>.\n",
    "\n",
    "The description is intended for furniture retailers, so should be technical in nature and focus on the materials the product is constructed from.\n",
    "\n",
    "Use at most 200 characters.\n",
    "\n",
    "Technical specifications: <{fact_sheet_chair}>\n",
    "\"\"\"\n",
    "\n",
    "reply_prompt(prompt)"
   ],
   "metadata": {
    "collapsed": false,
    "ExecuteTime": {
     "end_time": "2023-05-18T14:33:46.319049Z",
     "start_time": "2023-05-18T14:27:05.789104Z"
    }
   }
  },
  {
   "cell_type": "code",
   "execution_count": 12,
   "outputs": [
    {
     "name": "stdout",
     "output_type": "stream",
     "text": [
      "Here is an example of a technical specifications for a product:\n",
      "- Part of a beautiful family of mid-century inspired office furniture, \n",
      " - including filing cabinets, desks, bookcases, meeting tables, and more.\n",
      " - Available with plastic back and front upholstery (SWC-100) \n",
      " - or full upholstery (SWC-110) in 10 fabric and 6 leather options.\n",
      " - Stainless steel base finish options are: \n",
      " - stainless steel, matte black, \n",
      " - gloss white, or chrome.\n",
      " - Chair is available with or without armrests.\n",
      " - Suitable for home or business settings.\n",
      " - Qualified for contract use.\n",
      "\n",
      "Processing duration: 388.89 seconds\n"
     ]
    }
   ],
   "source": [
    "prompt = f\"\"\"\n",
    "Your task is to create a description for a product based on a technical fact sheet.\n",
    "\n",
    "Write a product description based on the information provided in the technical specifications delimited by <>.\n",
    "\n",
    "Use at most 200 characters.\n",
    "\n",
    "The description should be technical in nature and focus on the materials the product is constructed from.\n",
    "\n",
    "Technical specifications: <{fact_sheet_chair}>\n",
    "\"\"\"\n",
    "\n",
    "reply_prompt(prompt)"
   ],
   "metadata": {
    "collapsed": false,
    "ExecuteTime": {
     "end_time": "2023-05-18T14:40:15.208519Z",
     "start_time": "2023-05-18T14:33:46.320508Z"
    }
   }
  },
  {
   "cell_type": "code",
   "execution_count": null,
   "outputs": [],
   "source": [],
   "metadata": {
    "collapsed": false
   }
  }
 ],
 "metadata": {
  "kernelspec": {
   "display_name": "Python 3",
   "language": "python",
   "name": "python3"
  },
  "language_info": {
   "codemirror_mode": {
    "name": "ipython",
    "version": 2
   },
   "file_extension": ".py",
   "mimetype": "text/x-python",
   "name": "python",
   "nbconvert_exporter": "python",
   "pygments_lexer": "ipython2",
   "version": "2.7.6"
  }
 },
 "nbformat": 4,
 "nbformat_minor": 0
}
