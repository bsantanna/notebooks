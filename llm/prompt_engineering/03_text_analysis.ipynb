{
 "cells": [
  {
   "cell_type": "markdown",
   "source": [
    "# Text Analysis\n",
    "\n",
    "Goal of this notebook is practicing and understanding prompts used for text analysis.\n",
    "\n",
    "Examples sourced from [Deeplearning.ai ChatGPT Prompt Engineering for Developers](https://learn.deeplearning.ai/chatgpt-prompt-eng/lesson/4/summarizing) course.\n",
    "\n",
    "LLM Model: [dolly-v2-3b](https://huggingface.co/databricks/dolly-v2-3b)"
   ],
   "metadata": {
    "collapsed": false
   }
  },
  {
   "cell_type": "code",
   "execution_count": 1,
   "outputs": [],
   "source": [
    "!export PYTORCH_ENABLE_MPS_FALLBACK=1\n",
    "import time\n",
    "\n",
    "import torch\n",
    "from langchain import PromptTemplate, LLMChain\n",
    "from langchain.llms import HuggingFacePipeline\n",
    "from transformers import pipeline\n",
    "\n",
    "# print(torch.backends.mps.is_available())\n",
    "# print(torch.backends.mps.is_built())\n",
    "# print(torch.cuda.is_available())"
   ],
   "metadata": {
    "collapsed": false,
    "ExecuteTime": {
     "end_time": "2023-05-18T13:55:52.254714Z",
     "start_time": "2023-05-18T13:55:39.123590Z"
    }
   }
  },
  {
   "cell_type": "code",
   "execution_count": 2,
   "outputs": [],
   "source": [
    "generate_text = pipeline(model=\"databricks/dolly-v2-3b\", torch_dtype=torch.bfloat16,\n",
    "                         trust_remote_code=True, device_map=\"auto\", return_full_text=True)\n",
    "\n",
    "simple_prompt = PromptTemplate(\n",
    "    input_variables=[\"instruction\"],\n",
    "    template=\"{instruction}\")\n",
    "\n",
    "prompt_with_context = PromptTemplate(\n",
    "    input_variables=[\"instruction\", \"context\"],\n",
    "    template=\"{instruction}\\n\\nInput:\\n{context}\")\n",
    "\n",
    "hf_pipeline = HuggingFacePipeline(pipeline=generate_text)\n",
    "\n",
    "llm_chain = LLMChain(llm=hf_pipeline, prompt=simple_prompt)\n",
    "llm_context_chain = LLMChain(llm=hf_pipeline, prompt=prompt_with_context)\n",
    "\n",
    "\n",
    "def get_response(input_prompt, context=None):\n",
    "    if context is None:\n",
    "        return llm_chain.predict(instruction=input_prompt).lstrip()\n",
    "    else:\n",
    "        return llm_context_chain.predict(instruction=input_prompt, context=context).lstrip()\n",
    "\n",
    "\n",
    "def reply_prompt(input_prompt, context=None):\n",
    "    start = time.time()\n",
    "    response = get_response(input_prompt, context)\n",
    "    end = time.time()\n",
    "    duration_seconds = end - start\n",
    "    print(response)\n",
    "    print(f\"\\nProcessing duration: {duration_seconds:0.2f} seconds\")\n"
   ],
   "metadata": {
    "collapsed": false,
    "ExecuteTime": {
     "end_time": "2023-05-18T13:55:55.799801Z",
     "start_time": "2023-05-18T13:55:52.257227Z"
    }
   }
  },
  {
   "cell_type": "markdown",
   "source": [
    "## Challenge:  summarize text with a focus on specific topics"
   ],
   "metadata": {
    "collapsed": false
   }
  },
  {
   "cell_type": "code",
   "execution_count": 4,
   "outputs": [],
   "source": [
    "prod_review = \"\"\"\n",
    "Got this panda plush toy for my daughter's birthday, who loves it and takes it everywhere. It's soft and super cute, and its face has a friendly look. It's a bit small for what I paid though. I think there  might be other options that are bigger for the same price. It arrived a day earlier than expected, so I got to play with it myself before I gave it  to her. \"\"\""
   ],
   "metadata": {
    "collapsed": false,
    "ExecuteTime": {
     "end_time": "2023-05-18T13:56:37.108152Z",
     "start_time": "2023-05-18T13:56:37.106356Z"
    }
   }
  },
  {
   "cell_type": "markdown",
   "source": [
    "### Summarize with character limit."
   ],
   "metadata": {
    "collapsed": false
   }
  },
  {
   "cell_type": "code",
   "execution_count": 30,
   "outputs": [
    {
     "name": "stdout",
     "output_type": "stream",
     "text": [
      "The text is delimited by < and >.\n",
      "\n",
      "This panda plush toy for my daughter's birthday, who loves it and takes it everywhere. It's soft and super cute, and its face has a friendly look. It's a bit small for what I paid though. I think there might be other options that are bigger for the same price. It arrived a day earlier than expected, so I got to play with it myself before I gave it to her.\n",
      "\n",
      "Processing duration: 147.59 seconds\n"
     ]
    }
   ],
   "source": [
    "prompt = f\"\"\"\n",
    "Your task is to summarize a text delimited by <> using at most 50 characters.\n",
    "\n",
    "Text: <{prod_review}>\n",
    "\"\"\"\n",
    "\n",
    "reply_prompt(prompt)"
   ],
   "metadata": {
    "collapsed": false,
    "ExecuteTime": {
     "end_time": "2023-05-18T15:15:57.126621Z",
     "start_time": "2023-05-18T15:13:29.534853Z"
    }
   }
  },
  {
   "cell_type": "markdown",
   "source": [
    "### Summarize with specific focus"
   ],
   "metadata": {
    "collapsed": false
   }
  },
  {
   "cell_type": "code",
   "execution_count": 21,
   "outputs": [
    {
     "name": "stdout",
     "output_type": "stream",
     "text": [
      "The text you provided mentions shipping and delivery of the product. It might be helpful to know that the product was delivered a day earlier than expected.\n",
      "\n",
      "Processing duration: 118.23 seconds\n"
     ]
    }
   ],
   "source": [
    "prompt = f\"\"\"\n",
    "Your task is to generate a short summary of a text delimited by <> in at most 90 characters and focusing on any aspects that mention shipping and delivery of the product.\n",
    "\n",
    "Text: ```{prod_review}```\n",
    "\"\"\"\n",
    "\n",
    "reply_prompt(prompt)"
   ],
   "metadata": {
    "collapsed": false,
    "ExecuteTime": {
     "end_time": "2023-05-18T14:49:07.467999Z",
     "start_time": "2023-05-18T14:47:09.239200Z"
    }
   }
  },
  {
   "cell_type": "markdown",
   "source": [
    "### Use \"extract\" instead of \"summarize\""
   ],
   "metadata": {
    "collapsed": false
   }
  },
  {
   "cell_type": "code",
   "execution_count": 29,
   "outputs": [
    {
     "name": "stdout",
     "output_type": "stream",
     "text": [
      "* Purchase price\n",
      "$\n",
      "* Delivery date\n",
      "< 24 hours\n",
      "* Retail value\n",
      "$\n",
      "* Product description\n",
      "< soft, cute, friendly face; small size; longer lasts; arrives a day earlier than expected\n",
      "* Website\n",
      "* Customer service response\n",
      "< Thanks for the great review! My factory takes pride in producing the highest quality plush animals. I would definitely buy from again.>\n",
      "\n",
      "Processing duration: 135.52 seconds\n",
      "panda plush toy,$19, friendly look, arrival a day earlier than expected\n",
      "\n",
      "Processing duration: 92.03 seconds\n"
     ]
    }
   ],
   "source": [
    "prompt = f\"\"\"\n",
    "From text delimited by <> extract relevant information.\n",
    "\n",
    "Text: <{prod_review}>\n",
    "\"\"\"\n",
    "\n",
    "reply_prompt(prompt)"
   ],
   "metadata": {
    "collapsed": false
   }
  },
  {
   "cell_type": "code",
   "execution_count": null,
   "outputs": [],
   "source": [],
   "metadata": {
    "collapsed": false
   }
  }
 ],
 "metadata": {
  "kernelspec": {
   "display_name": "Python 3",
   "language": "python",
   "name": "python3"
  },
  "language_info": {
   "codemirror_mode": {
    "name": "ipython",
    "version": 2
   },
   "file_extension": ".py",
   "mimetype": "text/x-python",
   "name": "python",
   "nbconvert_exporter": "python",
   "pygments_lexer": "ipython2",
   "version": "2.7.6"
  }
 },
 "nbformat": 4,
 "nbformat_minor": 0
}
