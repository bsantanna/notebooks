{
 "cells": [
  {
   "cell_type": "code",
   "execution_count": 1,
   "id": "initial_id",
   "metadata": {
    "collapsed": true,
    "ExecuteTime": {
     "end_time": "2023-07-30T20:47:52.286361Z",
     "start_time": "2023-07-30T20:47:50.540002Z"
    }
   },
   "outputs": [],
   "source": [
    "# !pip install --upgrade langchain accelerate transformers\n",
    "# !pip install --pre torch torchvision torchaudio --index-url https://download.pytorch.org/whl/nightly/cpu\n",
    "!export PYTORCH_ENABLE_MPS_FALLBACK=1"
   ]
  },
  {
   "cell_type": "code",
   "execution_count": 2,
   "outputs": [],
   "source": [
    "import torch\n",
    "# print(torch.backends.mps.is_available())\n",
    "# print(torch.backends.mps.is_built())\n",
    "# print(torch.cuda.is_available())\n",
    "from transformers import pipeline\n",
    "from langchain import PromptTemplate, LLMChain\n",
    "from langchain.llms import HuggingFacePipeline"
   ],
   "metadata": {
    "collapsed": false,
    "ExecuteTime": {
     "end_time": "2023-07-30T20:47:53.438962Z",
     "start_time": "2023-07-30T20:47:50.664169Z"
    }
   },
   "id": "2f706439650edb43"
  },
  {
   "cell_type": "code",
   "execution_count": 3,
   "outputs": [],
   "source": [
    "# Globals\n",
    "llm_model = 'databricks/dolly-v2-3b'\n",
    "\n",
    "generate_text = pipeline(\n",
    "    model=llm_model,\n",
    "    torch_dtype=torch.bfloat16,\n",
    "    trust_remote_code=True,\n",
    "    device_map='auto',\n",
    "    return_full_text=True\n",
    ")\n",
    "\n",
    "transformer_pipeline = HuggingFacePipeline(pipeline=generate_text)"
   ],
   "metadata": {
    "collapsed": false,
    "ExecuteTime": {
     "end_time": "2023-07-30T20:47:58.094889Z",
     "start_time": "2023-07-30T20:47:53.439979Z"
    }
   },
   "id": "683dcc2a00768455"
  },
  {
   "cell_type": "code",
   "execution_count": 4,
   "outputs": [],
   "source": [
    "# Prompt template\n",
    "template_string = \"\"\"Answer the question that is delimited by <>, think about the solution before coming to a conclusion and offer a detailed reasoning in your answer. Question: <{question}>\"\"\"\n",
    "\n",
    "prompt_template = PromptTemplate.from_template(template_string)\n",
    "prompt_template"
   ],
   "metadata": {
    "collapsed": false,
    "ExecuteTime": {
     "end_time": "2023-07-30T20:47:58.098572Z",
     "start_time": "2023-07-30T20:47:58.096447Z"
    }
   },
   "id": "b02d35696e2af071"
  },
  {
   "cell_type": "code",
   "execution_count": 5,
   "outputs": [],
   "source": [
    "# LLM Chain\n",
    "llm_chain = LLMChain(\n",
    "    llm=transformer_pipeline,\n",
    "    prompt=prompt_template\n",
    ")"
   ],
   "metadata": {
    "collapsed": false,
    "ExecuteTime": {
     "end_time": "2023-07-30T20:47:58.101966Z",
     "start_time": "2023-07-30T20:47:58.099673Z"
    }
   },
   "id": "10ad41017e14f963"
  },
  {
   "cell_type": "code",
   "execution_count": 6,
   "outputs": [
    {
     "name": "stdout",
     "output_type": "stream",
     "text": [
      "\n",
      "Nuclear fusion and fission are two different types of chemical reaction. In nuclear fusion two or more nuclei join together to form one atomic nucleus with additional amount of neutrons. The binding energy of the new nucleus is equal to or slightly more than the sum of the energies of the two nuclei that joined together. In fission, one or more nuclei breaks down into smaller fragments. The binding energy is the difference between the total energy of the nucleus and the sum of the energies of the nuclear fragments.\n"
     ]
    }
   ],
   "source": [
    "# Predict\n",
    "prediction = llm_chain.predict(\n",
    "    question=\"The square root of 9 is a even number?\"\n",
    ")\n",
    "prediction"
   ],
   "metadata": {
    "collapsed": false,
    "ExecuteTime": {
     "end_time": "2023-07-30T20:48:21.418135Z",
     "start_time": "2023-07-30T20:47:58.102670Z"
    }
   },
   "id": "a85c042b40f21108"
  },
  {
   "cell_type": "code",
   "execution_count": 7,
   "outputs": [
    {
     "name": "stdout",
     "output_type": "stream",
     "text": [
      "\n",
      "DevOps is a methodology and organizational structure to successfully deliver software to end-users. It incorporates an approach of cross-functional collaboration for delivering software products within an organization. DevOps builds on the concepts of collaboration, communication, and cooperation that are central to good project and people management. In essence, DevOps combines the best aspects of Agile development and Lean manufacturing.\n"
     ]
    }
   ],
   "source": [],
   "metadata": {
    "collapsed": false,
    "ExecuteTime": {
     "end_time": "2023-07-30T20:48:34.088713Z",
     "start_time": "2023-07-30T20:48:21.416592Z"
    }
   },
   "id": "b4a38cb0d7e71a59"
  }
 ],
 "metadata": {
  "kernelspec": {
   "display_name": "Python 3",
   "language": "python",
   "name": "python3"
  },
  "language_info": {
   "codemirror_mode": {
    "name": "ipython",
    "version": 2
   },
   "file_extension": ".py",
   "mimetype": "text/x-python",
   "name": "python",
   "nbconvert_exporter": "python",
   "pygments_lexer": "ipython2",
   "version": "2.7.6"
  }
 },
 "nbformat": 4,
 "nbformat_minor": 5
}
