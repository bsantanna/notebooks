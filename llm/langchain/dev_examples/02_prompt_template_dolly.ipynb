{
 "cells": [
  {
   "cell_type": "code",
   "execution_count": 1,
   "id": "initial_id",
   "metadata": {
    "collapsed": true,
    "ExecuteTime": {
     "end_time": "2023-07-30T20:55:03.871045Z",
     "start_time": "2023-07-30T20:55:03.752257Z"
    }
   },
   "outputs": [],
   "source": [
    "# !pip install --upgrade langchain accelerate transformers\n",
    "# !pip install --pre torch torchvision torchaudio --index-url https://download.pytorch.org/whl/nightly/cpu\n",
    "!export PYTORCH_ENABLE_MPS_FALLBACK=1"
   ]
  },
  {
   "cell_type": "code",
   "execution_count": 2,
   "outputs": [],
   "source": [
    "import torch\n",
    "# print(torch.backends.mps.is_available())\n",
    "# print(torch.backends.mps.is_built())\n",
    "# print(torch.cuda.is_available())\n",
    "from transformers import pipeline\n",
    "from langchain import PromptTemplate, LLMChain\n",
    "from langchain.llms import HuggingFacePipeline"
   ],
   "metadata": {
    "collapsed": false,
    "ExecuteTime": {
     "end_time": "2023-07-30T20:55:06.622909Z",
     "start_time": "2023-07-30T20:55:03.872684Z"
    }
   },
   "id": "2f706439650edb43"
  },
  {
   "cell_type": "code",
   "execution_count": 3,
   "outputs": [],
   "source": [
    "# Globals\n",
    "llm_model = 'databricks/dolly-v2-3b'\n",
    "\n",
    "generate_text = pipeline(\n",
    "    model=llm_model,\n",
    "    trust_remote_code=True,\n",
    "    device_map='auto',\n",
    "    return_full_text=True\n",
    ")\n",
    "\n",
    "transformer_pipeline = HuggingFacePipeline(pipeline=generate_text)"
   ],
   "metadata": {
    "collapsed": false,
    "ExecuteTime": {
     "end_time": "2023-07-30T20:55:11.129897Z",
     "start_time": "2023-07-30T20:55:06.623483Z"
    }
   },
   "id": "683dcc2a00768455"
  },
  {
   "cell_type": "code",
   "execution_count": 4,
   "outputs": [],
   "source": [
    "# Prompt template\n",
    "template_string = \"\"\"Answer the question that is delimited by <>, think about the solution before coming to a conclusion and offer a detailed reasoning in your answer. Question: <{question}>\"\"\"\n",
    "\n",
    "prompt_template = PromptTemplate.from_template(template_string)"
   ],
   "metadata": {
    "collapsed": false,
    "ExecuteTime": {
     "end_time": "2023-07-30T20:55:11.133024Z",
     "start_time": "2023-07-30T20:55:11.130395Z"
    }
   },
   "id": "b02d35696e2af071"
  },
  {
   "cell_type": "code",
   "execution_count": 5,
   "outputs": [],
   "source": [
    "# LLM Chain\n",
    "llm_chain = LLMChain(\n",
    "    llm=transformer_pipeline,\n",
    "    prompt=prompt_template\n",
    ")"
   ],
   "metadata": {
    "collapsed": false,
    "ExecuteTime": {
     "end_time": "2023-07-30T20:55:11.135618Z",
     "start_time": "2023-07-30T20:55:11.134208Z"
    }
   },
   "id": "10ad41017e14f963"
  },
  {
   "cell_type": "code",
   "execution_count": 6,
   "outputs": [],
   "source": [
    "# Predict\n",
    "prediction = llm_chain.predict(\n",
    "    question=\"What is DevOps and how it works?\"\n",
    ")"
   ],
   "metadata": {
    "collapsed": false,
    "ExecuteTime": {
     "end_time": "2023-07-30T20:55:44.472931Z",
     "start_time": "2023-07-30T20:55:11.137229Z"
    }
   },
   "id": "a85c042b40f21108"
  },
  {
   "cell_type": "code",
   "execution_count": 7,
   "outputs": [
    {
     "name": "stdout",
     "output_type": "stream",
     "text": [
      "\n",
      "DevOps is a collection of methodologies and tools used for releasing software products. It aims to shorten the software development life cycle by combining various techniques like agile development, continuous integration, and continuous integration and delivery. There is no one right way to adopt DevOps. It takes into account the release process, tooling and communication, which is very useful when things go wrong. The following is the list of principles of DevOps: it is cross-functional, collaborative and moving fast; Everyone shares ownership; Everyone speaks the same language; Working in asepsis and protect worked equipment; You are responsible for what you test; Everybody automates as much as possible.\n"
     ]
    }
   ],
   "source": [
    "print(prediction)"
   ],
   "metadata": {
    "collapsed": false,
    "ExecuteTime": {
     "end_time": "2023-07-30T20:55:44.476167Z",
     "start_time": "2023-07-30T20:55:44.472709Z"
    }
   },
   "id": "8a4043f523c77fd3"
  },
  {
   "cell_type": "code",
   "execution_count": 7,
   "outputs": [],
   "source": [],
   "metadata": {
    "collapsed": false,
    "ExecuteTime": {
     "end_time": "2023-07-30T20:55:44.476545Z",
     "start_time": "2023-07-30T20:55:44.475015Z"
    }
   },
   "id": "fb02240928527e73"
  }
 ],
 "metadata": {
  "kernelspec": {
   "display_name": "Python 3",
   "language": "python",
   "name": "python3"
  },
  "language_info": {
   "codemirror_mode": {
    "name": "ipython",
    "version": 2
   },
   "file_extension": ".py",
   "mimetype": "text/x-python",
   "name": "python",
   "nbconvert_exporter": "python",
   "pygments_lexer": "ipython2",
   "version": "2.7.6"
  }
 },
 "nbformat": 4,
 "nbformat_minor": 5
}
