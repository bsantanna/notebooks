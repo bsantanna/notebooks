{
 "cells": [
  {
   "cell_type": "code",
   "execution_count": 9,
   "id": "initial_id",
   "metadata": {
    "collapsed": true,
    "ExecuteTime": {
     "end_time": "2023-07-30T20:43:48.092714Z",
     "start_time": "2023-07-30T20:43:47.930115Z"
    }
   },
   "outputs": [
    {
     "name": "stdout",
     "output_type": "stream",
     "text": [
      "huggingface/tokenizers: The current process just got forked, after parallelism has already been used. Disabling parallelism to avoid deadlocks...\n",
      "To disable this warning, you can either:\n",
      "\t- Avoid using `tokenizers` before the fork if possible\n",
      "\t- Explicitly set the environment variable TOKENIZERS_PARALLELISM=(true | false)\n"
     ]
    }
   ],
   "source": [
    "# !pip install --upgrade langchain accelerate transformers\n",
    "# !pip install --pre torch torchvision torchaudio --index-url https://download.pytorch.org/whl/nightly/cpu\n",
    "!export PYTORCH_ENABLE_MPS_FALLBACK=1"
   ]
  },
  {
   "cell_type": "code",
   "execution_count": 10,
   "outputs": [],
   "source": [
    "import torch\n",
    "# print(torch.backends.mps.is_available())\n",
    "# print(torch.backends.mps.is_built())\n",
    "# print(torch.cuda.is_available())\n",
    "from transformers import pipeline\n",
    "from langchain import PromptTemplate, LLMChain\n",
    "from langchain.llms import HuggingFacePipeline"
   ],
   "metadata": {
    "collapsed": false,
    "ExecuteTime": {
     "end_time": "2023-07-30T20:43:49.585652Z",
     "start_time": "2023-07-30T20:43:49.582344Z"
    }
   },
   "id": "2f706439650edb43"
  },
  {
   "cell_type": "code",
   "execution_count": 11,
   "outputs": [],
   "source": [
    "# Globals\n",
    "llm_model = 'databricks/dolly-v2-3b'\n",
    "\n",
    "generate_text = pipeline(\n",
    "    model=llm_model,\n",
    "    torch_dtype=torch.bfloat16,\n",
    "    trust_remote_code=True,\n",
    "    device_map='auto',\n",
    "    return_full_text=True\n",
    ")\n",
    "\n",
    "transformer_pipeline = HuggingFacePipeline(pipeline=generate_text)"
   ],
   "metadata": {
    "collapsed": false,
    "ExecuteTime": {
     "end_time": "2023-07-30T20:43:55.342211Z",
     "start_time": "2023-07-30T20:43:50.210948Z"
    }
   },
   "id": "683dcc2a00768455"
  },
  {
   "cell_type": "code",
   "execution_count": 12,
   "outputs": [],
   "source": [
    "# Prompt template\n",
    "template_string = \"\"\"Answer the question that is delimited by <>, think about the solution before coming to a conclusion and offer a detailed reasoning in your answer. Question: <{question}>\"\"\"\n",
    "\n",
    "prompt_template = PromptTemplate.from_template(template_string)\n",
    "prompt_template"
   ],
   "metadata": {
    "collapsed": false,
    "ExecuteTime": {
     "end_time": "2023-07-30T20:43:55.350205Z",
     "start_time": "2023-07-30T20:43:55.343083Z"
    }
   },
   "id": "b02d35696e2af071"
  },
  {
   "cell_type": "code",
   "execution_count": 13,
   "outputs": [],
   "source": [
    "# LLM Chain\n",
    "llm_chain = LLMChain(\n",
    "    llm=transformer_pipeline,\n",
    "    prompt=prompt_template\n",
    ")"
   ],
   "metadata": {
    "collapsed": false,
    "ExecuteTime": {
     "end_time": "2023-07-30T20:43:55.357816Z",
     "start_time": "2023-07-30T20:43:55.345260Z"
    }
   },
   "id": "10ad41017e14f963"
  },
  {
   "cell_type": "code",
   "execution_count": 14,
   "outputs": [
    {
     "name": "stdout",
     "output_type": "stream",
     "text": [
      "\n",
      "Nuclear fusion and fission are the two main chemical reactions that happen in the nucleus of an atom.\n",
      "\n",
      "Nuclear fusion is where 2 nuclei come together to form one supernucleus with more mass than the sum of the individual mass of the nuclei involved. Two nuclei fusion together results in a process called a \"proton\" and an \"electron\" which is an atomic particle. When two protons fuse together, the result is a neutron and a neutron (usually called \"fusion\").\n",
      "\n",
      "Nuclear fission is where a small fragment (called a \"nucleus\") is split off from a larger nucleus. Nuclear fission can also split apart a larger nucleus, but usually results in a smaller fragment. Nuclear fission can occur when a neutron or a neutron and a proton (or a neutron and a neutron, etc.) collide and the nucleus experiences a strong interaction with another particle, such that it emits an individual particle (usually a proton) instead of a smaller fragment.\n"
     ]
    }
   ],
   "source": [
    "# Predict\n",
    "prediction = llm_chain.predict(\n",
    "    question=\"The square root of 9 is a even number?\"\n",
    ")\n",
    "prediction"
   ],
   "metadata": {
    "collapsed": false,
    "ExecuteTime": {
     "end_time": "2023-07-30T20:44:42.897627Z",
     "start_time": "2023-07-30T20:43:55.355352Z"
    }
   },
   "id": "a85c042b40f21108"
  },
  {
   "cell_type": "code",
   "execution_count": 15,
   "outputs": [
    {
     "name": "stdout",
     "output_type": "stream",
     "text": [
      "\n",
      "DevOps is a cross-functional approach to software delivery that unifies the definition of development, integration, and operation in a single culture. This culture embraces continuous testing, continuous delivery, and the ability to respond to change.\n"
     ]
    }
   ],
   "source": [],
   "metadata": {
    "collapsed": false,
    "ExecuteTime": {
     "end_time": "2023-07-30T20:46:28.109953Z",
     "start_time": "2023-07-30T20:46:19.235365Z"
    }
   },
   "id": "b4a38cb0d7e71a59"
  }
 ],
 "metadata": {
  "kernelspec": {
   "display_name": "Python 3",
   "language": "python",
   "name": "python3"
  },
  "language_info": {
   "codemirror_mode": {
    "name": "ipython",
    "version": 2
   },
   "file_extension": ".py",
   "mimetype": "text/x-python",
   "name": "python",
   "nbconvert_exporter": "python",
   "pygments_lexer": "ipython2",
   "version": "2.7.6"
  }
 },
 "nbformat": 4,
 "nbformat_minor": 5
}
