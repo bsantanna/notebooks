{
 "cells": [
  {
   "cell_type": "code",
   "execution_count": 1,
   "id": "initial_id",
   "metadata": {
    "collapsed": true,
    "ExecuteTime": {
     "end_time": "2023-07-30T21:47:14.299683925Z",
     "start_time": "2023-07-30T21:47:14.288082769Z"
    }
   },
   "outputs": [],
   "source": [
    "# !pip install --upgrade huggingface_hub"
   ]
  },
  {
   "cell_type": "code",
   "execution_count": 2,
   "outputs": [],
   "source": [
    "from langchain import PromptTemplate, LLMChain, HuggingFaceHub"
   ],
   "metadata": {
    "collapsed": false,
    "ExecuteTime": {
     "end_time": "2023-07-30T21:47:15.942561798Z",
     "start_time": "2023-07-30T21:47:14.288184226Z"
    }
   },
   "id": "2f706439650edb43"
  },
  {
   "cell_type": "code",
   "execution_count": 8,
   "outputs": [],
   "source": [
    "# Globals\n",
    "repo_id = 'tiiuae/falcon-7b-instruct'\n",
    "api_key = '?'\n",
    "llm_model = HuggingFaceHub(\n",
    "    huggingfacehub_api_token=api_key,\n",
    "    repo_id=repo_id,\n",
    "    model_kwargs={'temperature': 0.7, 'max_new_tokens': 500}\n",
    ")\n"
   ],
   "metadata": {
    "collapsed": false,
    "ExecuteTime": {
     "end_time": "2023-07-30T21:47:27.631189131Z",
     "start_time": "2023-07-30T21:47:27.488934019Z"
    }
   },
   "id": "683dcc2a00768455"
  },
  {
   "cell_type": "code",
   "execution_count": 4,
   "outputs": [],
   "source": [
    "# Prompt template\n",
    "template_string = \"\"\"Answer the question that is delimited by <>, think about the solution before coming to a conclusion and offer a detailed reasoning in your answer. Question: <{question}>\"\"\"\n",
    "\n",
    "prompt_template = PromptTemplate.from_template(template_string)"
   ],
   "metadata": {
    "collapsed": false,
    "ExecuteTime": {
     "end_time": "2023-07-30T21:47:16.332421811Z",
     "start_time": "2023-07-30T21:47:16.296961040Z"
    }
   },
   "id": "b02d35696e2af071"
  },
  {
   "cell_type": "code",
   "execution_count": 5,
   "outputs": [],
   "source": [
    "# LLM Chain\n",
    "llm_chain = LLMChain(\n",
    "    llm=llm_model,\n",
    "    prompt=prompt_template\n",
    ")"
   ],
   "metadata": {
    "collapsed": false,
    "ExecuteTime": {
     "end_time": "2023-07-30T21:47:16.332580228Z",
     "start_time": "2023-07-30T21:47:16.302182829Z"
    }
   },
   "id": "10ad41017e14f963"
  },
  {
   "cell_type": "code",
   "execution_count": 6,
   "outputs": [],
   "source": [
    "# Predict\n",
    "prediction = llm_chain.predict(\n",
    "    question=\"Can you explain step by step how to brew pilsen bier?\"\n",
    ")"
   ],
   "metadata": {
    "collapsed": false,
    "ExecuteTime": {
     "end_time": "2023-07-30T21:47:16.711215113Z",
     "start_time": "2023-07-30T21:47:16.305927960Z"
    }
   },
   "id": "a85c042b40f21108"
  },
  {
   "cell_type": "code",
   "execution_count": 7,
   "outputs": [
    {
     "name": "stdout",
     "output_type": "stream",
     "text": [
      "\n",
      "To brew pilsen bier, one must first acquire the necessary ingredients, including malted barley, hops, water, and yeast. Next, malting the malted barley is crucial to extract the sugars and fermentable carbohydrates. The boiling step sterilizes the beer and removes unwanted bacteria. Hops are added for their bittering and flavor purposes. Fermentation is an essential step where yeast converts sugars into ethanol and carbon dioxide. Lastly, the beer is conditioned in cool storage to improve its taste and clarity. The entire process typically takes several weeks to complete.\n"
     ]
    }
   ],
   "source": [
    "print(prediction)"
   ],
   "metadata": {
    "collapsed": false,
    "ExecuteTime": {
     "end_time": "2023-07-30T21:47:16.721719903Z",
     "start_time": "2023-07-30T21:47:16.716031816Z"
    }
   },
   "id": "8a4043f523c77fd3"
  },
  {
   "cell_type": "code",
   "execution_count": 7,
   "outputs": [],
   "source": [],
   "metadata": {
    "collapsed": false,
    "ExecuteTime": {
     "end_time": "2023-07-30T21:47:16.724247980Z",
     "start_time": "2023-07-30T21:47:16.720437174Z"
    }
   },
   "id": "fb02240928527e73"
  }
 ],
 "metadata": {
  "kernelspec": {
   "display_name": "Python 3",
   "language": "python",
   "name": "python3"
  },
  "language_info": {
   "codemirror_mode": {
    "name": "ipython",
    "version": 2
   },
   "file_extension": ".py",
   "mimetype": "text/x-python",
   "name": "python",
   "nbconvert_exporter": "python",
   "pygments_lexer": "ipython2",
   "version": "2.7.6"
  }
 },
 "nbformat": 4,
 "nbformat_minor": 5
}
