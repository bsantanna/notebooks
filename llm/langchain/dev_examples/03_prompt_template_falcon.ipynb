{
 "cells": [
  {
   "cell_type": "code",
   "execution_count": 1,
   "id": "initial_id",
   "metadata": {
    "collapsed": true,
    "ExecuteTime": {
     "end_time": "2023-07-30T21:22:36.253808Z",
     "start_time": "2023-07-30T21:22:36.129947Z"
    }
   },
   "outputs": [],
   "source": [
    "# !pip install --upgrade langchain accelerate transformers einops xformers\n",
    "# !pip install --pre torch torchvision torchaudio --index-url https://download.pytorch.org/whl/nightly/cpu\n",
    "!export PYTORCH_ENABLE_MPS_FALLBACK=1"
   ]
  },
  {
   "cell_type": "code",
   "execution_count": 2,
   "outputs": [],
   "source": [
    "import torch\n",
    "# print(torch.backends.mps.is_available())\n",
    "# print(torch.backends.mps.is_built())\n",
    "# print(torch.cuda.is_available())\n",
    "from langchain import PromptTemplate, LLMChain, HuggingFaceHub"
   ],
   "metadata": {
    "collapsed": false,
    "ExecuteTime": {
     "end_time": "2023-07-30T21:22:43.255109Z",
     "start_time": "2023-07-30T21:22:36.255540Z"
    }
   },
   "id": "2f706439650edb43"
  },
  {
   "cell_type": "code",
   "execution_count": 8,
   "outputs": [],
   "source": [
    "# Globals\n",
    "repo_id = 'tiiuae/falcon-7b-instruct'\n",
    "api_key = '?'\n",
    "llm_model = HuggingFaceHub(\n",
    "    huggingfacehub_api_token=api_key,\n",
    "    repo_id=repo_id,\n",
    "    model_kwargs={'temperature': 0.7, 'max_new_tokens': 500}\n",
    ")\n"
   ],
   "metadata": {
    "collapsed": false,
    "ExecuteTime": {
     "end_time": "2023-07-30T21:23:54.390786Z",
     "start_time": "2023-07-30T21:23:54.256105Z"
    }
   },
   "id": "683dcc2a00768455"
  },
  {
   "cell_type": "code",
   "execution_count": 4,
   "outputs": [],
   "source": [
    "# Prompt template\n",
    "template_string = \"\"\"Answer the question that is delimited by <>, think about the solution before coming to a conclusion and offer a detailed reasoning in your answer. Question: <{question}>\"\"\"\n",
    "\n",
    "prompt_template = PromptTemplate.from_template(template_string)"
   ],
   "metadata": {
    "collapsed": false,
    "ExecuteTime": {
     "end_time": "2023-07-30T21:22:43.799727Z",
     "start_time": "2023-07-30T21:22:43.795779Z"
    }
   },
   "id": "b02d35696e2af071"
  },
  {
   "cell_type": "code",
   "execution_count": 5,
   "outputs": [],
   "source": [
    "# LLM Chain\n",
    "llm_chain = LLMChain(\n",
    "    llm=llm_model,\n",
    "    prompt=prompt_template\n",
    ")"
   ],
   "metadata": {
    "collapsed": false,
    "ExecuteTime": {
     "end_time": "2023-07-30T21:22:43.803387Z",
     "start_time": "2023-07-30T21:22:43.801083Z"
    }
   },
   "id": "10ad41017e14f963"
  },
  {
   "cell_type": "code",
   "execution_count": 6,
   "outputs": [],
   "source": [
    "# Predict\n",
    "prediction = llm_chain.predict(\n",
    "    question=\"How to bake bread?\"\n",
    ")"
   ],
   "metadata": {
    "collapsed": false,
    "ExecuteTime": {
     "end_time": "2023-07-30T21:22:50.197909Z",
     "start_time": "2023-07-30T21:22:43.802838Z"
    }
   },
   "id": "a85c042b40f21108"
  },
  {
   "cell_type": "code",
   "execution_count": 7,
   "outputs": [
    {
     "name": "stdout",
     "output_type": "stream",
     "text": [
      "\n",
      "To bake bread, you need a few key ingredients such as flour, yeast, water, and a leavening agent like baking soda or yeast. First, combine the dry ingredients (flour and yeast) in a bowl. Then, add the warm water and mix until you have a smooth batter. Cover the bowl and let the dough rise for about an hour or until it doubles in size. Punch down the dough and shape it into a loaf. Place the loaf on a baking sheet and let it cool and proof for a few hours before baking. In the oven, bake at a specific temperature and time based on the recipe, usually between 350°F and 400°F for around 25-30 minutes. The bread should be golden brown and sound hollow when tapped. The combination of these ingredients creates carbon dioxide gas, which causes the bread to rise and gives it its distinct texture.\n"
     ]
    }
   ],
   "source": [
    "print(prediction)"
   ],
   "metadata": {
    "collapsed": false,
    "ExecuteTime": {
     "end_time": "2023-07-30T21:22:50.201509Z",
     "start_time": "2023-07-30T21:22:50.198957Z"
    }
   },
   "id": "8a4043f523c77fd3"
  },
  {
   "cell_type": "code",
   "execution_count": 7,
   "outputs": [],
   "source": [],
   "metadata": {
    "collapsed": false,
    "ExecuteTime": {
     "end_time": "2023-07-30T21:22:50.204261Z",
     "start_time": "2023-07-30T21:22:50.201629Z"
    }
   },
   "id": "fb02240928527e73"
  }
 ],
 "metadata": {
  "kernelspec": {
   "display_name": "Python 3",
   "language": "python",
   "name": "python3"
  },
  "language_info": {
   "codemirror_mode": {
    "name": "ipython",
    "version": 2
   },
   "file_extension": ".py",
   "mimetype": "text/x-python",
   "name": "python",
   "nbconvert_exporter": "python",
   "pygments_lexer": "ipython2",
   "version": "2.7.6"
  }
 },
 "nbformat": 4,
 "nbformat_minor": 5
}
