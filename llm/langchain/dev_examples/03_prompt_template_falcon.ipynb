{
 "cells": [
  {
   "cell_type": "code",
   "execution_count": 32,
   "id": "initial_id",
   "metadata": {
    "collapsed": true,
    "ExecuteTime": {
     "end_time": "2023-07-30T21:18:31.940492Z",
     "start_time": "2023-07-30T21:18:31.793369Z"
    }
   },
   "outputs": [],
   "source": [
    "# !pip install --upgrade langchain accelerate transformers einops xformers\n",
    "# !pip install --pre torch torchvision torchaudio --index-url https://download.pytorch.org/whl/nightly/cpu\n",
    "!export PYTORCH_ENABLE_MPS_FALLBACK=1"
   ]
  },
  {
   "cell_type": "code",
   "execution_count": 33,
   "outputs": [],
   "source": [
    "import torch\n",
    "# print(torch.backends.mps.is_available())\n",
    "# print(torch.backends.mps.is_built())\n",
    "# print(torch.cuda.is_available())\n",
    "from langchain import PromptTemplate, LLMChain, HuggingFaceHub"
   ],
   "metadata": {
    "collapsed": false,
    "ExecuteTime": {
     "end_time": "2023-07-30T21:18:32.391922Z",
     "start_time": "2023-07-30T21:18:32.389322Z"
    }
   },
   "id": "2f706439650edb43"
  },
  {
   "cell_type": "code",
   "execution_count": 34,
   "outputs": [],
   "source": [
    "# Globals\n",
    "repo_id = 'tiiuae/falcon-7b-instruct'\n",
    "api_key = '?'\n",
    "llm_model = HuggingFaceHub(\n",
    "    huggingfacehub_api_token=api_key,\n",
    "    repo_id=repo_id,\n",
    "    model_kwargs={'temperature': 0.7, 'max_new_tokens': 500}\n",
    ")\n"
   ],
   "metadata": {
    "collapsed": false,
    "ExecuteTime": {
     "end_time": "2023-07-30T21:18:33.061785Z",
     "start_time": "2023-07-30T21:18:32.925210Z"
    }
   },
   "id": "683dcc2a00768455"
  },
  {
   "cell_type": "code",
   "execution_count": 35,
   "outputs": [],
   "source": [
    "# Prompt template\n",
    "template_string = \"\"\"Answer the question that is delimited by <>, think about the solution before coming to a conclusion and offer a detailed reasoning in your answer. Question: <{question}>\"\"\"\n",
    "\n",
    "prompt_template = PromptTemplate.from_template(template_string)"
   ],
   "metadata": {
    "collapsed": false,
    "ExecuteTime": {
     "end_time": "2023-07-30T21:18:33.691421Z",
     "start_time": "2023-07-30T21:18:33.687162Z"
    }
   },
   "id": "b02d35696e2af071"
  },
  {
   "cell_type": "code",
   "execution_count": 36,
   "outputs": [],
   "source": [
    "# LLM Chain\n",
    "llm_chain = LLMChain(\n",
    "    llm=llm_model,\n",
    "    prompt=prompt_template\n",
    ")"
   ],
   "metadata": {
    "collapsed": false,
    "ExecuteTime": {
     "end_time": "2023-07-30T21:18:36.036381Z",
     "start_time": "2023-07-30T21:18:36.033527Z"
    }
   },
   "id": "10ad41017e14f963"
  },
  {
   "cell_type": "code",
   "execution_count": 29,
   "outputs": [],
   "source": [
    "# Predict\n",
    "prediction = llm_chain.predict(\n",
    "    question=\"What is DevOps and how it works?\"\n",
    ")"
   ],
   "metadata": {
    "collapsed": false,
    "ExecuteTime": {
     "end_time": "2023-07-30T21:18:13.297530Z",
     "start_time": "2023-07-30T21:18:09.440305Z"
    }
   },
   "id": "a85c042b40f21108"
  },
  {
   "cell_type": "code",
   "execution_count": 30,
   "outputs": [
    {
     "name": "stdout",
     "output_type": "stream",
     "text": [
      "\n",
      "DevOps is a software development approach that combines the practices of development and operations to create, deliver, and maintain software more efficiently. It aims to automate, integrate, and collaborate the processes between software engineers and IT professionals. The core principles of DevOps include continuous delivery, continuous integration, and continuous infrastructure. This DevOps approach helps organizations achieve faster release cycles, higher quality software, and increased customer satisfaction by providing a unified approach. The use of automation tools, continuous communication, and collaboration between developers, testers, and operations teams has been key to the success of DevOps.\n"
     ]
    }
   ],
   "source": [
    "print(prediction)"
   ],
   "metadata": {
    "collapsed": false,
    "ExecuteTime": {
     "end_time": "2023-07-30T21:18:13.829017Z",
     "start_time": "2023-07-30T21:18:13.824324Z"
    }
   },
   "id": "8a4043f523c77fd3"
  },
  {
   "cell_type": "code",
   "execution_count": 7,
   "outputs": [],
   "source": [],
   "metadata": {
    "collapsed": false,
    "ExecuteTime": {
     "end_time": "2023-07-30T20:55:44.476545Z",
     "start_time": "2023-07-30T20:55:44.475015Z"
    }
   },
   "id": "fb02240928527e73"
  }
 ],
 "metadata": {
  "kernelspec": {
   "display_name": "Python 3",
   "language": "python",
   "name": "python3"
  },
  "language_info": {
   "codemirror_mode": {
    "name": "ipython",
    "version": 2
   },
   "file_extension": ".py",
   "mimetype": "text/x-python",
   "name": "python",
   "nbconvert_exporter": "python",
   "pygments_lexer": "ipython2",
   "version": "2.7.6"
  }
 },
 "nbformat": 4,
 "nbformat_minor": 5
}
