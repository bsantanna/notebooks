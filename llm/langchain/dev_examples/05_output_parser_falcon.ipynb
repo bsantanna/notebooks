{
 "cells": [
  {
   "cell_type": "code",
   "execution_count": 1,
   "metadata": {
    "collapsed": true,
    "ExecuteTime": {
     "end_time": "2023-07-31T09:13:43.381748975Z",
     "start_time": "2023-07-31T09:13:43.381446077Z"
    }
   },
   "outputs": [],
   "source": [
    "# !pip install --upgrade huggingface_hub langchain"
   ]
  },
  {
   "cell_type": "code",
   "execution_count": 2,
   "outputs": [],
   "source": [
    "from langchain import PromptTemplate, LLMChain, HuggingFaceHub\n",
    "from langchain.output_parsers import ResponseSchema, StructuredOutputParser"
   ],
   "metadata": {
    "collapsed": false,
    "ExecuteTime": {
     "end_time": "2023-07-31T09:13:44.682818528Z",
     "start_time": "2023-07-31T09:13:43.382007101Z"
    }
   }
  },
  {
   "cell_type": "code",
   "execution_count": 12,
   "outputs": [],
   "source": [
    "# Globals\n",
    "repo_id = 'tiiuae/falcon-7b-instruct'\n",
    "api_key = '?'\n",
    "\n",
    "llm_model = HuggingFaceHub(\n",
    "    huggingfacehub_api_token=api_key,\n",
    "    repo_id=repo_id,\n",
    "    model_kwargs={'temperature': 0.1, 'max_new_tokens': 500}\n",
    ")\n"
   ],
   "metadata": {
    "collapsed": false,
    "ExecuteTime": {
     "end_time": "2023-07-31T09:13:58.036612066Z",
     "start_time": "2023-07-31T09:13:57.698159115Z"
    }
   }
  },
  {
   "cell_type": "code",
   "execution_count": 4,
   "outputs": [],
   "source": [
    "# Response Schemas\n",
    "gift_schema = ResponseSchema(name=\"gift\",\n",
    "                             description=\"Was the item purchased as a gift for someone else? Answer True if yes, False if not or unknown.\")\n",
    "delivery_days_schema = ResponseSchema(name=\"delivery_days\",\n",
    "                                      description=\"How many days did it take for the product to arrive? If this information is not found, output -1.\")\n",
    "price_value_schema = ResponseSchema(name=\"price_value\",\n",
    "                                    description=\"Extract any sentences about the value or price, and output them as a comma separated JSON array. Do not repeat sentences.\")\n",
    "\n",
    "response_schemas = [gift_schema,\n",
    "                    delivery_days_schema,\n",
    "                    price_value_schema]\n",
    "\n",
    "output_parser = StructuredOutputParser.from_response_schemas(response_schemas)\n",
    "\n",
    "format_instructions = output_parser.get_format_instructions()\n",
    "# print(format_instructions)"
   ],
   "metadata": {
    "collapsed": false,
    "ExecuteTime": {
     "end_time": "2023-07-31T09:13:45.015070145Z",
     "start_time": "2023-07-31T09:13:45.013009234Z"
    }
   }
  },
  {
   "cell_type": "code",
   "execution_count": 5,
   "outputs": [],
   "source": [
    "template_string = \"\"\"\\\n",
    "For the following text, extract the following information and present result as a JSON object following the schema enclosed by <>:\n",
    "\n",
    "gift: Was the item purchased as a gift for someone else? Answer True if yes, False if not or unknown.\n",
    "\n",
    "delivery_days: How many days did it take for the product to arrive? If this information is not found, output -1.\n",
    "\n",
    "price_value: Extract any sentences about the value or price, and output them as a comma separated Python array.\n",
    "\n",
    "text: {text}\n",
    "\n",
    "<{format_instructions}>\n",
    "\"\"\"\n",
    "\n",
    "customer_review = \"\"\"\\\n",
    "This leaf blower is pretty amazing.  It has four settings:\\\n",
    "candle blower, gentle breeze, windy city, and tornado. \\\n",
    "It arrived in two days, just in time for my wife's \\\n",
    "anniversary present. \\\n",
    "I think my wife liked it so much she was speechless. \\\n",
    "So far I've been the only one using it, and I've been \\\n",
    "using it every other morning to clear the leaves on our lawn. \\\n",
    "It's slightly more expensive than the other leaf blowers \\\n",
    "out there, but I think it's worth it for the extra features.\n",
    "\"\"\"\n",
    "\n",
    "prompt_template = PromptTemplate.from_template(template_string)"
   ],
   "metadata": {
    "collapsed": false,
    "ExecuteTime": {
     "end_time": "2023-07-31T09:13:45.019750718Z",
     "start_time": "2023-07-31T09:13:45.016338528Z"
    }
   }
  },
  {
   "cell_type": "code",
   "execution_count": 6,
   "outputs": [],
   "source": [
    "# LLM Chain\n",
    "llm_chain = LLMChain(\n",
    "    llm=llm_model,\n",
    "    prompt=prompt_template\n",
    ")"
   ],
   "metadata": {
    "collapsed": false,
    "ExecuteTime": {
     "end_time": "2023-07-31T09:13:45.024337058Z",
     "start_time": "2023-07-31T09:13:45.019928486Z"
    }
   }
  },
  {
   "cell_type": "code",
   "execution_count": 7,
   "outputs": [],
   "source": [
    "prediction = llm_chain.predict(\n",
    "    format_instructions=format_instructions,\n",
    "    text=customer_review\n",
    ")"
   ],
   "metadata": {
    "collapsed": false,
    "ExecuteTime": {
     "end_time": "2023-07-31T09:13:45.451772650Z",
     "start_time": "2023-07-31T09:13:45.025960067Z"
    }
   }
  },
  {
   "cell_type": "code",
   "execution_count": 8,
   "outputs": [
    {
     "name": "stdout",
     "output_type": "stream",
     "text": [
      "\n",
      "The output should be:\n",
      "\n",
      "```\n",
      "{\n",
      "    \"gift\": \"True\",\n",
      "    \"delivery_days\": \"2\",\n",
      "    \"price_value\": \"This leaf blower is pretty amazing. It has four settings:candle blower, gentle breeze, windy city, and tornado. It arrived in two days, just in time for my wife's anniversary present. I think my wife liked it so much she was speechless. So far I've been the only one using it, and I've been using it every other morning to clear the leaves on our lawn. It's slightly more expensive than the other leaf blowers out there, but I think it's worth it for the extra features.\",\n",
      "    \"text\": \"This leaf blower is pretty amazing. It has four settings:candle blower, gentle breeze, windy city, and tornado. It arrived in two days, just in time for my wife's anniversary present. I think my wife liked it so much she was speechless. So far I've been the only one using it, and I've been using it every other morning to clear the leaves on our lawn. It's slightly more expensive than the other leaf blowers out there, but I think it's worth it for the extra features.\"\n",
      "}\n",
      "```\n"
     ]
    }
   ],
   "source": [
    "print(prediction)"
   ],
   "metadata": {
    "collapsed": false,
    "ExecuteTime": {
     "end_time": "2023-07-31T09:13:45.458729231Z",
     "start_time": "2023-07-31T09:13:45.454823418Z"
    }
   }
  },
  {
   "cell_type": "code",
   "execution_count": 9,
   "outputs": [
    {
     "name": "stdout",
     "output_type": "stream",
     "text": [
      "<class 'dict'>\n"
     ]
    }
   ],
   "source": [
    "parsed_output = output_parser.parse(prediction)\n",
    "print(type(parsed_output))"
   ],
   "metadata": {
    "collapsed": false,
    "ExecuteTime": {
     "end_time": "2023-07-31T09:13:45.464606888Z",
     "start_time": "2023-07-31T09:13:45.461517894Z"
    }
   }
  },
  {
   "cell_type": "code",
   "execution_count": 10,
   "outputs": [
    {
     "name": "stdout",
     "output_type": "stream",
     "text": [
      "Order delivery days: 2\n",
      "Order is a gift: True\n"
     ]
    }
   ],
   "source": [
    "print(f\"Order delivery days: {parsed_output['delivery_days']}\")\n",
    "print(f\"Order is a gift: {parsed_output['gift']}\")"
   ],
   "metadata": {
    "collapsed": false,
    "ExecuteTime": {
     "end_time": "2023-07-31T09:13:45.469819144Z",
     "start_time": "2023-07-31T09:13:45.465121842Z"
    }
   }
  },
  {
   "cell_type": "code",
   "execution_count": 10,
   "outputs": [],
   "source": [],
   "metadata": {
    "collapsed": false,
    "ExecuteTime": {
     "end_time": "2023-07-31T09:13:45.531199786Z",
     "start_time": "2023-07-31T09:13:45.509408514Z"
    }
   }
  }
 ],
 "metadata": {
  "kernelspec": {
   "display_name": "Python 3",
   "language": "python",
   "name": "python3"
  },
  "language_info": {
   "codemirror_mode": {
    "name": "ipython",
    "version": 2
   },
   "file_extension": ".py",
   "mimetype": "text/x-python",
   "name": "python",
   "nbconvert_exporter": "python",
   "pygments_lexer": "ipython2",
   "version": "2.7.6"
  }
 },
 "nbformat": 4,
 "nbformat_minor": 0
}
