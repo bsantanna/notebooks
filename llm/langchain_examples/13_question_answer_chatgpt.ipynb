{
 "cells": [
  {
   "cell_type": "markdown",
   "source": [
    "# LangChain: Q&A over Documents\n",
    "\n",
    " Original Source: [LangChain for LLM Application Development](https://learn.deeplearning.ai/langchain/lesson/5/question-and-answer) "
   ],
   "metadata": {
    "collapsed": false
   },
   "id": "944085d98e976447"
  },
  {
   "cell_type": "code",
   "execution_count": 20,
   "outputs": [],
   "source": [
    "# !pip install --upgrade langchain openai docarray"
   ],
   "metadata": {
    "collapsed": false,
    "ExecuteTime": {
     "end_time": "2023-08-08T15:17:49.797692Z",
     "start_time": "2023-08-08T15:17:49.788291Z"
    }
   },
   "id": "4303a7defcd16f3f"
  },
  {
   "cell_type": "code",
   "execution_count": 21,
   "outputs": [],
   "source": [
    "import pandas as pd\n",
    "from langchain.embeddings import OpenAIEmbeddings\n",
    "from langchain.llms import OpenAI\n",
    "from langchain.chains import RetrievalQA\n",
    "from langchain.chat_models import ChatOpenAI\n",
    "from langchain.document_loaders import CSVLoader\n",
    "from langchain.vectorstores import DocArrayInMemorySearch\n",
    "from langchain.indexes import VectorstoreIndexCreator\n",
    "from IPython.display import display, Markdown"
   ],
   "metadata": {
    "collapsed": false,
    "ExecuteTime": {
     "end_time": "2023-08-08T15:17:50.294996Z",
     "start_time": "2023-08-08T15:17:50.290917Z"
    }
   },
   "id": "6bb9fe6fc1b3ceaf"
  },
  {
   "cell_type": "code",
   "execution_count": 46,
   "outputs": [],
   "source": [
    "# OpenAI API KEY\n",
    "api_key = '?'"
   ],
   "metadata": {
    "collapsed": false,
    "ExecuteTime": {
     "end_time": "2023-08-08T15:30:08.864660Z",
     "start_time": "2023-08-08T15:30:08.861273Z"
    }
   },
   "id": "7e995bacf1cb74dd"
  },
  {
   "cell_type": "code",
   "execution_count": 32,
   "outputs": [
    {
     "data": {
      "text/plain": "    country                                              title  \\\n0     Italy                  Nicosia 2013 Vulkà Bianco  (Etna)   \n1  Portugal      Quinta dos Avidagos 2011 Avidagos Red (Douro)   \n2        US      Rainstorm 2013 Pinot Gris (Willamette Valley)   \n3        US  St. Julian 2013 Reserve Late Harvest Riesling ...   \n4        US  Sweet Cheeks 2012 Vintner's Reserve Wild Child...   \n\n                                         description         variety  \\\n0  Aromas include tropical fruit, broom, brimston...     White Blend   \n1  This is ripe and fruity, a wine that is smooth...  Portuguese Red   \n2  Tart and snappy, the flavors of lime flesh and...      Pinot Gris   \n3  Pineapple rind, lemon pith and orange blossom ...        Riesling   \n4  Much like the regular bottling from 2012, this...      Pinot Noir   \n\n                winery  \n0              Nicosia  \n1  Quinta dos Avidagos  \n2            Rainstorm  \n3           St. Julian  \n4         Sweet Cheeks  ",
      "text/html": "<div>\n<style scoped>\n    .dataframe tbody tr th:only-of-type {\n        vertical-align: middle;\n    }\n\n    .dataframe tbody tr th {\n        vertical-align: top;\n    }\n\n    .dataframe thead th {\n        text-align: right;\n    }\n</style>\n<table border=\"1\" class=\"dataframe\">\n  <thead>\n    <tr style=\"text-align: right;\">\n      <th></th>\n      <th>country</th>\n      <th>title</th>\n      <th>description</th>\n      <th>variety</th>\n      <th>winery</th>\n    </tr>\n  </thead>\n  <tbody>\n    <tr>\n      <th>0</th>\n      <td>Italy</td>\n      <td>Nicosia 2013 Vulkà Bianco  (Etna)</td>\n      <td>Aromas include tropical fruit, broom, brimston...</td>\n      <td>White Blend</td>\n      <td>Nicosia</td>\n    </tr>\n    <tr>\n      <th>1</th>\n      <td>Portugal</td>\n      <td>Quinta dos Avidagos 2011 Avidagos Red (Douro)</td>\n      <td>This is ripe and fruity, a wine that is smooth...</td>\n      <td>Portuguese Red</td>\n      <td>Quinta dos Avidagos</td>\n    </tr>\n    <tr>\n      <th>2</th>\n      <td>US</td>\n      <td>Rainstorm 2013 Pinot Gris (Willamette Valley)</td>\n      <td>Tart and snappy, the flavors of lime flesh and...</td>\n      <td>Pinot Gris</td>\n      <td>Rainstorm</td>\n    </tr>\n    <tr>\n      <th>3</th>\n      <td>US</td>\n      <td>St. Julian 2013 Reserve Late Harvest Riesling ...</td>\n      <td>Pineapple rind, lemon pith and orange blossom ...</td>\n      <td>Riesling</td>\n      <td>St. Julian</td>\n    </tr>\n    <tr>\n      <th>4</th>\n      <td>US</td>\n      <td>Sweet Cheeks 2012 Vintner's Reserve Wild Child...</td>\n      <td>Much like the regular bottling from 2012, this...</td>\n      <td>Pinot Noir</td>\n      <td>Sweet Cheeks</td>\n    </tr>\n  </tbody>\n</table>\n</div>"
     },
     "execution_count": 32,
     "metadata": {},
     "output_type": "execute_result"
    }
   ],
   "source": [
    "# File references\n",
    "src_file = 'dataset/winemag-data-130k-v2.csv'\n",
    "dest_file = 'dataset/wine_100.csv'\n",
    "df = pd.read_csv(src_file)[['country', 'title', 'description', 'variety', 'winery']].iloc[:100]\n",
    "df.to_csv(dest_file, index=False)\n",
    "df.head()"
   ],
   "metadata": {
    "collapsed": false,
    "ExecuteTime": {
     "end_time": "2023-08-08T15:20:19.708695Z",
     "start_time": "2023-08-08T15:20:19.169741Z"
    }
   },
   "id": "4a1e14d4349a9889"
  },
  {
   "cell_type": "code",
   "execution_count": 33,
   "outputs": [],
   "source": [
    "# Initialize Vector Store Index\n",
    "llm = OpenAI(temperature=0, openai_api_key=api_key)\n",
    "loader = CSVLoader(file_path=dest_file)\n",
    "embedding = OpenAIEmbeddings(openai_api_key=api_key)\n",
    "index = VectorstoreIndexCreator(\n",
    "    embedding=embedding,\n",
    "    vectorstore_cls=DocArrayInMemorySearch\n",
    ").from_loaders([loader])"
   ],
   "metadata": {
    "collapsed": false,
    "ExecuteTime": {
     "end_time": "2023-08-08T15:20:22.629952Z",
     "start_time": "2023-08-08T15:20:21.395244Z"
    }
   },
   "id": "e0eb3b6127d94a5d"
  },
  {
   "cell_type": "code",
   "execution_count": 48,
   "outputs": [
    {
     "data": {
      "text/plain": "<IPython.core.display.Markdown object>",
      "text/markdown": "| Title | Winery | Variety |\n|-------|--------|---------|\n| Feudi di San Marzano 2011 I Tratturi Primitivo (Puglia) | Feudi di San Marzano | Primitivo |\n| Fattoria Sardi 2015 Rosato (Toscana) | Fattoria Sardi | Rosato |\n| Duca di Salaparuta 2010 Calanìca Nero d'Avola-Merlot Red (Sicilia) | Duca di Salaparuta | Red Blend |\n| Cantine di Dolianova 2010 Dolia (Monica di Sardegna) | Cantine di Dolianova | Monica |"
     },
     "metadata": {},
     "output_type": "display_data"
    }
   ],
   "source": [
    "# Query\n",
    "query = \"Suggest some italian wines, format result as a table in markdown with columns title, winery, variety.\"\n",
    "response = index.query(query, llm=llm)\n",
    "display(Markdown(response))"
   ],
   "metadata": {
    "collapsed": false,
    "ExecuteTime": {
     "end_time": "2023-08-08T15:31:15.992099Z",
     "start_time": "2023-08-08T15:31:08.818782Z"
    }
   },
   "id": "2a05c332bda602e4"
  },
  {
   "cell_type": "markdown",
   "source": [
    "## Using RetrievalQA chain and ChatOpenAI model"
   ],
   "metadata": {
    "collapsed": false
   },
   "id": "a266d55cd0f1cff4"
  },
  {
   "cell_type": "code",
   "execution_count": 45,
   "outputs": [],
   "source": [
    "# initialize LLM\n",
    "llm = ChatOpenAI(temperature=0, openai_api_key=api_key)\n",
    "\n",
    "# Initialize documents\n",
    "file = 'dataset/wine_100.csv'\n",
    "loader = CSVLoader(file_path=file)\n",
    "docs = loader.load()\n",
    "\n",
    "# initialize embeddings\n",
    "embedding = OpenAIEmbeddings(openai_api_key=api_key)\n",
    "\n",
    "# initialize db \n",
    "db = DocArrayInMemorySearch.from_documents(\n",
    "    docs,\n",
    "    embedding\n",
    ")\n",
    "\n",
    "# initialize retriever\n",
    "retriever = db.as_retriever()\n",
    "\n",
    "# initialize chain\n",
    "qa_chain = RetrievalQA.from_chain_type(\n",
    "    llm=llm,\n",
    "    chain_type=\"stuff\",  # map_reduce, refine, map_rerank\n",
    "    retriever=retriever,\n",
    "    verbose=True\n",
    ")"
   ],
   "metadata": {
    "collapsed": false,
    "ExecuteTime": {
     "end_time": "2023-08-08T15:29:59.414268Z",
     "start_time": "2023-08-08T15:29:58.396116Z"
    }
   },
   "id": "141c59e626bb5c74"
  },
  {
   "cell_type": "code",
   "execution_count": 52,
   "outputs": [
    {
     "name": "stdout",
     "output_type": "stream",
     "text": [
      "\n",
      "\n",
      "\u001B[1m> Entering new RetrievalQA chain...\u001B[0m\n",
      "\n",
      "\u001B[1m> Finished chain.\u001B[0m\n"
     ]
    },
    {
     "data": {
      "text/plain": "<IPython.core.display.Markdown object>",
      "text/markdown": "| Country   | Title                                      | Winery         | Variety    |\n|-----------|--------------------------------------------|----------------|------------|\n| Argentina | Gaucho Andino 2011 Winemaker Selection Malbec (Mendoza) | Gaucho Andino  | Malbec     |\n| Chile     | Sundance 2011 Merlot (Maule Valley)         | Sundance       | Merlot     |\n| Argentina | Felix Lavaque 2010 Felix Malbec (Cafayate)  | Felix Lavaque  | Malbec     |\n| Chile     | Tres Palacios 2011 Reserve Pinot Noir (Maipo Valley) | Tres Palacios  | Pinot Noir |"
     },
     "metadata": {},
     "output_type": "display_data"
    }
   ],
   "source": [
    "# Query\n",
    "query = \"Suggest some wines from Argentina and Chile, format result as a table in markdown with columns; country, title, winery, variety.\"\n",
    "response = qa_chain.run(query)\n",
    "display(Markdown(response))"
   ],
   "metadata": {
    "collapsed": false,
    "ExecuteTime": {
     "end_time": "2023-08-08T15:32:32.280429Z",
     "start_time": "2023-08-08T15:32:25.550026Z"
    }
   },
   "id": "d81c8ecc08c02472"
  },
  {
   "cell_type": "code",
   "execution_count": 54,
   "outputs": [
    {
     "name": "stdout",
     "output_type": "stream",
     "text": [
      "\n",
      "\n",
      "\u001B[1m> Entering new RetrievalQA chain...\u001B[0m\n",
      "\n",
      "\u001B[1m> Finished chain.\u001B[0m\n"
     ]
    },
    {
     "data": {
      "text/plain": "<IPython.core.display.Markdown object>",
      "text/markdown": "| Country | Title | Description | Variety |\n|---------|-------|-------------|---------|\n| France  | Château de Sours 2011 La Fleur d'Amélie (Bordeaux Blanc) | Fruity and lightly herbaceous, this has fine textured acidity along with a pink grapefruit flavor. The wine is bright and easy, and it will be ready to drink in a few months. | Bordeaux-style White Blend |\n| US      | Quiévremont 2012 Meritage (Virginia) | Red fruit aromas pervade on the nose, with cigar box and menthol notes riding in the back. The palate is slightly restrained on entry, but opens up to riper notes of cherry and plum specked with crushed pepper. This blend of Merlot, Cabernet Sauvignon and Cabernet Franc is approachable now and ready to be enjoyed. | Meritage |\n| US      | Napa Cellars 2014 Classic Zinfandel (Napa Valley) | A healthy addition of 13% Petite Sirah provides added weight and intensity to this wine, a soft, supple and richly conceived combination of smoky black fruit and mocha. | Zinfandel |"
     },
     "metadata": {},
     "output_type": "display_data"
    }
   ],
   "source": [
    "# Query\n",
    "query = \"Suggest me some wines described with a fruit aroma, format answer as a table in markdown with columns; country, title, description and variety.\"\n",
    "response = qa_chain.run(query)\n",
    "display(Markdown(response))"
   ],
   "metadata": {
    "collapsed": false,
    "ExecuteTime": {
     "end_time": "2023-08-08T15:33:21.954085Z",
     "start_time": "2023-08-08T15:33:10.917879Z"
    }
   },
   "id": "fb98303ce8201c88"
  },
  {
   "cell_type": "code",
   "execution_count": 55,
   "outputs": [
    {
     "name": "stdout",
     "output_type": "stream",
     "text": [
      "\n",
      "\n",
      "\u001B[1m> Entering new RetrievalQA chain...\u001B[0m\n",
      "\n",
      "\u001B[1m> Finished chain.\u001B[0m\n",
      "I would suggest trying the Cocobon 2014 Red (California). It is described as very deep in color and spicy-smoky in flavor, with aromas like grilled beef and spicy flavors like cardamom and smoke.\n"
     ]
    }
   ],
   "source": [
    "# Query\n",
    "query = \"Suggest me a spicy wine.\"\n",
    "response = qa_chain.run(query)\n",
    "print(response)"
   ],
   "metadata": {
    "collapsed": false,
    "ExecuteTime": {
     "end_time": "2023-08-08T15:33:30.258415Z",
     "start_time": "2023-08-08T15:33:27.280642Z"
    }
   },
   "id": "f1ff02ab8793caa6"
  },
  {
   "cell_type": "code",
   "execution_count": 56,
   "outputs": [
    {
     "name": "stdout",
     "output_type": "stream",
     "text": [
      "\n",
      "\n",
      "\u001B[1m> Entering new RetrievalQA chain...\u001B[0m\n",
      "\n",
      "\u001B[1m> Finished chain.\u001B[0m\n",
      "Based on the descriptions provided, I would recommend the Tasca d'Almerita 2011 Sallier de la Tour Inzolia from Italy. It is described as spicy, fresh, and clean, which would pair well with fried seafood or spaghetti con vongole.\n"
     ]
    }
   ],
   "source": [
    "# Query\n",
    "query = \"Recommend me a wine which combines well with seafood.\"\n",
    "response = qa_chain.run(query)\n",
    "print(response)"
   ],
   "metadata": {
    "collapsed": false,
    "ExecuteTime": {
     "end_time": "2023-08-08T15:33:43.343480Z",
     "start_time": "2023-08-08T15:33:40.277061Z"
    }
   },
   "id": "c486a200cc66e998"
  },
  {
   "cell_type": "code",
   "execution_count": 57,
   "outputs": [
    {
     "name": "stdout",
     "output_type": "stream",
     "text": [
      "\n",
      "\n",
      "\u001B[1m> Entering new RetrievalQA chain...\u001B[0m\n",
      "\n",
      "\u001B[1m> Finished chain.\u001B[0m\n",
      "Based on the given context, I would recommend the Gaucho Andino 2011 Winemaker Selection Malbec from Argentina. It has raw black-cherry aromas, a juicy feel, and a flavor profile driven by dark-berry fruits.\n"
     ]
    }
   ],
   "source": [
    "# Query\n",
    "query = \"Recommend me a nice wine from South America.\"\n",
    "response = qa_chain.run(query)\n",
    "print(response)"
   ],
   "metadata": {
    "collapsed": false,
    "ExecuteTime": {
     "end_time": "2023-08-08T15:33:57.583841Z",
     "start_time": "2023-08-08T15:33:54.907355Z"
    }
   },
   "id": "5a7d82ba108e4ead"
  },
  {
   "cell_type": "code",
   "execution_count": null,
   "outputs": [],
   "source": [],
   "metadata": {
    "collapsed": false
   },
   "id": "308071e641786a33"
  }
 ],
 "metadata": {
  "kernelspec": {
   "display_name": "Python 3",
   "language": "python",
   "name": "python3"
  },
  "language_info": {
   "codemirror_mode": {
    "name": "ipython",
    "version": 2
   },
   "file_extension": ".py",
   "mimetype": "text/x-python",
   "name": "python",
   "nbconvert_exporter": "python",
   "pygments_lexer": "ipython2",
   "version": "2.7.6"
  }
 },
 "nbformat": 4,
 "nbformat_minor": 5
}
