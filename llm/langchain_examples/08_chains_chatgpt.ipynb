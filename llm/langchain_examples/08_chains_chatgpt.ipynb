{
 "cells": [
  {
   "cell_type": "code",
   "execution_count": 1,
   "id": "initial_id",
   "metadata": {
    "collapsed": true,
    "ExecuteTime": {
     "end_time": "2023-07-31T18:41:13.463090673Z",
     "start_time": "2023-07-31T18:41:13.462750488Z"
    }
   },
   "outputs": [],
   "source": [
    "# !pip install --upgrade langchain openai"
   ]
  },
  {
   "cell_type": "markdown",
   "source": [
    "# Chains in LangChain\n",
    "\n",
    "Original Source: [LangChain for LLM Application Development](https://learn.deeplearning.ai/langchain/lesson/4/chains)\n",
    "\n",
    "## Outline\n",
    "\n",
    "* LLMChain\n",
    "* Sequential Chains\n",
    "  * SimpleSequentialChain\n",
    "  * SequentialChain\n",
    "* Router Chain"
   ],
   "metadata": {
    "collapsed": false
   },
   "id": "498df9746dc7128a"
  },
  {
   "cell_type": "code",
   "execution_count": 2,
   "outputs": [],
   "source": [
    "from langchain.chains import (\n",
    "    LLMChain,\n",
    "    SimpleSequentialChain,\n",
    "    SequentialChain\n",
    ")\n",
    "from langchain.chains.router import MultiPromptChain\n",
    "from langchain.chains.router.llm_router import LLMRouterChain,RouterOutputParser\n",
    "from langchain.chat_models import ChatOpenAI\n",
    "from langchain.prompts import ChatPromptTemplate, PromptTemplate\n"
   ],
   "metadata": {
    "collapsed": false,
    "ExecuteTime": {
     "end_time": "2023-07-31T18:41:14.861046716Z",
     "start_time": "2023-07-31T18:41:13.462962427Z"
    }
   },
   "id": "97a2511fa565d268"
  },
  {
   "cell_type": "code",
   "execution_count": 3,
   "outputs": [],
   "source": [
    "# OpenAI API KEY\n",
    "api_key = '?'"
   ],
   "metadata": {
    "collapsed": false,
    "ExecuteTime": {
     "end_time": "2023-07-31T18:41:14.884767838Z",
     "start_time": "2023-07-31T18:41:14.863757673Z"
    }
   },
   "id": "c98d71e1dc5d256b"
  },
  {
   "cell_type": "code",
   "execution_count": 4,
   "outputs": [],
   "source": [
    "llm = ChatOpenAI(openai_api_key=api_key, temperature=0.9)"
   ],
   "metadata": {
    "collapsed": false,
    "ExecuteTime": {
     "end_time": "2023-07-31T18:41:14.967912148Z",
     "start_time": "2023-07-31T18:41:14.866110394Z"
    }
   },
   "id": "4cc5b1d5c22055d0"
  },
  {
   "cell_type": "code",
   "execution_count": 5,
   "outputs": [],
   "source": [
    "prompt = ChatPromptTemplate.from_template(\n",
    "    \"What is the best name to describe \\\n",
    "    a company that makes {product}?\"\n",
    ")"
   ],
   "metadata": {
    "collapsed": false,
    "ExecuteTime": {
     "end_time": "2023-07-31T18:41:14.968925342Z",
     "start_time": "2023-07-31T18:41:14.901208639Z"
    }
   },
   "id": "b148897a33de6a0d"
  },
  {
   "cell_type": "code",
   "execution_count": 6,
   "outputs": [],
   "source": [
    "chain = LLMChain(llm=llm, prompt=prompt)"
   ],
   "metadata": {
    "collapsed": false,
    "ExecuteTime": {
     "end_time": "2023-07-31T18:41:14.969856365Z",
     "start_time": "2023-07-31T18:41:14.906311495Z"
    }
   },
   "id": "1d5288361efe90ee"
  },
  {
   "cell_type": "code",
   "execution_count": 7,
   "outputs": [
    {
     "name": "stdout",
     "output_type": "stream",
     "text": [
      "\"Artistry Bags\"\n"
     ]
    }
   ],
   "source": [
    "product = \"Artistic and visually stunning hand bags.\"\n",
    "result = chain.run(product)\n",
    "print(result)"
   ],
   "metadata": {
    "collapsed": false,
    "ExecuteTime": {
     "end_time": "2023-07-31T18:41:15.569094041Z",
     "start_time": "2023-07-31T18:41:14.947963255Z"
    }
   },
   "id": "d68322360b2eef03"
  },
  {
   "cell_type": "markdown",
   "source": [
    "---\n",
    "\n",
    "## SimpleSequentialChain"
   ],
   "metadata": {
    "collapsed": false
   },
   "id": "84f4ddfe2a8b5900"
  },
  {
   "cell_type": "code",
   "execution_count": 8,
   "outputs": [],
   "source": [
    "# prompt template 1\n",
    "first_prompt = ChatPromptTemplate.from_template(\n",
    "    \"What is the best name to describe \\\n",
    "    a company that makes {product}?\"\n",
    ")\n",
    "\n",
    "# Chain 1\n",
    "chain_one = LLMChain(llm=llm, prompt=first_prompt)"
   ],
   "metadata": {
    "collapsed": false,
    "ExecuteTime": {
     "end_time": "2023-07-31T18:41:15.586973012Z",
     "start_time": "2023-07-31T18:41:15.572191675Z"
    }
   },
   "id": "91feaf265b713d83"
  },
  {
   "cell_type": "code",
   "execution_count": 9,
   "outputs": [],
   "source": [
    "\n",
    "# prompt template 2\n",
    "second_prompt = ChatPromptTemplate.from_template(\n",
    "    \"Write a 30 words description for the following \\\n",
    "    company:{company_name}\"\n",
    ")\n",
    "# chain 2\n",
    "chain_two = LLMChain(llm=llm, prompt=second_prompt)"
   ],
   "metadata": {
    "collapsed": false,
    "ExecuteTime": {
     "end_time": "2023-07-31T18:41:15.587237867Z",
     "start_time": "2023-07-31T18:41:15.576499873Z"
    }
   },
   "id": "b07c18149d38cdcd"
  },
  {
   "cell_type": "code",
   "execution_count": 10,
   "outputs": [
    {
     "name": "stdout",
     "output_type": "stream",
     "text": [
      "\n",
      "\n",
      "\u001B[1m> Entering new SimpleSequentialChain chain...\u001B[0m\n",
      "\u001B[36;1m\u001B[1;3m\"Exquisite Creations\"\u001B[0m\n",
      "\u001B[33;1m\u001B[1;3mExquisite Creations offers handcrafted, unique and personalized items for special occasions. With attention to detail and quality, they create memorable pieces that bring joy and elegance to any event.\u001B[0m\n",
      "\n",
      "\u001B[1m> Finished chain.\u001B[0m\n"
     ]
    }
   ],
   "source": [
    "overall_simple_chain = SimpleSequentialChain(\n",
    "    chains=[chain_one, chain_two],\n",
    "    verbose=True\n",
    ")\n",
    "result = overall_simple_chain.run(product)"
   ],
   "metadata": {
    "collapsed": false,
    "ExecuteTime": {
     "end_time": "2023-07-31T18:41:17.914279587Z",
     "start_time": "2023-07-31T18:41:15.581150886Z"
    }
   },
   "id": "a209fbf75e33c9c3"
  },
  {
   "cell_type": "code",
   "execution_count": 11,
   "outputs": [
    {
     "name": "stdout",
     "output_type": "stream",
     "text": [
      "Exquisite Creations offers handcrafted, unique and personalized items for special occasions. With attention to detail and quality, they create memorable pieces that bring joy and elegance to any event.\n"
     ]
    }
   ],
   "source": [
    "print(result)"
   ],
   "metadata": {
    "collapsed": false,
    "ExecuteTime": {
     "end_time": "2023-07-31T18:41:17.914618703Z",
     "start_time": "2023-07-31T18:41:17.898961017Z"
    }
   },
   "id": "393491a94242ed74"
  },
  {
   "cell_type": "markdown",
   "source": [
    "---\n",
    "## SequentialChain"
   ],
   "metadata": {
    "collapsed": false
   },
   "id": "1a0cbbc9c2f72e23"
  },
  {
   "cell_type": "code",
   "execution_count": 12,
   "outputs": [],
   "source": [
    "# prompt template 1: translate to english\n",
    "first_prompt = ChatPromptTemplate.from_template(\n",
    "    \"Translate the following review to english:\"\n",
    "    \"\\n\\n{Review}\"\n",
    ")\n",
    "# chain 1: input= Review and output= English_Review\n",
    "chain_one = LLMChain(\n",
    "    llm=llm, prompt=first_prompt,\n",
    "    output_key=\"English_Review\"\n",
    ")\n",
    "\n",
    "second_prompt = ChatPromptTemplate.from_template(\n",
    "    \"Can you summarize the following review in 1 sentence:\"\n",
    "    \"\\n\\n{English_Review}\"\n",
    ")\n",
    "# chain 2: input= English_Review and output= summary\n",
    "chain_two = LLMChain(\n",
    "    llm=llm, prompt=second_prompt,\n",
    "    output_key=\"summary\"\n",
    ")\n",
    "\n",
    "# prompt template 3: translate to english\n",
    "third_prompt = ChatPromptTemplate.from_template(\n",
    "    \"What language is the following review:\\n\\n{Review}\"\n",
    ")\n",
    "# chain 3: input= Review and output= language\n",
    "chain_three = LLMChain(\n",
    "    llm=llm, prompt=third_prompt,\n",
    "    output_key=\"language\"\n",
    ")\n",
    "\n",
    "# prompt template 4: follow up message\n",
    "fourth_prompt = ChatPromptTemplate.from_template(\n",
    "    \"Write a follow up response to the following \"\n",
    "    \"summary in the specified language:\"\n",
    "    \"\\n\\nSummary: {summary}\\n\\nLanguage: {language}\"\n",
    ")\n",
    "# chain 4: input= summary, language and output= followup_message\n",
    "chain_four = LLMChain(\n",
    "    llm=llm, prompt=fourth_prompt,\n",
    "    output_key=\"followup_message\"\n",
    ")\n"
   ],
   "metadata": {
    "collapsed": false,
    "ExecuteTime": {
     "end_time": "2023-07-31T18:41:17.914757468Z",
     "start_time": "2023-07-31T18:41:17.904660965Z"
    }
   },
   "id": "7ec4a7dccf9f8b"
  },
  {
   "cell_type": "code",
   "execution_count": 13,
   "outputs": [],
   "source": [
    "# overall_chain: input= Review \n",
    "# and output= English_Review,summary, followup_message\n",
    "overall_chain = SequentialChain(\n",
    "    chains=[chain_one, chain_two, chain_three, chain_four],\n",
    "    input_variables=[\"Review\"],\n",
    "    output_variables=[\"English_Review\", \"summary\", \"followup_message\"],\n",
    "    verbose=False\n",
    ")\n",
    "\n",
    "french_review = \"Je trouve le goût médiocre. La mousse ne tient pas, c'est bizarre. J'achète les mêmes dans le commerce et le goût est bien meilleur...\\nVieux lot ou contrefaçon !?\"\n",
    "\n",
    "result = overall_chain(french_review)"
   ],
   "metadata": {
    "collapsed": false,
    "ExecuteTime": {
     "end_time": "2023-07-31T18:41:28.805482433Z",
     "start_time": "2023-07-31T18:41:17.911426005Z"
    }
   },
   "id": "3e45a2dfa977771d"
  },
  {
   "cell_type": "code",
   "execution_count": 14,
   "outputs": [
    {
     "name": "stdout",
     "output_type": "stream",
     "text": [
      "{'Review': \"Je trouve le goût médiocre. La mousse ne tient pas, c'est bizarre. J'achète les mêmes dans le commerce et le goût est bien meilleur...\\nVieux lot ou contrefaçon !?\", 'English_Review': \"I find the taste mediocre. The foam does not hold, it's weird. I buy the same ones in stores and the taste is much better... Old batch or counterfeit!?\", 'summary': 'The reviewer is disappointed with the mediocre taste and lack of foam retention, questioning whether the product is either an old batch or a counterfeit.', 'followup_message': \"Réponse : Nous sommes désolés d'apprendre que notre produit ne répond pas à vos attentes. Nous tenons à vous assurer que nous prenons vos commentaires très au sérieux. Nous maintenons des normes de qualité élevées pour tous nos produits et nous nous engageons à fournir une expérience satisfaisante à nos clients. Nous aimerions en savoir plus sur votre expérience afin de résoudre tout problème éventuel. Pourriez-vous nous fournir plus de détails sur la date d'achat et le lieu d'achat du produit en question ? Cela nous aidera à mieux comprendre la situation et à prendre les mesures appropriées. Votre satisfaction est notre priorité et nous ferons tout notre possible pour rectifier cette situation. Merci de votre compréhension.\"}\n"
     ]
    }
   ],
   "source": [
    "print(result)"
   ],
   "metadata": {
    "collapsed": false,
    "ExecuteTime": {
     "end_time": "2023-07-31T18:41:28.817890071Z",
     "start_time": "2023-07-31T18:41:28.812720196Z"
    }
   },
   "id": "5a5ac8adaaf4c884"
  },
  {
   "cell_type": "markdown",
   "source": [
    "---\n",
    "\n",
    "## Router Chain"
   ],
   "metadata": {
    "collapsed": false
   },
   "id": "e3f0c2d1ed749ce0"
  },
  {
   "cell_type": "code",
   "execution_count": 15,
   "outputs": [],
   "source": [
    "physics_template = \"\"\"You are a very smart physics professor. \\\n",
    "You are great at answering questions about physics in a concise\\\n",
    "and easy to understand manner. \\\n",
    "When you don't know the answer to a question you admit\\\n",
    "that you don't know.\n",
    "\n",
    "Here is a question:\n",
    "{input}\"\"\"\n",
    "\n",
    "math_template = \"\"\"You are a very good mathematician. \\\n",
    "You are great at answering math questions. \\\n",
    "You are so good because you are able to break down \\\n",
    "hard problems into their component parts, \n",
    "answer the component parts, and then put them together\\\n",
    "to answer the broader question.\n",
    "\n",
    "Here is a question:\n",
    "{input}\"\"\"\n",
    "\n",
    "history_template = \"\"\"You are a very good historian. \\\n",
    "You have an excellent knowledge of and understanding of people,\\\n",
    "events and contexts from a range of historical periods. \\\n",
    "You have the ability to think, reflect, debate, discuss and \\\n",
    "evaluate the past. You have a respect for historical evidence\\\n",
    "and the ability to make use of it to support your explanations \\\n",
    "and judgements.\n",
    "\n",
    "Here is a question:\n",
    "{input}\"\"\"\n",
    "\n",
    "computerscience_template = \"\"\" You are a successful computer scientist.\\\n",
    "You have a passion for creativity, collaboration,\\\n",
    "forward-thinking, confidence, strong problem-solving capabilities,\\\n",
    "understanding of theories and algorithms, and excellent communication \\\n",
    "skills. You are great at answering coding questions. \\\n",
    "You are so good because you know how to solve a problem by \\\n",
    "describing the solution in imperative steps \\\n",
    "that a machine can easily interpret and you know how to \\\n",
    "choose a solution that has a good balance between \\\n",
    "time complexity and space complexity. \n",
    "\n",
    "Here is a question:\n",
    "{input}\"\"\""
   ],
   "metadata": {
    "collapsed": false,
    "ExecuteTime": {
     "end_time": "2023-07-31T18:41:28.820295119Z",
     "start_time": "2023-07-31T18:41:28.816246245Z"
    }
   },
   "id": "c0c60b067af6962a"
  },
  {
   "cell_type": "code",
   "execution_count": 16,
   "outputs": [],
   "source": [
    "prompt_infos = [\n",
    "    {\n",
    "        \"name\": \"physics\",\n",
    "        \"description\": \"Good for answering questions about physics\",\n",
    "        \"prompt_template\": physics_template\n",
    "    },\n",
    "    {\n",
    "        \"name\": \"math\",\n",
    "        \"description\": \"Good for answering math questions\",\n",
    "        \"prompt_template\": math_template\n",
    "    },\n",
    "    {\n",
    "        \"name\": \"History\",\n",
    "        \"description\": \"Good for answering history questions\",\n",
    "        \"prompt_template\": history_template\n",
    "    },\n",
    "    {\n",
    "        \"name\": \"computer science\",\n",
    "        \"description\": \"Good for answering computer science questions\",\n",
    "        \"prompt_template\": computerscience_template\n",
    "    }\n",
    "]"
   ],
   "metadata": {
    "collapsed": false,
    "ExecuteTime": {
     "end_time": "2023-07-31T18:41:28.838496973Z",
     "start_time": "2023-07-31T18:41:28.820799664Z"
    }
   },
   "id": "627f676e24f29a1d"
  },
  {
   "cell_type": "code",
   "execution_count": 17,
   "outputs": [],
   "source": [
    "destination_chains = {}\n",
    "for p_info in prompt_infos:\n",
    "    name = p_info[\"name\"]\n",
    "    prompt_template = p_info[\"prompt_template\"]\n",
    "    prompt = ChatPromptTemplate.from_template(template=prompt_template)\n",
    "    chain = LLMChain(llm=llm, prompt=prompt)\n",
    "    destination_chains[name] = chain  \n",
    "    \n",
    "destinations = [f\"{p['name']}: {p['description']}\" for p in prompt_infos]\n",
    "destinations_str = \"\\n\".join(destinations)"
   ],
   "metadata": {
    "collapsed": false,
    "ExecuteTime": {
     "end_time": "2023-07-31T18:41:28.859051103Z",
     "start_time": "2023-07-31T18:41:28.826150296Z"
    }
   },
   "id": "f6143f60766a6cb7"
  },
  {
   "cell_type": "code",
   "execution_count": 18,
   "outputs": [],
   "source": [
    "default_prompt = ChatPromptTemplate.from_template(\"{input}\")\n",
    "default_chain = LLMChain(llm=llm, prompt=default_prompt)"
   ],
   "metadata": {
    "collapsed": false,
    "ExecuteTime": {
     "end_time": "2023-07-31T18:41:28.859337279Z",
     "start_time": "2023-07-31T18:41:28.831613356Z"
    }
   },
   "id": "8b5fbe2a17ab826"
  },
  {
   "cell_type": "code",
   "execution_count": 19,
   "outputs": [],
   "source": [
    "MULTI_PROMPT_ROUTER_TEMPLATE = \"\"\"Given a raw text input to a \\\n",
    "language model select the model prompt best suited for the input. \\\n",
    "You will be given the names of the available prompts and a \\\n",
    "description of what the prompt is best suited for. \\\n",
    "You may also revise the original input if you think that revising\\\n",
    "it will ultimately lead to a better response from the language model.\n",
    "\n",
    "<< FORMATTING >>\n",
    "Return a markdown code snippet with a JSON object formatted to look like:\n",
    "```json\n",
    "{{{{\n",
    "    \"destination\": string \\ name of the prompt to use or \"DEFAULT\"\n",
    "    \"next_inputs\": string \\ a potentially modified version of the original input\n",
    "}}}}\n",
    "```\n",
    "\n",
    "REMEMBER: \"destination\" MUST be one of the candidate prompt \\\n",
    "names specified below OR it can be \"DEFAULT\" if the input is not\\\n",
    "well suited for any of the candidate prompts.\n",
    "REMEMBER: \"next_inputs\" can just be the original input \\\n",
    "if you don't think any modifications are needed.\n",
    "\n",
    "<< CANDIDATE PROMPTS >>\n",
    "{destinations}\n",
    "\n",
    "<< INPUT >>\n",
    "{{input}}\n",
    "\n",
    "<< OUTPUT (remember to include the ```json)>>\"\"\""
   ],
   "metadata": {
    "collapsed": false,
    "ExecuteTime": {
     "end_time": "2023-07-31T18:41:28.901401931Z",
     "start_time": "2023-07-31T18:41:28.836516578Z"
    }
   },
   "id": "e27446c0ec9d3614"
  },
  {
   "cell_type": "code",
   "execution_count": 20,
   "outputs": [],
   "source": [
    "router_template = MULTI_PROMPT_ROUTER_TEMPLATE.format(\n",
    "    destinations=destinations_str\n",
    ")\n",
    "router_prompt = PromptTemplate(\n",
    "    template=router_template,\n",
    "    input_variables=[\"input\"],\n",
    "    output_parser=RouterOutputParser(),\n",
    ")\n",
    "\n",
    "router_chain = LLMRouterChain.from_llm(llm, router_prompt)\n",
    "chain = MultiPromptChain(router_chain=router_chain, \n",
    "                         destination_chains=destination_chains, \n",
    "                         default_chain=default_chain, verbose=True\n",
    "                        )"
   ],
   "metadata": {
    "collapsed": false,
    "ExecuteTime": {
     "end_time": "2023-07-31T18:41:28.901808163Z",
     "start_time": "2023-07-31T18:41:28.882840324Z"
    }
   },
   "id": "f94e0f688905d4aa"
  },
  {
   "cell_type": "code",
   "execution_count": 21,
   "outputs": [
    {
     "name": "stdout",
     "output_type": "stream",
     "text": [
      "\n",
      "\n",
      "\u001B[1m> Entering new MultiPromptChain chain...\u001B[0m\n"
     ]
    },
    {
     "name": "stderr",
     "output_type": "stream",
     "text": [
      "/home/bsantanna/anaconda3/envs/ml-dev/lib/python3.9/site-packages/langchain/chains/llm.py:275: UserWarning: The predict_and_parse method is deprecated, instead pass an output parser directly to LLMChain.\n",
      "  warnings.warn(\n"
     ]
    },
    {
     "name": "stdout",
     "output_type": "stream",
     "text": [
      "physics: {'input': 'What is black body radiation?'}\n",
      "\u001B[1m> Finished chain.\u001B[0m\n",
      "Black body radiation refers to the thermal radiation emitted by an object that absorbs all incoming electromagnetic radiation and does not reflect or transmit any of it. It is called \"black body\" because it absorbs all colors of light, appearing black in color.\n",
      "\n",
      "When an object is heated, such as a metal rod or even a star, it emits electromagnetic radiation. According to Planck's radiation law, the intensity of this radiation depends on the temperature of the object. A hotter object emits more radiation and at higher frequencies.\n",
      "\n",
      "The radiation emitted by a black body covers a wide range of frequencies, creating a continuous spectrum. The distribution of this radiation over different frequencies is described by Planck's black body radiation law. It states that the intensity of radiation at different frequencies is given by a specific mathematical formula.\n",
      "\n",
      "Black body radiation played a crucial role in the development of quantum mechanics, as it could not be explained using classical physics. Max Planck, in his efforts to explain the observed radiation spectra, introduced the concept of quantization of energy, which eventually led to the birth of quantum theory.\n",
      "\n",
      "In summary, black body radiation refers to the thermal radiation emitted by an object that absorbs all incoming radiation. It plays a significant role in understanding the behavior of light and heat and has provided fundamental insights into the field of quantum mechanics.\n"
     ]
    }
   ],
   "source": [
    "result = chain.run(\"What is black body radiation?\")\n",
    "print (result)"
   ],
   "metadata": {
    "collapsed": false,
    "ExecuteTime": {
     "end_time": "2023-07-31T18:41:40.143390694Z",
     "start_time": "2023-07-31T18:41:28.883069544Z"
    }
   },
   "id": "f8b7b6630c8cd800"
  },
  {
   "cell_type": "code",
   "execution_count": 23,
   "outputs": [
    {
     "name": "stdout",
     "output_type": "stream",
     "text": [
      "\n",
      "\n",
      "\u001B[1m> Entering new MultiPromptChain chain...\u001B[0m\n",
      "computer science: {'input': 'What is the most efficient list sorting algorithm?'}\n",
      "\u001B[1m> Finished chain.\u001B[0m\n",
      "There is no one-size-fits-all answer to this question, as the efficiency of a sorting algorithm depends on various factors such as the size and nature of the input data, available memory, and specific requirements of the application.\n",
      "\n",
      "However, in terms of general efficiency, the \"QuickSort\" algorithm is often considered one of the fastest and most efficient sorting algorithms. QuickSort utilizes a divide-and-conquer strategy, where it selects a pivot element and rearranges the elements in the list such that all elements smaller than the pivot are placed to its left, and all elements larger than the pivot are placed to its right. This process is recursively applied to the sublists formed on either side of the pivot until the entire list is sorted.\n",
      "\n",
      "The average and best-case time complexity of QuickSort is O(n log n), where n is the number of elements in the list. However, in the worst-case scenario, the time complexity can be O(n^2), which occurs when the pivot is always the smallest or largest element in the list. To mitigate this issue, various enhancements like choosing a random pivot or using a different sorting algorithm for small sublists can be implemented.\n",
      "\n",
      "Other efficient sorting algorithms include \"MergeSort\" (which guarantees O(n log n) time complexity but requires additional memory) and \"HeapSort\" (which has a worst-case time complexity of O(n log n) but requires no additional memory).\n",
      "\n",
      "It's important to note that the choice of the most efficient sorting algorithm may vary based on specific use cases and constraints. Hence, it is necessary to analyze the characteristics of the data and the requirements of the application before selecting the most suitable sorting algorithm.\n"
     ]
    }
   ],
   "source": [
    "result = chain.run(\"What is the most efficient list sorting algorithm?\")\n",
    "print(result)"
   ],
   "metadata": {
    "collapsed": false,
    "ExecuteTime": {
     "end_time": "2023-07-31T18:42:55.550351915Z",
     "start_time": "2023-07-31T18:42:43.288150190Z"
    }
   },
   "id": "9af51b4cbfc96ab8"
  },
  {
   "cell_type": "code",
   "execution_count": 22,
   "outputs": [],
   "source": [],
   "metadata": {
    "collapsed": false,
    "ExecuteTime": {
     "end_time": "2023-07-31T18:41:44.141706802Z",
     "start_time": "2023-07-31T18:41:44.138729413Z"
    }
   },
   "id": "6127367f540e4d30"
  }
 ],
 "metadata": {
  "kernelspec": {
   "display_name": "Python 3",
   "language": "python",
   "name": "python3"
  },
  "language_info": {
   "codemirror_mode": {
    "name": "ipython",
    "version": 2
   },
   "file_extension": ".py",
   "mimetype": "text/x-python",
   "name": "python",
   "nbconvert_exporter": "python",
   "pygments_lexer": "ipython2",
   "version": "2.7.6"
  }
 },
 "nbformat": 4,
 "nbformat_minor": 5
}
