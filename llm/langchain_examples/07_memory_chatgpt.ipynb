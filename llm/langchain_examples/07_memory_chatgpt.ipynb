{
 "cells": [
  {
   "cell_type": "code",
   "execution_count": 1,
   "metadata": {
    "collapsed": true,
    "ExecuteTime": {
     "end_time": "2023-07-31T14:54:21.422671263Z",
     "start_time": "2023-07-31T14:54:18.853434740Z"
    }
   },
   "outputs": [],
   "source": [
    "# !pip install --upgrade langchain openai tiktoken"
   ]
  },
  {
   "cell_type": "markdown",
   "source": [
    "# LangChain: Memory\n",
    "\n",
    "Original Source: [LangChain for LLM Application Development](https://learn.deeplearning.ai/langchain/lesson/3/memory)\n",
    "\n",
    "## Outline\n",
    "\n",
    " * ConversationBufferMemory\n",
    " * ConversationBufferWindowMemory\n",
    " * ConversationTokenBufferMemory\n",
    " * ConversationSummaryMemory"
   ],
   "metadata": {
    "collapsed": false
   }
  },
  {
   "cell_type": "code",
   "execution_count": 2,
   "outputs": [],
   "source": [
    "from langchain.chat_models import ChatOpenAI\n",
    "from langchain.chains import ConversationChain\n",
    "from langchain.memory import (\n",
    "    ConversationBufferMemory,\n",
    "    ConversationBufferWindowMemory,\n",
    "    ConversationTokenBufferMemory,\n",
    "    ConversationSummaryBufferMemory\n",
    ")"
   ],
   "metadata": {
    "collapsed": false,
    "ExecuteTime": {
     "end_time": "2023-07-31T14:54:21.535297403Z",
     "start_time": "2023-07-31T14:54:18.853679336Z"
    }
   }
  },
  {
   "cell_type": "code",
   "execution_count": 3,
   "outputs": [],
   "source": [
    "# OpenAI API KEY\n",
    "api_key = '?'"
   ],
   "metadata": {
    "collapsed": false,
    "ExecuteTime": {
     "end_time": "2023-07-31T14:54:21.535668890Z",
     "start_time": "2023-07-31T14:54:21.463484681Z"
    }
   }
  },
  {
   "cell_type": "code",
   "execution_count": 4,
   "outputs": [],
   "source": [
    "# init chain\n",
    "llm = ChatOpenAI(openai_api_key=api_key, temperature=0.0)"
   ],
   "metadata": {
    "collapsed": false,
    "ExecuteTime": {
     "end_time": "2023-07-31T14:54:21.535836738Z",
     "start_time": "2023-07-31T14:54:21.470548184Z"
    }
   }
  },
  {
   "cell_type": "markdown",
   "source": [
    "---\n",
    "## ConversationBufferMemory"
   ],
   "metadata": {
    "collapsed": false
   }
  },
  {
   "cell_type": "code",
   "execution_count": 5,
   "outputs": [
    {
     "name": "stdout",
     "output_type": "stream",
     "text": [
      "Hello Bruno! It's great to meet you. I'm an AI trained by OpenAI, and I'm here to chat with you. How can I assist you today?\n"
     ]
    }
   ],
   "source": [
    "memory = ConversationBufferMemory()\n",
    "conversation = ConversationChain(\n",
    "    llm=llm,\n",
    "    memory=memory,\n",
    "    verbose=False\n",
    ")\n",
    "prediction = conversation.predict(\n",
    "    input=\"Hello! I'm Bruno a software engineer and today using OpenAI API to interact with you.\")\n",
    "print(prediction)"
   ],
   "metadata": {
    "collapsed": false,
    "ExecuteTime": {
     "end_time": "2023-07-31T14:54:23.274031646Z",
     "start_time": "2023-07-31T14:54:21.499685297Z"
    }
   }
  },
  {
   "cell_type": "code",
   "execution_count": 6,
   "outputs": [
    {
     "name": "stdout",
     "output_type": "stream",
     "text": [
      "Sure! Here are some common characteristics of successful software engineers:\n",
      "\n",
      "1. Strong problem-solving skills: Successful software engineers are able to analyze complex problems and come up with effective solutions.\n",
      "\n",
      "2. Continuous learning: They have a thirst for knowledge and are always eager to learn new technologies and programming languages to stay updated in their field.\n",
      "\n",
      "3. Attention to detail: Software engineers need to pay close attention to detail to ensure that their code is error-free and functions as intended.\n",
      "\n",
      "4. Collaboration and teamwork: They often work in teams and need to effectively communicate and collaborate with others to develop and maintain software projects.\n",
      "\n",
      "5. Adaptability: Successful software engineers are adaptable and can quickly adjust to changes in technology and project requirements.\n",
      "\n",
      "6. Persistence: They are determined and persistent in solving problems and overcoming challenges that arise during the software development process.\n",
      "\n",
      "7. Strong analytical skills: Software engineers need to be able to analyze complex systems and break them down into smaller, more manageable components.\n",
      "\n",
      "8. Creativity: They often need to think outside the box to come up with innovative solutions to problems.\n",
      "\n",
      "9. Time management: Successful software engineers are able to prioritize tasks and manage their time effectively to meet project deadlines.\n",
      "\n",
      "10. Communication skills: They need to be able to effectively communicate technical concepts to both technical and non-technical stakeholders.\n",
      "\n",
      "Please note that these characteristics are not exhaustive, and there may be other qualities that contribute to success in the field of software engineering.\n"
     ]
    }
   ],
   "source": [
    "prediction = conversation.predict(\n",
    "    input=\"Please give me a numeric list of common characteristics of successful people which have same profession as me.\")\n",
    "print(prediction)"
   ],
   "metadata": {
    "collapsed": false,
    "ExecuteTime": {
     "end_time": "2023-07-31T14:54:33.972502180Z",
     "start_time": "2023-07-31T14:54:23.262986809Z"
    }
   }
  },
  {
   "cell_type": "markdown",
   "source": [
    "### Memory programmatic initialization"
   ],
   "metadata": {
    "collapsed": false
   }
  },
  {
   "cell_type": "code",
   "execution_count": 7,
   "outputs": [],
   "source": [
    "memory = ConversationBufferMemory()\n",
    "memory.save_context(\n",
    "    {\"input\": \"Hello! I'm Bruno a Data Scientist.\"},\n",
    "    {\"output\": \"Hello Bruno, really nice to meet you, how can I help you today?\"}\n",
    ")\n",
    "\n",
    "conversation = ConversationChain(\n",
    "    llm=llm,\n",
    "    memory=memory,\n",
    "    verbose=False\n",
    ")"
   ],
   "metadata": {
    "collapsed": false,
    "ExecuteTime": {
     "end_time": "2023-07-31T14:54:33.991334399Z",
     "start_time": "2023-07-31T14:54:33.974681314Z"
    }
   }
  },
  {
   "cell_type": "code",
   "execution_count": 8,
   "outputs": [
    {
     "name": "stdout",
     "output_type": "stream",
     "text": [
      "Sure, here are some common characteristics of successful data scientists:\n",
      "\n",
      "1. Strong analytical skills: Successful data scientists have a knack for analyzing complex data sets and extracting meaningful insights from them.\n",
      "\n",
      "2. Curiosity and thirst for knowledge: They are constantly seeking to learn and stay updated with the latest advancements in the field of data science.\n",
      "\n",
      "3. Problem-solving abilities: Data scientists are skilled at identifying problems, formulating hypotheses, and finding innovative solutions using data-driven approaches.\n",
      "\n",
      "4. Programming proficiency: Proficiency in programming languages like Python, R, and SQL is crucial for data scientists to manipulate and analyze data effectively.\n",
      "\n",
      "5. Statistical knowledge: A solid understanding of statistical concepts and techniques is essential for data scientists to make accurate predictions and draw reliable conclusions from data.\n",
      "\n",
      "6. Communication skills: Successful data scientists are able to effectively communicate their findings and insights to both technical and non-technical stakeholders.\n",
      "\n",
      "7. Domain expertise: Having domain knowledge in the industry they work in allows data scientists to better understand the context and make more informed decisions.\n",
      "\n",
      "8. Creativity: Data scientists often need to think outside the box to come up with innovative solutions to complex problems.\n",
      "\n",
      "9. Attention to detail: Being meticulous and paying attention to even the smallest details is crucial for data scientists to ensure the accuracy and reliability of their analyses.\n",
      "\n",
      "10. Adaptability: The field of data science is constantly evolving, and successful data scientists are adaptable and open to learning new tools, techniques, and methodologies.\n",
      "\n",
      "I hope this helps! Let me know if there's anything else I can assist you with.\n"
     ]
    }
   ],
   "source": [
    "prediction = conversation.predict(\n",
    "    input=\"Please give me a numeric list of common characteristics of successful people which have same profession as me.\")\n",
    "print(prediction)"
   ],
   "metadata": {
    "collapsed": false,
    "ExecuteTime": {
     "end_time": "2023-07-31T14:54:45.337942162Z",
     "start_time": "2023-07-31T14:54:33.991741456Z"
    }
   }
  },
  {
   "cell_type": "markdown",
   "source": [
    "---\n",
    "## ConversationBufferWindowMemory"
   ],
   "metadata": {
    "collapsed": false
   }
  },
  {
   "cell_type": "code",
   "execution_count": 9,
   "outputs": [],
   "source": [
    "memory = ConversationBufferWindowMemory(k=1)\n",
    "conversation = ConversationChain(\n",
    "    llm=llm,\n",
    "    memory=memory,\n",
    "    verbose=False\n",
    ")"
   ],
   "metadata": {
    "collapsed": false,
    "ExecuteTime": {
     "end_time": "2023-07-31T14:54:45.338244048Z",
     "start_time": "2023-07-31T14:54:45.307848860Z"
    }
   }
  },
  {
   "cell_type": "code",
   "execution_count": 10,
   "outputs": [
    {
     "name": "stdout",
     "output_type": "stream",
     "text": [
      "Hello Bruno! It's great to meet you. I'm an AI trained by OpenAI, and I'm here to chat with you. How can I assist you today?\n"
     ]
    }
   ],
   "source": [
    "prediction = conversation.predict(\n",
    "    input=\"Hello! I'm Bruno a software engineer and today using OpenAI API to interact with you.\")\n",
    "print(prediction)"
   ],
   "metadata": {
    "collapsed": false,
    "ExecuteTime": {
     "end_time": "2023-07-31T14:54:47.616946990Z",
     "start_time": "2023-07-31T14:54:45.321811811Z"
    }
   }
  },
  {
   "cell_type": "code",
   "execution_count": 11,
   "outputs": [
    {
     "name": "stdout",
     "output_type": "stream",
     "text": [
      "No, the square root of 9 is not an even number. The square root of 9 is 3, which is an odd number.\n"
     ]
    }
   ],
   "source": [
    "prediction = conversation.predict(\n",
    "    input=\"Is square root of 9 an even number?\")\n",
    "print(prediction)"
   ],
   "metadata": {
    "collapsed": false,
    "ExecuteTime": {
     "end_time": "2023-07-31T14:54:49.209688742Z",
     "start_time": "2023-07-31T14:54:47.267181421Z"
    }
   }
  },
  {
   "cell_type": "code",
   "execution_count": 12,
   "outputs": [
    {
     "name": "stdout",
     "output_type": "stream",
     "text": [
      "I'm sorry, but I don't have access to personal information about individuals unless it has been shared with me in the course of our conversation.\n"
     ]
    }
   ],
   "source": [
    "prediction = conversation.predict(\n",
    "    input=\"What is my name?\")\n",
    "print(prediction)"
   ],
   "metadata": {
    "collapsed": false,
    "ExecuteTime": {
     "end_time": "2023-07-31T14:54:50.468305318Z",
     "start_time": "2023-07-31T14:54:48.729349044Z"
    }
   }
  },
  {
   "cell_type": "markdown",
   "source": [
    "---\n",
    "## ConversationTokenBufferMemory\n"
   ],
   "metadata": {
    "collapsed": false
   }
  },
  {
   "cell_type": "code",
   "execution_count": 13,
   "outputs": [],
   "source": [
    "memory = ConversationTokenBufferMemory(\n",
    "    llm=llm,\n",
    "    max_token_limit=30\n",
    ")"
   ],
   "metadata": {
    "collapsed": false,
    "ExecuteTime": {
     "end_time": "2023-07-31T14:54:50.468700684Z",
     "start_time": "2023-07-31T14:54:50.279950473Z"
    }
   }
  },
  {
   "cell_type": "code",
   "execution_count": 14,
   "outputs": [
    {
     "data": {
      "text/plain": "{'history': 'AI: Beautiful!\\nHuman: Chatbots are what?\\nAI: Charming!'}"
     },
     "execution_count": 14,
     "metadata": {},
     "output_type": "execute_result"
    }
   ],
   "source": [
    "memory.save_context({\"input\": \"AI is what?!\"},\n",
    "                    {\"output\": \"Amazing!\"})\n",
    "memory.save_context({\"input\": \"Backpropagation is what?\"},\n",
    "                    {\"output\": \"Beautiful!\"})\n",
    "memory.save_context({\"input\": \"Chatbots are what?\"},\n",
    "                    {\"output\": \"Charming!\"})\n",
    "memory.load_memory_variables({})"
   ],
   "metadata": {
    "collapsed": false,
    "ExecuteTime": {
     "end_time": "2023-07-31T14:54:51.184160395Z",
     "start_time": "2023-07-31T14:54:50.288458275Z"
    }
   }
  },
  {
   "cell_type": "markdown",
   "source": [
    "---\n",
    "## ConversationSummaryBufferMemory"
   ],
   "metadata": {
    "collapsed": false
   }
  },
  {
   "cell_type": "code",
   "execution_count": 15,
   "outputs": [],
   "source": [
    "# create a long string\n",
    "schedule = \"There is a meeting at 8am with your product team. \\\n",
    "You will need your powerpoint presentation prepared. \\\n",
    "9am-12pm have time to work on your LangChain \\\n",
    "project which will go quickly because Langchain is such a powerful tool. \\\n",
    "At Noon, lunch at the italian resturant with a customer who is driving \\\n",
    "from over an hour away to meet you to understand the latest in AI. \\\n",
    "Be sure to bring your laptop to show the latest LLM demo.\"\n",
    "\n",
    "memory = ConversationSummaryBufferMemory(llm=llm, max_token_limit=100)\n",
    "memory.save_context({\"input\": \"Hello\"}, {\"output\": \"What's up\"})\n",
    "memory.save_context({\"input\": \"Not much, just hanging\"},\n",
    "                    {\"output\": \"Cool\"})\n",
    "memory.save_context({\"input\": \"What is on the schedule today?\"},\n",
    "                    {\"output\": f\"{schedule}\"})"
   ],
   "metadata": {
    "collapsed": false,
    "ExecuteTime": {
     "end_time": "2023-07-31T14:54:54.315346268Z",
     "start_time": "2023-07-31T14:54:50.809936780Z"
    }
   }
  },
  {
   "cell_type": "code",
   "execution_count": 16,
   "outputs": [
    {
     "data": {
      "text/plain": "{'history': 'System: The human and AI exchange greetings. The human asks about the schedule for the day. The AI provides a detailed schedule, including a meeting with the product team, work on the LangChain project, and a lunch meeting with a customer interested in AI. The AI emphasizes the importance of bringing a laptop to showcase the latest LLM demo during the lunch meeting.'}"
     },
     "execution_count": 16,
     "metadata": {},
     "output_type": "execute_result"
    }
   ],
   "source": [
    "memory.load_memory_variables({})"
   ],
   "metadata": {
    "collapsed": false,
    "ExecuteTime": {
     "end_time": "2023-07-31T14:54:54.316393726Z",
     "start_time": "2023-07-31T14:54:54.045348298Z"
    }
   }
  },
  {
   "cell_type": "code",
   "execution_count": 17,
   "outputs": [],
   "source": [
    "conversation = ConversationChain(\n",
    "    llm=llm,\n",
    "    memory = memory,\n",
    "    verbose=True\n",
    ")"
   ],
   "metadata": {
    "collapsed": false,
    "ExecuteTime": {
     "end_time": "2023-07-31T14:54:54.316717091Z",
     "start_time": "2023-07-31T14:54:54.054071399Z"
    }
   }
  },
  {
   "cell_type": "code",
   "execution_count": 18,
   "outputs": [
    {
     "name": "stdout",
     "output_type": "stream",
     "text": [
      "\n",
      "\n",
      "\u001B[1m> Entering new ConversationChain chain...\u001B[0m\n",
      "Prompt after formatting:\n",
      "\u001B[32;1m\u001B[1;3mThe following is a friendly conversation between a human and an AI. The AI is talkative and provides lots of specific details from its context. If the AI does not know the answer to a question, it truthfully says it does not know.\n",
      "\n",
      "Current conversation:\n",
      "System: The human and AI exchange greetings. The human asks about the schedule for the day. The AI provides a detailed schedule, including a meeting with the product team, work on the LangChain project, and a lunch meeting with a customer interested in AI. The AI emphasizes the importance of bringing a laptop to showcase the latest LLM demo during the lunch meeting.\n",
      "Human: What would be a good demo to show?\n",
      "AI:\u001B[0m\n",
      "\n",
      "\u001B[1m> Finished chain.\u001B[0m\n",
      "A good demo to show during the lunch meeting with the customer interested in AI would be the latest LLM (Language Model) demo. The LLM is a cutting-edge AI model that can generate human-like text based on a given prompt. It has been trained on a vast amount of data and can generate coherent and contextually relevant responses. By showcasing the LLM demo, you can demonstrate the capabilities of our AI technology and how it can be applied to various industries and use cases.\n"
     ]
    }
   ],
   "source": [
    "prediction = conversation.predict(input=\"What would be a good demo to show?\")\n",
    "print(prediction)"
   ],
   "metadata": {
    "collapsed": false,
    "ExecuteTime": {
     "end_time": "2023-07-31T14:55:05.361086607Z",
     "start_time": "2023-07-31T14:54:54.058840380Z"
    }
   }
  },
  {
   "cell_type": "code",
   "execution_count": 18,
   "outputs": [],
   "source": [],
   "metadata": {
    "collapsed": false,
    "ExecuteTime": {
     "end_time": "2023-07-31T14:55:05.361423606Z",
     "start_time": "2023-07-31T14:55:05.067888153Z"
    }
   }
  }
 ],
 "metadata": {
  "kernelspec": {
   "display_name": "Python 3",
   "language": "python",
   "name": "python3"
  },
  "language_info": {
   "codemirror_mode": {
    "name": "ipython",
    "version": 2
   },
   "file_extension": ".py",
   "mimetype": "text/x-python",
   "name": "python",
   "nbconvert_exporter": "python",
   "pygments_lexer": "ipython2",
   "version": "2.7.6"
  }
 },
 "nbformat": 4,
 "nbformat_minor": 0
}
