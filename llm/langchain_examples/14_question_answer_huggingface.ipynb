{
 "cells": [
  {
   "cell_type": "code",
   "execution_count": 17,
   "outputs": [],
   "source": [
    "# !pip install --upgrade huggingface_hub langchain InstructorEmbedding sentence_transformers pandas \"langchain[docarray]\""
   ],
   "metadata": {
    "collapsed": false,
    "ExecuteTime": {
     "end_time": "2023-08-08T10:53:17.871983Z",
     "start_time": "2023-08-08T10:53:17.869737Z"
    }
   },
   "id": "4303a7defcd16f3f"
  },
  {
   "cell_type": "code",
   "execution_count": 11,
   "outputs": [],
   "source": [
    "import pandas as pd\n",
    "from langchain.embeddings import HuggingFaceInstructEmbeddings\n",
    "from langchain.llms import HuggingFaceHub\n",
    "from langchain.chains import RetrievalQA\n",
    "from langchain.document_loaders import CSVLoader\n",
    "from langchain.vectorstores import DocArrayInMemorySearch\n",
    "from langchain.indexes import VectorstoreIndexCreator"
   ],
   "metadata": {
    "collapsed": false,
    "ExecuteTime": {
     "end_time": "2023-08-08T10:50:54.748008Z",
     "start_time": "2023-08-08T10:50:54.745186Z"
    }
   },
   "id": "6bb9fe6fc1b3ceaf"
  },
  {
   "cell_type": "code",
   "execution_count": 12,
   "outputs": [],
   "source": [
    "# HUB API KEY\n",
    "api_key = '?'"
   ],
   "metadata": {
    "collapsed": false,
    "ExecuteTime": {
     "end_time": "2023-08-08T10:50:55.182010Z",
     "start_time": "2023-08-08T10:50:55.179806Z"
    }
   },
   "id": "7e995bacf1cb74dd"
  },
  {
   "cell_type": "code",
   "execution_count": 13,
   "outputs": [
    {
     "data": {
      "text/plain": "    country                                        description  \\\n0     Italy  Aromas include tropical fruit, broom, brimston...   \n1  Portugal  This is ripe and fruity, a wine that is smooth...   \n2        US  Tart and snappy, the flavors of lime flesh and...   \n3        US  Pineapple rind, lemon pith and orange blossom ...   \n4        US  Much like the regular bottling from 2012, this...   \n\n                                               title         variety  \\\n0                  Nicosia 2013 Vulkà Bianco  (Etna)     White Blend   \n1      Quinta dos Avidagos 2011 Avidagos Red (Douro)  Portuguese Red   \n2      Rainstorm 2013 Pinot Gris (Willamette Valley)      Pinot Gris   \n3  St. Julian 2013 Reserve Late Harvest Riesling ...        Riesling   \n4  Sweet Cheeks 2012 Vintner's Reserve Wild Child...      Pinot Noir   \n\n                winery  \n0              Nicosia  \n1  Quinta dos Avidagos  \n2            Rainstorm  \n3           St. Julian  \n4         Sweet Cheeks  ",
      "text/html": "<div>\n<style scoped>\n    .dataframe tbody tr th:only-of-type {\n        vertical-align: middle;\n    }\n\n    .dataframe tbody tr th {\n        vertical-align: top;\n    }\n\n    .dataframe thead th {\n        text-align: right;\n    }\n</style>\n<table border=\"1\" class=\"dataframe\">\n  <thead>\n    <tr style=\"text-align: right;\">\n      <th></th>\n      <th>country</th>\n      <th>description</th>\n      <th>title</th>\n      <th>variety</th>\n      <th>winery</th>\n    </tr>\n  </thead>\n  <tbody>\n    <tr>\n      <th>0</th>\n      <td>Italy</td>\n      <td>Aromas include tropical fruit, broom, brimston...</td>\n      <td>Nicosia 2013 Vulkà Bianco  (Etna)</td>\n      <td>White Blend</td>\n      <td>Nicosia</td>\n    </tr>\n    <tr>\n      <th>1</th>\n      <td>Portugal</td>\n      <td>This is ripe and fruity, a wine that is smooth...</td>\n      <td>Quinta dos Avidagos 2011 Avidagos Red (Douro)</td>\n      <td>Portuguese Red</td>\n      <td>Quinta dos Avidagos</td>\n    </tr>\n    <tr>\n      <th>2</th>\n      <td>US</td>\n      <td>Tart and snappy, the flavors of lime flesh and...</td>\n      <td>Rainstorm 2013 Pinot Gris (Willamette Valley)</td>\n      <td>Pinot Gris</td>\n      <td>Rainstorm</td>\n    </tr>\n    <tr>\n      <th>3</th>\n      <td>US</td>\n      <td>Pineapple rind, lemon pith and orange blossom ...</td>\n      <td>St. Julian 2013 Reserve Late Harvest Riesling ...</td>\n      <td>Riesling</td>\n      <td>St. Julian</td>\n    </tr>\n    <tr>\n      <th>4</th>\n      <td>US</td>\n      <td>Much like the regular bottling from 2012, this...</td>\n      <td>Sweet Cheeks 2012 Vintner's Reserve Wild Child...</td>\n      <td>Pinot Noir</td>\n      <td>Sweet Cheeks</td>\n    </tr>\n  </tbody>\n</table>\n</div>"
     },
     "execution_count": 13,
     "metadata": {},
     "output_type": "execute_result"
    }
   ],
   "source": [
    "# File references\n",
    "src_file = 'dataset/winemag-data-130k-v2.csv'\n",
    "dest_file = 'dataset/wines_30.csv'\n",
    "df = pd.read_csv(src_file).iloc[:30, 1:].drop(columns=[\n",
    "    'designation',\n",
    "    'points',\n",
    "    'price',\n",
    "    'province',\n",
    "    'region_1',\n",
    "    'region_2',\n",
    "    'taster_name',\n",
    "    'taster_twitter_handle'])\n",
    "df.to_csv(dest_file)\n",
    "df.head()"
   ],
   "metadata": {
    "collapsed": false,
    "ExecuteTime": {
     "end_time": "2023-08-08T10:50:56.099532Z",
     "start_time": "2023-08-08T10:50:55.547085Z"
    }
   },
   "id": "4a1e14d4349a9889"
  },
  {
   "cell_type": "markdown",
   "source": [
    "## Using RetrievalQA chain and HuggingFaceHub model"
   ],
   "metadata": {
    "collapsed": false
   },
   "id": "a266d55cd0f1cff4"
  },
  {
   "cell_type": "code",
   "execution_count": 14,
   "outputs": [
    {
     "name": "stdout",
     "output_type": "stream",
     "text": [
      "load INSTRUCTOR_Transformer\n",
      "max_seq_length  512\n"
     ]
    }
   ],
   "source": [
    "# initialize LLM\n",
    "instruction_model = 'google/flan-t5-xxl'\n",
    "embedding_model = 'hkunlp/instructor-xl'\n",
    "llm = HuggingFaceHub(\n",
    "    huggingfacehub_api_token=api_key,\n",
    "    repo_id=instruction_model,\n",
    "    model_kwargs={'temperature': 0.1, 'max_new_tokens': 1000}\n",
    ")\n",
    "\n",
    "# Initialize documents\n",
    "dest_file = 'dataset/wines_30.csv'\n",
    "loader = CSVLoader(file_path=dest_file)\n",
    "docs = loader.load()\n",
    "\n",
    "# initialize embeddings\n",
    "embedding = HuggingFaceInstructEmbeddings(model_name=embedding_model)\n",
    "index = VectorstoreIndexCreator(\n",
    "    embedding=embedding,\n",
    "    vectorstore_cls=DocArrayInMemorySearch\n",
    ").from_loaders([loader])\n",
    "\n",
    "# initialize db \n",
    "db = DocArrayInMemorySearch.from_documents(\n",
    "    docs, \n",
    "    embedding\n",
    ")\n",
    "\n",
    "# initialize retriever\n",
    "retriever = db.as_retriever()\n",
    "\n",
    "# initialize chain\n",
    "qa_chain = RetrievalQA.from_chain_type(\n",
    "    llm=llm, \n",
    "    chain_type=\"stuff\", # map_reduce, refine, map_rerank\n",
    "    retriever=retriever, \n",
    "    verbose=True\n",
    ")"
   ],
   "metadata": {
    "collapsed": false,
    "ExecuteTime": {
     "end_time": "2023-08-08T10:51:23.840894Z",
     "start_time": "2023-08-08T10:50:57.351355Z"
    }
   },
   "id": "141c59e626bb5c74"
  },
  {
   "cell_type": "code",
   "execution_count": 16,
   "outputs": [
    {
     "name": "stdout",
     "output_type": "stream",
     "text": [
      "\n",
      "\n",
      "\u001B[1m> Entering new RetrievalQA chain...\u001B[0m\n",
      "\n",
      "\u001B[1m> Finished chain.\u001B[0m\n",
      "Masseria Setteporte 2012 Rosso (Etna), Canicatt 2009 Aynat Nero d'Avola (Sicilia), Stemmari 2013 Dalila White (Terre Siciliane), Terre di Giurfo 2013 Belsito Frappato (Vittoria)\n"
     ]
    }
   ],
   "source": [
    "# Query\n",
    "query = \"List all items from Italy, reply only title, separate entries using comma.\"\n",
    "response = qa_chain.run(query)\n",
    "print(response)"
   ],
   "metadata": {
    "collapsed": false,
    "ExecuteTime": {
     "end_time": "2023-08-08T10:52:17.540227Z",
     "start_time": "2023-08-08T10:52:14.036419Z"
    }
   },
   "id": "fb98303ce8201c88"
  },
  {
   "cell_type": "code",
   "execution_count": null,
   "outputs": [],
   "source": [],
   "metadata": {
    "collapsed": false
   },
   "id": "493660ee9cef3174"
  }
 ],
 "metadata": {
  "kernelspec": {
   "display_name": "Python 3",
   "language": "python",
   "name": "python3"
  },
  "language_info": {
   "codemirror_mode": {
    "name": "ipython",
    "version": 2
   },
   "file_extension": ".py",
   "mimetype": "text/x-python",
   "name": "python",
   "nbconvert_exporter": "python",
   "pygments_lexer": "ipython2",
   "version": "2.7.6"
  }
 },
 "nbformat": 4,
 "nbformat_minor": 5
}
