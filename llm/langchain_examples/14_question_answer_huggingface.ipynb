{
 "cells": [
  {
   "cell_type": "code",
   "execution_count": null,
   "outputs": [],
   "source": [
    "# !pip install --upgrade huggingface_hub langchain InstructorEmbedding sentence_transformers"
   ],
   "metadata": {
    "collapsed": false
   },
   "id": "4303a7defcd16f3f"
  },
  {
   "cell_type": "code",
   "execution_count": null,
   "outputs": [],
   "source": [
    "import pandas as pd\n",
    "from langchain.embeddings import HuggingFaceInstructEmbeddings\n",
    "from langchain.llms import HuggingFaceHub\n",
    "from langchain.chains import RetrievalQA\n",
    "from langchain.document_loaders import CSVLoader\n",
    "from langchain.vectorstores import DocArrayInMemorySearch\n",
    "from langchain.indexes import VectorstoreIndexCreator"
   ],
   "metadata": {
    "collapsed": false
   },
   "id": "6bb9fe6fc1b3ceaf"
  },
  {
   "cell_type": "code",
   "execution_count": null,
   "outputs": [],
   "source": [
    "# HUB API KEY\n",
    "api_key = ''"
   ],
   "metadata": {
    "collapsed": false
   },
   "id": "7e995bacf1cb74dd"
  },
  {
   "cell_type": "code",
   "execution_count": null,
   "outputs": [],
   "source": [
    "# File references\n",
    "src_file = 'dataset/winemag-data-130k-v2.csv'\n",
    "dest_file = 'dataset/wines_30.csv'\n",
    "df = pd.read_csv(src_file).iloc[:30, 1:].drop(columns=[\n",
    "    'designation',\n",
    "    'points',\n",
    "    'price',\n",
    "    'province',\n",
    "    'region_1',\n",
    "    'region_2',\n",
    "    'taster_name',\n",
    "    'taster_twitter_handle'])\n",
    "df.to_csv(dest_file)\n",
    "df.head()"
   ],
   "metadata": {
    "collapsed": false
   },
   "id": "4a1e14d4349a9889"
  },
  {
   "cell_type": "markdown",
   "source": [
    "## Using RetrievalQA chain and HuggingFaceHub model"
   ],
   "metadata": {
    "collapsed": false
   },
   "id": "a266d55cd0f1cff4"
  },
  {
   "cell_type": "code",
   "execution_count": null,
   "outputs": [],
   "source": [
    "# initialize LLM\n",
    "instruction_model = 'google/flan-t5-xxl'\n",
    "embedding_model = 'hkunlp/instructor-xl'\n",
    "llm = HuggingFaceHub(\n",
    "    huggingfacehub_api_token=api_key,\n",
    "    repo_id=instruction_model,\n",
    "    model_kwargs={'temperature': 0.1, 'max_new_tokens': 1000}\n",
    ")\n",
    "\n",
    "# Initialize documents\n",
    "dest_file = 'dataset/wines_30.csv'\n",
    "loader = CSVLoader(file_path=dest_file)\n",
    "docs = loader.load()\n",
    "\n",
    "# initialize embeddings\n",
    "embedding = HuggingFaceInstructEmbeddings(model_name=embedding_model)\n",
    "index = VectorstoreIndexCreator(\n",
    "    embedding=embedding,\n",
    "    vectorstore_cls=DocArrayInMemorySearch\n",
    ").from_loaders([loader])\n",
    "\n",
    "# initialize db \n",
    "db = DocArrayInMemorySearch.from_documents(\n",
    "    docs, \n",
    "    embedding\n",
    ")\n",
    "\n",
    "# initialize retriever\n",
    "retriever = db.as_retriever()\n",
    "\n",
    "# initialize chain\n",
    "qa_chain = RetrievalQA.from_chain_type(\n",
    "    llm=llm, \n",
    "    chain_type=\"stuff\", # map_reduce, refine, map_rerank\n",
    "    retriever=retriever, \n",
    "    verbose=True\n",
    ")"
   ],
   "metadata": {
    "collapsed": false
   },
   "id": "141c59e626bb5c74"
  },
  {
   "cell_type": "code",
   "execution_count": null,
   "outputs": [],
   "source": [
    "# Query\n",
    "query = \"List all items from Italy, reply only title and variety, separate entries using comma.\"\n",
    "response = qa_chain.run(query)\n",
    "print(response)"
   ],
   "metadata": {
    "collapsed": false
   },
   "id": "fb98303ce8201c88"
  },
  {
   "cell_type": "code",
   "execution_count": null,
   "outputs": [],
   "source": [],
   "metadata": {
    "collapsed": false
   },
   "id": "493660ee9cef3174"
  }
 ],
 "metadata": {
  "kernelspec": {
   "display_name": "Python 3",
   "language": "python",
   "name": "python3"
  },
  "language_info": {
   "codemirror_mode": {
    "name": "ipython",
    "version": 2
   },
   "file_extension": ".py",
   "mimetype": "text/x-python",
   "name": "python",
   "nbconvert_exporter": "python",
   "pygments_lexer": "ipython2",
   "version": "2.7.6"
  }
 },
 "nbformat": 4,
 "nbformat_minor": 5
}
