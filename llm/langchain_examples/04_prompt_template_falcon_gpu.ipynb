{
 "cells": [
  {
   "cell_type": "code",
   "execution_count": 1,
   "id": "initial_id",
   "metadata": {
    "collapsed": true,
    "ExecuteTime": {
     "end_time": "2023-07-31T07:51:08.775076Z",
     "start_time": "2023-07-31T07:51:08.650815Z"
    }
   },
   "outputs": [],
   "source": [
    "# !pip install --upgrade langchain accelerate transformers\n",
    "# !pip install --pre torch torchvision torchaudio --index-url https://download.pytorch.org/whl/nightly/cpu\n",
    "!export PYTORCH_ENABLE_MPS_FALLBACK=1"
   ]
  },
  {
   "cell_type": "code",
   "execution_count": 2,
   "outputs": [],
   "source": [
    "# import torch\n",
    "# print(torch.backends.mps.is_available())\n",
    "# print(torch.backends.mps.is_built())\n",
    "# print(torch.cuda.is_available())\n",
    "from transformers import pipeline, AutoTokenizer\n",
    "from langchain import PromptTemplate, LLMChain\n",
    "from langchain.llms import HuggingFacePipeline"
   ],
   "metadata": {
    "collapsed": false,
    "ExecuteTime": {
     "end_time": "2023-07-31T07:51:12.674126Z",
     "start_time": "2023-07-31T07:51:09.411804Z"
    }
   },
   "id": "2f706439650edb43"
  },
  {
   "cell_type": "code",
   "execution_count": 3,
   "outputs": [
    {
     "data": {
      "text/plain": "Loading checkpoint shards:   0%|          | 0/2 [00:00<?, ?it/s]",
      "application/vnd.jupyter.widget-view+json": {
       "version_major": 2,
       "version_minor": 0,
       "model_id": "36158909d7b04e31ac56340738b27de2"
      }
     },
     "metadata": {},
     "output_type": "display_data"
    }
   ],
   "source": [
    "# Globals\n",
    "llm_model = 'tiiuae/falcon-7b-instruct'\n",
    "\n",
    "tokenizer = AutoTokenizer.from_pretrained(llm_model)\n",
    "generate_text = pipeline(\n",
    "    \"text-generation\",\n",
    "    max_length=200,\n",
    "    model=llm_model,\n",
    "    tokenizer=tokenizer,\n",
    "    trust_remote_code=True,\n",
    "    device_map=\"auto\",\n",
    ")\n",
    "\n",
    "transformer_pipeline = HuggingFacePipeline(pipeline=generate_text)"
   ],
   "metadata": {
    "collapsed": false,
    "ExecuteTime": {
     "end_time": "2023-07-31T07:51:27.148906Z",
     "start_time": "2023-07-31T07:51:14.542606Z"
    }
   },
   "id": "683dcc2a00768455"
  },
  {
   "cell_type": "code",
   "execution_count": 4,
   "outputs": [],
   "source": [
    "# Prompt template\n",
    "template_string = \"\"\"Answer the question that is delimited by <>, think about the solution before coming to a conclusion and offer a detailed reasoning in your answer. Question: <{question}>\"\"\"\n",
    "\n",
    "prompt_template = PromptTemplate.from_template(template_string)"
   ],
   "metadata": {
    "collapsed": false,
    "ExecuteTime": {
     "end_time": "2023-07-31T07:51:29.606823Z",
     "start_time": "2023-07-31T07:51:29.604402Z"
    }
   },
   "id": "b02d35696e2af071"
  },
  {
   "cell_type": "code",
   "execution_count": 5,
   "outputs": [],
   "source": [
    "# LLM Chain\n",
    "llm_chain = LLMChain(\n",
    "    llm=transformer_pipeline,\n",
    "    prompt=prompt_template\n",
    ")"
   ],
   "metadata": {
    "collapsed": false,
    "ExecuteTime": {
     "end_time": "2023-07-31T07:51:31.062301Z",
     "start_time": "2023-07-31T07:51:31.060221Z"
    }
   },
   "id": "10ad41017e14f963"
  },
  {
   "cell_type": "code",
   "execution_count": 6,
   "outputs": [
    {
     "name": "stderr",
     "output_type": "stream",
     "text": [
      "/Users/bsantanna/miniforge3/envs/ml/lib/python3.11/site-packages/transformers/generation/utils.py:1270: UserWarning: You have modified the pretrained model configuration to control generation. This is a deprecated strategy to control generation and will be removed soon, in a future version. Please use a generation configuration file (see https://huggingface.co/docs/transformers/main_classes/text_generation )\n",
      "  warnings.warn(\n",
      "Setting `pad_token_id` to `eos_token_id`:11 for open-end generation.\n"
     ]
    }
   ],
   "source": [
    "# Predict\n",
    "prediction = llm_chain.predict(\n",
    "    question=\"What is DevOps and how it works?\"\n",
    ")"
   ],
   "metadata": {
    "collapsed": false,
    "ExecuteTime": {
     "end_time": "2023-07-31T08:01:39.952668Z",
     "start_time": "2023-07-31T07:51:32.301315Z"
    }
   },
   "id": "a85c042b40f21108"
  },
  {
   "cell_type": "code",
   "execution_count": 7,
   "outputs": [
    {
     "name": "stdout",
     "output_type": "stream",
     "text": [
      "\n",
      "DevOps is a cultural movement that aims to streamline the software development process by integrating the best practices of software engineering and operations. It is a continuous, iterative approach that focuses on the entire lifecycle of a software product, from development to deployment and maintenance. The core principles of DevOps include collaboration, automation, and continuous delivery. DevOps works by breaking down silos between development and operations teams, enabling them to work together more efficiently. This collaboration results in faster release cycles, higher quality software, and better customer experiences. DevOps is based on the idea of a'single workflow' that encompasses the entire software development lifecycle. By automating and streamlining processes, teams can reduce manual tasks, errors, and delays. Additionally, DevOps encourages the use of automation tools to test and deploy software, which\n"
     ]
    }
   ],
   "source": [
    "print(prediction)"
   ],
   "metadata": {
    "collapsed": false,
    "ExecuteTime": {
     "end_time": "2023-07-31T08:01:53.931051Z",
     "start_time": "2023-07-31T08:01:53.929448Z"
    }
   },
   "id": "8a4043f523c77fd3"
  },
  {
   "cell_type": "code",
   "execution_count": 7,
   "outputs": [],
   "source": [],
   "metadata": {
    "collapsed": false,
    "ExecuteTime": {
     "end_time": "2023-07-30T20:55:44.476545Z",
     "start_time": "2023-07-30T20:55:44.475015Z"
    }
   },
   "id": "fb02240928527e73"
  }
 ],
 "metadata": {
  "kernelspec": {
   "display_name": "Python 3",
   "language": "python",
   "name": "python3"
  },
  "language_info": {
   "codemirror_mode": {
    "name": "ipython",
    "version": 2
   },
   "file_extension": ".py",
   "mimetype": "text/x-python",
   "name": "python",
   "nbconvert_exporter": "python",
   "pygments_lexer": "ipython2",
   "version": "2.7.6"
  }
 },
 "nbformat": 4,
 "nbformat_minor": 5
}
