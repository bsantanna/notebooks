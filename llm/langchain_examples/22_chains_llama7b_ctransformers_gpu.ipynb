{
 "cells": [
  {
   "cell_type": "code",
   "execution_count": 1,
   "id": "initial_id",
   "metadata": {
    "collapsed": true,
    "ExecuteTime": {
     "end_time": "2023-09-23T11:42:56.135044Z",
     "start_time": "2023-09-23T11:42:56.120527Z"
    }
   },
   "outputs": [],
   "source": [
    "# !pip uninstall ctransformers --yes\n",
    "# !CT_METAL=1 pip install ctransformers --no-binary ctransformers"
   ]
  },
  {
   "cell_type": "code",
   "execution_count": 24,
   "outputs": [],
   "source": [
    "import langchain\n",
    "from langchain.chains import LLMChain\n",
    "from langchain.llms import CTransformers\n",
    "from langchain.prompts import PromptTemplate"
   ],
   "metadata": {
    "collapsed": false,
    "ExecuteTime": {
     "end_time": "2023-09-23T11:44:44.111553Z",
     "start_time": "2023-09-23T11:44:44.107354Z"
    }
   },
   "id": "2504372d42308e93"
  },
  {
   "cell_type": "code",
   "execution_count": 25,
   "outputs": [],
   "source": [
    "# Globals\n",
    "# instruction_model_path = \"/Users/bsantanna/dev/workspace/community/Llama-2-7b-chat-hf/gguf-model-f16.bin\"\n",
    "instruction_model_path = \"/Users/bsantanna/dev/workspace/community/Llama-2-7b-Chat-GGUF/llama-2-7b-chat.Q5_K_M.gguf\"\n",
    "n_gpu_layers = 32\n",
    "n_batch = 512\n",
    "n_ctx = 4096\n",
    "n_tokens = 256\n",
    "n_repetition_penalty = 1.5\n",
    "n_temperature = 0.6\n"
   ],
   "metadata": {
    "collapsed": false,
    "ExecuteTime": {
     "end_time": "2023-09-23T11:44:44.387546Z",
     "start_time": "2023-09-23T11:44:44.380328Z"
    }
   },
   "id": "c518d02544844df3"
  },
  {
   "cell_type": "code",
   "execution_count": 26,
   "outputs": [],
   "source": [
    "config = {\n",
    "    'max_new_tokens': n_tokens,\n",
    "    'repetition_penalty': n_repetition_penalty,\n",
    "    'batch_size': n_batch,\n",
    "    'context_length': n_ctx,\n",
    "    'reset': False,\n",
    "    'temperature': n_temperature,\n",
    "    'gpu_layers': n_gpu_layers\n",
    "}\n",
    "\n",
    "llm = CTransformers(\n",
    "    model=instruction_model_path,\n",
    "    model_type='llama',\n",
    "    config=config\n",
    ")"
   ],
   "metadata": {
    "collapsed": false,
    "ExecuteTime": {
     "end_time": "2023-09-23T11:44:44.856756Z",
     "start_time": "2023-09-23T11:44:44.693809Z"
    }
   },
   "id": "f727eb930575cf10"
  },
  {
   "cell_type": "code",
   "execution_count": 27,
   "outputs": [],
   "source": [
    "prompt = PromptTemplate.from_template(\n",
    "    \"Suggest 3 company names to describe a company that makes '{product}'. Reply only the names without explanation.\"\n",
    ")\n",
    "\n",
    "chain = LLMChain(\n",
    "    llm=llm,\n",
    "    prompt=prompt\n",
    ")"
   ],
   "metadata": {
    "collapsed": false,
    "ExecuteTime": {
     "end_time": "2023-09-23T11:44:45.063009Z",
     "start_time": "2023-09-23T11:44:45.040494Z"
    }
   },
   "id": "3da569c987641877"
  },
  {
   "cell_type": "code",
   "execution_count": 28,
   "outputs": [
    {
     "name": "stdout",
     "output_type": "stream",
     "text": [
      "\u001B[32;1m\u001B[1;3m[chain/start]\u001B[0m \u001B[1m[1:chain:LLMChain] Entering Chain run with input:\n",
      "\u001B[0m{\n",
      "  \"product\": \"Visually stunning watches.\"\n",
      "}\n",
      "\u001B[32;1m\u001B[1;3m[llm/start]\u001B[0m \u001B[1m[1:chain:LLMChain > 2:llm:CTransformers] Entering LLM run with input:\n",
      "\u001B[0m{\n",
      "  \"prompts\": [\n",
      "    \"Suggest 3 company names to describe a company that makes 'Visually stunning watches.'. Reply only the names without explanation.\"\n",
      "  ]\n",
      "}\n",
      "\u001B[36;1m\u001B[1;3m[llm/end]\u001B[0m \u001B[1m[1:chain:LLMChain > 2:llm:CTransformers] [1.13s] Exiting LLM run with output:\n",
      "\u001B[0m{\n",
      "  \"generations\": [\n",
      "    [\n",
      "      {\n",
      "        \"text\": \"\\n1) ChronoChic Watch Co.\\n2) TimeSculpture Designs Inc.\\n3) Horology Haven Ltd\",\n",
      "        \"generation_info\": null\n",
      "      }\n",
      "    ]\n",
      "  ],\n",
      "  \"llm_output\": null,\n",
      "  \"run\": null\n",
      "}\n",
      "\u001B[36;1m\u001B[1;3m[chain/end]\u001B[0m \u001B[1m[1:chain:LLMChain] [1.13s] Exiting Chain run with output:\n",
      "\u001B[0m{\n",
      "  \"text\": \"\\n1) ChronoChic Watch Co.\\n2) TimeSculpture Designs Inc.\\n3) Horology Haven Ltd\"\n",
      "}\n"
     ]
    }
   ],
   "source": [
    "product = \"Visually stunning watches.\"\n",
    "langchain.debug = True\n",
    "result = chain.run(product)\n",
    "langchain.debug = False"
   ],
   "metadata": {
    "collapsed": false,
    "ExecuteTime": {
     "end_time": "2023-09-23T11:44:46.632552Z",
     "start_time": "2023-09-23T11:44:45.500888Z"
    }
   },
   "id": "6bb9f8eb7d137e2e"
  },
  {
   "cell_type": "code",
   "execution_count": 29,
   "outputs": [
    {
     "name": "stdout",
     "output_type": "stream",
     "text": [
      "\n",
      "1) ChronoChic Watch Co.\n",
      "2) TimeSculpture Designs Inc.\n",
      "3) Horology Haven Ltd\n"
     ]
    }
   ],
   "source": [
    "print(result)"
   ],
   "metadata": {
    "collapsed": false,
    "ExecuteTime": {
     "end_time": "2023-09-23T11:44:46.633556Z",
     "start_time": "2023-09-23T11:44:46.632057Z"
    }
   },
   "id": "3452f24c59909fe7"
  },
  {
   "cell_type": "code",
   "execution_count": null,
   "outputs": [],
   "source": [],
   "metadata": {
    "collapsed": false
   },
   "id": "16c10c681d81e0f3"
  }
 ],
 "metadata": {
  "kernelspec": {
   "display_name": "Python 3",
   "language": "python",
   "name": "python3"
  },
  "language_info": {
   "codemirror_mode": {
    "name": "ipython",
    "version": 2
   },
   "file_extension": ".py",
   "mimetype": "text/x-python",
   "name": "python",
   "nbconvert_exporter": "python",
   "pygments_lexer": "ipython2",
   "version": "2.7.6"
  }
 },
 "nbformat": 4,
 "nbformat_minor": 5
}
