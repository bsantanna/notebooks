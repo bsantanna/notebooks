{
 "cells": [
  {
   "cell_type": "code",
   "execution_count": 1,
   "id": "initial_id",
   "metadata": {
    "collapsed": true,
    "ExecuteTime": {
     "end_time": "2023-08-14T13:26:48.874790Z",
     "start_time": "2023-08-14T13:26:48.751828Z"
    }
   },
   "outputs": [],
   "source": [
    "# !pip install --upgrade ctransformers"
   ]
  },
  {
   "cell_type": "code",
   "execution_count": 1,
   "outputs": [],
   "source": [
    "import torch\n",
    "from langchain.chains import LLMChain\n",
    "from langchain.llms import CTransformers\n",
    "from langchain.prompts import PromptTemplate"
   ],
   "metadata": {
    "collapsed": false,
    "ExecuteTime": {
     "end_time": "2023-09-08T12:32:41.865839Z",
     "start_time": "2023-09-08T12:32:28.362330Z"
    }
   },
   "id": "2504372d42308e93"
  },
  {
   "cell_type": "code",
   "execution_count": 7,
   "outputs": [],
   "source": [
    "# Globals\n",
    "# instruction_model_path = \"/Users/bsantanna/dev/workspace/community/Llama-2-7b-chat-hf/ggml-model-f16.bin\"\n",
    "instruction_model_path = \"/Users/bsantanna/dev/workspace/community/Llama-2-7b-Chat-GGUF/llama-2-7b-chat.Q5_K_M.gguf\"\n",
    "n_gpu = 50\n",
    "llm = CTransformers(model=instruction_model_path, model_type='llama', gpu_layers=n_gpu)"
   ],
   "metadata": {
    "collapsed": false,
    "ExecuteTime": {
     "end_time": "2023-09-08T12:35:43.050953Z",
     "start_time": "2023-09-08T12:35:43.033162Z"
    }
   },
   "id": "c518d02544844df3"
  },
  {
   "cell_type": "code",
   "execution_count": 8,
   "outputs": [],
   "source": [
    "prompt = PromptTemplate.from_template(\n",
    "    \"Suggest a company name to describe a company that makes {product}\"\n",
    ")\n",
    "\n",
    "chain = LLMChain(\n",
    "    llm=llm,\n",
    "    prompt=prompt\n",
    ")"
   ],
   "metadata": {
    "collapsed": false,
    "ExecuteTime": {
     "end_time": "2023-09-08T12:35:43.628731Z",
     "start_time": "2023-09-08T12:35:43.607052Z"
    }
   },
   "id": "3da569c987641877"
  },
  {
   "cell_type": "code",
   "execution_count": 10,
   "outputs": [
    {
     "name": "stdout",
     "output_type": "stream",
     "text": [
      "\n",
      "Watchcraft\n",
      "Timepiece Designs\n",
      "Clockwork Creations\n",
      "Timeless Artistry\n",
      "Horology House\n",
      "Momentum Watch Co.\n",
      "Chrono Craftsmen\n",
      "The Time Keeper Co.\n",
      "Crystal Timekeepers\n",
      "Gearworks Studio\n",
      "Elegance Watch Co.\n",
      "Timepiece Innovations\n",
      "Fine Timekeeping\n",
      "Precision Timing Co.\n",
      "Watchful Eye Designs\n"
     ]
    }
   ],
   "source": [
    "product = \"Visually stunning watches.\"\n",
    "result = chain.run(product)\n",
    "print(result)"
   ],
   "metadata": {
    "collapsed": false,
    "ExecuteTime": {
     "end_time": "2023-09-08T12:36:14.426521Z",
     "start_time": "2023-09-08T12:36:07.325995Z"
    }
   },
   "id": "6bb9f8eb7d137e2e"
  },
  {
   "cell_type": "code",
   "execution_count": 7,
   "outputs": [],
   "source": [],
   "metadata": {
    "collapsed": false,
    "ExecuteTime": {
     "end_time": "2023-08-14T13:32:13.320743Z",
     "start_time": "2023-08-14T13:32:13.318134Z"
    }
   },
   "id": "3452f24c59909fe7"
  }
 ],
 "metadata": {
  "kernelspec": {
   "display_name": "Python 3",
   "language": "python",
   "name": "python3"
  },
  "language_info": {
   "codemirror_mode": {
    "name": "ipython",
    "version": 2
   },
   "file_extension": ".py",
   "mimetype": "text/x-python",
   "name": "python",
   "nbconvert_exporter": "python",
   "pygments_lexer": "ipython2",
   "version": "2.7.6"
  }
 },
 "nbformat": 4,
 "nbformat_minor": 5
}
