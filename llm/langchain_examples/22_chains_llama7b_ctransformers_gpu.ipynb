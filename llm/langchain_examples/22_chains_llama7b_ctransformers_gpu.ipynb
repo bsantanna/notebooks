{
 "cells": [
  {
   "cell_type": "code",
   "execution_count": 1,
   "id": "initial_id",
   "metadata": {
    "collapsed": true,
    "ExecuteTime": {
     "end_time": "2023-08-14T13:26:48.874790Z",
     "start_time": "2023-08-14T13:26:48.751828Z"
    }
   },
   "outputs": [],
   "source": [
    "# !pip install --upgrade ctransformers"
   ]
  },
  {
   "cell_type": "code",
   "execution_count": 1,
   "outputs": [],
   "source": [
    "import torch\n",
    "from langchain.chains import LLMChain\n",
    "from langchain.llms import CTransformers\n",
    "from langchain.prompts import PromptTemplate"
   ],
   "metadata": {
    "collapsed": false,
    "ExecuteTime": {
     "end_time": "2023-09-08T08:59:12.276262Z",
     "start_time": "2023-09-08T08:59:01.566274Z"
    }
   },
   "id": "2504372d42308e93"
  },
  {
   "cell_type": "code",
   "execution_count": 13,
   "outputs": [],
   "source": [
    "# Globals\n",
    "instruction_model_path = \"/Users/bsantanna/dev/workspace/community/Llama-2-7b-chat-hf/ggml-model-f16.bin\"\n",
    "n_gpu = 24\n",
    "llm = CTransformers(model=instruction_model_path, model_type='llama', gpu_layers=n_gpu)"
   ],
   "metadata": {
    "collapsed": false,
    "ExecuteTime": {
     "end_time": "2023-09-08T09:04:23.176022Z",
     "start_time": "2023-09-08T09:04:23.152632Z"
    }
   },
   "id": "c518d02544844df3"
  },
  {
   "cell_type": "code",
   "execution_count": 14,
   "outputs": [],
   "source": [
    "prompt = PromptTemplate.from_template(\n",
    "    \"Suggest a company name to describe a company that makes {product}\"\n",
    ")\n",
    "\n",
    "chain = LLMChain(\n",
    "    llm=llm,\n",
    "    prompt=prompt\n",
    ")"
   ],
   "metadata": {
    "collapsed": false,
    "ExecuteTime": {
     "end_time": "2023-09-08T09:04:23.559326Z",
     "start_time": "2023-09-08T09:04:23.515588Z"
    }
   },
   "id": "3da569c987641877"
  },
  {
   "cell_type": "code",
   "execution_count": 15,
   "outputs": [
    {
     "name": "stdout",
     "output_type": "stream",
     "text": [
      "\n",
      "A company that creates artistic and visually striking timepieces. This may involve unique designs, innovative materials, or complex mechanics. The name should convey a sense of elegance, sophistication, and creativity. Here are some suggestions:\n",
      "1. Horological Haven - This name suggests a company that is dedicated to creating watches that are both functional and beautiful.\n",
      "2. Timepiece Treasures - This name conveys the idea that the company's watches are rare and valuable, and that they are treasured by their owners.\n",
      "3. Artisanal Watchworks - This name emphasizes the handcrafted nature of the company's watches, and suggests a focus on traditional craftsmanship and attention to detail.\n",
      "4. Chronosphere Crafts - This name plays off the idea of time and space, suggesting that the company's watches are not just functional but also works of art.\n",
      "5. Ticktock Trends - This name suggests a company that is on the cutting edge of watch design and technology, and that its watches are ahead of their time.\n",
      "6. Horological Artistry - This name emphasizes the creative and art\n"
     ]
    }
   ],
   "source": [
    "product = \"Artistic and visually stunning watches.\"\n",
    "result = chain.run(product)\n",
    "print(result)"
   ],
   "metadata": {
    "collapsed": false,
    "ExecuteTime": {
     "end_time": "2023-09-08T09:05:02.229378Z",
     "start_time": "2023-09-08T09:04:23.969505Z"
    }
   },
   "id": "6bb9f8eb7d137e2e"
  },
  {
   "cell_type": "code",
   "execution_count": 7,
   "outputs": [],
   "source": [],
   "metadata": {
    "collapsed": false,
    "ExecuteTime": {
     "end_time": "2023-08-14T13:32:13.320743Z",
     "start_time": "2023-08-14T13:32:13.318134Z"
    }
   },
   "id": "3452f24c59909fe7"
  }
 ],
 "metadata": {
  "kernelspec": {
   "display_name": "Python 3",
   "language": "python",
   "name": "python3"
  },
  "language_info": {
   "codemirror_mode": {
    "name": "ipython",
    "version": 2
   },
   "file_extension": ".py",
   "mimetype": "text/x-python",
   "name": "python",
   "nbconvert_exporter": "python",
   "pygments_lexer": "ipython2",
   "version": "2.7.6"
  }
 },
 "nbformat": 4,
 "nbformat_minor": 5
}
