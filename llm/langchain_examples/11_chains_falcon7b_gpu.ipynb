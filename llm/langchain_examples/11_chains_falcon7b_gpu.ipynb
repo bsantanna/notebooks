{
 "cells": [
  {
   "cell_type": "code",
   "execution_count": 1,
   "id": "initial_id",
   "metadata": {
    "collapsed": true,
    "ExecuteTime": {
     "end_time": "2023-08-01T18:21:04.532543Z",
     "start_time": "2023-08-01T18:21:04.409499Z"
    }
   },
   "outputs": [],
   "source": [
    "# !pip install --upgrade langchain accelerate transformers\n",
    "# !pip install --pre torch torchvision torchaudio --index-url https://download.pytorch.org/whl/nightly/cpu\n",
    "!export PYTORCH_ENABLE_MPS_FALLBACK=1"
   ]
  },
  {
   "cell_type": "code",
   "execution_count": 2,
   "outputs": [],
   "source": [
    "import torch\n",
    "from langchain.chains import (\n",
    "    LLMChain,\n",
    "    SequentialChain\n",
    ")\n",
    "from langchain.llms import HuggingFacePipeline\n",
    "from langchain.prompts import PromptTemplate\n",
    "from transformers import pipeline, AutoTokenizer"
   ],
   "metadata": {
    "collapsed": false,
    "ExecuteTime": {
     "end_time": "2023-08-01T18:21:21.969885Z",
     "start_time": "2023-08-01T18:21:04.533836Z"
    }
   },
   "id": "e6e5182709b5efdd"
  },
  {
   "cell_type": "code",
   "execution_count": 3,
   "outputs": [
    {
     "data": {
      "text/plain": "Loading checkpoint shards:   0%|          | 0/2 [00:00<?, ?it/s]",
      "application/vnd.jupyter.widget-view+json": {
       "version_major": 2,
       "version_minor": 0,
       "model_id": "506bdae8719e4e15b0fdaff8a89aa80e"
      }
     },
     "metadata": {},
     "output_type": "display_data"
    }
   ],
   "source": [
    "# Globals\n",
    "repo_id = 'tiiuae/falcon-7b-instruct'\n",
    "\n",
    "tokenizer = AutoTokenizer.from_pretrained(repo_id)\n",
    "\n",
    "generate_text = pipeline(\n",
    "    \"text-generation\",\n",
    "    max_length=1000,\n",
    "    model=repo_id,\n",
    "    torch_dtype=torch.float16,\n",
    "    tokenizer=tokenizer,\n",
    "    trust_remote_code=True,\n",
    "    device_map=\"auto\",\n",
    "    model_kwargs={\n",
    "        'pad_token_id': tokenizer.eos_token_id\n",
    "    }\n",
    ")\n",
    "\n",
    "transformer_pipeline = HuggingFacePipeline(pipeline=generate_text)"
   ],
   "metadata": {
    "collapsed": false,
    "ExecuteTime": {
     "end_time": "2023-08-01T18:21:29.541079Z",
     "start_time": "2023-08-01T18:21:21.971506Z"
    }
   },
   "id": "a5535344c6d6f5ce"
  },
  {
   "cell_type": "code",
   "execution_count": 4,
   "outputs": [],
   "source": [
    "prompt = PromptTemplate.from_template(\n",
    "    \"Suggest a company name to describe a company that makes {product}?\"\n",
    ")\n",
    "\n",
    "chain = LLMChain(\n",
    "    llm=transformer_pipeline,\n",
    "    prompt=prompt\n",
    ")"
   ],
   "metadata": {
    "collapsed": false,
    "ExecuteTime": {
     "end_time": "2023-08-01T18:21:29.547203Z",
     "start_time": "2023-08-01T18:21:29.541790Z"
    }
   },
   "id": "b8fd966d7b4adb3c"
  },
  {
   "cell_type": "code",
   "execution_count": 8,
   "outputs": [
    {
     "name": "stdout",
     "output_type": "stream",
     "text": [
      "\n",
      "Artistic Handbags\n"
     ]
    }
   ],
   "source": [
    "product = \"Artistic and visually stunning hand bags.\"\n",
    "result = chain.run(product)\n",
    "print(result)"
   ],
   "metadata": {
    "collapsed": false,
    "ExecuteTime": {
     "end_time": "2023-08-01T18:56:18.885851Z",
     "start_time": "2023-08-01T18:56:07.281357Z"
    }
   },
   "id": "99b862e13bf19049"
  },
  {
   "cell_type": "markdown",
   "source": [
    "---\n",
    "\n",
    "## SequentialChain"
   ],
   "metadata": {
    "collapsed": false
   },
   "id": "1b13da6b9d9f9fa6"
  },
  {
   "cell_type": "code",
   "execution_count": 6,
   "outputs": [],
   "source": [
    "# prompt template 1: translate to english\n",
    "first_prompt = PromptTemplate.from_template(\n",
    "    \"Summarize the text enclosed by <>: <{review}>\"\n",
    ")\n",
    "\n",
    "chain_one = LLMChain(\n",
    "    llm=transformer_pipeline, prompt=first_prompt,\n",
    "    output_key=\"summary\"\n",
    ")\n",
    "\n",
    "second_prompt = PromptTemplate.from_template(\n",
    "    \"Is the sentiment of the text enclosed by <> Positive or Negative? <{summary}>\"\n",
    ")\n",
    "\n",
    "chain_two = LLMChain(\n",
    "    llm=transformer_pipeline, prompt=second_prompt,\n",
    "    output_key=\"sentiment\"\n",
    ")\n",
    "\n",
    "third_prompt = PromptTemplate.from_template(\n",
    "    \"Extract key-phrases from the text enclosed by <>: <{summary}>\"\n",
    ")\n",
    "\n",
    "chain_three = LLMChain(\n",
    "    llm=transformer_pipeline, prompt=third_prompt,\n",
    "    output_key=\"keywords\"\n",
    ")\n"
   ],
   "metadata": {
    "collapsed": false,
    "ExecuteTime": {
     "end_time": "2023-08-01T18:21:40.470397Z",
     "start_time": "2023-08-01T18:21:40.467442Z"
    }
   },
   "id": "fb7f5984901650cf"
  },
  {
   "cell_type": "code",
   "execution_count": 7,
   "outputs": [
    {
     "name": "stdout",
     "output_type": "stream",
     "text": [
      "{'review': 'Hotel was kept clean and the staff around the pools, restaurant and bar worked hard. We were disappointed with the evening entertainment as there wasn’t much. We found the food very bland particularly at dinner and ended up going out for some evening meals. We had a pool view which was nice initially but realised the first morning it meant you were woken very early by the cleaning machines around the pool. The bed dipped in the middle and our room wasn’t brushed out or mopped during the duration of our stay.', 'summary': '\\nThe text describes a hotel with clean rooms, hardworking staff, and disappointing evening entertainment. The food was bland, and the pool view was nice but disturbed by cleaning machines. The bed dipped in the middle, and the room was not properly cleaned during their stay.', 'sentiment': ' Negative', 'keywords': ''}\n"
     ]
    }
   ],
   "source": [
    "# overall_chain: input= review \n",
    "# and output= language, english_review,summary, sentiment\n",
    "overall_chain = SequentialChain(\n",
    "    chains=[chain_one, chain_two, chain_three],\n",
    "    input_variables=[\"review\"],\n",
    "    output_variables=[\"summary\", \"sentiment\", \"keywords\"],\n",
    "    verbose=False\n",
    ")\n",
    "\n",
    "review = \"Hotel was kept clean and the staff around the pools, restaurant and bar worked hard. We were disappointed with the evening entertainment as there wasn’t much. We found the food very bland particularly at dinner and ended up going out for some evening meals. We had a pool view which was nice initially but realised the first morning it meant you were woken very early by the cleaning machines around the pool. The bed dipped in the middle and our room wasn’t brushed out or mopped during the duration of our stay.\"\n",
    "\n",
    "result = overall_chain(review)\n",
    "print(result)"
   ],
   "metadata": {
    "collapsed": false,
    "ExecuteTime": {
     "end_time": "2023-08-01T18:23:44.146995Z",
     "start_time": "2023-08-01T18:21:40.471035Z"
    }
   },
   "id": "42b5fb8c28b56da7"
  },
  {
   "cell_type": "code",
   "execution_count": 7,
   "outputs": [],
   "source": [],
   "metadata": {
    "collapsed": false,
    "ExecuteTime": {
     "end_time": "2023-08-01T18:23:44.147170Z",
     "start_time": "2023-08-01T18:23:44.145347Z"
    }
   },
   "id": "6d52c026918e5fcb"
  }
 ],
 "metadata": {
  "kernelspec": {
   "display_name": "Python 3",
   "language": "python",
   "name": "python3"
  },
  "language_info": {
   "codemirror_mode": {
    "name": "ipython",
    "version": 2
   },
   "file_extension": ".py",
   "mimetype": "text/x-python",
   "name": "python",
   "nbconvert_exporter": "python",
   "pygments_lexer": "ipython2",
   "version": "2.7.6"
  }
 },
 "nbformat": 4,
 "nbformat_minor": 5
}
