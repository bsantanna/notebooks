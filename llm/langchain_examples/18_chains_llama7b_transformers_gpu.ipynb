{
 "cells": [
  {
   "cell_type": "code",
   "execution_count": 1,
   "id": "initial_id",
   "metadata": {
    "collapsed": true,
    "ExecuteTime": {
     "end_time": "2023-08-14T13:26:48.874790Z",
     "start_time": "2023-08-14T13:26:48.751828Z"
    }
   },
   "outputs": [],
   "source": [
    "# !pip install --upgrade langchain accelerate transformers\n",
    "# !pip install --pre torch torchvision torchaudio --index-url https://download.pytorch.org/whl/nightly/cpu\n",
    "!export PYTORCH_ENABLE_MPS_FALLBACK=1"
   ]
  },
  {
   "cell_type": "code",
   "execution_count": 2,
   "outputs": [
    {
     "name": "stderr",
     "output_type": "stream",
     "text": [
      "/Users/bsantanna/miniforge3/envs/ml/lib/python3.11/site-packages/bitsandbytes/cextension.py:34: UserWarning: The installed version of bitsandbytes was compiled without GPU support. 8-bit optimizers, 8-bit multiplication, and GPU quantization are unavailable.\n",
      "  warn(\"The installed version of bitsandbytes was compiled without GPU support. \"\n"
     ]
    },
    {
     "name": "stdout",
     "output_type": "stream",
     "text": [
      "'NoneType' object has no attribute 'cadam32bit_grad_fp32'\n"
     ]
    }
   ],
   "source": [
    "import torch\n",
    "from langchain.chains import (\n",
    "    LLMChain,\n",
    "    SequentialChain\n",
    ")\n",
    "from langchain.llms import HuggingFacePipeline\n",
    "from langchain.prompts import PromptTemplate\n",
    "from transformers import pipeline, AutoTokenizer"
   ],
   "metadata": {
    "collapsed": false,
    "ExecuteTime": {
     "end_time": "2023-08-14T13:27:06.457034Z",
     "start_time": "2023-08-14T13:26:48.875917Z"
    }
   },
   "id": "2504372d42308e93"
  },
  {
   "cell_type": "code",
   "execution_count": 3,
   "outputs": [
    {
     "data": {
      "text/plain": "Loading checkpoint shards:   0%|          | 0/2 [00:00<?, ?it/s]",
      "application/vnd.jupyter.widget-view+json": {
       "version_major": 2,
       "version_minor": 0,
       "model_id": "7dca043510a64a0c8137cba5f1e741b5"
      }
     },
     "metadata": {},
     "output_type": "display_data"
    }
   ],
   "source": [
    "# Globals\n",
    "repo_id = 'meta-llama/Llama-2-7b-chat-hf'\n",
    "\n",
    "tokenizer = AutoTokenizer.from_pretrained(repo_id)\n",
    "\n",
    "generate_text = pipeline(\n",
    "    \"text-generation\",\n",
    "    max_length=512,\n",
    "    model=repo_id,\n",
    "    torch_dtype=torch.float16,\n",
    "    tokenizer=tokenizer,\n",
    "    trust_remote_code=True,\n",
    "    device_map=\"auto\"\n",
    ")\n",
    "\n",
    "transformer_pipeline = HuggingFacePipeline(pipeline=generate_text)"
   ],
   "metadata": {
    "collapsed": false,
    "ExecuteTime": {
     "end_time": "2023-08-14T13:27:17.306514Z",
     "start_time": "2023-08-14T13:27:06.455499Z"
    }
   },
   "id": "c518d02544844df3"
  },
  {
   "cell_type": "code",
   "execution_count": 4,
   "outputs": [],
   "source": [
    "prompt = PromptTemplate.from_template(\n",
    "    \"Suggest a company name to describe a company that makes {product}\"\n",
    ")\n",
    "\n",
    "chain = LLMChain(\n",
    "    llm=transformer_pipeline,\n",
    "    prompt=prompt\n",
    ")"
   ],
   "metadata": {
    "collapsed": false,
    "ExecuteTime": {
     "end_time": "2023-08-14T13:27:17.311918Z",
     "start_time": "2023-08-14T13:27:17.307552Z"
    }
   },
   "id": "3da569c987641877"
  },
  {
   "cell_type": "code",
   "execution_count": 5,
   "outputs": [
    {
     "name": "stdout",
     "output_type": "stream",
     "text": [
      " Here are a few suggestions:\n",
      "\n",
      "1. Visionary Bags: This name suggests a company that has a unique and artistic approach to handbag design.\n",
      "2. Canvas & Craft: This name combines the idea of canvas (a popular material for handbags) with the word craft, implying a focus on artisanal quality and attention to detail.\n",
      "3. Eyeful Bags: This name plays on the idea of an \"eyeful\" of beauty, suggesting that the company's handbags are visually stunning and a pleasure to behold.\n",
      "4. Artful Accessories: This name emphasizes the artistic and creative aspect of the company's handbags, positioning them as more than just practical accessories.\n",
      "5. Handcrafted Chic: This name combines the idea of handcrafted (or artisanal) quality with the idea of chic, stylish design, suggesting a company that creates handbags that are both functional and fashionable.\n",
      "6. Baguette Bazaar: This name plays on the idea of the French word \"baguette,\" which is often associated with stylish and artistic design. The \"Bazaar\" part of the name suggests a marketplace or collection of unique and creative items.\n",
      "7. Fusion Fashion: This name suggests a company that combines different styles, materials, or techniques to create unique and visually stunning handbags.\n",
      "8. Artisanal Accents: This name emphasizes the artisanal or handmade quality of the company's handbags, while the \"Accents\" part of the name suggests a focus on details and finishing touches.\n",
      "9. Vivid Vessels: This name plays on the idea of \"vivid\" or bright colors, suggesting a company that creates handbags that are visually striking and eye-catching. The \"Vessels\" part of the name implies a focus on functional, practical design.\n",
      "10. Whimsy Wears: This name combines the idea of whimsy or playfulness with the word \"wears,\" suggesting a company that creates handbags that are both stylish and fun to wear.\n"
     ]
    }
   ],
   "source": [
    "product = \"Artistic and visually stunning hand bags.\"\n",
    "result = chain.run(product)\n",
    "print(result)"
   ],
   "metadata": {
    "collapsed": false,
    "ExecuteTime": {
     "end_time": "2023-08-14T13:31:07.445245Z",
     "start_time": "2023-08-14T13:27:17.310778Z"
    }
   },
   "id": "6bb9f8eb7d137e2e"
  },
  {
   "cell_type": "code",
   "execution_count": 7,
   "outputs": [],
   "source": [],
   "metadata": {
    "collapsed": false,
    "ExecuteTime": {
     "end_time": "2023-08-14T13:32:13.320743Z",
     "start_time": "2023-08-14T13:32:13.318134Z"
    }
   },
   "id": "3452f24c59909fe7"
  }
 ],
 "metadata": {
  "kernelspec": {
   "display_name": "Python 3",
   "language": "python",
   "name": "python3"
  },
  "language_info": {
   "codemirror_mode": {
    "name": "ipython",
    "version": 2
   },
   "file_extension": ".py",
   "mimetype": "text/x-python",
   "name": "python",
   "nbconvert_exporter": "python",
   "pygments_lexer": "ipython2",
   "version": "2.7.6"
  }
 },
 "nbformat": 4,
 "nbformat_minor": 5
}
