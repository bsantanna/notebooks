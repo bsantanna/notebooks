{
 "cells": [
  {
   "cell_type": "markdown",
   "source": [
    "# LangChain: Evaluation and Debug\n",
    "\n",
    " Original Source: [LangChain for LLM Application Development](https://learn.deeplearning.ai/langchain/lesson/6/evaluation) "
   ],
   "metadata": {
    "collapsed": false
   },
   "id": "6a9e814a93fd8439"
  },
  {
   "cell_type": "code",
   "execution_count": 2,
   "id": "initial_id",
   "metadata": {
    "collapsed": true,
    "ExecuteTime": {
     "end_time": "2023-08-14T11:10:34.219306854Z",
     "start_time": "2023-08-14T11:10:34.175017527Z"
    }
   },
   "outputs": [],
   "source": [
    "# !pip install --upgrade langchain openai docarray"
   ]
  },
  {
   "cell_type": "code",
   "execution_count": 34,
   "outputs": [],
   "source": [
    "import pandas as pd\n",
    "import langchain\n",
    "from langchain.embeddings import OpenAIEmbeddings\n",
    "from langchain.chains import RetrievalQA\n",
    "from langchain.chat_models import ChatOpenAI\n",
    "from langchain.document_loaders import CSVLoader\n",
    "from langchain.vectorstores import DocArrayInMemorySearch\n",
    "from langchain.evaluation.qa import QAGenerateChain, QAEvalChain"
   ],
   "metadata": {
    "collapsed": false,
    "ExecuteTime": {
     "end_time": "2023-08-14T11:28:08.690723068Z",
     "start_time": "2023-08-14T11:28:08.525043741Z"
    }
   },
   "id": "1d5468be71325c3e"
  },
  {
   "cell_type": "code",
   "execution_count": 41,
   "outputs": [],
   "source": [
    "# OpenAI API KEY\n",
    "api_key = '?'"
   ],
   "metadata": {
    "collapsed": false,
    "ExecuteTime": {
     "end_time": "2023-08-14T11:30:40.102920594Z",
     "start_time": "2023-08-14T11:30:39.871858963Z"
    }
   },
   "id": "9fad56c4d87ef7f8"
  },
  {
   "cell_type": "markdown",
   "source": [
    "### Document data source"
   ],
   "metadata": {
    "collapsed": false
   },
   "id": "8de886fa9359e413"
  },
  {
   "cell_type": "code",
   "execution_count": 9,
   "outputs": [
    {
     "data": {
      "text/plain": "    country                                              title  \\\n0     Italy                  Nicosia 2013 Vulkà Bianco  (Etna)   \n1  Portugal      Quinta dos Avidagos 2011 Avidagos Red (Douro)   \n2        US      Rainstorm 2013 Pinot Gris (Willamette Valley)   \n3        US  St. Julian 2013 Reserve Late Harvest Riesling ...   \n4        US  Sweet Cheeks 2012 Vintner's Reserve Wild Child...   \n\n                                         description         variety  \\\n0  Aromas include tropical fruit, broom, brimston...     White Blend   \n1  This is ripe and fruity, a wine that is smooth...  Portuguese Red   \n2  Tart and snappy, the flavors of lime flesh and...      Pinot Gris   \n3  Pineapple rind, lemon pith and orange blossom ...        Riesling   \n4  Much like the regular bottling from 2012, this...      Pinot Noir   \n\n                winery  \n0              Nicosia  \n1  Quinta dos Avidagos  \n2            Rainstorm  \n3           St. Julian  \n4         Sweet Cheeks  ",
      "text/html": "<div>\n<style scoped>\n    .dataframe tbody tr th:only-of-type {\n        vertical-align: middle;\n    }\n\n    .dataframe tbody tr th {\n        vertical-align: top;\n    }\n\n    .dataframe thead th {\n        text-align: right;\n    }\n</style>\n<table border=\"1\" class=\"dataframe\">\n  <thead>\n    <tr style=\"text-align: right;\">\n      <th></th>\n      <th>country</th>\n      <th>title</th>\n      <th>description</th>\n      <th>variety</th>\n      <th>winery</th>\n    </tr>\n  </thead>\n  <tbody>\n    <tr>\n      <th>0</th>\n      <td>Italy</td>\n      <td>Nicosia 2013 Vulkà Bianco  (Etna)</td>\n      <td>Aromas include tropical fruit, broom, brimston...</td>\n      <td>White Blend</td>\n      <td>Nicosia</td>\n    </tr>\n    <tr>\n      <th>1</th>\n      <td>Portugal</td>\n      <td>Quinta dos Avidagos 2011 Avidagos Red (Douro)</td>\n      <td>This is ripe and fruity, a wine that is smooth...</td>\n      <td>Portuguese Red</td>\n      <td>Quinta dos Avidagos</td>\n    </tr>\n    <tr>\n      <th>2</th>\n      <td>US</td>\n      <td>Rainstorm 2013 Pinot Gris (Willamette Valley)</td>\n      <td>Tart and snappy, the flavors of lime flesh and...</td>\n      <td>Pinot Gris</td>\n      <td>Rainstorm</td>\n    </tr>\n    <tr>\n      <th>3</th>\n      <td>US</td>\n      <td>St. Julian 2013 Reserve Late Harvest Riesling ...</td>\n      <td>Pineapple rind, lemon pith and orange blossom ...</td>\n      <td>Riesling</td>\n      <td>St. Julian</td>\n    </tr>\n    <tr>\n      <th>4</th>\n      <td>US</td>\n      <td>Sweet Cheeks 2012 Vintner's Reserve Wild Child...</td>\n      <td>Much like the regular bottling from 2012, this...</td>\n      <td>Pinot Noir</td>\n      <td>Sweet Cheeks</td>\n    </tr>\n  </tbody>\n</table>\n</div>"
     },
     "execution_count": 9,
     "metadata": {},
     "output_type": "execute_result"
    }
   ],
   "source": [
    "# File references\n",
    "src_file = 'dataset/wine_100.csv'\n",
    "df = pd.read_csv(src_file)\n",
    "df.to_csv(src_file, index=False)\n",
    "df.head()"
   ],
   "metadata": {
    "collapsed": false,
    "ExecuteTime": {
     "end_time": "2023-08-14T11:14:40.885452499Z",
     "start_time": "2023-08-14T11:14:40.808432774Z"
    }
   },
   "id": "1c610094c2b61f9c"
  },
  {
   "cell_type": "markdown",
   "source": [
    "### Initialize Retrieval QA Chain"
   ],
   "metadata": {
    "collapsed": false
   },
   "id": "d06d05649799ea88"
  },
  {
   "cell_type": "code",
   "execution_count": 10,
   "outputs": [],
   "source": [
    "# initialize LLM\n",
    "llm = ChatOpenAI(temperature=0, openai_api_key=api_key)\n",
    "\n",
    "# Initialize documents\n",
    "loader = CSVLoader(file_path=src_file)\n",
    "docs = loader.load()\n",
    "\n",
    "# initialize embeddings\n",
    "embedding = OpenAIEmbeddings(openai_api_key=api_key)\n",
    "\n",
    "# initialize db \n",
    "db = DocArrayInMemorySearch.from_documents(\n",
    "    docs,\n",
    "    embedding\n",
    ")\n",
    "\n",
    "# initialize retriever\n",
    "retriever = db.as_retriever()\n",
    "\n",
    "# initialize chain\n",
    "qa_chain = RetrievalQA.from_chain_type(\n",
    "    llm=llm,\n",
    "    chain_type=\"stuff\",  # map_reduce, refine, map_rerank\n",
    "    retriever=retriever,\n",
    "    verbose=True\n",
    ")"
   ],
   "metadata": {
    "collapsed": false,
    "ExecuteTime": {
     "end_time": "2023-08-14T11:14:53.749676178Z",
     "start_time": "2023-08-14T11:14:52.561407209Z"
    }
   },
   "id": "73dad4116a40b37b"
  },
  {
   "cell_type": "markdown",
   "source": [
    "### Coming up with test datapoints"
   ],
   "metadata": {
    "collapsed": false
   },
   "id": "6c7808bcdf73f59e"
  },
  {
   "cell_type": "code",
   "execution_count": 14,
   "outputs": [
    {
     "data": {
      "text/plain": "Document(page_content=\"country: Portugal\\ntitle: Quinta dos Avidagos 2011 Avidagos Red (Douro)\\ndescription: This is ripe and fruity, a wine that is smooth while still structured. Firm tannins are filled out with juicy red berry fruits and freshened with acidity. It's  already drinkable, although it will certainly be better from 2016.\\nvariety: Portuguese Red\\nwinery: Quinta dos Avidagos\", metadata={'source': 'dataset/wine_100.csv', 'row': 1})"
     },
     "execution_count": 14,
     "metadata": {},
     "output_type": "execute_result"
    }
   ],
   "source": [
    "docs[1]"
   ],
   "metadata": {
    "collapsed": false,
    "ExecuteTime": {
     "end_time": "2023-08-14T11:15:38.590696592Z",
     "start_time": "2023-08-14T11:15:38.544435852Z"
    }
   },
   "id": "86ffec4dc0bb9d11"
  },
  {
   "cell_type": "code",
   "execution_count": 15,
   "outputs": [
    {
     "data": {
      "text/plain": "Document(page_content='country: US\\ntitle: Rainstorm 2013 Pinot Gris (Willamette Valley)\\ndescription: Tart and snappy, the flavors of lime flesh and rind dominate. Some green pineapple pokes through, with crisp acidity underscoring the flavors. The wine was all stainless-steel fermented.\\nvariety: Pinot Gris\\nwinery: Rainstorm', metadata={'source': 'dataset/wine_100.csv', 'row': 2})"
     },
     "execution_count": 15,
     "metadata": {},
     "output_type": "execute_result"
    }
   ],
   "source": [
    "docs[2]"
   ],
   "metadata": {
    "collapsed": false,
    "ExecuteTime": {
     "end_time": "2023-08-14T11:15:44.732457657Z",
     "start_time": "2023-08-14T11:15:44.669062129Z"
    }
   },
   "id": "f2198718a918192"
  },
  {
   "cell_type": "code",
   "execution_count": 16,
   "outputs": [],
   "source": [
    "examples = [\n",
    "    {\n",
    "        \"query\": \"Is the wine 'Quinta dos Avidagos 2011 Avidagos Red (Douro)' made in Portugal?\",\n",
    "        \"answer\": \"Yes\"\n",
    "    },\n",
    "    {\n",
    "        \"query\": \"Which predominant flavours are perceived in the wine 'Rainstorm 2013 Pinot Gris (Willamette Valley)'?\",\n",
    "        \"answer\": \"Lime flesh and rind.\"\n",
    "    }\n",
    "]"
   ],
   "metadata": {
    "collapsed": false,
    "ExecuteTime": {
     "end_time": "2023-08-14T11:19:26.616124490Z",
     "start_time": "2023-08-14T11:19:26.482169274Z"
    }
   },
   "id": "e8e73fbcda57f583"
  },
  {
   "cell_type": "markdown",
   "source": [
    "### LLM-Generated examples"
   ],
   "metadata": {
    "collapsed": false
   },
   "id": "a41caac06a8e38ee"
  },
  {
   "cell_type": "code",
   "execution_count": 20,
   "outputs": [],
   "source": [
    "example_gen_chain = QAGenerateChain.from_llm(ChatOpenAI(openai_api_key=api_key))"
   ],
   "metadata": {
    "collapsed": false,
    "ExecuteTime": {
     "end_time": "2023-08-14T11:20:55.521657897Z",
     "start_time": "2023-08-14T11:20:55.454801536Z"
    }
   },
   "id": "df7078a82a1e539e"
  },
  {
   "cell_type": "code",
   "execution_count": 21,
   "outputs": [
    {
     "name": "stderr",
     "output_type": "stream",
     "text": [
      "/home/bsantanna/anaconda3/envs/ml-dev/lib/python3.9/site-packages/langchain/chains/llm.py:303: UserWarning: The apply_and_parse method is deprecated, instead pass an output parser directly to LLMChain.\n",
      "  warnings.warn(\n"
     ]
    }
   ],
   "source": [
    "new_examples = example_gen_chain.apply_and_parse(\n",
    "    [{\"doc\": t} for t in docs[:5]]\n",
    ")"
   ],
   "metadata": {
    "collapsed": false,
    "ExecuteTime": {
     "end_time": "2023-08-14T11:21:32.970263079Z",
     "start_time": "2023-08-14T11:21:16.478348649Z"
    }
   },
   "id": "29df11befe477c14"
  },
  {
   "cell_type": "code",
   "execution_count": 22,
   "outputs": [
    {
     "data": {
      "text/plain": "{'qa_pairs': {'query': 'What are some of the aromas found in the Nicosia 2013 Vulkà Bianco wine?',\n  'answer': 'Some of the aromas found in the Nicosia 2013 Vulkà Bianco wine include tropical fruit, broom, brimstone, and dried herb.'}}"
     },
     "execution_count": 22,
     "metadata": {},
     "output_type": "execute_result"
    }
   ],
   "source": [
    "new_examples[0]"
   ],
   "metadata": {
    "collapsed": false,
    "ExecuteTime": {
     "end_time": "2023-08-14T11:21:33.051594434Z",
     "start_time": "2023-08-14T11:21:33.002842092Z"
    }
   },
   "id": "24d0f966d9aad9dc"
  },
  {
   "cell_type": "code",
   "execution_count": 23,
   "outputs": [
    {
     "data": {
      "text/plain": "{'qa_pairs': {'query': 'What is the description of the Quinta dos Avidagos 2011 Avidagos Red wine?',\n  'answer': 'The description of the Quinta dos Avidagos 2011 Avidagos Red wine is that it is ripe and fruity, smooth while still structured. It has firm tannins filled out with juicy red berry fruits and freshened with acidity. The wine is already drinkable, although it will certainly be better from 2016.'}}"
     },
     "execution_count": 23,
     "metadata": {},
     "output_type": "execute_result"
    }
   ],
   "source": [
    "new_examples[1]"
   ],
   "metadata": {
    "collapsed": false,
    "ExecuteTime": {
     "end_time": "2023-08-14T11:22:36.989571088Z",
     "start_time": "2023-08-14T11:22:36.783422123Z"
    }
   },
   "id": "66b0302ec3b31d21"
  },
  {
   "cell_type": "markdown",
   "source": [
    "### Combine examples"
   ],
   "metadata": {
    "collapsed": false
   },
   "id": "3b2bffed0ddd780a"
  },
  {
   "cell_type": "code",
   "execution_count": 25,
   "outputs": [],
   "source": [
    "combined_examples = examples + new_examples"
   ],
   "metadata": {
    "collapsed": false,
    "ExecuteTime": {
     "end_time": "2023-08-14T11:23:32.226464231Z",
     "start_time": "2023-08-14T11:23:32.084434072Z"
    }
   },
   "id": "2597a412bf11d3dc"
  },
  {
   "cell_type": "code",
   "execution_count": 26,
   "outputs": [
    {
     "name": "stdout",
     "output_type": "stream",
     "text": [
      "\n",
      "\n",
      "\u001B[1m> Entering new RetrievalQA chain...\u001B[0m\n",
      "\n",
      "\u001B[1m> Finished chain.\u001B[0m\n"
     ]
    },
    {
     "data": {
      "text/plain": "\"Yes, the wine 'Quinta dos Avidagos 2011 Avidagos Red (Douro)' is made in Portugal.\""
     },
     "execution_count": 26,
     "metadata": {},
     "output_type": "execute_result"
    }
   ],
   "source": [
    "qa_chain.run(combined_examples[0][\"query\"])"
   ],
   "metadata": {
    "collapsed": false,
    "ExecuteTime": {
     "end_time": "2023-08-14T11:23:35.235247570Z",
     "start_time": "2023-08-14T11:23:33.165442530Z"
    }
   },
   "id": "e02d963363473e9"
  },
  {
   "cell_type": "markdown",
   "source": [
    "### Manual evaluation"
   ],
   "metadata": {
    "collapsed": false
   },
   "id": "3c0cf683250d109d"
  },
  {
   "cell_type": "code",
   "execution_count": 29,
   "outputs": [],
   "source": [
    "langchain.debug = True"
   ],
   "metadata": {
    "collapsed": false,
    "ExecuteTime": {
     "end_time": "2023-08-14T11:24:44.080998873Z",
     "start_time": "2023-08-14T11:24:44.019343494Z"
    }
   },
   "id": "15f46d79b9fb4c78"
  },
  {
   "cell_type": "code",
   "execution_count": 30,
   "outputs": [
    {
     "name": "stdout",
     "output_type": "stream",
     "text": [
      "\u001B[32;1m\u001B[1;3m[chain/start]\u001B[0m \u001B[1m[1:chain:RetrievalQA] Entering Chain run with input:\n",
      "\u001B[0m{\n",
      "  \"query\": \"Which predominant flavours are perceived in the wine 'Rainstorm 2013 Pinot Gris (Willamette Valley)'?\"\n",
      "}\n",
      "\u001B[32;1m\u001B[1;3m[chain/start]\u001B[0m \u001B[1m[1:chain:RetrievalQA > 3:chain:StuffDocumentsChain] Entering Chain run with input:\n",
      "\u001B[0m[inputs]\n",
      "\u001B[32;1m\u001B[1;3m[chain/start]\u001B[0m \u001B[1m[1:chain:RetrievalQA > 3:chain:StuffDocumentsChain > 4:chain:LLMChain] Entering Chain run with input:\n",
      "\u001B[0m{\n",
      "  \"question\": \"Which predominant flavours are perceived in the wine 'Rainstorm 2013 Pinot Gris (Willamette Valley)'?\",\n",
      "  \"context\": \"country: US\\ntitle: Rainstorm 2013 Pinot Gris (Willamette Valley)\\ndescription: Tart and snappy, the flavors of lime flesh and rind dominate. Some green pineapple pokes through, with crisp acidity underscoring the flavors. The wine was all stainless-steel fermented.\\nvariety: Pinot Gris\\nwinery: Rainstorm\\n\\ncountry: US\\ntitle: Folie à Deux 2015 Pinot Gris (Sonoma Coast)\\ndescription: This wine has a touch of perceptible sweetness on its tropical nose, yet tastes dry, showing a straightforward approach to this crisp, coastal-grown variety. Apricot, melon and guava wrap around a lightness of body and texture.\\nvariety: Pinot Gris\\nwinery: Folie à Deux\\n\\ncountry: France\\ntitle: Jean-Baptiste Adam 2012 Les Natures Pinot Gris (Alsace)\\ndescription: This has great depth of flavor with its fresh apple and pear fruits and touch of spice. It's off dry while balanced with acidity and a crisp texture. Drink now.\\nvariety: Pinot Gris\\nwinery: Jean-Baptiste Adam\\n\\ncountry: US\\ntitle: Hawkins Cellars 2009 Pinot Noir (Willamette Valley)\\ndescription: A stiff, tannic wine, this slowly opens and brings brambly berry flavors into play, along with notes of earthy herbs. There's a touch of bitterness to the tannins.\\nvariety: Pinot Noir\\nwinery: Hawkins Cellars\"\n",
      "}\n",
      "\u001B[32;1m\u001B[1;3m[llm/start]\u001B[0m \u001B[1m[1:chain:RetrievalQA > 3:chain:StuffDocumentsChain > 4:chain:LLMChain > 5:llm:ChatOpenAI] Entering LLM run with input:\n",
      "\u001B[0m{\n",
      "  \"prompts\": [\n",
      "    \"System: Use the following pieces of context to answer the users question. \\nIf you don't know the answer, just say that you don't know, don't try to make up an answer.\\n----------------\\ncountry: US\\ntitle: Rainstorm 2013 Pinot Gris (Willamette Valley)\\ndescription: Tart and snappy, the flavors of lime flesh and rind dominate. Some green pineapple pokes through, with crisp acidity underscoring the flavors. The wine was all stainless-steel fermented.\\nvariety: Pinot Gris\\nwinery: Rainstorm\\n\\ncountry: US\\ntitle: Folie à Deux 2015 Pinot Gris (Sonoma Coast)\\ndescription: This wine has a touch of perceptible sweetness on its tropical nose, yet tastes dry, showing a straightforward approach to this crisp, coastal-grown variety. Apricot, melon and guava wrap around a lightness of body and texture.\\nvariety: Pinot Gris\\nwinery: Folie à Deux\\n\\ncountry: France\\ntitle: Jean-Baptiste Adam 2012 Les Natures Pinot Gris (Alsace)\\ndescription: This has great depth of flavor with its fresh apple and pear fruits and touch of spice. It's off dry while balanced with acidity and a crisp texture. Drink now.\\nvariety: Pinot Gris\\nwinery: Jean-Baptiste Adam\\n\\ncountry: US\\ntitle: Hawkins Cellars 2009 Pinot Noir (Willamette Valley)\\ndescription: A stiff, tannic wine, this slowly opens and brings brambly berry flavors into play, along with notes of earthy herbs. There's a touch of bitterness to the tannins.\\nvariety: Pinot Noir\\nwinery: Hawkins Cellars\\nHuman: Which predominant flavours are perceived in the wine 'Rainstorm 2013 Pinot Gris (Willamette Valley)'?\"\n",
      "  ]\n",
      "}\n",
      "\u001B[36;1m\u001B[1;3m[llm/end]\u001B[0m \u001B[1m[1:chain:RetrievalQA > 3:chain:StuffDocumentsChain > 4:chain:LLMChain > 5:llm:ChatOpenAI] [1.76s] Exiting LLM run with output:\n",
      "\u001B[0m{\n",
      "  \"generations\": [\n",
      "    [\n",
      "      {\n",
      "        \"text\": \"The predominant flavors perceived in the wine 'Rainstorm 2013 Pinot Gris (Willamette Valley)' are lime flesh and rind, with some green pineapple poking through.\",\n",
      "        \"generation_info\": {\n",
      "          \"finish_reason\": \"stop\"\n",
      "        },\n",
      "        \"message\": {\n",
      "          \"lc\": 1,\n",
      "          \"type\": \"constructor\",\n",
      "          \"id\": [\n",
      "            \"langchain\",\n",
      "            \"schema\",\n",
      "            \"messages\",\n",
      "            \"AIMessage\"\n",
      "          ],\n",
      "          \"kwargs\": {\n",
      "            \"content\": \"The predominant flavors perceived in the wine 'Rainstorm 2013 Pinot Gris (Willamette Valley)' are lime flesh and rind, with some green pineapple poking through.\",\n",
      "            \"additional_kwargs\": {}\n",
      "          }\n",
      "        }\n",
      "      }\n",
      "    ]\n",
      "  ],\n",
      "  \"llm_output\": {\n",
      "    \"token_usage\": {\n",
      "      \"prompt_tokens\": 399,\n",
      "      \"completion_tokens\": 37,\n",
      "      \"total_tokens\": 436\n",
      "    },\n",
      "    \"model_name\": \"gpt-3.5-turbo\"\n",
      "  },\n",
      "  \"run\": null\n",
      "}\n",
      "\u001B[36;1m\u001B[1;3m[chain/end]\u001B[0m \u001B[1m[1:chain:RetrievalQA > 3:chain:StuffDocumentsChain > 4:chain:LLMChain] [1.76s] Exiting Chain run with output:\n",
      "\u001B[0m{\n",
      "  \"text\": \"The predominant flavors perceived in the wine 'Rainstorm 2013 Pinot Gris (Willamette Valley)' are lime flesh and rind, with some green pineapple poking through.\"\n",
      "}\n",
      "\u001B[36;1m\u001B[1;3m[chain/end]\u001B[0m \u001B[1m[1:chain:RetrievalQA > 3:chain:StuffDocumentsChain] [1.76s] Exiting Chain run with output:\n",
      "\u001B[0m{\n",
      "  \"output_text\": \"The predominant flavors perceived in the wine 'Rainstorm 2013 Pinot Gris (Willamette Valley)' are lime flesh and rind, with some green pineapple poking through.\"\n",
      "}\n",
      "\u001B[36;1m\u001B[1;3m[chain/end]\u001B[0m \u001B[1m[1:chain:RetrievalQA] [2.15s] Exiting Chain run with output:\n",
      "\u001B[0m{\n",
      "  \"result\": \"The predominant flavors perceived in the wine 'Rainstorm 2013 Pinot Gris (Willamette Valley)' are lime flesh and rind, with some green pineapple poking through.\"\n",
      "}\n"
     ]
    },
    {
     "data": {
      "text/plain": "\"The predominant flavors perceived in the wine 'Rainstorm 2013 Pinot Gris (Willamette Valley)' are lime flesh and rind, with some green pineapple poking through.\""
     },
     "execution_count": 30,
     "metadata": {},
     "output_type": "execute_result"
    }
   ],
   "source": [
    "qa_chain.run(examples[1][\"query\"])"
   ],
   "metadata": {
    "collapsed": false,
    "ExecuteTime": {
     "end_time": "2023-08-14T11:25:00.315532562Z",
     "start_time": "2023-08-14T11:24:58.156807376Z"
    }
   },
   "id": "c584a9036cb3390b"
  },
  {
   "cell_type": "code",
   "execution_count": 31,
   "outputs": [],
   "source": [
    "# Turn off the debug mode\n",
    "langchain.debug = False"
   ],
   "metadata": {
    "collapsed": false,
    "ExecuteTime": {
     "end_time": "2023-08-14T11:26:41.660667157Z",
     "start_time": "2023-08-14T11:26:41.050546454Z"
    }
   },
   "id": "5f3d11fcb63a536a"
  },
  {
   "cell_type": "markdown",
   "source": [
    "## LLM assisted evaluation"
   ],
   "metadata": {
    "collapsed": false
   },
   "id": "a9aaf3bcfc0e79cf"
  },
  {
   "cell_type": "code",
   "execution_count": 33,
   "outputs": [
    {
     "name": "stdout",
     "output_type": "stream",
     "text": [
      "\n",
      "\n",
      "\u001B[1m> Entering new RetrievalQA chain...\u001B[0m\n",
      "\n",
      "\u001B[1m> Finished chain.\u001B[0m\n",
      "\n",
      "\n",
      "\u001B[1m> Entering new RetrievalQA chain...\u001B[0m\n",
      "\n",
      "\u001B[1m> Finished chain.\u001B[0m\n"
     ]
    }
   ],
   "source": [
    "predictions = qa_chain.apply(examples)"
   ],
   "metadata": {
    "collapsed": false,
    "ExecuteTime": {
     "end_time": "2023-08-14T11:27:38.954077341Z",
     "start_time": "2023-08-14T11:27:34.819980215Z"
    }
   },
   "id": "b95e02c69075cc52"
  },
  {
   "cell_type": "code",
   "execution_count": 35,
   "outputs": [],
   "source": [
    "eval_chain = QAEvalChain.from_llm(llm)"
   ],
   "metadata": {
    "collapsed": false,
    "ExecuteTime": {
     "end_time": "2023-08-14T11:28:29.897057567Z",
     "start_time": "2023-08-14T11:28:29.724620462Z"
    }
   },
   "id": "277049afec4ea6ee"
  },
  {
   "cell_type": "code",
   "execution_count": 36,
   "outputs": [],
   "source": [
    "graded_outputs = eval_chain.evaluate(examples, predictions)"
   ],
   "metadata": {
    "collapsed": false,
    "ExecuteTime": {
     "end_time": "2023-08-14T11:28:40.016243775Z",
     "start_time": "2023-08-14T11:28:38.415412972Z"
    }
   },
   "id": "2a963c8eda1d50e3"
  },
  {
   "cell_type": "code",
   "execution_count": 40,
   "outputs": [
    {
     "name": "stdout",
     "output_type": "stream",
     "text": [
      "Example 0:\n",
      "Question: Is the wine 'Quinta dos Avidagos 2011 Avidagos Red (Douro)' made in Portugal?\n",
      "Real Answer: Yes\n",
      "Predicted Answer: Yes, the wine 'Quinta dos Avidagos 2011 Avidagos Red (Douro)' is made in Portugal.\n",
      "\n",
      "Example 1:\n",
      "Question: Which predominant flavours are perceived in the wine 'Rainstorm 2013 Pinot Gris (Willamette Valley)'?\n",
      "Real Answer: Lime flesh and rind.\n",
      "Predicted Answer: The predominant flavors perceived in the wine 'Rainstorm 2013 Pinot Gris (Willamette Valley)' are lime flesh and rind, with some green pineapple poking through.\n"
     ]
    }
   ],
   "source": [
    "for i, eg in enumerate(examples):\n",
    "    print(f\"Example {i}:\")\n",
    "    print(\"Question: \" + predictions[i]['query'])\n",
    "    print(\"Real Answer: \" + predictions[i]['answer'])\n",
    "    print(\"Predicted Answer: \" + predictions[i]['result'])\n",
    "    print()"
   ],
   "metadata": {
    "collapsed": false,
    "ExecuteTime": {
     "end_time": "2023-08-14T11:29:24.469430006Z",
     "start_time": "2023-08-14T11:29:24.312967472Z"
    }
   },
   "id": "efa2e924386c57a5"
  },
  {
   "cell_type": "code",
   "execution_count": null,
   "outputs": [],
   "source": [],
   "metadata": {
    "collapsed": false
   },
   "id": "ba9b29cce97cad25"
  }
 ],
 "metadata": {
  "kernelspec": {
   "display_name": "Python 3",
   "language": "python",
   "name": "python3"
  },
  "language_info": {
   "codemirror_mode": {
    "name": "ipython",
    "version": 2
   },
   "file_extension": ".py",
   "mimetype": "text/x-python",
   "name": "python",
   "nbconvert_exporter": "python",
   "pygments_lexer": "ipython2",
   "version": "2.7.6"
  }
 },
 "nbformat": 4,
 "nbformat_minor": 5
}
