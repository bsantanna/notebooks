{
 "cells": [
  {
   "cell_type": "code",
   "execution_count": 1,
   "outputs": [],
   "source": [
    "# !pip install --upgrade langchain llama-cpp-python"
   ],
   "metadata": {
    "collapsed": false,
    "ExecuteTime": {
     "end_time": "2023-08-15T14:19:00.042180Z",
     "start_time": "2023-08-15T14:19:00.037807Z"
    }
   },
   "id": "4303a7defcd16f3f"
  },
  {
   "cell_type": "code",
   "execution_count": 2,
   "outputs": [],
   "source": [
    "import pandas as pd\n",
    "from langchain.embeddings import HuggingFaceInstructEmbeddings\n",
    "from langchain.chains import RetrievalQA\n",
    "from langchain.document_loaders import CSVLoader\n",
    "from langchain.vectorstores import DocArrayInMemorySearch\n",
    "from langchain.indexes import VectorstoreIndexCreator\n",
    "from langchain.llms import LlamaCpp"
   ],
   "metadata": {
    "collapsed": false,
    "ExecuteTime": {
     "end_time": "2023-08-15T14:19:01.760508Z",
     "start_time": "2023-08-15T14:19:00.042991Z"
    }
   },
   "id": "6bb9fe6fc1b3ceaf"
  },
  {
   "cell_type": "code",
   "execution_count": 3,
   "outputs": [],
   "source": [
    "# Globals\n",
    "embedding_model = 'hkunlp/instructor-xl'\n",
    "instruction_model_path=\"/Users/bsantanna/dev/workspace/community/Llama-2-7b-chat-hf/ggml-model-f16.bin\"\n",
    "static_document_src_path = 'dataset/wine_100.csv'\n",
    "df = pd.read_csv(static_document_src_path)\n",
    "n_gpu_layers = 1\n",
    "n_batch = 512"
   ],
   "metadata": {
    "collapsed": false,
    "ExecuteTime": {
     "end_time": "2023-08-15T14:19:01.764497Z",
     "start_time": "2023-08-15T14:19:01.761104Z"
    }
   },
   "id": "e1ef56d3fa6a1159"
  },
  {
   "cell_type": "code",
   "execution_count": 4,
   "outputs": [
    {
     "name": "stderr",
     "output_type": "stream",
     "text": [
      "/Users/bsantanna/miniforge3/envs/ml/lib/python3.11/site-packages/InstructorEmbedding/instructor.py:7: TqdmExperimentalWarning: Using `tqdm.autonotebook.tqdm` in notebook mode. Use `tqdm.tqdm` instead to force console mode (e.g. in jupyter console)\n",
      "  from tqdm.autonotebook import trange\n"
     ]
    },
    {
     "name": "stdout",
     "output_type": "stream",
     "text": [
      "load INSTRUCTOR_Transformer\n",
      "'NoneType' object has no attribute 'cadam32bit_grad_fp32'\n"
     ]
    },
    {
     "name": "stderr",
     "output_type": "stream",
     "text": [
      "/Users/bsantanna/miniforge3/envs/ml/lib/python3.11/site-packages/bitsandbytes/cextension.py:34: UserWarning: The installed version of bitsandbytes was compiled without GPU support. 8-bit optimizers, 8-bit multiplication, and GPU quantization are unavailable.\n",
      "  warn(\"The installed version of bitsandbytes was compiled without GPU support. \"\n"
     ]
    },
    {
     "name": "stdout",
     "output_type": "stream",
     "text": [
      "max_seq_length  512\n"
     ]
    }
   ],
   "source": [
    "# Initialize documents\n",
    "loader = CSVLoader(file_path=static_document_src_path)\n",
    "\n",
    "# initialize embeddings\n",
    "embedding = HuggingFaceInstructEmbeddings(model_name=embedding_model)\n",
    "index = VectorstoreIndexCreator(\n",
    "    embedding=embedding,\n",
    "    vectorstore_cls=DocArrayInMemorySearch\n",
    ").from_loaders([loader])"
   ],
   "metadata": {
    "collapsed": false,
    "ExecuteTime": {
     "end_time": "2023-08-15T14:19:33.076657Z",
     "start_time": "2023-08-15T14:19:01.765988Z"
    }
   },
   "id": "141c59e626bb5c74"
  },
  {
   "cell_type": "code",
   "execution_count": 5,
   "outputs": [
    {
     "name": "stderr",
     "output_type": "stream",
     "text": [
      "llama.cpp: loading model from /Users/bsantanna/dev/workspace/community/Llama-2-7b-chat-hf/ggml-model-f16.bin\n",
      "llama_model_load_internal: format     = ggjt v1 (pre #1405)\n",
      "llama_model_load_internal: n_vocab    = 32000\n",
      "llama_model_load_internal: n_ctx      = 512\n",
      "llama_model_load_internal: n_embd     = 4096\n",
      "llama_model_load_internal: n_mult     = 5504\n",
      "llama_model_load_internal: n_head     = 32\n",
      "llama_model_load_internal: n_head_kv  = 32\n",
      "llama_model_load_internal: n_layer    = 32\n",
      "llama_model_load_internal: n_rot      = 128\n",
      "llama_model_load_internal: n_gqa      = 1\n",
      "llama_model_load_internal: rnorm_eps  = 1.0e-06\n",
      "llama_model_load_internal: n_ff       = 11008\n",
      "llama_model_load_internal: freq_base  = 10000.0\n",
      "llama_model_load_internal: freq_scale = 1\n",
      "llama_model_load_internal: ftype      = 1 (mostly F16)\n",
      "llama_model_load_internal: model size = 7B\n",
      "llama_model_load_internal: ggml ctx size =    0.08 MB\n",
      "llama_model_load_internal: mem required  = 13155.10 MB (+  256.00 MB per state)\n",
      "llama_new_context_with_model: kv self size  =  256.00 MB\n",
      "ggml_metal_init: allocating\n",
      "ggml_metal_init: using MPS\n",
      "ggml_metal_init: loading '/Users/bsantanna/miniforge3/envs/ml/lib/python3.11/site-packages/llama_cpp/ggml-metal.metal'\n",
      "ggml_metal_init: loaded kernel_add                            0x2a915fef0\n",
      "ggml_metal_init: loaded kernel_add_row                        0x2a9160150\n",
      "ggml_metal_init: loaded kernel_mul                            0x2a91603b0\n",
      "ggml_metal_init: loaded kernel_mul_row                        0x2a9160610\n",
      "ggml_metal_init: loaded kernel_scale                          0x2a9160870\n",
      "ggml_metal_init: loaded kernel_silu                           0x2a9160ad0\n",
      "ggml_metal_init: loaded kernel_relu                           0x2a9160d30\n",
      "ggml_metal_init: loaded kernel_gelu                           0x2a9160f90\n",
      "ggml_metal_init: loaded kernel_soft_max                       0x2a91611f0\n",
      "ggml_metal_init: loaded kernel_diag_mask_inf                  0x2a9161450\n",
      "ggml_metal_init: loaded kernel_get_rows_f16                   0x2a91616b0\n",
      "ggml_metal_init: loaded kernel_get_rows_q4_0                  0x2a9161910\n",
      "ggml_metal_init: loaded kernel_get_rows_q4_1                  0x2a9161b70\n",
      "ggml_metal_init: loaded kernel_get_rows_q2_K                  0x2a9161dd0\n",
      "ggml_metal_init: loaded kernel_get_rows_q3_K                  0x2a9162030\n",
      "ggml_metal_init: loaded kernel_get_rows_q4_K                  0x2a9162290\n",
      "ggml_metal_init: loaded kernel_get_rows_q5_K                  0x2a91624f0\n",
      "ggml_metal_init: loaded kernel_get_rows_q6_K                  0x2a9162750\n",
      "ggml_metal_init: loaded kernel_rms_norm                       0x2a91629b0\n",
      "ggml_metal_init: loaded kernel_norm                           0x2a9162c10\n",
      "ggml_metal_init: loaded kernel_mul_mat_f16_f32                0x2a91631b0\n",
      "ggml_metal_init: loaded kernel_mul_mat_q4_0_f32               0x2a9163410\n",
      "ggml_metal_init: loaded kernel_mul_mat_q4_1_f32               0x2a9163670\n",
      "ggml_metal_init: loaded kernel_mul_mat_q2_K_f32               0x2a91638d0\n",
      "ggml_metal_init: loaded kernel_mul_mat_q3_K_f32               0x2a9163b30\n",
      "ggml_metal_init: loaded kernel_mul_mat_q4_K_f32               0x2a9163d90\n",
      "ggml_metal_init: loaded kernel_mul_mat_q5_K_f32               0x2a9163ff0\n",
      "ggml_metal_init: loaded kernel_mul_mat_q6_K_f32               0x2a9164450\n",
      "ggml_metal_init: loaded kernel_rope                           0x2a91646b0\n",
      "ggml_metal_init: loaded kernel_alibi_f32                      0x2a9164cb0\n",
      "ggml_metal_init: loaded kernel_cpy_f32_f16                    0x2a9165280\n",
      "ggml_metal_init: loaded kernel_cpy_f32_f32                    0x2a9165850\n",
      "ggml_metal_init: loaded kernel_cpy_f16_f16                    0x2a9165e20\n",
      "ggml_metal_init: recommendedMaxWorkingSetSize = 49152.00 MB\n",
      "ggml_metal_init: hasUnifiedMemory             = true\n",
      "ggml_metal_init: maxTransferRate              = built-in GPU\n",
      "llama_new_context_with_model: max tensor size =   250.00 MB\n",
      "ggml_metal_add_buffer: allocated 'data            ' buffer, size = 12853.45 MB, (12853.91 / 49152.00)\n",
      "ggml_metal_add_buffer: allocated 'eval            ' buffer, size =    10.00 MB, (12863.91 / 49152.00)\n",
      "ggml_metal_add_buffer: allocated 'kv              ' buffer, size =   258.00 MB, (13121.91 / 49152.00)\n",
      "ggml_metal_add_buffer: allocated 'scr0            ' buffer, size =   132.00 MB, (13253.91 / 49152.00)\n",
      "ggml_metal_add_buffer: allocated 'scr1            ' buffer, size =   160.00 MB, (13413.91 / 49152.00)\n"
     ]
    }
   ],
   "source": [
    "# Load LLM instruction following model\n",
    "llm = LlamaCpp(\n",
    "    model_path=instruction_model_path,\n",
    "    n_gpu_layers=n_gpu_layers,\n",
    "    n_batch=n_batch,\n",
    "    f16_kv=True,\n",
    "    verbose=False,\n",
    ")"
   ],
   "metadata": {
    "collapsed": false,
    "ExecuteTime": {
     "end_time": "2023-08-15T14:19:33.199486Z",
     "start_time": "2023-08-15T14:19:33.077819Z"
    }
   },
   "id": "5b0467ddc467489c"
  },
  {
   "cell_type": "code",
   "execution_count": 6,
   "outputs": [],
   "source": [
    "# initialize db \n",
    "docs = loader.load()\n",
    "db = DocArrayInMemorySearch.from_documents(\n",
    "    docs, \n",
    "    embedding\n",
    ")\n",
    "\n",
    "# initialize retriever\n",
    "retriever = db.as_retriever()\n",
    "\n",
    "# initialize chain\n",
    "qa_chain = RetrievalQA.from_chain_type(\n",
    "    llm=llm, \n",
    "    chain_type=\"stuff\", # map_reduce, refine, map_rerank\n",
    "    retriever=retriever, \n",
    "    verbose=False\n",
    ")"
   ],
   "metadata": {
    "collapsed": false,
    "ExecuteTime": {
     "end_time": "2023-08-15T14:19:56.140273Z",
     "start_time": "2023-08-15T14:19:33.198721Z"
    }
   },
   "id": "c1fcb22f953105b5"
  },
  {
   "cell_type": "code",
   "execution_count": 7,
   "outputs": [
    {
     "data": {
      "text/plain": "   country                                              title  \\\n0    Italy                  Nicosia 2013 Vulkà Bianco  (Etna)   \n6    Italy   Terre di Giurfo 2013 Belsito Frappato (Vittoria)   \n13   Italy             Masseria Setteporte 2012 Rosso  (Etna)   \n22   Italy  Baglio di Pianetto 2007 Ficiligno White (Sicilia)   \n24   Italy        Canicattì 2009 Aynat Nero d'Avola (Sicilia)   \n26   Italy       Stemmari 2013 Dalila White (Terre Siciliane)   \n27   Italy       Stemmari 2013 Nero d'Avola (Terre Siciliane)   \n28   Italy  Terre di Giurfo 2011 Mascaria Barricato  (Cera...   \n31   Italy  Duca di Salaparuta 2010 Calanìca Nero d'Avola-...   \n32   Italy  Duca di Salaparuta 2011 Calanìca Grillo-Viogni...   \n37   Italy  Feudi del Pisciotto 2010 Missoni Cabernet Sauv...   \n38   Italy  Feudi di San Marzano 2011 I Tratturi Primitivo...   \n39   Italy  Feudo di Santa Tresa 2011 Purato Made With Org...   \n40   Italy            Feudo Montoni 2011 Catarratto (Sicilia)   \n46   Italy  Tasca d'Almerita 2011 Sallier de la Tour Inzol...   \n50   Italy  Viticultori Associati Canicatti 2008 Scialo Re...   \n52   Italy  Cantine di Dolianova 2010 Dolia  (Monica di Sa...   \n54   Italy                     Corvo 2010 Rosso Red (Sicilia)   \n57   Italy  Tasca d'Almerita 2011 Sallier de la Tour Grill...   \n61   Italy  Podere dal Nespoli 2015 Prugneto Sangiovese (R...   \n72   Italy  Grifalco 2013 Daginestra  (Aglianico del Vulture)   \n88   Italy  Poggio Alloro 2014 Le Mandorle Riserva  (Verna...   \n89   Italy               Fattoria Sardi 2015 Rosato (Toscana)   \n98   Italy  Serpaia di Endrizzi 2010 Dono Riserva  (Morell...   \n\n                                          description             variety  \\\n0   Aromas include tropical fruit, broom, brimston...         White Blend   \n6   Here's a bright, informal red that opens with ...            Frappato   \n13  This is dominated by oak and oak-driven aromas...   Nerello Mascalese   \n22  Delicate aromas recall white flower and citrus...         White Blend   \n24  Aromas of prune, blackcurrant, toast and oak c...        Nero d'Avola   \n26  Pretty aromas of yellow flower and stone fruit...         White Blend   \n27  Aromas recall ripe dark berry, toast and a whi...        Nero d'Avola   \n28  Aromas suggest mature berry, scorched earth, a...           Red Blend   \n31  Merlot and Nero d'Avola form the base for this...           Red Blend   \n32  Part of the extended Calanìca series, this Gri...         White Blend   \n37  This concentrated Cabernet offers aromas of cu...  Cabernet Sauvignon   \n38  Inky in color, this wine has plump aromas of r...           Primitivo   \n39  Part of the natural wine movement, this wine i...        Nero d'Avola   \n40  Catarratto is one of Sicily's most widely farm...          Catarratto   \n46  Spicy, fresh and clean, this would pair with f...             Inzolia   \n50  This blend of Nero d'Avola and Syrah opens wit...           Red Blend   \n52  The Monica grape often shows a rustic or raw q...              Monica   \n54  A blend of Nero d'Avola and Nerello Mascalese,...           Red Blend   \n57  There's a touch of toasted almond at the start...              Grillo   \n61  This densely hued wine has aromas of black plu...          Sangiovese   \n72  Aromas of black-skinned fruit, leather, underb...           Aglianico   \n88  Subdued aromas of French oak, toast and acacia...           Vernaccia   \n89  Made primarily from Sangiovese, with some Malv...              Rosato   \n98  Forest floor, menthol, espresso, cranberry and...          Sangiovese   \n\n                             winery  \n0                           Nicosia  \n6                   Terre di Giurfo  \n13              Masseria Setteporte  \n22               Baglio di Pianetto  \n24                        Canicattì  \n26                         Stemmari  \n27                         Stemmari  \n28                  Terre di Giurfo  \n31               Duca di Salaparuta  \n32               Duca di Salaparuta  \n37              Feudi del Pisciotto  \n38             Feudi di San Marzano  \n39             Feudo di Santa Tresa  \n40                    Feudo Montoni  \n46                 Tasca d'Almerita  \n50  Viticultori Associati Canicatti  \n52             Cantine di Dolianova  \n54                            Corvo  \n57                 Tasca d'Almerita  \n61               Podere dal Nespoli  \n72                         Grifalco  \n88                    Poggio Alloro  \n89                   Fattoria Sardi  \n98              Serpaia di Endrizzi  ",
      "text/html": "<div>\n<style scoped>\n    .dataframe tbody tr th:only-of-type {\n        vertical-align: middle;\n    }\n\n    .dataframe tbody tr th {\n        vertical-align: top;\n    }\n\n    .dataframe thead th {\n        text-align: right;\n    }\n</style>\n<table border=\"1\" class=\"dataframe\">\n  <thead>\n    <tr style=\"text-align: right;\">\n      <th></th>\n      <th>country</th>\n      <th>title</th>\n      <th>description</th>\n      <th>variety</th>\n      <th>winery</th>\n    </tr>\n  </thead>\n  <tbody>\n    <tr>\n      <th>0</th>\n      <td>Italy</td>\n      <td>Nicosia 2013 Vulkà Bianco  (Etna)</td>\n      <td>Aromas include tropical fruit, broom, brimston...</td>\n      <td>White Blend</td>\n      <td>Nicosia</td>\n    </tr>\n    <tr>\n      <th>6</th>\n      <td>Italy</td>\n      <td>Terre di Giurfo 2013 Belsito Frappato (Vittoria)</td>\n      <td>Here's a bright, informal red that opens with ...</td>\n      <td>Frappato</td>\n      <td>Terre di Giurfo</td>\n    </tr>\n    <tr>\n      <th>13</th>\n      <td>Italy</td>\n      <td>Masseria Setteporte 2012 Rosso  (Etna)</td>\n      <td>This is dominated by oak and oak-driven aromas...</td>\n      <td>Nerello Mascalese</td>\n      <td>Masseria Setteporte</td>\n    </tr>\n    <tr>\n      <th>22</th>\n      <td>Italy</td>\n      <td>Baglio di Pianetto 2007 Ficiligno White (Sicilia)</td>\n      <td>Delicate aromas recall white flower and citrus...</td>\n      <td>White Blend</td>\n      <td>Baglio di Pianetto</td>\n    </tr>\n    <tr>\n      <th>24</th>\n      <td>Italy</td>\n      <td>Canicattì 2009 Aynat Nero d'Avola (Sicilia)</td>\n      <td>Aromas of prune, blackcurrant, toast and oak c...</td>\n      <td>Nero d'Avola</td>\n      <td>Canicattì</td>\n    </tr>\n    <tr>\n      <th>26</th>\n      <td>Italy</td>\n      <td>Stemmari 2013 Dalila White (Terre Siciliane)</td>\n      <td>Pretty aromas of yellow flower and stone fruit...</td>\n      <td>White Blend</td>\n      <td>Stemmari</td>\n    </tr>\n    <tr>\n      <th>27</th>\n      <td>Italy</td>\n      <td>Stemmari 2013 Nero d'Avola (Terre Siciliane)</td>\n      <td>Aromas recall ripe dark berry, toast and a whi...</td>\n      <td>Nero d'Avola</td>\n      <td>Stemmari</td>\n    </tr>\n    <tr>\n      <th>28</th>\n      <td>Italy</td>\n      <td>Terre di Giurfo 2011 Mascaria Barricato  (Cera...</td>\n      <td>Aromas suggest mature berry, scorched earth, a...</td>\n      <td>Red Blend</td>\n      <td>Terre di Giurfo</td>\n    </tr>\n    <tr>\n      <th>31</th>\n      <td>Italy</td>\n      <td>Duca di Salaparuta 2010 Calanìca Nero d'Avola-...</td>\n      <td>Merlot and Nero d'Avola form the base for this...</td>\n      <td>Red Blend</td>\n      <td>Duca di Salaparuta</td>\n    </tr>\n    <tr>\n      <th>32</th>\n      <td>Italy</td>\n      <td>Duca di Salaparuta 2011 Calanìca Grillo-Viogni...</td>\n      <td>Part of the extended Calanìca series, this Gri...</td>\n      <td>White Blend</td>\n      <td>Duca di Salaparuta</td>\n    </tr>\n    <tr>\n      <th>37</th>\n      <td>Italy</td>\n      <td>Feudi del Pisciotto 2010 Missoni Cabernet Sauv...</td>\n      <td>This concentrated Cabernet offers aromas of cu...</td>\n      <td>Cabernet Sauvignon</td>\n      <td>Feudi del Pisciotto</td>\n    </tr>\n    <tr>\n      <th>38</th>\n      <td>Italy</td>\n      <td>Feudi di San Marzano 2011 I Tratturi Primitivo...</td>\n      <td>Inky in color, this wine has plump aromas of r...</td>\n      <td>Primitivo</td>\n      <td>Feudi di San Marzano</td>\n    </tr>\n    <tr>\n      <th>39</th>\n      <td>Italy</td>\n      <td>Feudo di Santa Tresa 2011 Purato Made With Org...</td>\n      <td>Part of the natural wine movement, this wine i...</td>\n      <td>Nero d'Avola</td>\n      <td>Feudo di Santa Tresa</td>\n    </tr>\n    <tr>\n      <th>40</th>\n      <td>Italy</td>\n      <td>Feudo Montoni 2011 Catarratto (Sicilia)</td>\n      <td>Catarratto is one of Sicily's most widely farm...</td>\n      <td>Catarratto</td>\n      <td>Feudo Montoni</td>\n    </tr>\n    <tr>\n      <th>46</th>\n      <td>Italy</td>\n      <td>Tasca d'Almerita 2011 Sallier de la Tour Inzol...</td>\n      <td>Spicy, fresh and clean, this would pair with f...</td>\n      <td>Inzolia</td>\n      <td>Tasca d'Almerita</td>\n    </tr>\n    <tr>\n      <th>50</th>\n      <td>Italy</td>\n      <td>Viticultori Associati Canicatti 2008 Scialo Re...</td>\n      <td>This blend of Nero d'Avola and Syrah opens wit...</td>\n      <td>Red Blend</td>\n      <td>Viticultori Associati Canicatti</td>\n    </tr>\n    <tr>\n      <th>52</th>\n      <td>Italy</td>\n      <td>Cantine di Dolianova 2010 Dolia  (Monica di Sa...</td>\n      <td>The Monica grape often shows a rustic or raw q...</td>\n      <td>Monica</td>\n      <td>Cantine di Dolianova</td>\n    </tr>\n    <tr>\n      <th>54</th>\n      <td>Italy</td>\n      <td>Corvo 2010 Rosso Red (Sicilia)</td>\n      <td>A blend of Nero d'Avola and Nerello Mascalese,...</td>\n      <td>Red Blend</td>\n      <td>Corvo</td>\n    </tr>\n    <tr>\n      <th>57</th>\n      <td>Italy</td>\n      <td>Tasca d'Almerita 2011 Sallier de la Tour Grill...</td>\n      <td>There's a touch of toasted almond at the start...</td>\n      <td>Grillo</td>\n      <td>Tasca d'Almerita</td>\n    </tr>\n    <tr>\n      <th>61</th>\n      <td>Italy</td>\n      <td>Podere dal Nespoli 2015 Prugneto Sangiovese (R...</td>\n      <td>This densely hued wine has aromas of black plu...</td>\n      <td>Sangiovese</td>\n      <td>Podere dal Nespoli</td>\n    </tr>\n    <tr>\n      <th>72</th>\n      <td>Italy</td>\n      <td>Grifalco 2013 Daginestra  (Aglianico del Vulture)</td>\n      <td>Aromas of black-skinned fruit, leather, underb...</td>\n      <td>Aglianico</td>\n      <td>Grifalco</td>\n    </tr>\n    <tr>\n      <th>88</th>\n      <td>Italy</td>\n      <td>Poggio Alloro 2014 Le Mandorle Riserva  (Verna...</td>\n      <td>Subdued aromas of French oak, toast and acacia...</td>\n      <td>Vernaccia</td>\n      <td>Poggio Alloro</td>\n    </tr>\n    <tr>\n      <th>89</th>\n      <td>Italy</td>\n      <td>Fattoria Sardi 2015 Rosato (Toscana)</td>\n      <td>Made primarily from Sangiovese, with some Malv...</td>\n      <td>Rosato</td>\n      <td>Fattoria Sardi</td>\n    </tr>\n    <tr>\n      <th>98</th>\n      <td>Italy</td>\n      <td>Serpaia di Endrizzi 2010 Dono Riserva  (Morell...</td>\n      <td>Forest floor, menthol, espresso, cranberry and...</td>\n      <td>Sangiovese</td>\n      <td>Serpaia di Endrizzi</td>\n    </tr>\n  </tbody>\n</table>\n</div>"
     },
     "execution_count": 7,
     "metadata": {},
     "output_type": "execute_result"
    }
   ],
   "source": [
    "df[df['country'] == 'Italy']"
   ],
   "metadata": {
    "collapsed": false,
    "ExecuteTime": {
     "end_time": "2023-08-15T14:19:56.151413Z",
     "start_time": "2023-08-15T14:19:56.142859Z"
    }
   },
   "id": "a52490b6f9ab042a"
  },
  {
   "cell_type": "code",
   "execution_count": 18,
   "outputs": [
    {
     "name": "stdout",
     "output_type": "stream",
     "text": [
      " Based on the given context, I would recommend the Stemmari 2013 Dalila White (Terre Siciliane). It has pretty aromas of yellow\n"
     ]
    }
   ],
   "source": [
    "# Query\n",
    "query = \"Recommend me a wine from Italy with white flower aroma.\"\n",
    "response = qa_chain.run(query)\n",
    "print(response)"
   ],
   "metadata": {
    "collapsed": false,
    "ExecuteTime": {
     "end_time": "2023-08-15T14:32:12.138568Z",
     "start_time": "2023-08-15T14:32:00.602482Z"
    }
   },
   "id": "493660ee9cef3174"
  },
  {
   "cell_type": "code",
   "execution_count": 14,
   "outputs": [
    {
     "data": {
      "text/plain": "      country                                              title  \\\n16  Argentina         Felix Lavaque 2010 Felix Malbec (Cafayate)   \n17  Argentina  Gaucho Andino 2011 Winemaker Selection Malbec ...   \n\n                                          description variety         winery  \n16  Baked plum, molasses, balsamic vinegar and che...  Malbec  Felix Lavaque  \n17  Raw black-cherry aromas are direct and simple ...  Malbec  Gaucho Andino  ",
      "text/html": "<div>\n<style scoped>\n    .dataframe tbody tr th:only-of-type {\n        vertical-align: middle;\n    }\n\n    .dataframe tbody tr th {\n        vertical-align: top;\n    }\n\n    .dataframe thead th {\n        text-align: right;\n    }\n</style>\n<table border=\"1\" class=\"dataframe\">\n  <thead>\n    <tr style=\"text-align: right;\">\n      <th></th>\n      <th>country</th>\n      <th>title</th>\n      <th>description</th>\n      <th>variety</th>\n      <th>winery</th>\n    </tr>\n  </thead>\n  <tbody>\n    <tr>\n      <th>16</th>\n      <td>Argentina</td>\n      <td>Felix Lavaque 2010 Felix Malbec (Cafayate)</td>\n      <td>Baked plum, molasses, balsamic vinegar and che...</td>\n      <td>Malbec</td>\n      <td>Felix Lavaque</td>\n    </tr>\n    <tr>\n      <th>17</th>\n      <td>Argentina</td>\n      <td>Gaucho Andino 2011 Winemaker Selection Malbec ...</td>\n      <td>Raw black-cherry aromas are direct and simple ...</td>\n      <td>Malbec</td>\n      <td>Gaucho Andino</td>\n    </tr>\n  </tbody>\n</table>\n</div>"
     },
     "execution_count": 14,
     "metadata": {},
     "output_type": "execute_result"
    }
   ],
   "source": [
    "df[df['country'] == 'Argentina']"
   ],
   "metadata": {
    "collapsed": false,
    "ExecuteTime": {
     "end_time": "2023-08-15T14:22:16.749312Z",
     "start_time": "2023-08-15T14:22:16.742504Z"
    }
   },
   "id": "994675bd32a4f0e6"
  },
  {
   "cell_type": "code",
   "execution_count": 17,
   "outputs": [
    {
     "name": "stdout",
     "output_type": "stream",
     "text": [
      " The wine with the most distinct fruit aroma is... (Gaucho Andino 2011 Malbec from Mendoza).\n"
     ]
    }
   ],
   "source": [
    "query = \"From Argentina with fruit aroma.\"\n",
    "response = qa_chain.run(query)\n",
    "print(response)"
   ],
   "metadata": {
    "collapsed": false,
    "ExecuteTime": {
     "end_time": "2023-08-15T14:23:27.637011Z",
     "start_time": "2023-08-15T14:23:16.335416Z"
    }
   },
   "id": "1cf6a2c9641a5f8e"
  },
  {
   "cell_type": "code",
   "execution_count": null,
   "outputs": [],
   "source": [],
   "metadata": {
    "collapsed": false,
    "ExecuteTime": {
     "start_time": "2023-08-15T14:20:09.449068Z"
    }
   },
   "id": "37a58c1d0b1204ec"
  }
 ],
 "metadata": {
  "kernelspec": {
   "display_name": "Python 3",
   "language": "python",
   "name": "python3"
  },
  "language_info": {
   "codemirror_mode": {
    "name": "ipython",
    "version": 2
   },
   "file_extension": ".py",
   "mimetype": "text/x-python",
   "name": "python",
   "nbconvert_exporter": "python",
   "pygments_lexer": "ipython2",
   "version": "2.7.6"
  }
 },
 "nbformat": 4,
 "nbformat_minor": 5
}
