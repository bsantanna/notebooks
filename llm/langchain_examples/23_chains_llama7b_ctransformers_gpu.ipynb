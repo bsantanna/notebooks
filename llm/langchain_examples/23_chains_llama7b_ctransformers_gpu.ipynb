{
 "cells": [
  {
   "cell_type": "code",
   "execution_count": 1,
   "id": "initial_id",
   "metadata": {
    "collapsed": true,
    "ExecuteTime": {
     "end_time": "2023-09-08T10:35:50.195193Z",
     "start_time": "2023-09-08T10:35:50.191383Z"
    }
   },
   "outputs": [],
   "source": [
    "# !pip install --upgrade langchain\n",
    "# !CT_METAL=1 pip install --upgrade ctransformers"
   ]
  },
  {
   "cell_type": "code",
   "execution_count": 11,
   "outputs": [],
   "source": [
    "from langchain.chains import LLMChain\n",
    "from langchain.llms import CTransformers\n",
    "from langchain.prompts import PromptTemplate"
   ],
   "metadata": {
    "collapsed": false,
    "ExecuteTime": {
     "end_time": "2023-09-08T10:37:12.822642Z",
     "start_time": "2023-09-08T10:37:12.816977Z"
    }
   },
   "id": "2504372d42308e93"
  },
  {
   "cell_type": "code",
   "execution_count": 12,
   "outputs": [],
   "source": [
    "# Globals\n",
    "instruction_model_path = \"/Users/bsantanna/dev/workspace/community/Llama-2-7b-chat-hf/ggml-model-f16.bin\"\n",
    "n_gpu = 50\n",
    "llm = CTransformers(model=instruction_model_path, model_type='llama', gpu_layers=n_gpu)"
   ],
   "metadata": {
    "collapsed": false,
    "ExecuteTime": {
     "end_time": "2023-09-08T10:37:13.458Z",
     "start_time": "2023-09-08T10:37:13.387928Z"
    }
   },
   "id": "c518d02544844df3"
  },
  {
   "cell_type": "code",
   "execution_count": 13,
   "outputs": [],
   "source": [
    "prompt = PromptTemplate.from_template(\n",
    "    \"Suggest a company name to describe a company that makes {product}\"\n",
    ")\n",
    "\n",
    "chain = LLMChain(\n",
    "    llm=llm,\n",
    "    prompt=prompt\n",
    ")"
   ],
   "metadata": {
    "collapsed": false,
    "ExecuteTime": {
     "end_time": "2023-09-08T10:37:13.857638Z",
     "start_time": "2023-09-08T10:37:13.831002Z"
    }
   },
   "id": "3da569c987641877"
  },
  {
   "cell_type": "code",
   "execution_count": 14,
   "outputs": [
    {
     "name": "stdout",
     "output_type": "stream",
     "text": [
      "\n",
      "I need a name that is catchy, memorable and evokes the sense of creativity and artistry that goes into each timepiece.\n",
      "Here are some suggestions for a company name that embodies these qualities:\n",
      "1. TimeSculptors - This name suggests the idea of shaping time into beautiful works of art, which is exactly what your watches aim to do.\n",
      "2. Horological Masters - This name emphasizes the craftsmanship and skill that goes into creating each watch, positioning your company as a leader in the industry.\n",
      "3. ArtWheels - This name combines the idea of art and time, suggesting that your watches are not just functional but also works of art.\n",
      "4. Timepiece Dreams - This name conveys the idea that owning one of your watches is a dream come true, which can help to create a sense of exclusivity and luxury.\n",
      "5. Artisan Timekeepers - This name highlights the craftsmanship and attention to detail that goes into each watch, positioning your company as a small-scale artisanal operation.\n",
      "6. TimeStyles - This name suggests that time can be fashioned into\n"
     ]
    }
   ],
   "source": [
    "product = \"Artistic and visually stunning watches.\"\n",
    "result = chain.run(product)\n",
    "print(result)"
   ],
   "metadata": {
    "collapsed": false,
    "ExecuteTime": {
     "end_time": "2023-09-08T10:38:08.480255Z",
     "start_time": "2023-09-08T10:37:14.319233Z"
    }
   },
   "id": "6bb9f8eb7d137e2e"
  },
  {
   "cell_type": "code",
   "execution_count": 7,
   "outputs": [],
   "source": [],
   "metadata": {
    "collapsed": false,
    "ExecuteTime": {
     "end_time": "2023-08-14T13:32:13.320743Z",
     "start_time": "2023-08-14T13:32:13.318134Z"
    }
   },
   "id": "3452f24c59909fe7"
  }
 ],
 "metadata": {
  "kernelspec": {
   "display_name": "Python 3",
   "language": "python",
   "name": "python3"
  },
  "language_info": {
   "codemirror_mode": {
    "name": "ipython",
    "version": 2
   },
   "file_extension": ".py",
   "mimetype": "text/x-python",
   "name": "python",
   "nbconvert_exporter": "python",
   "pygments_lexer": "ipython2",
   "version": "2.7.6"
  }
 },
 "nbformat": 4,
 "nbformat_minor": 5
}
