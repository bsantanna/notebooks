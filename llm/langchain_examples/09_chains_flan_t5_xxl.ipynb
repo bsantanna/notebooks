{
 "cells": [
  {
   "cell_type": "code",
   "execution_count": 1,
   "id": "initial_id",
   "metadata": {
    "collapsed": true,
    "ExecuteTime": {
     "end_time": "2023-08-01T10:57:46.746603Z",
     "start_time": "2023-08-01T10:57:46.726015Z"
    }
   },
   "outputs": [],
   "source": [
    "# !pip install --upgrade huggingface_hub langchain"
   ]
  },
  {
   "cell_type": "code",
   "execution_count": 2,
   "outputs": [],
   "source": [
    "from langchain import HuggingFaceHub\n",
    "from langchain.prompts import PromptTemplate\n",
    "from langchain.chains import (\n",
    "    LLMChain,\n",
    "    SequentialChain\n",
    ")"
   ],
   "metadata": {
    "collapsed": false,
    "ExecuteTime": {
     "end_time": "2023-08-01T10:57:47.980984Z",
     "start_time": "2023-08-01T10:57:46.733252Z"
    }
   },
   "id": "e6e5182709b5efdd"
  },
  {
   "cell_type": "code",
   "execution_count": 3,
   "outputs": [],
   "source": [
    "# Globals\n",
    "repo_id = 'google/flan-t5-xxl'\n",
    "api_key = '?'\n",
    "llm = HuggingFaceHub(\n",
    "    huggingfacehub_api_token=api_key,\n",
    "    repo_id=repo_id,\n",
    "    model_kwargs={'temperature': 0.7, 'max_new_tokens': 1000}\n",
    ")\n"
   ],
   "metadata": {
    "collapsed": false,
    "ExecuteTime": {
     "end_time": "2023-08-01T10:57:48.509895Z",
     "start_time": "2023-08-01T10:57:47.982720Z"
    }
   },
   "id": "a5535344c6d6f5ce"
  },
  {
   "cell_type": "code",
   "execution_count": 4,
   "outputs": [],
   "source": [
    "prompt = PromptTemplate.from_template(\n",
    "    \"What is the best name to describe a company that makes {product}?\"\n",
    ")\n",
    "\n",
    "chain = LLMChain(llm=llm, prompt=prompt)"
   ],
   "metadata": {
    "collapsed": false,
    "ExecuteTime": {
     "end_time": "2023-08-01T10:57:48.516309Z",
     "start_time": "2023-08-01T10:57:48.511449Z"
    }
   },
   "id": "b8fd966d7b4adb3c"
  },
  {
   "cell_type": "code",
   "execution_count": 5,
   "outputs": [
    {
     "name": "stdout",
     "output_type": "stream",
     "text": [
      "designer handbags\n"
     ]
    }
   ],
   "source": [
    "product = \"Artistic and visually stunning hand bags.\"\n",
    "result = chain.run(product)\n",
    "print(result)"
   ],
   "metadata": {
    "collapsed": false,
    "ExecuteTime": {
     "end_time": "2023-08-01T10:57:48.843352Z",
     "start_time": "2023-08-01T10:57:48.518043Z"
    }
   },
   "id": "99b862e13bf19049"
  },
  {
   "cell_type": "markdown",
   "source": [
    "---\n",
    "\n",
    "## SequentialChain"
   ],
   "metadata": {
    "collapsed": false
   },
   "id": "1b13da6b9d9f9fa6"
  },
  {
   "cell_type": "code",
   "execution_count": 6,
   "outputs": [],
   "source": [
    "# prompt template 1: translate to english\n",
    "first_prompt = PromptTemplate.from_template(\n",
    "    \"Translate the following review to english:\"\n",
    "    \"\\n\\n{review}\"\n",
    ")\n",
    "# chain 1: input= Review and output= English_Review\n",
    "chain_one = LLMChain(\n",
    "    llm=llm, prompt=first_prompt,\n",
    "    output_key=\"english_review\"\n",
    ")\n",
    "\n",
    "second_prompt = PromptTemplate.from_template(\n",
    "    \"Can you summarize the following review in 1 sentence using your own words:\"\n",
    "    \"\\n\\n{english_review}\"\n",
    ")\n",
    "# chain 2: input= English_Review and output= summary\n",
    "chain_two = LLMChain(\n",
    "    llm=llm, prompt=second_prompt,\n",
    "    output_key=\"summary\"\n",
    ")\n",
    "\n",
    "# prompt template 3: translate to english\n",
    "third_prompt = PromptTemplate.from_template(\n",
    "    \"What language is the following review:\\n\\n{review}\"\n",
    ")\n",
    "# chain 3: input= Review and output= language\n",
    "chain_three = LLMChain(\n",
    "    llm=llm, prompt=third_prompt,\n",
    "    output_key=\"language\"\n",
    ")\n",
    "\n",
    "# prompt template 4: follow up message\n",
    "fourth_prompt = PromptTemplate.from_template(\n",
    "    \"Is the sentiment in the summary Positive or Negative?\"\n",
    "    \"\\n\\nFeedback: {summary}\"\n",
    ")\n",
    "# chain 4: input= summary, language and output= sentiment\n",
    "chain_four = LLMChain(\n",
    "    llm=llm, prompt=fourth_prompt,\n",
    "    output_key=\"sentiment\"\n",
    ")"
   ],
   "metadata": {
    "collapsed": false,
    "ExecuteTime": {
     "end_time": "2023-08-01T10:57:48.850562Z",
     "start_time": "2023-08-01T10:57:48.848752Z"
    }
   },
   "id": "fb7f5984901650cf"
  },
  {
   "cell_type": "code",
   "execution_count": 7,
   "outputs": [
    {
     "name": "stdout",
     "output_type": "stream",
     "text": [
      "{'review': 'Encuentro el sabor mediocre. La espuma no aguanta, es raro. Compro lo mismo en el mercado y el sabor es mucho mejor...\\n¿Lote antiguo o falsificado?', 'language': 'Spanish', 'english_review': \"I don't like the taste. It doesn't last for a long time. The texture is weird. You can buy the same thing in the market and it tastes much better... Is it an old lot or a fake?\", 'summary': \"I don't like it.\", 'sentiment': 'Negative'}\n"
     ]
    }
   ],
   "source": [
    "# overall_chain: input= Review \n",
    "# and output= English_Review,summary, sentiment\n",
    "overall_chain = SequentialChain(\n",
    "    chains=[chain_one, chain_two, chain_three, chain_four],\n",
    "    input_variables=[\"review\"],\n",
    "    output_variables=[\"language\", \"english_review\", \"summary\", \"sentiment\"],\n",
    "    verbose=False\n",
    ")\n",
    "\n",
    "spanish_review = \"Encuentro el sabor mediocre. La espuma no aguanta, es raro. Compro lo mismo en el mercado y el sabor es mucho mejor...\\n¿Lote antiguo o falsificado?\"\n",
    "\n",
    "result = overall_chain(spanish_review)\n",
    "print(result)"
   ],
   "metadata": {
    "collapsed": false,
    "ExecuteTime": {
     "end_time": "2023-08-01T10:57:49.263771Z",
     "start_time": "2023-08-01T10:57:48.853803Z"
    }
   },
   "id": "42b5fb8c28b56da7"
  },
  {
   "cell_type": "code",
   "execution_count": 7,
   "outputs": [],
   "source": [],
   "metadata": {
    "collapsed": false,
    "ExecuteTime": {
     "end_time": "2023-08-01T10:57:49.263866Z",
     "start_time": "2023-08-01T10:57:49.258770Z"
    }
   },
   "id": "6d52c026918e5fcb"
  }
 ],
 "metadata": {
  "kernelspec": {
   "display_name": "Python 3",
   "language": "python",
   "name": "python3"
  },
  "language_info": {
   "codemirror_mode": {
    "name": "ipython",
    "version": 2
   },
   "file_extension": ".py",
   "mimetype": "text/x-python",
   "name": "python",
   "nbconvert_exporter": "python",
   "pygments_lexer": "ipython2",
   "version": "2.7.6"
  }
 },
 "nbformat": 4,
 "nbformat_minor": 5
}
