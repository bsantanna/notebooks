{
 "cells": [
  {
   "cell_type": "code",
   "execution_count": 1,
   "id": "initial_id",
   "metadata": {
    "collapsed": true,
    "ExecuteTime": {
     "end_time": "2023-08-01T11:39:16.066765Z",
     "start_time": "2023-08-01T11:39:15.947178Z"
    }
   },
   "outputs": [],
   "source": [
    "# !pip install --upgrade langchain accelerate transformers sentencepiece\n",
    "# !pip install --pre torch torchvision torchaudio --index-url https://download.pytorch.org/whl/nightly/cpu\n",
    "!export PYTORCH_ENABLE_MPS_FALLBACK=1"
   ]
  },
  {
   "cell_type": "code",
   "execution_count": 7,
   "outputs": [],
   "source": [
    "from langchain.chains import (\n",
    "    LLMChain,\n",
    "    SequentialChain\n",
    ")\n",
    "from langchain.llms import HuggingFacePipeline\n",
    "from langchain.prompts import PromptTemplate\n",
    "from transformers import pipeline, T5Tokenizer, T5ForConditionalGeneration"
   ],
   "metadata": {
    "collapsed": false,
    "ExecuteTime": {
     "end_time": "2023-08-01T11:50:14.823165Z",
     "start_time": "2023-08-01T11:50:14.818064Z"
    }
   },
   "id": "e6e5182709b5efdd"
  },
  {
   "cell_type": "code",
   "execution_count": 21,
   "outputs": [
    {
     "data": {
      "text/plain": "Loading checkpoint shards:   0%|          | 0/5 [00:00<?, ?it/s]",
      "application/vnd.jupyter.widget-view+json": {
       "version_major": 2,
       "version_minor": 0,
       "model_id": "981a3caf8c4945098f869a0265d158d8"
      }
     },
     "metadata": {},
     "output_type": "display_data"
    }
   ],
   "source": [
    "# Globals\n",
    "repo_id = 'google/flan-t5-xxl'\n",
    "\n",
    "tokenizer = T5Tokenizer.from_pretrained(repo_id)\n",
    "model = T5ForConditionalGeneration.from_pretrained(repo_id, device_map=\"auto\", offload_folder=\"/tmp/offload\")\n",
    "\n",
    "generate_text = pipeline(\n",
    "    \"text2text-generation\",\n",
    "    max_length=1000,\n",
    "    model=model,\n",
    "    tokenizer=tokenizer,\n",
    "    trust_remote_code=True,\n",
    "    device_map=\"auto\",\n",
    ")\n",
    "\n",
    "transformer_pipeline = HuggingFacePipeline(pipeline=generate_text)"
   ],
   "metadata": {
    "collapsed": false,
    "ExecuteTime": {
     "end_time": "2023-08-01T12:56:56.486359Z",
     "start_time": "2023-08-01T12:56:32.612699Z"
    }
   },
   "id": "a5535344c6d6f5ce"
  },
  {
   "cell_type": "code",
   "execution_count": 23,
   "outputs": [],
   "source": [
    "prompt = PromptTemplate.from_template(\n",
    "    \"What is the best name to describe a company that makes {product}?\"\n",
    ")\n",
    "\n",
    "chain = LLMChain(\n",
    "    llm=transformer_pipeline,\n",
    "    prompt=prompt\n",
    ")"
   ],
   "metadata": {
    "collapsed": false,
    "ExecuteTime": {
     "end_time": "2023-08-01T12:57:26.531990Z",
     "start_time": "2023-08-01T12:57:26.525951Z"
    }
   },
   "id": "b8fd966d7b4adb3c"
  },
  {
   "cell_type": "code",
   "execution_count": 24,
   "outputs": [
    {
     "name": "stdout",
     "output_type": "stream",
     "text": [
      "a designer\n"
     ]
    }
   ],
   "source": [
    "product = \"Artistic and visually stunning hand bags.\"\n",
    "result = chain.run(product)\n",
    "print(result)"
   ],
   "metadata": {
    "collapsed": false,
    "ExecuteTime": {
     "end_time": "2023-08-01T12:59:39.713Z",
     "start_time": "2023-08-01T12:57:27.330800Z"
    }
   },
   "id": "99b862e13bf19049"
  },
  {
   "cell_type": "markdown",
   "source": [
    "---\n",
    "\n",
    "## SequentialChain"
   ],
   "metadata": {
    "collapsed": false
   },
   "id": "1b13da6b9d9f9fa6"
  },
  {
   "cell_type": "code",
   "execution_count": 26,
   "outputs": [],
   "source": [
    "# prompt template 1: translate to english\n",
    "first_prompt = PromptTemplate.from_template(\n",
    "    \"Translate the following review to english:\"\n",
    "    \"\\n\\n{review}\"\n",
    ")\n",
    "# chain 1: input= Review and output= English_Review\n",
    "chain_one = LLMChain(\n",
    "    llm=transformer_pipeline, prompt=first_prompt,\n",
    "    output_key=\"english_review\"\n",
    ")\n",
    "\n",
    "second_prompt = PromptTemplate.from_template(\n",
    "    \"Can you summarize the following review in 1 sentence using your own words:\"\n",
    "    \"\\n\\n{english_review}\"\n",
    ")\n",
    "# chain 2: input= English_Review and output= summary\n",
    "chain_two = LLMChain(\n",
    "    llm=transformer_pipeline, prompt=second_prompt,\n",
    "    output_key=\"summary\"\n",
    ")\n",
    "\n",
    "# prompt template 3: translate to english\n",
    "third_prompt = PromptTemplate.from_template(\n",
    "    \"What language is the following review:\\n\\n{review}\"\n",
    ")\n",
    "# chain 3: input= Review and output= language\n",
    "chain_three = LLMChain(\n",
    "    llm=transformer_pipeline, prompt=third_prompt,\n",
    "    output_key=\"language\"\n",
    ")\n",
    "\n",
    "# prompt template 4: follow up message\n",
    "fourth_prompt = PromptTemplate.from_template(\n",
    "    \"Is the sentiment in the summary Positive or Negative?\"\n",
    "    \"\\n\\nFeedback: {summary}\"\n",
    ")\n",
    "# chain 4: input= summary, language and output= sentiment\n",
    "chain_four = LLMChain(\n",
    "    llm=transformer_pipeline, prompt=fourth_prompt,\n",
    "    output_key=\"sentiment\"\n",
    ")"
   ],
   "metadata": {
    "collapsed": false,
    "ExecuteTime": {
     "end_time": "2023-08-01T13:02:24.867983Z",
     "start_time": "2023-08-01T13:02:24.862091Z"
    }
   },
   "id": "fb7f5984901650cf"
  },
  {
   "cell_type": "code",
   "execution_count": 27,
   "outputs": [
    {
     "name": "stdout",
     "output_type": "stream",
     "text": [
      "{'review': 'Encuentro el sabor mediocre. La espuma no aguanta, es raro. Compro lo mismo en el mercado y el sabor es mucho mejor...\\n¿Lote antiguo o falsificado?', 'language': 'Spanish', 'english_review': 'I find the taste mediocre. The foam does not last, it is rare. Buy the same in the market and the taste is much better... Old lot or fake?', 'summary': 'I find the taste mediocre. The foam does not last, it is rare. Buy the same in the market and the taste is much better... Old lot or fake?', 'sentiment': 'Negative'}\n"
     ]
    }
   ],
   "source": [
    "# overall_chain: input= review \n",
    "# and output= language, english_review,summary, sentiment\n",
    "overall_chain = SequentialChain(\n",
    "    chains=[chain_one, chain_two, chain_three, chain_four],\n",
    "    input_variables=[\"review\"],\n",
    "    output_variables=[\"language\", \"english_review\", \"summary\", \"sentiment\"],\n",
    "    verbose=False\n",
    ")\n",
    "\n",
    "spanish_review = \"Encuentro el sabor mediocre. La espuma no aguanta, es raro. Compro lo mismo en el mercado y el sabor es mucho mejor...\\n¿Lote antiguo o falsificado?\"\n",
    "\n",
    "result = overall_chain(spanish_review)\n",
    "print(result)"
   ],
   "metadata": {
    "collapsed": false,
    "ExecuteTime": {
     "end_time": "2023-08-01T13:43:04.245232Z",
     "start_time": "2023-08-01T13:02:26.452042Z"
    }
   },
   "id": "42b5fb8c28b56da7"
  },
  {
   "cell_type": "code",
   "execution_count": 7,
   "outputs": [],
   "source": [],
   "metadata": {
    "collapsed": false,
    "ExecuteTime": {
     "end_time": "2023-08-01T10:57:49.263866Z",
     "start_time": "2023-08-01T10:57:49.258770Z"
    }
   },
   "id": "6d52c026918e5fcb"
  }
 ],
 "metadata": {
  "kernelspec": {
   "display_name": "Python 3",
   "language": "python",
   "name": "python3"
  },
  "language_info": {
   "codemirror_mode": {
    "name": "ipython",
    "version": 2
   },
   "file_extension": ".py",
   "mimetype": "text/x-python",
   "name": "python",
   "nbconvert_exporter": "python",
   "pygments_lexer": "ipython2",
   "version": "2.7.6"
  }
 },
 "nbformat": 4,
 "nbformat_minor": 5
}
