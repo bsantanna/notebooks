{
 "cells": [
  {
   "cell_type": "code",
   "execution_count": 15,
   "id": "650e4e01",
   "metadata": {},
   "outputs": [],
   "source": [
    "import json\n",
    "import openai\n",
    "from datetime import date"
   ]
  },
  {
   "cell_type": "code",
   "execution_count": 20,
   "id": "83067e5e",
   "metadata": {},
   "outputs": [
    {
     "name": "stdout",
     "output_type": "stream",
     "text": [
      "Q: List of 3 important dutch historical facts occurred on January 13\n"
     ]
    }
   ],
   "source": [
    "# https://openai.com/api/\n",
    "openai.api_key = \"?\"\n",
    "\n",
    "# Question\n",
    "date_reference = date.today().strftime(\"%B %d\")\n",
    "question= f\"Q: List of 3 important dutch historical facts occurred on {date_reference}\"\n",
    "print(question)"
   ]
  },
  {
   "cell_type": "code",
   "execution_count": 21,
   "id": "f4cb7872",
   "metadata": {},
   "outputs": [],
   "source": [
    "response = openai.Completion.create(\n",
    "  model=\"text-davinci-003\",\n",
    "  prompt=question,\n",
    "  temperature=0,\n",
    "  max_tokens=150,\n",
    "  top_p=1.0,\n",
    "  frequency_penalty=0.0,\n",
    "  presence_penalty=0.0\n",
    ")\n"
   ]
  },
  {
   "cell_type": "code",
   "execution_count": 22,
   "id": "5a95725f",
   "metadata": {},
   "outputs": [
    {
     "name": "stdout",
     "output_type": "stream",
     "text": [
      "\n",
      "\n",
      "1. On January 13, 1522, the Dutch city of Brielle was captured by the Spanish, marking the beginning of the Eighty Years' War.\n",
      "\n",
      "2. On January 13, 1624, the Dutch East India Company was founded, which would become one of the most powerful trading companies in the world.\n",
      "\n",
      "3. On January 13, 1795, the Batavian Republic was proclaimed in the Netherlands, marking the end of the Dutch Republic and the beginning of the French period.\n"
     ]
    }
   ],
   "source": [
    "print(response.choices[0].text)"
   ]
  },
  {
   "cell_type": "code",
   "execution_count": 23,
   "id": "d9aa5497",
   "metadata": {},
   "outputs": [
    {
     "name": "stdout",
     "output_type": "stream",
     "text": [
      "{\n",
      "  \"choices\": [\n",
      "    {\n",
      "      \"finish_reason\": \"stop\",\n",
      "      \"index\": 0,\n",
      "      \"logprobs\": null,\n",
      "      \"text\": \"\\n\\n1. On January 13, 1522, the Dutch city of Brielle was captured by the Spanish, marking the beginning of the Eighty Years' War.\\n\\n2. On January 13, 1624, the Dutch East India Company was founded, which would become one of the most powerful trading companies in the world.\\n\\n3. On January 13, 1795, the Batavian Republic was proclaimed in the Netherlands, marking the end of the Dutch Republic and the beginning of the French period.\"\n",
      "    }\n",
      "  ],\n",
      "  \"created\": 1673628291,\n",
      "  \"id\": \"cmpl-6YHSd1SFVQ54c3seCUVePXZrzoUcQ\",\n",
      "  \"model\": \"text-davinci-003\",\n",
      "  \"object\": \"text_completion\",\n",
      "  \"usage\": {\n",
      "    \"completion_tokens\": 105,\n",
      "    \"prompt_tokens\": 14,\n",
      "    \"total_tokens\": 119\n",
      "  }\n",
      "}\n"
     ]
    }
   ],
   "source": [
    "print(response)"
   ]
  },
  {
   "cell_type": "code",
   "execution_count": null,
   "id": "5d77ab97",
   "metadata": {},
   "outputs": [],
   "source": []
  }
 ],
 "metadata": {
  "kernelspec": {
   "display_name": "Python 3 (ipykernel)",
   "language": "python",
   "name": "python3"
  },
  "language_info": {
   "codemirror_mode": {
    "name": "ipython",
    "version": 3
   },
   "file_extension": ".py",
   "mimetype": "text/x-python",
   "name": "python",
   "nbconvert_exporter": "python",
   "pygments_lexer": "ipython3",
   "version": "3.9.15"
  }
 },
 "nbformat": 4,
 "nbformat_minor": 5
}
