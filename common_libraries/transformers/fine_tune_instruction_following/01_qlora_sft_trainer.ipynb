{
 "cells": [
  {
   "cell_type": "markdown",
   "source": [
    "Original Source: https://huggingface.co/blog/llama2"
   ],
   "metadata": {
    "collapsed": false
   },
   "id": "661e2e474354092b"
  },
  {
   "cell_type": "code",
   "execution_count": null,
   "outputs": [],
   "source": [
    "#!pip install --upgrade peft transformers bitsandbytes accelerate torch\n",
    "!export PYTORCH_ENABLE_MPS_FALLBACK=1"
   ],
   "metadata": {
    "collapsed": false
   },
   "id": "98dec681276bd728"
  },
  {
   "cell_type": "code",
   "execution_count": null,
   "outputs": [],
   "source": [
    "import torch\n",
    "from accelerate import Accelerator\n",
    "from datasets import load_dataset\n",
    "from peft import LoraConfig\n",
    "from transformers import TrainingArguments, LlamaTokenizer, AutoModelForCausalLM, BitsAndBytesConfig\n",
    "from trl import SFTTrainer"
   ],
   "metadata": {
    "collapsed": false
   },
   "id": "efd8f709cc6b7ec2"
  },
  {
   "cell_type": "code",
   "execution_count": null,
   "outputs": [],
   "source": [
    "dataset_name = \"timdettmers/openassistant-guanaco\"\n",
    "dataset_text_field = \"text\"\n",
    "seq_length = 512\n",
    "# model_path = \"/Users/bsantanna/dev/workspace/community/Llama-2-7b-chat-hf\"\n",
    "model_path = \"meta-llama/Llama-2-7b-chat-hf\""
   ],
   "metadata": {
    "collapsed": false
   },
   "id": "daa9db74670c210d"
  },
  {
   "cell_type": "code",
   "execution_count": null,
   "outputs": [],
   "source": [
    "quantization_config = BitsAndBytesConfig(\n",
    "    load_in_4bit=True,\n",
    "    load_in_8bit=False\n",
    ")\n",
    "\n",
    "training_args = TrainingArguments(\n",
    "    output_dir=\"./output\",\n",
    "    per_device_train_batch_size=4,\n",
    "    gradient_accumulation_steps=2,\n",
    "    learning_rate=1.41e-5,\n",
    "    logging_steps=1,\n",
    "    num_train_epochs=3,\n",
    "    max_steps=-1,\n",
    "    report_to=[\"wandb\"],\n",
    "    save_steps=100,\n",
    "    save_total_limit=10,\n",
    "    push_to_hub=False,\n",
    "    hub_model_id=None,\n",
    ")\n",
    "\n",
    "peft_config = LoraConfig(\n",
    "    r=64,\n",
    "    lora_alpha=16,\n",
    "    bias=\"none\",\n",
    "    task_type=\"CAUSAL_LM\",\n",
    "    target_modules=[\"q_proj\", \"v_proj\"],\n",
    "    lora_dropout=0.05,\n",
    "    inference_mode=False\n",
    ")"
   ],
   "metadata": {
    "collapsed": false
   },
   "id": "e1e52852040dfb31"
  },
  {
   "cell_type": "code",
   "execution_count": null,
   "outputs": [],
   "source": [
    "tokenizer = LlamaTokenizer.from_pretrained(model_path)\n",
    "tokenizer.pad_token = tokenizer.eos_token\n",
    "model = AutoModelForCausalLM.from_pretrained(\n",
    "    model_path,\n",
    "    quantization_config=quantization_config,\n",
    "    device_map={\"\": Accelerator().local_process_index},\n",
    "    torch_dtype=torch.bfloat16\n",
    ")\n",
    "dataset = load_dataset(dataset_name, split=\"train\")"
   ],
   "metadata": {
    "collapsed": false
   },
   "id": "aa767887e29a642c"
  },
  {
   "cell_type": "code",
   "execution_count": null,
   "outputs": [],
   "source": [
    "trainer = SFTTrainer(\n",
    "    model=model,\n",
    "    tokenizer=tokenizer,\n",
    "    args=training_args,\n",
    "    max_seq_length=seq_length,\n",
    "    train_dataset=dataset,\n",
    "    dataset_text_field=dataset_text_field,\n",
    "    peft_config=peft_config,\n",
    ")"
   ],
   "metadata": {
    "collapsed": false
   },
   "id": "a69d85b52504d262"
  },
  {
   "cell_type": "code",
   "execution_count": null,
   "outputs": [],
   "source": [
    "trainer.train()"
   ],
   "metadata": {
    "collapsed": false
   },
   "id": "52e9bd9b90ced2e7"
  },
  {
   "cell_type": "code",
   "execution_count": null,
   "outputs": [],
   "source": [],
   "metadata": {
    "collapsed": false
   },
   "id": "e97fa61e9c899865"
  }
 ],
 "metadata": {
  "kernelspec": {
   "display_name": "Python 3",
   "language": "python",
   "name": "python3"
  },
  "language_info": {
   "codemirror_mode": {
    "name": "ipython",
    "version": 2
   },
   "file_extension": ".py",
   "mimetype": "text/x-python",
   "name": "python",
   "nbconvert_exporter": "python",
   "pygments_lexer": "ipython2",
   "version": "2.7.6"
  }
 },
 "nbformat": 4,
 "nbformat_minor": 5
}
