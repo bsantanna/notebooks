{
 "cells": [
  {
   "metadata": {},
   "cell_type": "markdown",
   "source": [
    "# Linear quantization to int8 \n",
    "\n",
    "- [Original Source: Deeplearning.ai Quantization Fundamentals Course](https://learn.deeplearning.ai/courses/quantization-fundamentals/lesson/5/quantization-theory)"
   ],
   "id": "d2f99105cb1e97d4"
  },
  {
   "cell_type": "code",
   "id": "initial_id",
   "metadata": {
    "collapsed": true,
    "ExecuteTime": {
     "end_time": "2024-04-23T09:10:51.234799Z",
     "start_time": "2024-04-23T09:10:51.232096Z"
    }
   },
   "source": "#!pip install transformers quanto==0.0.11 torch sentencepiece",
   "outputs": [],
   "execution_count": 1
  },
  {
   "metadata": {
    "ExecuteTime": {
     "end_time": "2024-04-23T09:10:53.562083Z",
     "start_time": "2024-04-23T09:10:51.250650Z"
    }
   },
   "cell_type": "code",
   "source": [
    "import sentencepiece as spm\n",
    "import torch\n",
    "from quanto import quantize, freeze\n",
    "from transformers import T5Tokenizer, T5ForConditionalGeneration"
   ],
   "id": "fc904c768800dd3b",
   "outputs": [
    {
     "name": "stderr",
     "output_type": "stream",
     "text": [
      "/home/bsantanna/anaconda3/envs/ml-dev/lib/python3.9/site-packages/tqdm/auto.py:21: TqdmWarning: IProgress not found. Please update jupyter and ipywidgets. See https://ipywidgets.readthedocs.io/en/stable/user_install.html\n",
      "  from .autonotebook import tqdm as notebook_tqdm\n",
      "/home/bsantanna/anaconda3/envs/ml-dev/lib/python3.9/site-packages/torch/cuda/__init__.py:141: UserWarning: CUDA initialization: The NVIDIA driver on your system is too old (found version 11040). Please update your GPU driver by downloading and installing a new version from the URL: http://www.nvidia.com/Download/index.aspx Alternatively, go to: https://pytorch.org to install a PyTorch version that has been compiled with your version of the CUDA driver. (Triggered internally at ../c10/cuda/CUDAFunctions.cpp:108.)\n",
      "  return torch._C._cuda_getDeviceCount() > 0\n"
     ]
    }
   ],
   "execution_count": 2
  },
  {
   "metadata": {
    "ExecuteTime": {
     "end_time": "2024-04-23T09:10:53.575633Z",
     "start_time": "2024-04-23T09:10:53.563812Z"
    }
   },
   "cell_type": "code",
   "source": [
    "def named_module_tensors(module, recurse=False):\n",
    "    for named_parameter in module.named_parameters(recurse=recurse):\n",
    "      name, val = named_parameter\n",
    "      flag = True\n",
    "      if hasattr(val,\"_data\") or hasattr(val,\"_scale\"):\n",
    "        if hasattr(val,\"_data\"):\n",
    "          yield name + \"._data\", val._data\n",
    "        if hasattr(val,\"_scale\"):\n",
    "          yield name + \"._scale\", val._scale\n",
    "      else:\n",
    "        yield named_parameter\n",
    "\n",
    "    for named_buffer in module.named_buffers(recurse=recurse):\n",
    "      yield named_buffer\n",
    "\n",
    "def dtype_byte_size(dtype):\n",
    "    \"\"\"\n",
    "    Returns the size (in bytes) occupied by one parameter of type `dtype`.\n",
    "    \"\"\"\n",
    "    import re\n",
    "    if dtype == torch.bool:\n",
    "        return 1 / 8\n",
    "    bit_search = re.search(r\"[^\\d](\\d+)$\", str(dtype))\n",
    "    if bit_search is None:\n",
    "        raise ValueError(f\"`dtype` is not a valid dtype: {dtype}.\")\n",
    "    bit_size = int(bit_search.groups()[0])\n",
    "    return bit_size // 8\n",
    "\n",
    "\n",
    "def compute_module_sizes(model):\n",
    "    \"\"\"\n",
    "    Compute the size of each submodule of a given model.\n",
    "    \"\"\"\n",
    "    from collections import defaultdict\n",
    "    module_sizes = defaultdict(int)\n",
    "    for name, tensor in named_module_tensors(model, recurse=True):\n",
    "      size = tensor.numel() * dtype_byte_size(tensor.dtype)\n",
    "      name_parts = name.split(\".\")\n",
    "      for idx in range(len(name_parts) + 1):\n",
    "        module_sizes[\".\".join(name_parts[:idx])] += size\n",
    "\n",
    "    return module_sizes"
   ],
   "id": "b29e6496184602b0",
   "outputs": [],
   "execution_count": 3
  },
  {
   "metadata": {
    "ExecuteTime": {
     "end_time": "2024-04-23T09:35:26.861950Z",
     "start_time": "2024-04-23T09:35:24.701969Z"
    }
   },
   "cell_type": "code",
   "source": [
    "model_name = \"google/flan-t5-small\"\n",
    "tokenizer = T5Tokenizer.from_pretrained(model_name)\n",
    "model = T5ForConditionalGeneration.from_pretrained(model_name)\n",
    "module_sizes = compute_module_sizes(model)\n",
    "print(f\"The model size is {module_sizes[''] * 1e-9} GB\")"
   ],
   "id": "5d35cb43a4d95a22",
   "outputs": [
    {
     "name": "stderr",
     "output_type": "stream",
     "text": [
      "Special tokens have been added in the vocabulary, make sure the associated word embeddings are fine-tuned or trained.\n"
     ]
    },
    {
     "name": "stdout",
     "output_type": "stream",
     "text": [
      "The model size is 0.307844608 GB\n"
     ]
    }
   ],
   "execution_count": 8
  },
  {
   "metadata": {
    "ExecuteTime": {
     "end_time": "2024-04-23T09:35:29.833753Z",
     "start_time": "2024-04-23T09:35:29.611190Z"
    }
   },
   "cell_type": "code",
   "source": [
    "input_text = \"Today my plans are \"\n",
    "input_ids = tokenizer(input_text, return_tensors=\"pt\").input_ids\n",
    "\n",
    "outputs = model.generate(input_ids)\n",
    "print(tokenizer.decode(outputs[0]))"
   ],
   "id": "fef589427b693ac2",
   "outputs": [
    {
     "name": "stdout",
     "output_type": "stream",
     "text": [
      "<pad> a little bit more complicated than I thought.</s>\n"
     ]
    }
   ],
   "execution_count": 9
  },
  {
   "metadata": {
    "ExecuteTime": {
     "end_time": "2024-04-23T09:35:36.915916Z",
     "start_time": "2024-04-23T09:35:35.780128Z"
    }
   },
   "cell_type": "code",
   "source": [
    "quantize(model, weights=torch.int8, activations=None)\n",
    "freeze(model)\n",
    "module_sizes = compute_module_sizes(model)\n",
    "print(f\"The model size is {module_sizes[''] * 1e-9} GB\")"
   ],
   "id": "c70b1450a757ef49",
   "outputs": [
    {
     "name": "stdout",
     "output_type": "stream",
     "text": [
      "The model size is 0.12682868 GB\n"
     ]
    }
   ],
   "execution_count": 10
  },
  {
   "metadata": {
    "ExecuteTime": {
     "end_time": "2024-04-23T09:35:37.731429Z",
     "start_time": "2024-04-23T09:35:36.917324Z"
    }
   },
   "cell_type": "code",
   "source": [
    "input_text = \"Today my plans are \"\n",
    "input_ids = tokenizer(input_text, return_tensors=\"pt\").input_ids\n",
    "\n",
    "outputs = model.generate(input_ids)\n",
    "print(tokenizer.decode(outputs[0]))"
   ],
   "id": "e2109c59d3c548c2",
   "outputs": [
    {
     "name": "stdout",
     "output_type": "stream",
     "text": [
      "<pad> a little bit more complicated than I thought.</s>\n"
     ]
    }
   ],
   "execution_count": 11
  },
  {
   "metadata": {},
   "cell_type": "code",
   "outputs": [],
   "execution_count": null,
   "source": "",
   "id": "1c51c5da26333b8"
  }
 ],
 "metadata": {
  "kernelspec": {
   "display_name": "Python 3",
   "language": "python",
   "name": "python3"
  },
  "language_info": {
   "codemirror_mode": {
    "name": "ipython",
    "version": 2
   },
   "file_extension": ".py",
   "mimetype": "text/x-python",
   "name": "python",
   "nbconvert_exporter": "python",
   "pygments_lexer": "ipython2",
   "version": "2.7.6"
  }
 },
 "nbformat": 4,
 "nbformat_minor": 5
}
