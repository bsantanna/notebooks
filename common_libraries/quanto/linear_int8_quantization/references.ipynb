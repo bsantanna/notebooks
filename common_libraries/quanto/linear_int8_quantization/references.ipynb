{
 "cells": [
  {
   "metadata": {},
   "cell_type": "markdown",
   "source": [
    "## Quantization References\n",
    "\n",
    "- https://github.com/Vahe1994/AQLM\n",
    "- https://github.com/ggerganov/llama.cpp\n",
    "- https://github.com/mobiusml/hqq\n",
    "- https://medium.com/@ogbanugot/notes-on-fine-tuning-llama-2-using-qlora-a-detailed-breakdown-370be42ccca1\n",
    "- https://huggingface.co/docs/transformers/model_doc/llama2#llama2\n",
    "- https://pytorch.org/blog/finetune-llms/\n",
    "- https://www.datacamp.com/tutorial/fine-tuning-llama-2\n",
    "- https://huggingface.co/datasets/mlabonne/guanaco-llama2-1k\n",
    "- "
   ],
   "id": "5f32588117923150"
  },
  {
   "metadata": {},
   "cell_type": "code",
   "outputs": [],
   "execution_count": null,
   "source": "",
   "id": "f0ef0616ef0f2a5e"
  }
 ],
 "metadata": {
  "kernelspec": {
   "display_name": "Python 3",
   "language": "python",
   "name": "python3"
  },
  "language_info": {
   "codemirror_mode": {
    "name": "ipython",
    "version": 2
   },
   "file_extension": ".py",
   "mimetype": "text/x-python",
   "name": "python",
   "nbconvert_exporter": "python",
   "pygments_lexer": "ipython2",
   "version": "2.7.6"
  }
 },
 "nbformat": 4,
 "nbformat_minor": 5
}
